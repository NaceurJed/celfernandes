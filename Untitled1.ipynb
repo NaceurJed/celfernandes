{
 "cells": [
  {
   "cell_type": "code",
   "execution_count": 88,
   "id": "1c4b7e77",
   "metadata": {
    "ExecuteTime": {
     "end_time": "2022-04-05T15:38:28.832593Z",
     "start_time": "2022-04-05T15:38:27.827083Z"
    }
   },
   "outputs": [],
   "source": [
    "import pandas as pd\n",
    "import matplotlib.pyplot as plt\n",
    "import seaborn as sns"
   ]
  },
  {
   "cell_type": "markdown",
   "id": "13c4ad92",
   "metadata": {},
   "source": [
    "# Import des données de transactions semaines 101 à 104"
   ]
  },
  {
   "cell_type": "code",
   "execution_count": 2,
   "id": "da11c9df",
   "metadata": {
    "ExecuteTime": {
     "end_time": "2022-04-05T13:31:16.527756Z",
     "start_time": "2022-04-05T13:31:12.088811Z"
    }
   },
   "outputs": [],
   "source": [
    "transactions_101_104 = pd.read_csv('./raw_data/transaction_train_week_101_104.csv')\n",
    "#101= dernière semaine d'aout\n",
    "#102= première semaine septembre\n",
    "#103= deuxième semaine septembre\n",
    "#104= troisème semaine de septembre (qui nous servira de target dans le cadre du projet)"
   ]
  },
  {
   "cell_type": "code",
   "execution_count": 3,
   "id": "8ed88232",
   "metadata": {
    "ExecuteTime": {
     "end_time": "2022-04-05T13:31:18.663540Z",
     "start_time": "2022-04-05T13:31:18.647622Z"
    }
   },
   "outputs": [
    {
     "data": {
      "text/plain": [
       "(1057905, 7)"
      ]
     },
     "execution_count": 3,
     "metadata": {},
     "output_type": "execute_result"
    }
   ],
   "source": [
    "transactions_101_104.shape"
   ]
  },
  {
   "cell_type": "code",
   "execution_count": 15,
   "id": "e7d7dc5e",
   "metadata": {
    "ExecuteTime": {
     "end_time": "2022-04-05T14:08:41.742158Z",
     "start_time": "2022-04-05T14:08:41.643188Z"
    }
   },
   "outputs": [
    {
     "name": "stdout",
     "output_type": "stream",
     "text": [
      "<class 'pandas.core.frame.DataFrame'>\n",
      "RangeIndex: 1057905 entries, 0 to 1057904\n",
      "Data columns (total 7 columns):\n",
      " #   Column            Non-Null Count    Dtype  \n",
      "---  ------            --------------    -----  \n",
      " 0   Unnamed: 0        1057905 non-null  int64  \n",
      " 1   Unnamed: 0.1      1057905 non-null  int64  \n",
      " 2   t_dat             1057905 non-null  int64  \n",
      " 3   customer_id       1057905 non-null  object \n",
      " 4   article_id        1057905 non-null  int64  \n",
      " 5   price             1057905 non-null  float64\n",
      " 6   sales_channel_id  1057905 non-null  int64  \n",
      "dtypes: float64(1), int64(5), object(1)\n",
      "memory usage: 56.5+ MB\n"
     ]
    }
   ],
   "source": [
    "transactions_101_104.info()"
   ]
  },
  {
   "cell_type": "code",
   "execution_count": null,
   "id": "adc2f746",
   "metadata": {},
   "outputs": [],
   "source": [
    "transactions_101_104=transactions_101_104.drop(columns=['Unnamed: 0', 'Unnamed: 0.1'])"
   ]
  },
  {
   "cell_type": "code",
   "execution_count": 100,
   "id": "30c98bc4",
   "metadata": {
    "ExecuteTime": {
     "end_time": "2022-04-05T15:46:37.719305Z",
     "start_time": "2022-04-05T15:46:37.700367Z"
    }
   },
   "outputs": [
    {
     "data": {
      "text/html": [
       "<div>\n",
       "<style scoped>\n",
       "    .dataframe tbody tr th:only-of-type {\n",
       "        vertical-align: middle;\n",
       "    }\n",
       "\n",
       "    .dataframe tbody tr th {\n",
       "        vertical-align: top;\n",
       "    }\n",
       "\n",
       "    .dataframe thead th {\n",
       "        text-align: right;\n",
       "    }\n",
       "</style>\n",
       "<table border=\"1\" class=\"dataframe\">\n",
       "  <thead>\n",
       "    <tr style=\"text-align: right;\">\n",
       "      <th></th>\n",
       "      <th>t_dat</th>\n",
       "      <th>customer_id</th>\n",
       "      <th>article_id</th>\n",
       "      <th>price</th>\n",
       "      <th>sales_channel_id</th>\n",
       "    </tr>\n",
       "  </thead>\n",
       "  <tbody>\n",
       "    <tr>\n",
       "      <th>0</th>\n",
       "      <td>101</td>\n",
       "      <td>0000e9a4db2da4e9c68558ad1e7df570d02767b213ec6b...</td>\n",
       "      <td>880553001</td>\n",
       "      <td>0.025407</td>\n",
       "      <td>2</td>\n",
       "    </tr>\n",
       "    <tr>\n",
       "      <th>1</th>\n",
       "      <td>101</td>\n",
       "      <td>0000e9a4db2da4e9c68558ad1e7df570d02767b213ec6b...</td>\n",
       "      <td>880553001</td>\n",
       "      <td>0.025407</td>\n",
       "      <td>2</td>\n",
       "    </tr>\n",
       "    <tr>\n",
       "      <th>2</th>\n",
       "      <td>101</td>\n",
       "      <td>00047d50bde8751b26aaec7536ccc5fd92828ffa0a396d...</td>\n",
       "      <td>909081004</td>\n",
       "      <td>0.033881</td>\n",
       "      <td>2</td>\n",
       "    </tr>\n",
       "    <tr>\n",
       "      <th>3</th>\n",
       "      <td>101</td>\n",
       "      <td>00047d50bde8751b26aaec7536ccc5fd92828ffa0a396d...</td>\n",
       "      <td>516903024</td>\n",
       "      <td>0.025407</td>\n",
       "      <td>2</td>\n",
       "    </tr>\n",
       "    <tr>\n",
       "      <th>4</th>\n",
       "      <td>101</td>\n",
       "      <td>00047d50bde8751b26aaec7536ccc5fd92828ffa0a396d...</td>\n",
       "      <td>897679003</td>\n",
       "      <td>0.042356</td>\n",
       "      <td>2</td>\n",
       "    </tr>\n",
       "  </tbody>\n",
       "</table>\n",
       "</div>"
      ],
      "text/plain": [
       "   t_dat                                        customer_id  article_id  \\\n",
       "0    101  0000e9a4db2da4e9c68558ad1e7df570d02767b213ec6b...   880553001   \n",
       "1    101  0000e9a4db2da4e9c68558ad1e7df570d02767b213ec6b...   880553001   \n",
       "2    101  00047d50bde8751b26aaec7536ccc5fd92828ffa0a396d...   909081004   \n",
       "3    101  00047d50bde8751b26aaec7536ccc5fd92828ffa0a396d...   516903024   \n",
       "4    101  00047d50bde8751b26aaec7536ccc5fd92828ffa0a396d...   897679003   \n",
       "\n",
       "      price  sales_channel_id  \n",
       "0  0.025407                 2  \n",
       "1  0.025407                 2  \n",
       "2  0.033881                 2  \n",
       "3  0.025407                 2  \n",
       "4  0.042356                 2  "
      ]
     },
     "execution_count": 100,
     "metadata": {},
     "output_type": "execute_result"
    }
   ],
   "source": [
    "transactions_101_104.head()"
   ]
  },
  {
   "cell_type": "markdown",
   "id": "99bec13c",
   "metadata": {},
   "source": [
    "## Nbre de transactions par semaine"
   ]
  },
  {
   "cell_type": "code",
   "execution_count": 109,
   "id": "788798c8",
   "metadata": {
    "ExecuteTime": {
     "end_time": "2022-04-05T15:55:48.063597Z",
     "start_time": "2022-04-05T15:55:48.031288Z"
    }
   },
   "outputs": [
    {
     "data": {
      "text/plain": [
       "t_dat\n",
       "101    286525\n",
       "102     38108\n",
       "103    157621\n",
       "104    575651\n",
       "Name: article_id, dtype: int64"
      ]
     },
     "execution_count": 109,
     "metadata": {},
     "output_type": "execute_result"
    }
   ],
   "source": [
    "# nbre de transactions par semaine \n",
    "week_group=transactions_101_104.groupby('t_dat')\n",
    "nb_transactions=week_group['article_id'].count()\n",
    "nb_transactions"
   ]
  },
  {
   "cell_type": "markdown",
   "id": "ddcc399f",
   "metadata": {},
   "source": [
    "## Nbre de ventes par article par semaine¶"
   ]
  },
  {
   "cell_type": "code",
   "execution_count": 115,
   "id": "f133a81e",
   "metadata": {
    "ExecuteTime": {
     "end_time": "2022-04-05T16:01:29.223450Z",
     "start_time": "2022-04-05T16:01:29.206088Z"
    }
   },
   "outputs": [
    {
     "data": {
      "text/html": [
       "<div>\n",
       "<style scoped>\n",
       "    .dataframe tbody tr th:only-of-type {\n",
       "        vertical-align: middle;\n",
       "    }\n",
       "\n",
       "    .dataframe tbody tr th {\n",
       "        vertical-align: top;\n",
       "    }\n",
       "\n",
       "    .dataframe thead th {\n",
       "        text-align: right;\n",
       "    }\n",
       "</style>\n",
       "<table border=\"1\" class=\"dataframe\">\n",
       "  <thead>\n",
       "    <tr style=\"text-align: right;\">\n",
       "      <th></th>\n",
       "      <th>t_dat</th>\n",
       "      <th>customer_id</th>\n",
       "      <th>article_id</th>\n",
       "      <th>price</th>\n",
       "      <th>sales_channel_id</th>\n",
       "    </tr>\n",
       "  </thead>\n",
       "  <tbody>\n",
       "    <tr>\n",
       "      <th>0</th>\n",
       "      <td>101</td>\n",
       "      <td>0000e9a4db2da4e9c68558ad1e7df570d02767b213ec6b...</td>\n",
       "      <td>880553001</td>\n",
       "      <td>0.025407</td>\n",
       "      <td>2</td>\n",
       "    </tr>\n",
       "    <tr>\n",
       "      <th>1</th>\n",
       "      <td>101</td>\n",
       "      <td>0000e9a4db2da4e9c68558ad1e7df570d02767b213ec6b...</td>\n",
       "      <td>880553001</td>\n",
       "      <td>0.025407</td>\n",
       "      <td>2</td>\n",
       "    </tr>\n",
       "    <tr>\n",
       "      <th>2</th>\n",
       "      <td>101</td>\n",
       "      <td>00047d50bde8751b26aaec7536ccc5fd92828ffa0a396d...</td>\n",
       "      <td>909081004</td>\n",
       "      <td>0.033881</td>\n",
       "      <td>2</td>\n",
       "    </tr>\n",
       "    <tr>\n",
       "      <th>3</th>\n",
       "      <td>101</td>\n",
       "      <td>00047d50bde8751b26aaec7536ccc5fd92828ffa0a396d...</td>\n",
       "      <td>516903024</td>\n",
       "      <td>0.025407</td>\n",
       "      <td>2</td>\n",
       "    </tr>\n",
       "    <tr>\n",
       "      <th>4</th>\n",
       "      <td>101</td>\n",
       "      <td>00047d50bde8751b26aaec7536ccc5fd92828ffa0a396d...</td>\n",
       "      <td>897679003</td>\n",
       "      <td>0.042356</td>\n",
       "      <td>2</td>\n",
       "    </tr>\n",
       "  </tbody>\n",
       "</table>\n",
       "</div>"
      ],
      "text/plain": [
       "   t_dat                                        customer_id  article_id  \\\n",
       "0    101  0000e9a4db2da4e9c68558ad1e7df570d02767b213ec6b...   880553001   \n",
       "1    101  0000e9a4db2da4e9c68558ad1e7df570d02767b213ec6b...   880553001   \n",
       "2    101  00047d50bde8751b26aaec7536ccc5fd92828ffa0a396d...   909081004   \n",
       "3    101  00047d50bde8751b26aaec7536ccc5fd92828ffa0a396d...   516903024   \n",
       "4    101  00047d50bde8751b26aaec7536ccc5fd92828ffa0a396d...   897679003   \n",
       "\n",
       "      price  sales_channel_id  \n",
       "0  0.025407                 2  \n",
       "1  0.025407                 2  \n",
       "2  0.033881                 2  \n",
       "3  0.025407                 2  \n",
       "4  0.042356                 2  "
      ]
     },
     "execution_count": 115,
     "metadata": {},
     "output_type": "execute_result"
    }
   ],
   "source": [
    "transactions_101_104.head()"
   ]
  },
  {
   "cell_type": "code",
   "execution_count": 112,
   "id": "ca1f4fb1",
   "metadata": {
    "ExecuteTime": {
     "end_time": "2022-04-05T15:58:45.075959Z",
     "start_time": "2022-04-05T15:58:44.964844Z"
    }
   },
   "outputs": [
    {
     "data": {
      "text/plain": [
       "t_dat  article_id\n",
       "101    108775044      8\n",
       "       111565001     26\n",
       "       111586001     79\n",
       "       111593001     65\n",
       "       111609001     28\n",
       "                     ..\n",
       "104    952267001     28\n",
       "       952938001      6\n",
       "       953450001      8\n",
       "       953763001     27\n",
       "       956217002     10\n",
       "Name: article_id, Length: 68712, dtype: int64"
      ]
     },
     "execution_count": 112,
     "metadata": {},
     "output_type": "execute_result"
    }
   ],
   "source": [
    "# nbre de transactions (=ventes) par semaine et par article\n",
    "week_article_group=transactions_101_104.groupby(['t_dat','article_id'])\n",
    "nb_articles=week_article_group['article_id'].count()\n",
    "nb_articles # nb_articles.sum() = 1057905"
   ]
  },
  {
   "cell_type": "code",
   "execution_count": 117,
   "id": "8ff1042a",
   "metadata": {
    "ExecuteTime": {
     "end_time": "2022-04-05T16:06:14.938817Z",
     "start_time": "2022-04-05T16:06:14.908433Z"
    }
   },
   "outputs": [
    {
     "ename": "AttributeError",
     "evalue": "'Series' object has no attribute 'set_index'",
     "output_type": "error",
     "traceback": [
      "\u001b[0;31m---------------------------------------------------------------------------\u001b[0m",
      "\u001b[0;31mAttributeError\u001b[0m                            Traceback (most recent call last)",
      "\u001b[0;32m/tmp/ipykernel_11565/2949923273.py\u001b[0m in \u001b[0;36m<module>\u001b[0;34m\u001b[0m\n\u001b[0;32m----> 1\u001b[0;31m \u001b[0mpd\u001b[0m\u001b[0;34m.\u001b[0m\u001b[0mpivot\u001b[0m\u001b[0;34m(\u001b[0m\u001b[0mnb_articles\u001b[0m\u001b[0;34m,\u001b[0m\u001b[0;34m't_dat'\u001b[0m\u001b[0;34m,\u001b[0m\u001b[0;34m'article_id'\u001b[0m\u001b[0;34m)\u001b[0m\u001b[0;34m\u001b[0m\u001b[0;34m\u001b[0m\u001b[0m\n\u001b[0m",
      "\u001b[0;32m~/.pyenv/versions/3.8.12/envs/lewagon/lib/python3.8/site-packages/pandas/core/reshape/pivot.py\u001b[0m in \u001b[0;36mpivot\u001b[0;34m(data, index, columns, values)\u001b[0m\n\u001b[1;32m    494\u001b[0m         \u001b[0;31m# error: Unsupported operand types for + (\"List[Any]\" and \"ExtensionArray\")\u001b[0m\u001b[0;34m\u001b[0m\u001b[0;34m\u001b[0m\u001b[0;34m\u001b[0m\u001b[0m\n\u001b[1;32m    495\u001b[0m         \u001b[0;31m# error: Unsupported left operand type for + (\"ExtensionArray\")\u001b[0m\u001b[0;34m\u001b[0m\u001b[0;34m\u001b[0m\u001b[0;34m\u001b[0m\u001b[0m\n\u001b[0;32m--> 496\u001b[0;31m         indexed = data.set_index(\n\u001b[0m\u001b[1;32m    497\u001b[0m             \u001b[0mcols\u001b[0m \u001b[0;34m+\u001b[0m \u001b[0mcolumns_listlike\u001b[0m\u001b[0;34m,\u001b[0m \u001b[0mappend\u001b[0m\u001b[0;34m=\u001b[0m\u001b[0mappend\u001b[0m  \u001b[0;31m# type: ignore[operator]\u001b[0m\u001b[0;34m\u001b[0m\u001b[0;34m\u001b[0m\u001b[0m\n\u001b[1;32m    498\u001b[0m         )\n",
      "\u001b[0;32m~/.pyenv/versions/3.8.12/envs/lewagon/lib/python3.8/site-packages/pandas/core/generic.py\u001b[0m in \u001b[0;36m__getattr__\u001b[0;34m(self, name)\u001b[0m\n\u001b[1;32m   5485\u001b[0m         ):\n\u001b[1;32m   5486\u001b[0m             \u001b[0;32mreturn\u001b[0m \u001b[0mself\u001b[0m\u001b[0;34m[\u001b[0m\u001b[0mname\u001b[0m\u001b[0;34m]\u001b[0m\u001b[0;34m\u001b[0m\u001b[0;34m\u001b[0m\u001b[0m\n\u001b[0;32m-> 5487\u001b[0;31m         \u001b[0;32mreturn\u001b[0m \u001b[0mobject\u001b[0m\u001b[0;34m.\u001b[0m\u001b[0m__getattribute__\u001b[0m\u001b[0;34m(\u001b[0m\u001b[0mself\u001b[0m\u001b[0;34m,\u001b[0m \u001b[0mname\u001b[0m\u001b[0;34m)\u001b[0m\u001b[0;34m\u001b[0m\u001b[0;34m\u001b[0m\u001b[0m\n\u001b[0m\u001b[1;32m   5488\u001b[0m \u001b[0;34m\u001b[0m\u001b[0m\n\u001b[1;32m   5489\u001b[0m     \u001b[0;32mdef\u001b[0m \u001b[0m__setattr__\u001b[0m\u001b[0;34m(\u001b[0m\u001b[0mself\u001b[0m\u001b[0;34m,\u001b[0m \u001b[0mname\u001b[0m\u001b[0;34m:\u001b[0m \u001b[0mstr\u001b[0m\u001b[0;34m,\u001b[0m \u001b[0mvalue\u001b[0m\u001b[0;34m)\u001b[0m \u001b[0;34m->\u001b[0m \u001b[0;32mNone\u001b[0m\u001b[0;34m:\u001b[0m\u001b[0;34m\u001b[0m\u001b[0;34m\u001b[0m\u001b[0m\n",
      "\u001b[0;31mAttributeError\u001b[0m: 'Series' object has no attribute 'set_index'"
     ]
    }
   ],
   "source": [
    "pd.pivot(nb_articles,'t_dat','article_id')"
   ]
  },
  {
   "cell_type": "code",
   "execution_count": 54,
   "id": "1908d978",
   "metadata": {
    "ExecuteTime": {
     "end_time": "2022-04-05T14:46:12.200845Z",
     "start_time": "2022-04-05T14:46:11.975240Z"
    }
   },
   "outputs": [],
   "source": [
    "#week_article_group=transactions_101_104.groupby(['t_dat','article_id'])['customer_id'].count()\n",
    "article_group=transactions_101_104.groupby(['article_id'])['customer_id'].count().sort_values(ascending=False)"
   ]
  },
  {
   "cell_type": "code",
   "execution_count": 58,
   "id": "1a47c569",
   "metadata": {
    "ExecuteTime": {
     "end_time": "2022-04-05T14:48:15.725735Z",
     "start_time": "2022-04-05T14:48:15.718701Z"
    }
   },
   "outputs": [
    {
     "data": {
      "text/plain": [
       "(28508,)"
      ]
     },
     "execution_count": 58,
     "metadata": {},
     "output_type": "execute_result"
    }
   ],
   "source": [
    "article_group.shape"
   ]
  },
  {
   "cell_type": "code",
   "execution_count": 65,
   "id": "c8736016",
   "metadata": {
    "ExecuteTime": {
     "end_time": "2022-04-05T14:52:47.336098Z",
     "start_time": "2022-04-05T14:52:47.328712Z"
    }
   },
   "outputs": [
    {
     "data": {
      "text/plain": [
       "article_id\n",
       "751471001    2756\n",
       "915526001    2412\n",
       "915529003    2325\n",
       "706016001    2321\n",
       "751471043    2314\n",
       "918292001    2276\n",
       "898694001    2027\n",
       "448509014    1873\n",
       "863595006    1813\n",
       "909370001    1797\n",
       "850917001    1626\n",
       "924243001    1575\n",
       "Name: customer_id, dtype: int64"
      ]
     },
     "execution_count": 65,
     "metadata": {},
     "output_type": "execute_result"
    }
   ],
   "source": [
    "#TOP12 des semaines 101 à 104 (inclus)\n",
    "article_group.head(12)"
   ]
  },
  {
   "cell_type": "code",
   "execution_count": 72,
   "id": "09317f86",
   "metadata": {
    "ExecuteTime": {
     "end_time": "2022-04-05T15:05:54.413233Z",
     "start_time": "2022-04-05T15:05:54.350040Z"
    }
   },
   "outputs": [
    {
     "data": {
      "text/plain": [
       "article_id\n",
       "751471001    816\n",
       "706016001    755\n",
       "915529003    717\n",
       "898694001    708\n",
       "916468003    689\n",
       "751471043    680\n",
       "915526001    673\n",
       "915526002    658\n",
       "918292001    654\n",
       "915529001    549\n",
       "884319001    539\n",
       "803757001    525\n",
       "Name: customer_id, dtype: int64"
      ]
     },
     "execution_count": 72,
     "metadata": {},
     "output_type": "execute_result"
    }
   ],
   "source": [
    "# TOP12 sur la première semaine de septembre (101)\n",
    "mask=transactions_101_104['t_dat']==101\n",
    "transactions_101=transactions_101_104[mask]\n",
    "transactions_101\n",
    "\n",
    "article_group_w101=transactions_101.groupby(['article_id'])['customer_id'].count().sort_values(ascending=False)\n",
    "article_group_w101.head(12)"
   ]
  },
  {
   "cell_type": "code",
   "execution_count": 70,
   "id": "5ffef733",
   "metadata": {
    "ExecuteTime": {
     "end_time": "2022-04-05T15:01:34.199957Z",
     "start_time": "2022-04-05T15:01:34.173065Z"
    }
   },
   "outputs": [
    {
     "data": {
      "text/plain": [
       "article_id\n",
       "933706001    500\n",
       "898694001    149\n",
       "751471001    138\n",
       "915526001    128\n",
       "715624053    123\n",
       "715624001    102\n",
       "915529003     92\n",
       "706016001     88\n",
       "889460003     87\n",
       "862970001     86\n",
       "918292001     82\n",
       "915529001     78\n",
       "Name: customer_id, dtype: int64"
      ]
     },
     "execution_count": 70,
     "metadata": {},
     "output_type": "execute_result"
    }
   ],
   "source": [
    "# TOP12 sur la première semaine de septembre (102)\n",
    "mask=transactions_101_104['t_dat']==102\n",
    "transactions_102=transactions_101_104[mask]\n",
    "transactions_102\n",
    "\n",
    "article_group_w102=transactions_102.groupby(['article_id'])['customer_id'].count().sort_values(ascending=False)\n",
    "article_group_w102.head(12)"
   ]
  },
  {
   "cell_type": "code",
   "execution_count": 71,
   "id": "e4f929c8",
   "metadata": {
    "ExecuteTime": {
     "end_time": "2022-04-05T15:02:47.497826Z",
     "start_time": "2022-04-05T15:02:47.429645Z"
    }
   },
   "outputs": [
    {
     "data": {
      "text/plain": [
       "article_id\n",
       "909370001    1139\n",
       "865799006     482\n",
       "918522001     424\n",
       "924243001     414\n",
       "809238001     386\n",
       "448509014     386\n",
       "751471001     367\n",
       "809238005     366\n",
       "918292001     345\n",
       "762846027     335\n",
       "673677002     301\n",
       "929165002     295\n",
       "Name: customer_id, dtype: int64"
      ]
     },
     "execution_count": 71,
     "metadata": {},
     "output_type": "execute_result"
    }
   ],
   "source": [
    "# TOP12 sur la première semaine de septembre (103)\n",
    "mask=transactions_101_104['t_dat']==103\n",
    "transactions_103=transactions_101_104[mask]\n",
    "transactions_103\n",
    "\n",
    "article_group_w103=transactions_103.groupby(['article_id'])['customer_id'].count().sort_values(ascending=False)\n",
    "article_group_w103.head(12)"
   ]
  },
  {
   "cell_type": "code",
   "execution_count": 73,
   "id": "266ec89f",
   "metadata": {
    "ExecuteTime": {
     "end_time": "2022-04-05T15:12:29.298370Z",
     "start_time": "2022-04-05T15:12:29.191392Z"
    }
   },
   "outputs": [
    {
     "data": {
      "text/plain": [
       "article_id\n",
       "751471001    1435\n",
       "915526001    1322\n",
       "751471043    1294\n",
       "915529003    1280\n",
       "706016001    1220\n",
       "918292001    1195\n",
       "924243001    1139\n",
       "918522001    1117\n",
       "448509014    1087\n",
       "863595006     985\n",
       "919365008     944\n",
       "898694001     920\n",
       "Name: customer_id, dtype: int64"
      ]
     },
     "execution_count": 73,
     "metadata": {},
     "output_type": "execute_result"
    }
   ],
   "source": [
    "# TOP12 sur la première semaine de septembre (103)\n",
    "mask=transactions_101_104['t_dat']==104\n",
    "transactions_104=transactions_101_104[mask]\n",
    "transactions_104\n",
    "\n",
    "article_group_w104=transactions_104.groupby(['article_id'])['customer_id'].count().sort_values(ascending=False)\n",
    "article_group_w104.head(12)"
   ]
  },
  {
   "cell_type": "code",
   "execution_count": 11,
   "id": "0b74fc68",
   "metadata": {
    "ExecuteTime": {
     "end_time": "2022-04-05T14:05:26.778372Z",
     "start_time": "2022-04-05T14:05:26.587912Z"
    }
   },
   "outputs": [
    {
     "data": {
      "text/html": [
       "<div>\n",
       "<style scoped>\n",
       "    .dataframe tbody tr th:only-of-type {\n",
       "        vertical-align: middle;\n",
       "    }\n",
       "\n",
       "    .dataframe tbody tr th {\n",
       "        vertical-align: top;\n",
       "    }\n",
       "\n",
       "    .dataframe thead th {\n",
       "        text-align: right;\n",
       "    }\n",
       "</style>\n",
       "<table border=\"1\" class=\"dataframe\">\n",
       "  <thead>\n",
       "    <tr style=\"text-align: right;\">\n",
       "      <th></th>\n",
       "      <th>Unnamed: 0</th>\n",
       "      <th>Unnamed: 0.1</th>\n",
       "      <th>t_dat</th>\n",
       "      <th>customer_id</th>\n",
       "      <th>article_id</th>\n",
       "      <th>price</th>\n",
       "      <th>sales_channel_id</th>\n",
       "    </tr>\n",
       "  </thead>\n",
       "  <tbody>\n",
       "    <tr>\n",
       "      <th>0</th>\n",
       "      <td>0</td>\n",
       "      <td>30665422</td>\n",
       "      <td>101</td>\n",
       "      <td>0000e9a4db2da4e9c68558ad1e7df570d02767b213ec6b...</td>\n",
       "      <td>880553001</td>\n",
       "      <td>0.025407</td>\n",
       "      <td>2</td>\n",
       "    </tr>\n",
       "    <tr>\n",
       "      <th>1</th>\n",
       "      <td>1</td>\n",
       "      <td>30665423</td>\n",
       "      <td>101</td>\n",
       "      <td>0000e9a4db2da4e9c68558ad1e7df570d02767b213ec6b...</td>\n",
       "      <td>880553001</td>\n",
       "      <td>0.025407</td>\n",
       "      <td>2</td>\n",
       "    </tr>\n",
       "    <tr>\n",
       "      <th>2</th>\n",
       "      <td>2</td>\n",
       "      <td>30665424</td>\n",
       "      <td>101</td>\n",
       "      <td>00047d50bde8751b26aaec7536ccc5fd92828ffa0a396d...</td>\n",
       "      <td>909081004</td>\n",
       "      <td>0.033881</td>\n",
       "      <td>2</td>\n",
       "    </tr>\n",
       "    <tr>\n",
       "      <th>3</th>\n",
       "      <td>3</td>\n",
       "      <td>30665425</td>\n",
       "      <td>101</td>\n",
       "      <td>00047d50bde8751b26aaec7536ccc5fd92828ffa0a396d...</td>\n",
       "      <td>516903024</td>\n",
       "      <td>0.025407</td>\n",
       "      <td>2</td>\n",
       "    </tr>\n",
       "    <tr>\n",
       "      <th>4</th>\n",
       "      <td>4</td>\n",
       "      <td>30665426</td>\n",
       "      <td>101</td>\n",
       "      <td>00047d50bde8751b26aaec7536ccc5fd92828ffa0a396d...</td>\n",
       "      <td>897679003</td>\n",
       "      <td>0.042356</td>\n",
       "      <td>2</td>\n",
       "    </tr>\n",
       "    <tr>\n",
       "      <th>...</th>\n",
       "      <td>...</td>\n",
       "      <td>...</td>\n",
       "      <td>...</td>\n",
       "      <td>...</td>\n",
       "      <td>...</td>\n",
       "      <td>...</td>\n",
       "      <td>...</td>\n",
       "    </tr>\n",
       "    <tr>\n",
       "      <th>1057748</th>\n",
       "      <td>1057748</td>\n",
       "      <td>31723170</td>\n",
       "      <td>104</td>\n",
       "      <td>ff05e46a053a8481a79889e4375b13615304b8e7abb3e4...</td>\n",
       "      <td>805473003</td>\n",
       "      <td>0.059305</td>\n",
       "      <td>2</td>\n",
       "    </tr>\n",
       "    <tr>\n",
       "      <th>1057772</th>\n",
       "      <td>1057772</td>\n",
       "      <td>31723194</td>\n",
       "      <td>104</td>\n",
       "      <td>ff5c8fd560beba7e9b711c7726cbfe64b6f5414a75f778...</td>\n",
       "      <td>849255001</td>\n",
       "      <td>0.050831</td>\n",
       "      <td>2</td>\n",
       "    </tr>\n",
       "    <tr>\n",
       "      <th>1057812</th>\n",
       "      <td>1057812</td>\n",
       "      <td>31723234</td>\n",
       "      <td>104</td>\n",
       "      <td>ffa034ef641a6daff781539adb7830bcde0745ddb2bced...</td>\n",
       "      <td>847100002</td>\n",
       "      <td>0.025407</td>\n",
       "      <td>2</td>\n",
       "    </tr>\n",
       "    <tr>\n",
       "      <th>1057848</th>\n",
       "      <td>1057848</td>\n",
       "      <td>31723270</td>\n",
       "      <td>104</td>\n",
       "      <td>ffc197751ef56add717e78d7611d409b94c37d1f7aa900...</td>\n",
       "      <td>700429002</td>\n",
       "      <td>0.022017</td>\n",
       "      <td>1</td>\n",
       "    </tr>\n",
       "    <tr>\n",
       "      <th>1057861</th>\n",
       "      <td>1057861</td>\n",
       "      <td>31723283</td>\n",
       "      <td>104</td>\n",
       "      <td>ffe160e6c64557a2bc977e6fe64b370d0c542821c1b31c...</td>\n",
       "      <td>783621001</td>\n",
       "      <td>0.013542</td>\n",
       "      <td>1</td>\n",
       "    </tr>\n",
       "  </tbody>\n",
       "</table>\n",
       "<p>104712 rows × 7 columns</p>\n",
       "</div>"
      ],
      "text/plain": [
       "         Unnamed: 0  Unnamed: 0.1  t_dat  \\\n",
       "0                 0      30665422    101   \n",
       "1                 1      30665423    101   \n",
       "2                 2      30665424    101   \n",
       "3                 3      30665425    101   \n",
       "4                 4      30665426    101   \n",
       "...             ...           ...    ...   \n",
       "1057748     1057748      31723170    104   \n",
       "1057772     1057772      31723194    104   \n",
       "1057812     1057812      31723234    104   \n",
       "1057848     1057848      31723270    104   \n",
       "1057861     1057861      31723283    104   \n",
       "\n",
       "                                               customer_id  article_id  \\\n",
       "0        0000e9a4db2da4e9c68558ad1e7df570d02767b213ec6b...   880553001   \n",
       "1        0000e9a4db2da4e9c68558ad1e7df570d02767b213ec6b...   880553001   \n",
       "2        00047d50bde8751b26aaec7536ccc5fd92828ffa0a396d...   909081004   \n",
       "3        00047d50bde8751b26aaec7536ccc5fd92828ffa0a396d...   516903024   \n",
       "4        00047d50bde8751b26aaec7536ccc5fd92828ffa0a396d...   897679003   \n",
       "...                                                    ...         ...   \n",
       "1057748  ff05e46a053a8481a79889e4375b13615304b8e7abb3e4...   805473003   \n",
       "1057772  ff5c8fd560beba7e9b711c7726cbfe64b6f5414a75f778...   849255001   \n",
       "1057812  ffa034ef641a6daff781539adb7830bcde0745ddb2bced...   847100002   \n",
       "1057848  ffc197751ef56add717e78d7611d409b94c37d1f7aa900...   700429002   \n",
       "1057861  ffe160e6c64557a2bc977e6fe64b370d0c542821c1b31c...   783621001   \n",
       "\n",
       "            price  sales_channel_id  \n",
       "0        0.025407                 2  \n",
       "1        0.025407                 2  \n",
       "2        0.033881                 2  \n",
       "3        0.025407                 2  \n",
       "4        0.042356                 2  \n",
       "...           ...               ...  \n",
       "1057748  0.059305                 2  \n",
       "1057772  0.050831                 2  \n",
       "1057812  0.025407                 2  \n",
       "1057848  0.022017                 1  \n",
       "1057861  0.013542                 1  \n",
       "\n",
       "[104712 rows x 7 columns]"
      ]
     },
     "execution_count": 11,
     "metadata": {},
     "output_type": "execute_result"
    }
   ],
   "source": [
    "article_group = transactions_101_104.groupby('article_id')\n",
    "article_group.head()"
   ]
  },
  {
   "cell_type": "code",
   "execution_count": null,
   "id": "14849af1",
   "metadata": {
    "ExecuteTime": {
     "end_time": "2022-04-05T14:06:29.813416Z",
     "start_time": "2022-04-05T14:06:29.804463Z"
    }
   },
   "outputs": [],
   "source": []
  },
  {
   "cell_type": "code",
   "execution_count": null,
   "id": "213b52ce",
   "metadata": {},
   "outputs": [],
   "source": []
  }
 ],
 "metadata": {
  "kernelspec": {
   "display_name": "Python 3 (ipykernel)",
   "language": "python",
   "name": "python3"
  },
  "language_info": {
   "codemirror_mode": {
    "name": "ipython",
    "version": 3
   },
   "file_extension": ".py",
   "mimetype": "text/x-python",
   "name": "python",
   "nbconvert_exporter": "python",
   "pygments_lexer": "ipython3",
   "version": "3.8.12"
  },
  "toc": {
   "base_numbering": 1,
   "nav_menu": {},
   "number_sections": true,
   "sideBar": true,
   "skip_h1_title": false,
   "title_cell": "Table of Contents",
   "title_sidebar": "Contents",
   "toc_cell": false,
   "toc_position": {},
   "toc_section_display": true,
   "toc_window_display": false
  }
 },
 "nbformat": 4,
 "nbformat_minor": 5
}
