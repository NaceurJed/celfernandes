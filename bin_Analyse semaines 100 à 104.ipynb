{
 "cells": [
  {
   "cell_type": "code",
   "execution_count": 2,
   "id": "085562b1",
   "metadata": {
    "ExecuteTime": {
     "end_time": "2022-04-05T12:55:07.147859Z",
     "start_time": "2022-04-05T12:55:07.142032Z"
    }
   },
   "outputs": [],
   "source": [
    "import pandas as pd"
   ]
  },
  {
   "cell_type": "code",
   "execution_count": 5,
   "id": "1cb37a4c",
   "metadata": {
    "ExecuteTime": {
     "end_time": "2022-04-05T12:56:45.831034Z",
     "start_time": "2022-04-05T12:56:44.628098Z"
    }
   },
   "outputs": [],
   "source": [
    "transactions_100_104 = pd.read_csv('./raw_data/transaction_train_week_100_104.csv')"
   ]
  },
  {
   "cell_type": "code",
   "execution_count": 6,
   "id": "9017f278",
   "metadata": {
    "ExecuteTime": {
     "end_time": "2022-04-05T12:56:53.366127Z",
     "start_time": "2022-04-05T12:56:53.345707Z"
    }
   },
   "outputs": [
    {
     "data": {
      "text/plain": [
       "(1057905, 6)"
      ]
     },
     "execution_count": 6,
     "metadata": {},
     "output_type": "execute_result"
    }
   ],
   "source": [
    "transactions_100_104.shape"
   ]
  },
  {
   "cell_type": "code",
   "execution_count": 9,
   "id": "26d4e126",
   "metadata": {
    "ExecuteTime": {
     "end_time": "2022-04-05T13:19:32.361762Z",
     "start_time": "2022-04-05T13:19:32.333747Z"
    }
   },
   "outputs": [
    {
     "data": {
      "text/html": [
       "<div>\n",
       "<style scoped>\n",
       "    .dataframe tbody tr th:only-of-type {\n",
       "        vertical-align: middle;\n",
       "    }\n",
       "\n",
       "    .dataframe tbody tr th {\n",
       "        vertical-align: top;\n",
       "    }\n",
       "\n",
       "    .dataframe thead th {\n",
       "        text-align: right;\n",
       "    }\n",
       "</style>\n",
       "<table border=\"1\" class=\"dataframe\">\n",
       "  <thead>\n",
       "    <tr style=\"text-align: right;\">\n",
       "      <th></th>\n",
       "      <th>Unnamed: 0</th>\n",
       "      <th>t_dat</th>\n",
       "      <th>customer_id</th>\n",
       "      <th>article_id</th>\n",
       "      <th>price</th>\n",
       "      <th>sales_channel_id</th>\n",
       "    </tr>\n",
       "  </thead>\n",
       "  <tbody>\n",
       "    <tr>\n",
       "      <th>0</th>\n",
       "      <td>30665422</td>\n",
       "      <td>2020-08-24</td>\n",
       "      <td>0000e9a4db2da4e9c68558ad1e7df570d02767b213ec6b...</td>\n",
       "      <td>880553001</td>\n",
       "      <td>0.025407</td>\n",
       "      <td>2</td>\n",
       "    </tr>\n",
       "    <tr>\n",
       "      <th>1</th>\n",
       "      <td>30665423</td>\n",
       "      <td>2020-08-24</td>\n",
       "      <td>0000e9a4db2da4e9c68558ad1e7df570d02767b213ec6b...</td>\n",
       "      <td>880553001</td>\n",
       "      <td>0.025407</td>\n",
       "      <td>2</td>\n",
       "    </tr>\n",
       "    <tr>\n",
       "      <th>2</th>\n",
       "      <td>30665424</td>\n",
       "      <td>2020-08-24</td>\n",
       "      <td>00047d50bde8751b26aaec7536ccc5fd92828ffa0a396d...</td>\n",
       "      <td>909081004</td>\n",
       "      <td>0.033881</td>\n",
       "      <td>2</td>\n",
       "    </tr>\n",
       "    <tr>\n",
       "      <th>3</th>\n",
       "      <td>30665425</td>\n",
       "      <td>2020-08-24</td>\n",
       "      <td>00047d50bde8751b26aaec7536ccc5fd92828ffa0a396d...</td>\n",
       "      <td>516903024</td>\n",
       "      <td>0.025407</td>\n",
       "      <td>2</td>\n",
       "    </tr>\n",
       "    <tr>\n",
       "      <th>4</th>\n",
       "      <td>30665426</td>\n",
       "      <td>2020-08-24</td>\n",
       "      <td>00047d50bde8751b26aaec7536ccc5fd92828ffa0a396d...</td>\n",
       "      <td>897679003</td>\n",
       "      <td>0.042356</td>\n",
       "      <td>2</td>\n",
       "    </tr>\n",
       "    <tr>\n",
       "      <th>...</th>\n",
       "      <td>...</td>\n",
       "      <td>...</td>\n",
       "      <td>...</td>\n",
       "      <td>...</td>\n",
       "      <td>...</td>\n",
       "      <td>...</td>\n",
       "    </tr>\n",
       "    <tr>\n",
       "      <th>1057900</th>\n",
       "      <td>31723322</td>\n",
       "      <td>2020-09-20</td>\n",
       "      <td>fff4381593e170ca0aea188998487c830d9a4070c9ec4b...</td>\n",
       "      <td>799365001</td>\n",
       "      <td>0.050831</td>\n",
       "      <td>1</td>\n",
       "    </tr>\n",
       "    <tr>\n",
       "      <th>1057901</th>\n",
       "      <td>31723323</td>\n",
       "      <td>2020-09-20</td>\n",
       "      <td>fff7e7674509592818bf453391af43a85eaaac9a52d858...</td>\n",
       "      <td>624486049</td>\n",
       "      <td>0.013542</td>\n",
       "      <td>1</td>\n",
       "    </tr>\n",
       "    <tr>\n",
       "      <th>1057902</th>\n",
       "      <td>31723324</td>\n",
       "      <td>2020-09-20</td>\n",
       "      <td>fff871bf24b40fd1290215414d760afaa69bb164d2b970...</td>\n",
       "      <td>717490010</td>\n",
       "      <td>0.008458</td>\n",
       "      <td>2</td>\n",
       "    </tr>\n",
       "    <tr>\n",
       "      <th>1057903</th>\n",
       "      <td>31723325</td>\n",
       "      <td>2020-09-20</td>\n",
       "      <td>fff871bf24b40fd1290215414d760afaa69bb164d2b970...</td>\n",
       "      <td>717490058</td>\n",
       "      <td>0.008458</td>\n",
       "      <td>2</td>\n",
       "    </tr>\n",
       "    <tr>\n",
       "      <th>1057904</th>\n",
       "      <td>31723326</td>\n",
       "      <td>2020-09-20</td>\n",
       "      <td>fff871bf24b40fd1290215414d760afaa69bb164d2b970...</td>\n",
       "      <td>717490057</td>\n",
       "      <td>0.008458</td>\n",
       "      <td>2</td>\n",
       "    </tr>\n",
       "  </tbody>\n",
       "</table>\n",
       "<p>1057905 rows × 6 columns</p>\n",
       "</div>"
      ],
      "text/plain": [
       "         Unnamed: 0       t_dat  \\\n",
       "0          30665422  2020-08-24   \n",
       "1          30665423  2020-08-24   \n",
       "2          30665424  2020-08-24   \n",
       "3          30665425  2020-08-24   \n",
       "4          30665426  2020-08-24   \n",
       "...             ...         ...   \n",
       "1057900    31723322  2020-09-20   \n",
       "1057901    31723323  2020-09-20   \n",
       "1057902    31723324  2020-09-20   \n",
       "1057903    31723325  2020-09-20   \n",
       "1057904    31723326  2020-09-20   \n",
       "\n",
       "                                               customer_id  article_id  \\\n",
       "0        0000e9a4db2da4e9c68558ad1e7df570d02767b213ec6b...   880553001   \n",
       "1        0000e9a4db2da4e9c68558ad1e7df570d02767b213ec6b...   880553001   \n",
       "2        00047d50bde8751b26aaec7536ccc5fd92828ffa0a396d...   909081004   \n",
       "3        00047d50bde8751b26aaec7536ccc5fd92828ffa0a396d...   516903024   \n",
       "4        00047d50bde8751b26aaec7536ccc5fd92828ffa0a396d...   897679003   \n",
       "...                                                    ...         ...   \n",
       "1057900  fff4381593e170ca0aea188998487c830d9a4070c9ec4b...   799365001   \n",
       "1057901  fff7e7674509592818bf453391af43a85eaaac9a52d858...   624486049   \n",
       "1057902  fff871bf24b40fd1290215414d760afaa69bb164d2b970...   717490010   \n",
       "1057903  fff871bf24b40fd1290215414d760afaa69bb164d2b970...   717490058   \n",
       "1057904  fff871bf24b40fd1290215414d760afaa69bb164d2b970...   717490057   \n",
       "\n",
       "            price  sales_channel_id  \n",
       "0        0.025407                 2  \n",
       "1        0.025407                 2  \n",
       "2        0.033881                 2  \n",
       "3        0.025407                 2  \n",
       "4        0.042356                 2  \n",
       "...           ...               ...  \n",
       "1057900  0.050831                 1  \n",
       "1057901  0.013542                 1  \n",
       "1057902  0.008458                 2  \n",
       "1057903  0.008458                 2  \n",
       "1057904  0.008458                 2  \n",
       "\n",
       "[1057905 rows x 6 columns]"
      ]
     },
     "execution_count": 9,
     "metadata": {},
     "output_type": "execute_result"
    }
   ],
   "source": [
    "transactions_100_104"
   ]
  },
  {
   "cell_type": "code",
   "execution_count": 13,
   "id": "1f13c95d",
   "metadata": {
    "ExecuteTime": {
     "end_time": "2022-04-05T13:24:41.922044Z",
     "start_time": "2022-04-05T13:24:41.861567Z"
    }
   },
   "outputs": [
    {
     "data": {
      "text/plain": [
       "28508"
      ]
     },
     "execution_count": 13,
     "metadata": {},
     "output_type": "execute_result"
    }
   ],
   "source": [
    "# nombre de références d'artciles différentes sur les weeks 100 à 104\n",
    "transactions_100_104['article_id'].value_counts().count()"
   ]
  }
 ],
 "metadata": {
  "kernelspec": {
   "display_name": "Python 3 (ipykernel)",
   "language": "python",
   "name": "python3"
  },
  "language_info": {
   "codemirror_mode": {
    "name": "ipython",
    "version": 3
   },
   "file_extension": ".py",
   "mimetype": "text/x-python",
   "name": "python",
   "nbconvert_exporter": "python",
   "pygments_lexer": "ipython3",
   "version": "3.8.12"
  },
  "toc": {
   "base_numbering": 1,
   "nav_menu": {},
   "number_sections": true,
   "sideBar": true,
   "skip_h1_title": false,
   "title_cell": "Table of Contents",
   "title_sidebar": "Contents",
   "toc_cell": false,
   "toc_position": {},
   "toc_section_display": true,
   "toc_window_display": false
  }
 },
 "nbformat": 4,
 "nbformat_minor": 5
}
