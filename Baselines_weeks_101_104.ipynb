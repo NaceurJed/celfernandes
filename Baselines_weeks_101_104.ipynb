{
 "cells": [
  {
   "cell_type": "code",
   "execution_count": 88,
   "id": "30e15dab",
   "metadata": {
    "ExecuteTime": {
     "end_time": "2022-04-05T15:38:28.832593Z",
     "start_time": "2022-04-05T15:38:27.827083Z"
    }
   },
   "outputs": [],
   "source": [
    "import pandas as pd\n",
    "import matplotlib.pyplot as plt\n",
    "import seaborn as sns"
   ]
  },
  {
   "cell_type": "markdown",
   "id": "3c3377b0",
   "metadata": {},
   "source": [
    "# Import des données de transactions semaines 101 à 104"
   ]
  },
  {
   "cell_type": "code",
   "execution_count": 2,
   "id": "388ce3f2",
   "metadata": {
    "ExecuteTime": {
     "end_time": "2022-04-05T13:31:16.527756Z",
     "start_time": "2022-04-05T13:31:12.088811Z"
    }
   },
   "outputs": [],
   "source": [
    "transactions_101_104 = pd.read_csv('./raw_data/transaction_train_week_101_104.csv')\n",
    "#101= dernière semaine d'aout\n",
    "#102= première semaine septembre\n",
    "#103= deuxième semaine septembre\n",
    "#104= troisème semaine de septembre (qui nous servira de target dans le cadre du projet)"
   ]
  },
  {
   "cell_type": "code",
   "execution_count": 3,
   "id": "b9f890cc",
   "metadata": {
    "ExecuteTime": {
     "end_time": "2022-04-05T13:31:18.663540Z",
     "start_time": "2022-04-05T13:31:18.647622Z"
    }
   },
   "outputs": [
    {
     "data": {
      "text/plain": [
       "(1057905, 7)"
      ]
     },
     "execution_count": 3,
     "metadata": {},
     "output_type": "execute_result"
    }
   ],
   "source": [
    "transactions_101_104.shape"
   ]
  },
  {
   "cell_type": "code",
   "execution_count": 15,
   "id": "07f7e4c2",
   "metadata": {
    "ExecuteTime": {
     "end_time": "2022-04-05T14:08:41.742158Z",
     "start_time": "2022-04-05T14:08:41.643188Z"
    }
   },
   "outputs": [
    {
     "name": "stdout",
     "output_type": "stream",
     "text": [
      "<class 'pandas.core.frame.DataFrame'>\n",
      "RangeIndex: 1057905 entries, 0 to 1057904\n",
      "Data columns (total 7 columns):\n",
      " #   Column            Non-Null Count    Dtype  \n",
      "---  ------            --------------    -----  \n",
      " 0   Unnamed: 0        1057905 non-null  int64  \n",
      " 1   Unnamed: 0.1      1057905 non-null  int64  \n",
      " 2   t_dat             1057905 non-null  int64  \n",
      " 3   customer_id       1057905 non-null  object \n",
      " 4   article_id        1057905 non-null  int64  \n",
      " 5   price             1057905 non-null  float64\n",
      " 6   sales_channel_id  1057905 non-null  int64  \n",
      "dtypes: float64(1), int64(5), object(1)\n",
      "memory usage: 56.5+ MB\n"
     ]
    }
   ],
   "source": [
    "transactions_101_104.info()"
   ]
  },
  {
   "cell_type": "code",
   "execution_count": null,
   "id": "bbacbfb8",
   "metadata": {},
   "outputs": [],
   "source": [
    "transactions_101_104=transactions_101_104.drop(columns=['Unnamed: 0', 'Unnamed: 0.1'])"
   ]
  },
  {
   "cell_type": "code",
   "execution_count": 100,
   "id": "c5083e05",
   "metadata": {
    "ExecuteTime": {
     "end_time": "2022-04-05T15:46:37.719305Z",
     "start_time": "2022-04-05T15:46:37.700367Z"
    }
   },
   "outputs": [
    {
     "data": {
      "text/html": [
       "<div>\n",
       "<style scoped>\n",
       "    .dataframe tbody tr th:only-of-type {\n",
       "        vertical-align: middle;\n",
       "    }\n",
       "\n",
       "    .dataframe tbody tr th {\n",
       "        vertical-align: top;\n",
       "    }\n",
       "\n",
       "    .dataframe thead th {\n",
       "        text-align: right;\n",
       "    }\n",
       "</style>\n",
       "<table border=\"1\" class=\"dataframe\">\n",
       "  <thead>\n",
       "    <tr style=\"text-align: right;\">\n",
       "      <th></th>\n",
       "      <th>t_dat</th>\n",
       "      <th>customer_id</th>\n",
       "      <th>article_id</th>\n",
       "      <th>price</th>\n",
       "      <th>sales_channel_id</th>\n",
       "    </tr>\n",
       "  </thead>\n",
       "  <tbody>\n",
       "    <tr>\n",
       "      <th>0</th>\n",
       "      <td>101</td>\n",
       "      <td>0000e9a4db2da4e9c68558ad1e7df570d02767b213ec6b...</td>\n",
       "      <td>880553001</td>\n",
       "      <td>0.025407</td>\n",
       "      <td>2</td>\n",
       "    </tr>\n",
       "    <tr>\n",
       "      <th>1</th>\n",
       "      <td>101</td>\n",
       "      <td>0000e9a4db2da4e9c68558ad1e7df570d02767b213ec6b...</td>\n",
       "      <td>880553001</td>\n",
       "      <td>0.025407</td>\n",
       "      <td>2</td>\n",
       "    </tr>\n",
       "    <tr>\n",
       "      <th>2</th>\n",
       "      <td>101</td>\n",
       "      <td>00047d50bde8751b26aaec7536ccc5fd92828ffa0a396d...</td>\n",
       "      <td>909081004</td>\n",
       "      <td>0.033881</td>\n",
       "      <td>2</td>\n",
       "    </tr>\n",
       "    <tr>\n",
       "      <th>3</th>\n",
       "      <td>101</td>\n",
       "      <td>00047d50bde8751b26aaec7536ccc5fd92828ffa0a396d...</td>\n",
       "      <td>516903024</td>\n",
       "      <td>0.025407</td>\n",
       "      <td>2</td>\n",
       "    </tr>\n",
       "    <tr>\n",
       "      <th>4</th>\n",
       "      <td>101</td>\n",
       "      <td>00047d50bde8751b26aaec7536ccc5fd92828ffa0a396d...</td>\n",
       "      <td>897679003</td>\n",
       "      <td>0.042356</td>\n",
       "      <td>2</td>\n",
       "    </tr>\n",
       "  </tbody>\n",
       "</table>\n",
       "</div>"
      ],
      "text/plain": [
       "   t_dat                                        customer_id  article_id  \\\n",
       "0    101  0000e9a4db2da4e9c68558ad1e7df570d02767b213ec6b...   880553001   \n",
       "1    101  0000e9a4db2da4e9c68558ad1e7df570d02767b213ec6b...   880553001   \n",
       "2    101  00047d50bde8751b26aaec7536ccc5fd92828ffa0a396d...   909081004   \n",
       "3    101  00047d50bde8751b26aaec7536ccc5fd92828ffa0a396d...   516903024   \n",
       "4    101  00047d50bde8751b26aaec7536ccc5fd92828ffa0a396d...   897679003   \n",
       "\n",
       "      price  sales_channel_id  \n",
       "0  0.025407                 2  \n",
       "1  0.025407                 2  \n",
       "2  0.033881                 2  \n",
       "3  0.025407                 2  \n",
       "4  0.042356                 2  "
      ]
     },
     "execution_count": 100,
     "metadata": {},
     "output_type": "execute_result"
    }
   ],
   "source": [
    "transactions_101_104.head()"
   ]
  },
  {
   "cell_type": "markdown",
   "id": "9f48d77c",
   "metadata": {},
   "source": [
    "## Nbre de ventes par semaine"
   ]
  },
  {
   "cell_type": "code",
   "execution_count": 205,
   "id": "e5ff5cc3",
   "metadata": {
    "ExecuteTime": {
     "end_time": "2022-04-05T20:20:13.181577Z",
     "start_time": "2022-04-05T20:20:13.047833Z"
    }
   },
   "outputs": [
    {
     "data": {
      "text/plain": [
       "t_dat\n",
       "101    286525\n",
       "102     38108\n",
       "103    157621\n",
       "104    575651\n",
       "Name: article_id, dtype: int64"
      ]
     },
     "execution_count": 205,
     "metadata": {},
     "output_type": "execute_result"
    }
   ],
   "source": [
    "# nbre de transactions par semaine \n",
    "week_group=transactions_101_104.groupby('t_dat')\n",
    "nb_transactions=week_group['article_id'].count()\n",
    "nb_transactions"
   ]
  },
  {
   "cell_type": "code",
   "execution_count": 206,
   "id": "0eee06e1",
   "metadata": {
    "ExecuteTime": {
     "end_time": "2022-04-05T20:20:17.093886Z",
     "start_time": "2022-04-05T20:20:16.691089Z"
    }
   },
   "outputs": [
    {
     "data": {
      "text/plain": [
       "<AxesSubplot:>"
      ]
     },
     "execution_count": 206,
     "metadata": {},
     "output_type": "execute_result"
    },
    {
     "data": {
      "image/png": "[encoded data removed]",
      "text/plain": [
       "<Figure size 432x288 with 1 Axes>"
      ]
     },
     "metadata": {
      "needs_background": "light"
     },
     "output_type": "display_data"
    }
   ],
   "source": [
    "y=nb_transactions.values\n",
    "x=nb_transactions.index.values\n",
    "sns.barplot(x=x,y=y)"
   ]
  },
  {
   "cell_type": "markdown",
   "id": "bdd0f2ef",
   "metadata": {},
   "source": [
    "## Nbre de références d'articles vendues par semaine"
   ]
  },
  {
   "cell_type": "code",
   "execution_count": 200,
   "id": "5118c8cb",
   "metadata": {
    "ExecuteTime": {
     "end_time": "2022-04-05T20:15:20.407309Z",
     "start_time": "2022-04-05T20:15:20.206649Z"
    }
   },
   "outputs": [
    {
     "data": {
      "text/plain": [
       "t_dat  article_id\n",
       "101    108775044      8\n",
       "       111565001     26\n",
       "       111586001     79\n",
       "       111593001     65\n",
       "       111609001     28\n",
       "                     ..\n",
       "104    952267001     28\n",
       "       952938001      6\n",
       "       953450001      8\n",
       "       953763001     27\n",
       "       956217002     10\n",
       "Name: article_id, Length: 68712, dtype: int64"
      ]
     },
     "execution_count": 200,
     "metadata": {},
     "output_type": "execute_result"
    }
   ],
   "source": [
    "week_article_group=transactions_101_104.groupby(['t_dat','article_id'])\n",
    "week_article_group['article_id'].count()"
   ]
  },
  {
   "cell_type": "code",
   "execution_count": 209,
   "id": "f6d0b86e",
   "metadata": {
    "ExecuteTime": {
     "end_time": "2022-04-05T20:23:41.052553Z",
     "start_time": "2022-04-05T20:23:40.904853Z"
    },
    "scrolled": true
   },
   "outputs": [
    {
     "data": {
      "text/plain": [
       "t_dat\n",
       "101    19793\n",
       "102     8800\n",
       "103    15676\n",
       "104    24443\n",
       "Name: article_id, dtype: int64"
      ]
     },
     "execution_count": 209,
     "metadata": {},
     "output_type": "execute_result"
    }
   ],
   "source": [
    "nb_articles=week_article_group['article_id'].count().groupby(['t_dat']).count()\n",
    "nb_articles"
   ]
  },
  {
   "cell_type": "code",
   "execution_count": 210,
   "id": "b8b9bc3b",
   "metadata": {
    "ExecuteTime": {
     "end_time": "2022-04-05T20:24:00.641809Z",
     "start_time": "2022-04-05T20:24:00.286462Z"
    }
   },
   "outputs": [
    {
     "data": {
      "text/plain": [
       "<AxesSubplot:>"
      ]
     },
     "execution_count": 210,
     "metadata": {},
     "output_type": "execute_result"
    },
    {
     "data": {
      "image/png": "[encoded data removed]",
      "text/plain": [
       "<Figure size 432x288 with 1 Axes>"
      ]
     },
     "metadata": {
      "needs_background": "light"
     },
     "output_type": "display_data"
    }
   ],
   "source": [
    "y=nb_articles.values\n",
    "x=nb_articles.index.values\n",
    "sns.barplot(x=x,y=y)"
   ]
  },
  {
   "cell_type": "markdown",
   "id": "eef581ba",
   "metadata": {},
   "source": [
    "## Nbre de ventes par article par semaine¶"
   ]
  },
  {
   "cell_type": "code",
   "execution_count": 213,
   "id": "3b0809b7",
   "metadata": {
    "ExecuteTime": {
     "end_time": "2022-04-05T20:31:53.172083Z",
     "start_time": "2022-04-05T20:31:50.955896Z"
    },
    "collapsed": true
   },
   "outputs": [
    {
     "data": {
      "text/html": [
       "<div>\n",
       "<style scoped>\n",
       "    .dataframe tbody tr th:only-of-type {\n",
       "        vertical-align: middle;\n",
       "    }\n",
       "\n",
       "    .dataframe tbody tr th {\n",
       "        vertical-align: top;\n",
       "    }\n",
       "\n",
       "    .dataframe thead th {\n",
       "        text-align: right;\n",
       "    }\n",
       "</style>\n",
       "<table border=\"1\" class=\"dataframe\">\n",
       "  <thead>\n",
       "    <tr style=\"text-align: right;\">\n",
       "      <th></th>\n",
       "      <th>t_dat</th>\n",
       "      <th>article_id</th>\n",
       "      <th>in101</th>\n",
       "      <th>in102</th>\n",
       "      <th>in103</th>\n",
       "      <th>in104</th>\n",
       "    </tr>\n",
       "  </thead>\n",
       "  <tbody>\n",
       "    <tr>\n",
       "      <th>0</th>\n",
       "      <td>101</td>\n",
       "      <td>880553001</td>\n",
       "      <td>1</td>\n",
       "      <td>0</td>\n",
       "      <td>0</td>\n",
       "      <td>0</td>\n",
       "    </tr>\n",
       "    <tr>\n",
       "      <th>1</th>\n",
       "      <td>101</td>\n",
       "      <td>880553001</td>\n",
       "      <td>1</td>\n",
       "      <td>0</td>\n",
       "      <td>0</td>\n",
       "      <td>0</td>\n",
       "    </tr>\n",
       "    <tr>\n",
       "      <th>2</th>\n",
       "      <td>101</td>\n",
       "      <td>909081004</td>\n",
       "      <td>1</td>\n",
       "      <td>0</td>\n",
       "      <td>0</td>\n",
       "      <td>0</td>\n",
       "    </tr>\n",
       "    <tr>\n",
       "      <th>3</th>\n",
       "      <td>101</td>\n",
       "      <td>516903024</td>\n",
       "      <td>1</td>\n",
       "      <td>0</td>\n",
       "      <td>0</td>\n",
       "      <td>0</td>\n",
       "    </tr>\n",
       "    <tr>\n",
       "      <th>4</th>\n",
       "      <td>101</td>\n",
       "      <td>897679003</td>\n",
       "      <td>1</td>\n",
       "      <td>0</td>\n",
       "      <td>0</td>\n",
       "      <td>0</td>\n",
       "    </tr>\n",
       "    <tr>\n",
       "      <th>...</th>\n",
       "      <td>...</td>\n",
       "      <td>...</td>\n",
       "      <td>...</td>\n",
       "      <td>...</td>\n",
       "      <td>...</td>\n",
       "      <td>...</td>\n",
       "    </tr>\n",
       "    <tr>\n",
       "      <th>1057900</th>\n",
       "      <td>104</td>\n",
       "      <td>799365001</td>\n",
       "      <td>0</td>\n",
       "      <td>0</td>\n",
       "      <td>0</td>\n",
       "      <td>1</td>\n",
       "    </tr>\n",
       "    <tr>\n",
       "      <th>1057901</th>\n",
       "      <td>104</td>\n",
       "      <td>624486049</td>\n",
       "      <td>0</td>\n",
       "      <td>0</td>\n",
       "      <td>0</td>\n",
       "      <td>1</td>\n",
       "    </tr>\n",
       "    <tr>\n",
       "      <th>1057902</th>\n",
       "      <td>104</td>\n",
       "      <td>717490010</td>\n",
       "      <td>0</td>\n",
       "      <td>0</td>\n",
       "      <td>0</td>\n",
       "      <td>1</td>\n",
       "    </tr>\n",
       "    <tr>\n",
       "      <th>1057903</th>\n",
       "      <td>104</td>\n",
       "      <td>717490058</td>\n",
       "      <td>0</td>\n",
       "      <td>0</td>\n",
       "      <td>0</td>\n",
       "      <td>1</td>\n",
       "    </tr>\n",
       "    <tr>\n",
       "      <th>1057904</th>\n",
       "      <td>104</td>\n",
       "      <td>717490057</td>\n",
       "      <td>0</td>\n",
       "      <td>0</td>\n",
       "      <td>0</td>\n",
       "      <td>1</td>\n",
       "    </tr>\n",
       "  </tbody>\n",
       "</table>\n",
       "<p>1057905 rows × 6 columns</p>\n",
       "</div>"
      ],
      "text/plain": [
       "         t_dat  article_id  in101  in102  in103  in104\n",
       "0          101   880553001      1      0      0      0\n",
       "1          101   880553001      1      0      0      0\n",
       "2          101   909081004      1      0      0      0\n",
       "3          101   516903024      1      0      0      0\n",
       "4          101   897679003      1      0      0      0\n",
       "...        ...         ...    ...    ...    ...    ...\n",
       "1057900    104   799365001      0      0      0      1\n",
       "1057901    104   624486049      0      0      0      1\n",
       "1057902    104   717490010      0      0      0      1\n",
       "1057903    104   717490058      0      0      0      1\n",
       "1057904    104   717490057      0      0      0      1\n",
       "\n",
       "[1057905 rows x 6 columns]"
      ]
     },
     "execution_count": 213,
     "metadata": {},
     "output_type": "execute_result"
    }
   ],
   "source": [
    "transactions_101_104.head()\n",
    "article_history=transactions_101_104.drop(columns=['customer_id','price','sales_channel_id'])\n",
    "article_history['in101']=article_history['t_dat'].apply(lambda x: 1 if x==101 else 0)\n",
    "article_history['in102']=article_history['t_dat'].apply(lambda x: 1 if x==102 else 0)\n",
    "article_history['in103']=article_history['t_dat'].apply(lambda x: 1 if x==103 else 0)\n",
    "article_history['in104']=article_history['t_dat'].apply(lambda x: 1 if x==104 else 0)\n",
    "article_history"
   ]
  },
  {
   "cell_type": "code",
   "execution_count": 217,
   "id": "29fc339a",
   "metadata": {
    "ExecuteTime": {
     "end_time": "2022-04-05T20:59:46.050170Z",
     "start_time": "2022-04-05T20:59:45.909464Z"
    }
   },
   "outputs": [
    {
     "data": {
      "text/html": [
       "<div>\n",
       "<style scoped>\n",
       "    .dataframe tbody tr th:only-of-type {\n",
       "        vertical-align: middle;\n",
       "    }\n",
       "\n",
       "    .dataframe tbody tr th {\n",
       "        vertical-align: top;\n",
       "    }\n",
       "\n",
       "    .dataframe thead th {\n",
       "        text-align: right;\n",
       "    }\n",
       "</style>\n",
       "<table border=\"1\" class=\"dataframe\">\n",
       "  <thead>\n",
       "    <tr style=\"text-align: right;\">\n",
       "      <th></th>\n",
       "      <th>t_dat</th>\n",
       "      <th>in101</th>\n",
       "      <th>in102</th>\n",
       "      <th>in103</th>\n",
       "      <th>in104</th>\n",
       "      <th>101_to_104</th>\n",
       "      <th>101_to_103</th>\n",
       "      <th>102_to_103</th>\n",
       "    </tr>\n",
       "    <tr>\n",
       "      <th>article_id</th>\n",
       "      <th></th>\n",
       "      <th></th>\n",
       "      <th></th>\n",
       "      <th></th>\n",
       "      <th></th>\n",
       "      <th></th>\n",
       "      <th></th>\n",
       "      <th></th>\n",
       "    </tr>\n",
       "  </thead>\n",
       "  <tbody>\n",
       "    <tr>\n",
       "      <th>751471001</th>\n",
       "      <td>283533</td>\n",
       "      <td>816</td>\n",
       "      <td>138</td>\n",
       "      <td>367</td>\n",
       "      <td>1435</td>\n",
       "      <td>2756</td>\n",
       "      <td>1321</td>\n",
       "      <td>505</td>\n",
       "    </tr>\n",
       "    <tr>\n",
       "      <th>915526001</th>\n",
       "      <td>248284</td>\n",
       "      <td>673</td>\n",
       "      <td>128</td>\n",
       "      <td>289</td>\n",
       "      <td>1322</td>\n",
       "      <td>2412</td>\n",
       "      <td>1090</td>\n",
       "      <td>417</td>\n",
       "    </tr>\n",
       "    <tr>\n",
       "      <th>751471043</th>\n",
       "      <td>238198</td>\n",
       "      <td>680</td>\n",
       "      <td>78</td>\n",
       "      <td>262</td>\n",
       "      <td>1294</td>\n",
       "      <td>2314</td>\n",
       "      <td>1020</td>\n",
       "      <td>340</td>\n",
       "    </tr>\n",
       "    <tr>\n",
       "      <th>915529003</th>\n",
       "      <td>239229</td>\n",
       "      <td>717</td>\n",
       "      <td>92</td>\n",
       "      <td>236</td>\n",
       "      <td>1280</td>\n",
       "      <td>2325</td>\n",
       "      <td>1045</td>\n",
       "      <td>328</td>\n",
       "    </tr>\n",
       "    <tr>\n",
       "      <th>706016001</th>\n",
       "      <td>238685</td>\n",
       "      <td>755</td>\n",
       "      <td>88</td>\n",
       "      <td>258</td>\n",
       "      <td>1220</td>\n",
       "      <td>2321</td>\n",
       "      <td>1101</td>\n",
       "      <td>346</td>\n",
       "    </tr>\n",
       "    <tr>\n",
       "      <th>918292001</th>\n",
       "      <td>234233</td>\n",
       "      <td>654</td>\n",
       "      <td>82</td>\n",
       "      <td>345</td>\n",
       "      <td>1195</td>\n",
       "      <td>2276</td>\n",
       "      <td>1081</td>\n",
       "      <td>427</td>\n",
       "    </tr>\n",
       "    <tr>\n",
       "      <th>924243001</th>\n",
       "      <td>163327</td>\n",
       "      <td>15</td>\n",
       "      <td>7</td>\n",
       "      <td>414</td>\n",
       "      <td>1139</td>\n",
       "      <td>1575</td>\n",
       "      <td>436</td>\n",
       "      <td>421</td>\n",
       "    </tr>\n",
       "    <tr>\n",
       "      <th>918522001</th>\n",
       "      <td>159840</td>\n",
       "      <td>0</td>\n",
       "      <td>0</td>\n",
       "      <td>424</td>\n",
       "      <td>1117</td>\n",
       "      <td>1541</td>\n",
       "      <td>424</td>\n",
       "      <td>424</td>\n",
       "    </tr>\n",
       "    <tr>\n",
       "      <th>448509014</th>\n",
       "      <td>193250</td>\n",
       "      <td>356</td>\n",
       "      <td>44</td>\n",
       "      <td>386</td>\n",
       "      <td>1087</td>\n",
       "      <td>1873</td>\n",
       "      <td>786</td>\n",
       "      <td>430</td>\n",
       "    </tr>\n",
       "    <tr>\n",
       "      <th>863595006</th>\n",
       "      <td>186608</td>\n",
       "      <td>522</td>\n",
       "      <td>72</td>\n",
       "      <td>234</td>\n",
       "      <td>985</td>\n",
       "      <td>1813</td>\n",
       "      <td>828</td>\n",
       "      <td>306</td>\n",
       "    </tr>\n",
       "    <tr>\n",
       "      <th>919365008</th>\n",
       "      <td>112662</td>\n",
       "      <td>0</td>\n",
       "      <td>37</td>\n",
       "      <td>104</td>\n",
       "      <td>944</td>\n",
       "      <td>1085</td>\n",
       "      <td>141</td>\n",
       "      <td>141</td>\n",
       "    </tr>\n",
       "    <tr>\n",
       "      <th>898694001</th>\n",
       "      <td>208136</td>\n",
       "      <td>708</td>\n",
       "      <td>149</td>\n",
       "      <td>250</td>\n",
       "      <td>920</td>\n",
       "      <td>2027</td>\n",
       "      <td>1107</td>\n",
       "      <td>399</td>\n",
       "    </tr>\n",
       "  </tbody>\n",
       "</table>\n",
       "</div>"
      ],
      "text/plain": [
       "             t_dat  in101  in102  in103  in104  101_to_104  101_to_103  \\\n",
       "article_id                                                               \n",
       "751471001   283533    816    138    367   1435        2756        1321   \n",
       "915526001   248284    673    128    289   1322        2412        1090   \n",
       "751471043   238198    680     78    262   1294        2314        1020   \n",
       "915529003   239229    717     92    236   1280        2325        1045   \n",
       "706016001   238685    755     88    258   1220        2321        1101   \n",
       "918292001   234233    654     82    345   1195        2276        1081   \n",
       "924243001   163327     15      7    414   1139        1575         436   \n",
       "918522001   159840      0      0    424   1117        1541         424   \n",
       "448509014   193250    356     44    386   1087        1873         786   \n",
       "863595006   186608    522     72    234    985        1813         828   \n",
       "919365008   112662      0     37    104    944        1085         141   \n",
       "898694001   208136    708    149    250    920        2027        1107   \n",
       "\n",
       "            102_to_103  \n",
       "article_id              \n",
       "751471001          505  \n",
       "915526001          417  \n",
       "751471043          340  \n",
       "915529003          328  \n",
       "706016001          346  \n",
       "918292001          427  \n",
       "924243001          421  \n",
       "918522001          424  \n",
       "448509014          430  \n",
       "863595006          306  \n",
       "919365008          141  \n",
       "898694001          399  "
      ]
     },
     "execution_count": 217,
     "metadata": {},
     "output_type": "execute_result"
    }
   ],
   "source": [
    "temp=article_history.groupby(['article_id']).sum()\n",
    "article_history=temp\n",
    "article_history['101_to_104']=article_history['in101']+article_history['in102']+article_history['in103']+article_history['in104']\n",
    "article_history['101_to_103']=article_history['in101']+article_history['in102']+article_history['in103']\n",
    "article_history['102_to_103']=article_history['in102']+article_history['in103']\n",
    "# définition des TOP12 selon la période choisies\n",
    "Top12_101_to_103=article_history.sort_values(by='101_to_103', ascending=False).head(12)\n",
    "Top12_102_to_103=article_history.sort_values(by='102_to_103', ascending=False).head(12)\n",
    "Top12_104=article_history.sort_values(by='in104', ascending=False).head(12)\n",
    "\n",
    "Top12_104"
   ]
  },
  {
   "cell_type": "code",
   "execution_count": 218,
   "id": "7a67ded0",
   "metadata": {
    "ExecuteTime": {
     "end_time": "2022-04-05T21:29:14.918750Z",
     "start_time": "2022-04-05T21:29:14.880521Z"
    }
   },
   "outputs": [
    {
     "data": {
      "text/html": [
       "<div>\n",
       "<style scoped>\n",
       "    .dataframe tbody tr th:only-of-type {\n",
       "        vertical-align: middle;\n",
       "    }\n",
       "\n",
       "    .dataframe tbody tr th {\n",
       "        vertical-align: top;\n",
       "    }\n",
       "\n",
       "    .dataframe thead th {\n",
       "        text-align: right;\n",
       "    }\n",
       "</style>\n",
       "<table border=\"1\" class=\"dataframe\">\n",
       "  <thead>\n",
       "    <tr style=\"text-align: right;\">\n",
       "      <th></th>\n",
       "      <th>t_dat</th>\n",
       "      <th>in101</th>\n",
       "      <th>in102</th>\n",
       "      <th>in103</th>\n",
       "      <th>in104</th>\n",
       "      <th>101_to_104</th>\n",
       "      <th>101_to_103</th>\n",
       "      <th>102_to_103</th>\n",
       "    </tr>\n",
       "    <tr>\n",
       "      <th>article_id</th>\n",
       "      <th></th>\n",
       "      <th></th>\n",
       "      <th></th>\n",
       "      <th></th>\n",
       "      <th></th>\n",
       "      <th></th>\n",
       "      <th></th>\n",
       "      <th></th>\n",
       "    </tr>\n",
       "  </thead>\n",
       "  <tbody>\n",
       "    <tr>\n",
       "      <th>909370001</th>\n",
       "      <td>185749</td>\n",
       "      <td>0</td>\n",
       "      <td>0</td>\n",
       "      <td>1139</td>\n",
       "      <td>658</td>\n",
       "      <td>1797</td>\n",
       "      <td>1139</td>\n",
       "      <td>1139</td>\n",
       "    </tr>\n",
       "    <tr>\n",
       "      <th>933706001</th>\n",
       "      <td>125752</td>\n",
       "      <td>192</td>\n",
       "      <td>500</td>\n",
       "      <td>72</td>\n",
       "      <td>461</td>\n",
       "      <td>1225</td>\n",
       "      <td>764</td>\n",
       "      <td>572</td>\n",
       "    </tr>\n",
       "    <tr>\n",
       "      <th>751471001</th>\n",
       "      <td>283533</td>\n",
       "      <td>816</td>\n",
       "      <td>138</td>\n",
       "      <td>367</td>\n",
       "      <td>1435</td>\n",
       "      <td>2756</td>\n",
       "      <td>1321</td>\n",
       "      <td>505</td>\n",
       "    </tr>\n",
       "    <tr>\n",
       "      <th>865799006</th>\n",
       "      <td>133760</td>\n",
       "      <td>4</td>\n",
       "      <td>5</td>\n",
       "      <td>482</td>\n",
       "      <td>800</td>\n",
       "      <td>1291</td>\n",
       "      <td>491</td>\n",
       "      <td>487</td>\n",
       "    </tr>\n",
       "    <tr>\n",
       "      <th>448509014</th>\n",
       "      <td>193250</td>\n",
       "      <td>356</td>\n",
       "      <td>44</td>\n",
       "      <td>386</td>\n",
       "      <td>1087</td>\n",
       "      <td>1873</td>\n",
       "      <td>786</td>\n",
       "      <td>430</td>\n",
       "    </tr>\n",
       "    <tr>\n",
       "      <th>918292001</th>\n",
       "      <td>234233</td>\n",
       "      <td>654</td>\n",
       "      <td>82</td>\n",
       "      <td>345</td>\n",
       "      <td>1195</td>\n",
       "      <td>2276</td>\n",
       "      <td>1081</td>\n",
       "      <td>427</td>\n",
       "    </tr>\n",
       "    <tr>\n",
       "      <th>918522001</th>\n",
       "      <td>159840</td>\n",
       "      <td>0</td>\n",
       "      <td>0</td>\n",
       "      <td>424</td>\n",
       "      <td>1117</td>\n",
       "      <td>1541</td>\n",
       "      <td>424</td>\n",
       "      <td>424</td>\n",
       "    </tr>\n",
       "    <tr>\n",
       "      <th>924243001</th>\n",
       "      <td>163327</td>\n",
       "      <td>15</td>\n",
       "      <td>7</td>\n",
       "      <td>414</td>\n",
       "      <td>1139</td>\n",
       "      <td>1575</td>\n",
       "      <td>436</td>\n",
       "      <td>421</td>\n",
       "    </tr>\n",
       "    <tr>\n",
       "      <th>915526001</th>\n",
       "      <td>248284</td>\n",
       "      <td>673</td>\n",
       "      <td>128</td>\n",
       "      <td>289</td>\n",
       "      <td>1322</td>\n",
       "      <td>2412</td>\n",
       "      <td>1090</td>\n",
       "      <td>417</td>\n",
       "    </tr>\n",
       "    <tr>\n",
       "      <th>898694001</th>\n",
       "      <td>208136</td>\n",
       "      <td>708</td>\n",
       "      <td>149</td>\n",
       "      <td>250</td>\n",
       "      <td>920</td>\n",
       "      <td>2027</td>\n",
       "      <td>1107</td>\n",
       "      <td>399</td>\n",
       "    </tr>\n",
       "    <tr>\n",
       "      <th>809238001</th>\n",
       "      <td>75323</td>\n",
       "      <td>1</td>\n",
       "      <td>0</td>\n",
       "      <td>386</td>\n",
       "      <td>341</td>\n",
       "      <td>728</td>\n",
       "      <td>387</td>\n",
       "      <td>386</td>\n",
       "    </tr>\n",
       "    <tr>\n",
       "      <th>809238005</th>\n",
       "      <td>63178</td>\n",
       "      <td>0</td>\n",
       "      <td>0</td>\n",
       "      <td>366</td>\n",
       "      <td>245</td>\n",
       "      <td>611</td>\n",
       "      <td>366</td>\n",
       "      <td>366</td>\n",
       "    </tr>\n",
       "  </tbody>\n",
       "</table>\n",
       "</div>"
      ],
      "text/plain": [
       "             t_dat  in101  in102  in103  in104  101_to_104  101_to_103  \\\n",
       "article_id                                                               \n",
       "909370001   185749      0      0   1139    658        1797        1139   \n",
       "933706001   125752    192    500     72    461        1225         764   \n",
       "751471001   283533    816    138    367   1435        2756        1321   \n",
       "865799006   133760      4      5    482    800        1291         491   \n",
       "448509014   193250    356     44    386   1087        1873         786   \n",
       "918292001   234233    654     82    345   1195        2276        1081   \n",
       "918522001   159840      0      0    424   1117        1541         424   \n",
       "924243001   163327     15      7    414   1139        1575         436   \n",
       "915526001   248284    673    128    289   1322        2412        1090   \n",
       "898694001   208136    708    149    250    920        2027        1107   \n",
       "809238001    75323      1      0    386    341         728         387   \n",
       "809238005    63178      0      0    366    245         611         366   \n",
       "\n",
       "            102_to_103  \n",
       "article_id              \n",
       "909370001         1139  \n",
       "933706001          572  \n",
       "751471001          505  \n",
       "865799006          487  \n",
       "448509014          430  \n",
       "918292001          427  \n",
       "918522001          424  \n",
       "924243001          421  \n",
       "915526001          417  \n",
       "898694001          399  \n",
       "809238001          386  \n",
       "809238005          366  "
      ]
     },
     "execution_count": 218,
     "metadata": {},
     "output_type": "execute_result"
    }
   ],
   "source": [
    "Top12_102_to_103"
   ]
  },
  {
   "cell_type": "code",
   "execution_count": 163,
   "id": "e22b1a10",
   "metadata": {
    "ExecuteTime": {
     "end_time": "2022-04-05T18:45:03.097813Z",
     "start_time": "2022-04-05T18:45:03.012530Z"
    }
   },
   "outputs": [
    {
     "data": {
      "text/html": [
       "<div>\n",
       "<style scoped>\n",
       "    .dataframe tbody tr th:only-of-type {\n",
       "        vertical-align: middle;\n",
       "    }\n",
       "\n",
       "    .dataframe tbody tr th {\n",
       "        vertical-align: top;\n",
       "    }\n",
       "\n",
       "    .dataframe thead th {\n",
       "        text-align: right;\n",
       "    }\n",
       "</style>\n",
       "<table border=\"1\" class=\"dataframe\">\n",
       "  <thead>\n",
       "    <tr style=\"text-align: right;\">\n",
       "      <th></th>\n",
       "      <th>t_dat</th>\n",
       "      <th>in101</th>\n",
       "      <th>in102</th>\n",
       "      <th>in103</th>\n",
       "      <th>in104</th>\n",
       "      <th>101_to_104</th>\n",
       "      <th>102_to_103</th>\n",
       "      <th>101_to_103</th>\n",
       "    </tr>\n",
       "    <tr>\n",
       "      <th>article_id</th>\n",
       "      <th></th>\n",
       "      <th></th>\n",
       "      <th></th>\n",
       "      <th></th>\n",
       "      <th></th>\n",
       "      <th></th>\n",
       "      <th></th>\n",
       "      <th></th>\n",
       "    </tr>\n",
       "  </thead>\n",
       "  <tbody>\n",
       "    <tr>\n",
       "      <th>751471001</th>\n",
       "      <td>283533</td>\n",
       "      <td>816</td>\n",
       "      <td>138</td>\n",
       "      <td>367</td>\n",
       "      <td>1435</td>\n",
       "      <td>2756</td>\n",
       "      <td>505</td>\n",
       "      <td>1321</td>\n",
       "    </tr>\n",
       "    <tr>\n",
       "      <th>909370001</th>\n",
       "      <td>185749</td>\n",
       "      <td>0</td>\n",
       "      <td>0</td>\n",
       "      <td>1139</td>\n",
       "      <td>658</td>\n",
       "      <td>1797</td>\n",
       "      <td>1139</td>\n",
       "      <td>1139</td>\n",
       "    </tr>\n",
       "    <tr>\n",
       "      <th>898694001</th>\n",
       "      <td>208136</td>\n",
       "      <td>708</td>\n",
       "      <td>149</td>\n",
       "      <td>250</td>\n",
       "      <td>920</td>\n",
       "      <td>2027</td>\n",
       "      <td>399</td>\n",
       "      <td>1107</td>\n",
       "    </tr>\n",
       "    <tr>\n",
       "      <th>706016001</th>\n",
       "      <td>238685</td>\n",
       "      <td>755</td>\n",
       "      <td>88</td>\n",
       "      <td>258</td>\n",
       "      <td>1220</td>\n",
       "      <td>2321</td>\n",
       "      <td>346</td>\n",
       "      <td>1101</td>\n",
       "    </tr>\n",
       "    <tr>\n",
       "      <th>915526001</th>\n",
       "      <td>248284</td>\n",
       "      <td>673</td>\n",
       "      <td>128</td>\n",
       "      <td>289</td>\n",
       "      <td>1322</td>\n",
       "      <td>2412</td>\n",
       "      <td>417</td>\n",
       "      <td>1090</td>\n",
       "    </tr>\n",
       "    <tr>\n",
       "      <th>918292001</th>\n",
       "      <td>234233</td>\n",
       "      <td>654</td>\n",
       "      <td>82</td>\n",
       "      <td>345</td>\n",
       "      <td>1195</td>\n",
       "      <td>2276</td>\n",
       "      <td>427</td>\n",
       "      <td>1081</td>\n",
       "    </tr>\n",
       "    <tr>\n",
       "      <th>915529003</th>\n",
       "      <td>239229</td>\n",
       "      <td>717</td>\n",
       "      <td>92</td>\n",
       "      <td>236</td>\n",
       "      <td>1280</td>\n",
       "      <td>2325</td>\n",
       "      <td>328</td>\n",
       "      <td>1045</td>\n",
       "    </tr>\n",
       "    <tr>\n",
       "      <th>751471043</th>\n",
       "      <td>238198</td>\n",
       "      <td>680</td>\n",
       "      <td>78</td>\n",
       "      <td>262</td>\n",
       "      <td>1294</td>\n",
       "      <td>2314</td>\n",
       "      <td>340</td>\n",
       "      <td>1020</td>\n",
       "    </tr>\n",
       "    <tr>\n",
       "      <th>915526002</th>\n",
       "      <td>151128</td>\n",
       "      <td>658</td>\n",
       "      <td>78</td>\n",
       "      <td>142</td>\n",
       "      <td>597</td>\n",
       "      <td>1475</td>\n",
       "      <td>220</td>\n",
       "      <td>878</td>\n",
       "    </tr>\n",
       "    <tr>\n",
       "      <th>715624001</th>\n",
       "      <td>156924</td>\n",
       "      <td>509</td>\n",
       "      <td>102</td>\n",
       "      <td>257</td>\n",
       "      <td>660</td>\n",
       "      <td>1528</td>\n",
       "      <td>359</td>\n",
       "      <td>868</td>\n",
       "    </tr>\n",
       "    <tr>\n",
       "      <th>863595006</th>\n",
       "      <td>186608</td>\n",
       "      <td>522</td>\n",
       "      <td>72</td>\n",
       "      <td>234</td>\n",
       "      <td>985</td>\n",
       "      <td>1813</td>\n",
       "      <td>306</td>\n",
       "      <td>828</td>\n",
       "    </tr>\n",
       "    <tr>\n",
       "      <th>915529001</th>\n",
       "      <td>154761</td>\n",
       "      <td>549</td>\n",
       "      <td>78</td>\n",
       "      <td>164</td>\n",
       "      <td>716</td>\n",
       "      <td>1507</td>\n",
       "      <td>242</td>\n",
       "      <td>791</td>\n",
       "    </tr>\n",
       "  </tbody>\n",
       "</table>\n",
       "</div>"
      ],
      "text/plain": [
       "             t_dat  in101  in102  in103  in104  101_to_104  102_to_103  \\\n",
       "article_id                                                               \n",
       "751471001   283533    816    138    367   1435        2756         505   \n",
       "909370001   185749      0      0   1139    658        1797        1139   \n",
       "898694001   208136    708    149    250    920        2027         399   \n",
       "706016001   238685    755     88    258   1220        2321         346   \n",
       "915526001   248284    673    128    289   1322        2412         417   \n",
       "918292001   234233    654     82    345   1195        2276         427   \n",
       "915529003   239229    717     92    236   1280        2325         328   \n",
       "751471043   238198    680     78    262   1294        2314         340   \n",
       "915526002   151128    658     78    142    597        1475         220   \n",
       "715624001   156924    509    102    257    660        1528         359   \n",
       "863595006   186608    522     72    234    985        1813         306   \n",
       "915529001   154761    549     78    164    716        1507         242   \n",
       "\n",
       "            101_to_103  \n",
       "article_id              \n",
       "751471001         1321  \n",
       "909370001         1139  \n",
       "898694001         1107  \n",
       "706016001         1101  \n",
       "915526001         1090  \n",
       "918292001         1081  \n",
       "915529003         1045  \n",
       "751471043         1020  \n",
       "915526002          878  \n",
       "715624001          868  \n",
       "863595006          828  \n",
       "915529001          791  "
      ]
     },
     "execution_count": 163,
     "metadata": {},
     "output_type": "execute_result"
    }
   ],
   "source": [
    "article_history['101_to_104']=article_history['in101']+article_history['in102']+article_history['in103']+article_history['in104']\n",
    "article_history['101_to_103']=article_history['in101']+article_history['in102']+article_history['in103']\n",
    "article_history['102_to_103']=article_history['in102']+article_history['in103']\n",
    "Top12_101_to_103=article_history.sort_values(by='101_to_103', ascending=False).head(12)\n",
    "Top12_101_to_103\n",
    "#Top12_101_to_103.index"
   ]
  },
  {
   "cell_type": "code",
   "execution_count": 119,
   "id": "45746903",
   "metadata": {
    "ExecuteTime": {
     "end_time": "2022-04-05T16:10:56.208939Z",
     "start_time": "2022-04-05T16:10:56.084697Z"
    }
   },
   "outputs": [
    {
     "data": {
      "text/plain": [
       "t_dat  article_id\n",
       "104    751471001     1435\n",
       "       915526001     1322\n",
       "       751471043     1294\n",
       "       915529003     1280\n",
       "       706016001     1220\n",
       "       918292001     1195\n",
       "       924243001     1139\n",
       "103    909370001     1139\n",
       "104    918522001     1117\n",
       "       448509014     1087\n",
       "       863595006      985\n",
       "       919365008      944\n",
       "Name: article_id, dtype: int64"
      ]
     },
     "execution_count": 119,
     "metadata": {},
     "output_type": "execute_result"
    }
   ],
   "source": [
    "# nbre de transactions (=ventes) par semaine et par article\n",
    "week_article_group=transactions_101_104.groupby(['t_dat','article_id'])\n",
    "nb_articles=week_article_group['article_id'].count().sort_values(ascending=False)\n",
    "nb_articles.head(12) # nb_articles.sum() = 1057905\n"
   ]
  },
  {
   "cell_type": "code",
   "execution_count": 159,
   "id": "d7e204ff",
   "metadata": {
    "ExecuteTime": {
     "end_time": "2022-04-05T18:42:58.629093Z",
     "start_time": "2022-04-05T18:42:58.601157Z"
    }
   },
   "outputs": [
    {
     "data": {
      "text/plain": [
       "MultiIndex([(104, 751471001),\n",
       "            (104, 915526001),\n",
       "            (104, 751471043),\n",
       "            (104, 915529003),\n",
       "            (104, 706016001),\n",
       "            (104, 918292001),\n",
       "            (104, 924243001),\n",
       "            (103, 909370001),\n",
       "            (104, 918522001),\n",
       "            (104, 448509014),\n",
       "            ...\n",
       "            (101, 892860001),\n",
       "            (103, 887830003),\n",
       "            (104, 808246003),\n",
       "            (104, 808237004),\n",
       "            (101, 847200003),\n",
       "            (101, 892841001),\n",
       "            (103, 776237027),\n",
       "            (103, 776237034),\n",
       "            (103, 776350009),\n",
       "            (103, 796210008)],\n",
       "           names=['t_dat', 'article_id'], length=68712)"
      ]
     },
     "execution_count": 159,
     "metadata": {},
     "output_type": "execute_result"
    }
   ],
   "source": [
    "nb_articles.index"
   ]
  },
  {
   "cell_type": "code",
   "execution_count": 120,
   "id": "06b097f6",
   "metadata": {
    "ExecuteTime": {
     "end_time": "2022-04-05T16:14:37.797701Z",
     "start_time": "2022-04-05T16:14:37.789811Z"
    }
   },
   "outputs": [
    {
     "data": {
      "text/plain": [
       "1057905"
      ]
     },
     "execution_count": 120,
     "metadata": {},
     "output_type": "execute_result"
    }
   ],
   "source": [
    "nb_articles.sum()"
   ]
  },
  {
   "cell_type": "code",
   "execution_count": 54,
   "id": "f7c91c70",
   "metadata": {
    "ExecuteTime": {
     "end_time": "2022-04-05T14:46:12.200845Z",
     "start_time": "2022-04-05T14:46:11.975240Z"
    }
   },
   "outputs": [],
   "source": [
    "#week_article_group=transactions_101_104.groupby(['t_dat','article_id'])['customer_id'].count()\n",
    "article_group=transactions_101_104.groupby(['article_id'])['customer_id'].count().sort_values(ascending=False)"
   ]
  },
  {
   "cell_type": "code",
   "execution_count": 58,
   "id": "fd6052ef",
   "metadata": {
    "ExecuteTime": {
     "end_time": "2022-04-05T14:48:15.725735Z",
     "start_time": "2022-04-05T14:48:15.718701Z"
    }
   },
   "outputs": [
    {
     "data": {
      "text/plain": [
       "(28508,)"
      ]
     },
     "execution_count": 58,
     "metadata": {},
     "output_type": "execute_result"
    }
   ],
   "source": [
    "article_group.shape"
   ]
  },
  {
   "cell_type": "code",
   "execution_count": 65,
   "id": "4931b627",
   "metadata": {
    "ExecuteTime": {
     "end_time": "2022-04-05T14:52:47.336098Z",
     "start_time": "2022-04-05T14:52:47.328712Z"
    }
   },
   "outputs": [
    {
     "data": {
      "text/plain": [
       "article_id\n",
       "751471001    2756\n",
       "915526001    2412\n",
       "915529003    2325\n",
       "706016001    2321\n",
       "751471043    2314\n",
       "918292001    2276\n",
       "898694001    2027\n",
       "448509014    1873\n",
       "863595006    1813\n",
       "909370001    1797\n",
       "850917001    1626\n",
       "924243001    1575\n",
       "Name: customer_id, dtype: int64"
      ]
     },
     "execution_count": 65,
     "metadata": {},
     "output_type": "execute_result"
    }
   ],
   "source": [
    "#TOP12 des semaines 101 à 104 (inclus)\n",
    "article_group.head(12)"
   ]
  },
  {
   "cell_type": "code",
   "execution_count": 72,
   "id": "e05aed76",
   "metadata": {
    "ExecuteTime": {
     "end_time": "2022-04-05T15:05:54.413233Z",
     "start_time": "2022-04-05T15:05:54.350040Z"
    }
   },
   "outputs": [
    {
     "data": {
      "text/plain": [
       "article_id\n",
       "751471001    816\n",
       "706016001    755\n",
       "915529003    717\n",
       "898694001    708\n",
       "916468003    689\n",
       "751471043    680\n",
       "915526001    673\n",
       "915526002    658\n",
       "918292001    654\n",
       "915529001    549\n",
       "884319001    539\n",
       "803757001    525\n",
       "Name: customer_id, dtype: int64"
      ]
     },
     "execution_count": 72,
     "metadata": {},
     "output_type": "execute_result"
    }
   ],
   "source": [
    "# TOP12 sur la première semaine de septembre (101)\n",
    "mask=transactions_101_104['t_dat']==101\n",
    "transactions_101=transactions_101_104[mask]\n",
    "transactions_101\n",
    "\n",
    "article_group_w101=transactions_101.groupby(['article_id'])['customer_id'].count().sort_values(ascending=False)\n",
    "article_group_w101.head(12)"
   ]
  },
  {
   "cell_type": "code",
   "execution_count": 70,
   "id": "5288cc98",
   "metadata": {
    "ExecuteTime": {
     "end_time": "2022-04-05T15:01:34.199957Z",
     "start_time": "2022-04-05T15:01:34.173065Z"
    }
   },
   "outputs": [
    {
     "data": {
      "text/plain": [
       "article_id\n",
       "933706001    500\n",
       "898694001    149\n",
       "751471001    138\n",
       "915526001    128\n",
       "715624053    123\n",
       "715624001    102\n",
       "915529003     92\n",
       "706016001     88\n",
       "889460003     87\n",
       "862970001     86\n",
       "918292001     82\n",
       "915529001     78\n",
       "Name: customer_id, dtype: int64"
      ]
     },
     "execution_count": 70,
     "metadata": {},
     "output_type": "execute_result"
    }
   ],
   "source": [
    "# TOP12 sur la première semaine de septembre (102)\n",
    "mask=transactions_101_104['t_dat']==102\n",
    "transactions_102=transactions_101_104[mask]\n",
    "transactions_102\n",
    "\n",
    "article_group_w102=transactions_102.groupby(['article_id'])['customer_id'].count().sort_values(ascending=False)\n",
    "article_group_w102.head(12)"
   ]
  },
  {
   "cell_type": "code",
   "execution_count": 71,
   "id": "d3bc2e06",
   "metadata": {
    "ExecuteTime": {
     "end_time": "2022-04-05T15:02:47.497826Z",
     "start_time": "2022-04-05T15:02:47.429645Z"
    }
   },
   "outputs": [
    {
     "data": {
      "text/plain": [
       "article_id\n",
       "909370001    1139\n",
       "865799006     482\n",
       "918522001     424\n",
       "924243001     414\n",
       "809238001     386\n",
       "448509014     386\n",
       "751471001     367\n",
       "809238005     366\n",
       "918292001     345\n",
       "762846027     335\n",
       "673677002     301\n",
       "929165002     295\n",
       "Name: customer_id, dtype: int64"
      ]
     },
     "execution_count": 71,
     "metadata": {},
     "output_type": "execute_result"
    }
   ],
   "source": [
    "# TOP12 sur la première semaine de septembre (103)\n",
    "mask=transactions_101_104['t_dat']==103\n",
    "transactions_103=transactions_101_104[mask]\n",
    "transactions_103\n",
    "\n",
    "article_group_w103=transactions_103.groupby(['article_id'])['customer_id'].count().sort_values(ascending=False)\n",
    "article_group_w103.head(12)"
   ]
  },
  {
   "cell_type": "code",
   "execution_count": 73,
   "id": "1df23a64",
   "metadata": {
    "ExecuteTime": {
     "end_time": "2022-04-05T15:12:29.298370Z",
     "start_time": "2022-04-05T15:12:29.191392Z"
    }
   },
   "outputs": [
    {
     "data": {
      "text/plain": [
       "article_id\n",
       "751471001    1435\n",
       "915526001    1322\n",
       "751471043    1294\n",
       "915529003    1280\n",
       "706016001    1220\n",
       "918292001    1195\n",
       "924243001    1139\n",
       "918522001    1117\n",
       "448509014    1087\n",
       "863595006     985\n",
       "919365008     944\n",
       "898694001     920\n",
       "Name: customer_id, dtype: int64"
      ]
     },
     "execution_count": 73,
     "metadata": {},
     "output_type": "execute_result"
    }
   ],
   "source": [
    "# TOP12 sur la 3e semaine de septembre (104)\n",
    "mask=transactions_101_104['t_dat']==104\n",
    "transactions_104=transactions_101_104[mask]\n",
    "transactions_104\n",
    "\n",
    "article_group_w104=transactions_104.groupby(['article_id'])['customer_id'].count().sort_values(ascending=False)\n",
    "article_group_w104.head(12)"
   ]
  },
  {
   "cell_type": "code",
   "execution_count": null,
   "id": "3efb509a",
   "metadata": {
    "ExecuteTime": {
     "end_time": "2022-04-05T14:06:29.813416Z",
     "start_time": "2022-04-05T14:06:29.804463Z"
    }
   },
   "outputs": [],
   "source": []
  },
  {
   "cell_type": "code",
   "execution_count": null,
   "id": "02daf92c",
   "metadata": {},
   "outputs": [],
   "source": []
  }
 ],
 "metadata": {
  "kernelspec": {
   "display_name": "Python 3 (ipykernel)",
   "language": "python",
   "name": "python3"
  },
  "language_info": {
   "codemirror_mode": {
    "name": "ipython",
    "version": 3
   },
   "file_extension": ".py",
   "mimetype": "text/x-python",
   "name": "python",
   "nbconvert_exporter": "python",
   "pygments_lexer": "ipython3",
   "version": "3.8.12"
  },
  "toc": {
   "base_numbering": 1,
   "nav_menu": {},
   "number_sections": true,
   "sideBar": true,
   "skip_h1_title": false,
   "title_cell": "Table of Contents",
   "title_sidebar": "Contents",
   "toc_cell": false,
   "toc_position": {},
   "toc_section_display": true,
   "toc_window_display": false
  }
 },
 "nbformat": 4,
 "nbformat_minor": 5
}
