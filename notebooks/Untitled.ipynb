{
 "cells": [
  {
   "cell_type": "code",
   "execution_count": 1,
   "id": "b352563e",
   "metadata": {
    "ExecuteTime": {
     "end_time": "2022-04-11T15:02:57.766772Z",
     "start_time": "2022-04-11T15:02:18.387999Z"
    }
   },
   "outputs": [],
   "source": [
    "import numpy as np\n",
    "import pandas as pd\n",
    "\n",
    "# read transaction csv file\n",
    "transactions = pd.read_csv(\"../raw_data/transactions_train.csv\")"
   ]
  },
  {
   "cell_type": "code",
   "execution_count": 2,
   "id": "2dcad2a2",
   "metadata": {
    "ExecuteTime": {
     "end_time": "2022-04-11T15:03:14.995105Z",
     "start_time": "2022-04-11T15:03:00.837337Z"
    }
   },
   "outputs": [],
   "source": [
    "df1 = transactions.iloc[:4387359,:] \n",
    "df2 = transactions.iloc[4387359:20748884,:] \n",
    "df3 = transactions.iloc[20748884:,:] \n",
    "\n",
    "date1 = pd.to_datetime(df1['t_dat']).dt.isocalendar()\n",
    "date2 = pd.to_datetime(df2['t_dat']).dt.isocalendar()\n",
    "date3 = pd.to_datetime(df3['t_dat']).dt.isocalendar()\n"
   ]
  },
  {
   "cell_type": "code",
   "execution_count": 3,
   "id": "cd0065a3",
   "metadata": {
    "ExecuteTime": {
     "end_time": "2022-04-11T15:03:22.652774Z",
     "start_time": "2022-04-11T15:03:22.480672Z"
    }
   },
   "outputs": [],
   "source": [
    "times = pd.concat([date1.week-38,date2.week+14 ,date3.week+66], ignore_index=True)\n"
   ]
  },
  {
   "cell_type": "code",
   "execution_count": 4,
   "id": "eda77e82",
   "metadata": {
    "ExecuteTime": {
     "end_time": "2022-04-11T15:03:24.701652Z",
     "start_time": "2022-04-11T15:03:24.641199Z"
    }
   },
   "outputs": [],
   "source": [
    "transactions['week'] = times"
   ]
  },
  {
   "cell_type": "code",
   "execution_count": 5,
   "id": "9e9237be",
   "metadata": {
    "ExecuteTime": {
     "end_time": "2022-04-11T15:03:28.584956Z",
     "start_time": "2022-04-11T15:03:25.721135Z"
    }
   },
   "outputs": [],
   "source": [
    "transactions[['t_dat','week']].drop_duplicates().to_csv('times_week.csv')"
   ]
  },
  {
   "cell_type": "code",
   "execution_count": null,
   "id": "343829b9",
   "metadata": {},
   "outputs": [],
   "source": []
  }
 ],
 "metadata": {
  "kernelspec": {
   "display_name": "Python 3 (ipykernel)",
   "language": "python",
   "name": "python3"
  },
  "language_info": {
   "codemirror_mode": {
    "name": "ipython",
    "version": 3
   },
   "file_extension": ".py",
   "mimetype": "text/x-python",
   "name": "python",
   "nbconvert_exporter": "python",
   "pygments_lexer": "ipython3",
   "version": "3.8.12"
  },
  "latex_envs": {
   "LaTeX_envs_menu_present": true,
   "autoclose": true,
   "autocomplete": true,
   "bibliofile": "biblio.bib",
   "cite_by": "apalike",
   "current_citInitial": 1,
   "eqLabelWithNumbers": true,
   "eqNumInitial": 1,
   "hotkeys": {
    "equation": "Ctrl-E",
    "itemize": "Ctrl-I"
   },
   "labels_anchors": false,
   "latex_user_defs": false,
   "report_style_numbering": false,
   "user_envs_cfg": false
  },
  "toc": {
   "base_numbering": 1,
   "nav_menu": {},
   "number_sections": true,
   "sideBar": true,
   "skip_h1_title": false,
   "title_cell": "Table of Contents",
   "title_sidebar": "Contents",
   "toc_cell": false,
   "toc_position": {},
   "toc_section_display": true,
   "toc_window_display": false
  }
 },
 "nbformat": 4,
 "nbformat_minor": 5
}
