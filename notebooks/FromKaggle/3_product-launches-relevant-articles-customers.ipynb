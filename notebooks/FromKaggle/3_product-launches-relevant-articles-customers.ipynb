{
 "cells": [
  {
   "cell_type": "code",
   "execution_count": null,
   "metadata": {
    "_cell_guid": "b1076dfc-b9ad-4769-8c92-a6c4dae69d19",
    "_uuid": "8f2839f25d086af736a60e9eeb907d3b93b6e0e5",
    "execution": {
     "iopub.execute_input": "2022-04-01T13:51:27.733108Z",
     "iopub.status.busy": "2022-04-01T13:51:27.732662Z",
     "iopub.status.idle": "2022-04-01T13:51:29.26344Z",
     "shell.execute_reply": "2022-04-01T13:51:29.262043Z",
     "shell.execute_reply.started": "2022-04-01T13:51:27.73307Z"
    }
   },
   "outputs": [],
   "source": [
    "import numpy as np\n",
    "import pandas as pd\n",
    "import plotly.express as px"
   ]
  },
  {
   "cell_type": "code",
   "execution_count": null,
   "metadata": {
    "execution": {
     "iopub.execute_input": "2022-04-01T13:54:47.733846Z",
     "iopub.status.busy": "2022-04-01T13:54:47.732711Z",
     "iopub.status.idle": "2022-04-01T13:54:51.828948Z",
     "shell.execute_reply": "2022-04-01T13:54:51.828228Z",
     "shell.execute_reply.started": "2022-04-01T13:54:47.733777Z"
    }
   },
   "outputs": [],
   "source": [
    "articles = pd.read_parquet('../input/hm-fashion-recommendation-parquet/articles.parquet')\n",
    "sales = pd.read_parquet('../input/hm-fashion-recommendation-parquet/sales.parquet')\n",
    "customers = pd.read_parquet('../input/hm-fashion-recommendation-parquet/customers.parquet')"
   ]
  },
  {
   "cell_type": "markdown",
   "metadata": {},
   "source": [
    "This notebook explores how we can easily narrow down the search for the relevant articles for a week.\n",
    "\n",
    "# Product launches\n",
    "\n",
    "There are 105.542 articles in the data. However, not all of them are sold every week. There are about 150-400 new product launches every week."
   ]
  },
  {
   "cell_type": "code",
   "execution_count": null,
   "metadata": {
    "execution": {
     "iopub.execute_input": "2022-03-29T08:30:05.74082Z",
     "iopub.status.busy": "2022-03-29T08:30:05.739648Z",
     "iopub.status.idle": "2022-03-29T08:30:20.956067Z",
     "shell.execute_reply": "2022-03-29T08:30:20.954991Z",
     "shell.execute_reply.started": "2022-03-29T08:30:05.740768Z"
    }
   },
   "outputs": [],
   "source": [
    "first_product_sales = sales.merge(articles).groupby('product_code', as_index=False).agg(first_sale=('week', 'min'))"
   ]
  },
  {
   "cell_type": "code",
   "execution_count": null,
   "metadata": {
    "execution": {
     "iopub.execute_input": "2022-03-29T08:30:20.958133Z",
     "iopub.status.busy": "2022-03-29T08:30:20.957814Z",
     "iopub.status.idle": "2022-03-29T08:30:22.089528Z",
     "shell.execute_reply": "2022-03-29T08:30:22.088832Z",
     "shell.execute_reply.started": "2022-03-29T08:30:20.958092Z"
    }
   },
   "outputs": [],
   "source": [
    "# first 5 weeks are not representative\n",
    "px.bar(first_product_sales[first_product_sales.first_sale>5].groupby('first_sale', as_index=False).size(), x='first_sale', y='size', title='New Products per week')"
   ]
  },
  {
   "cell_type": "markdown",
   "metadata": {},
   "source": [
    "Every week we have about 400-1.000 new articles of which about 50% are new product launches and 50% are new colors/prints/patterns for existing products."
   ]
  },
  {
   "cell_type": "code",
   "execution_count": null,
   "metadata": {
    "execution": {
     "iopub.execute_input": "2022-03-29T08:30:22.091546Z",
     "iopub.status.busy": "2022-03-29T08:30:22.091305Z",
     "iopub.status.idle": "2022-03-29T08:30:38.835933Z",
     "shell.execute_reply": "2022-03-29T08:30:38.834996Z",
     "shell.execute_reply.started": "2022-03-29T08:30:22.091506Z"
    }
   },
   "outputs": [],
   "source": [
    "first_article_sales = sales.merge(articles).groupby(['article_id', 'product_code'], as_index=False).agg(first_sale=('week', 'min')).merge(first_product_sales.rename(columns={'first_sale': 'first_product_sale'}))"
   ]
  },
  {
   "cell_type": "code",
   "execution_count": null,
   "metadata": {
    "execution": {
     "iopub.execute_input": "2022-03-29T08:30:38.83784Z",
     "iopub.status.busy": "2022-03-29T08:30:38.837514Z",
     "iopub.status.idle": "2022-03-29T08:30:38.845469Z",
     "shell.execute_reply": "2022-03-29T08:30:38.84475Z",
     "shell.execute_reply.started": "2022-03-29T08:30:38.837797Z"
    }
   },
   "outputs": [],
   "source": [
    "first_article_sales['new_product']=first_article_sales.first_sale==first_article_sales.first_product_sale"
   ]
  },
  {
   "cell_type": "code",
   "execution_count": null,
   "metadata": {
    "execution": {
     "iopub.execute_input": "2022-03-29T08:30:38.847207Z",
     "iopub.status.busy": "2022-03-29T08:30:38.846821Z",
     "iopub.status.idle": "2022-03-29T08:30:38.94749Z",
     "shell.execute_reply": "2022-03-29T08:30:38.943697Z",
     "shell.execute_reply.started": "2022-03-29T08:30:38.847163Z"
    }
   },
   "outputs": [],
   "source": [
    "# first 5 weeks are not representative\n",
    "px.bar(first_article_sales[first_article_sales.first_sale>5].groupby(['first_sale', 'new_product'], as_index=False).size(), x='first_sale', y='size', color='new_product', title='New Articles per week')"
   ]
  },
  {
   "cell_type": "markdown",
   "metadata": {},
   "source": [
    "This matches quite nicely the 995 new articles without sales transactions in the data."
   ]
  },
  {
   "cell_type": "code",
   "execution_count": null,
   "metadata": {
    "execution": {
     "iopub.execute_input": "2022-03-29T08:30:38.949288Z",
     "iopub.status.busy": "2022-03-29T08:30:38.949042Z",
     "iopub.status.idle": "2022-03-29T08:30:39.085448Z",
     "shell.execute_reply": "2022-03-29T08:30:39.084886Z",
     "shell.execute_reply.started": "2022-03-29T08:30:38.949259Z"
    }
   },
   "outputs": [],
   "source": [
    "outer_join = articles.merge(first_article_sales, how = 'outer', indicator = True)\n",
    "new_articles_without_transactions = outer_join[~(outer_join._merge == 'both')].drop('_merge', axis = 1)\n",
    "len(new_articles_without_transactions)"
   ]
  },
  {
   "cell_type": "markdown",
   "metadata": {},
   "source": [
    "# Relevant articles per week"
   ]
  },
  {
   "cell_type": "markdown",
   "metadata": {},
   "source": [
    "About of the 14.000-25.000 articles of the 105.542 are sold every week. However, it's not obvious which ones have been discontinued or are currently out of stock to narrow down the search."
   ]
  },
  {
   "cell_type": "code",
   "execution_count": null,
   "metadata": {
    "execution": {
     "iopub.execute_input": "2022-03-29T08:30:39.086809Z",
     "iopub.status.busy": "2022-03-29T08:30:39.086386Z",
     "iopub.status.idle": "2022-03-29T08:30:42.124006Z",
     "shell.execute_reply": "2022-03-29T08:30:42.123183Z",
     "shell.execute_reply.started": "2022-03-29T08:30:39.086774Z"
    }
   },
   "outputs": [],
   "source": [
    "px.bar(sales.groupby('week', as_index=False).agg(unique_articles=('article_id', pd.Series.nunique)), x='week', y='unique_articles', title='Number of unique articles per week')"
   ]
  },
  {
   "cell_type": "markdown",
   "metadata": {},
   "source": [
    "Most likely the articles that are sold in one week have been sold in the week before. Let's check that distribution."
   ]
  },
  {
   "cell_type": "code",
   "execution_count": null,
   "metadata": {
    "execution": {
     "iopub.execute_input": "2022-03-29T08:30:42.125461Z",
     "iopub.status.busy": "2022-03-29T08:30:42.125231Z",
     "iopub.status.idle": "2022-03-29T08:31:06.900172Z",
     "shell.execute_reply": "2022-03-29T08:31:06.89922Z",
     "shell.execute_reply.started": "2022-03-29T08:30:42.125434Z"
    }
   },
   "outputs": [],
   "source": [
    "sales_per_week = sales.groupby(['article_id', 'week'], as_index=False).agg(unit_sales=('price', 'size')).sort_values('week')\n",
    "sales_per_week['last_purchase_week'] = sales_per_week.groupby('article_id').week.diff()\n",
    "sales_per_week.loc[sales_per_week.last_purchase_week.isna(), 'last_purchase_week'] = 0\n",
    "sales_per_week['last_purchase_week_bin'] = pd.cut(sales_per_week.last_purchase_week, bins=[0, 1, 2, 3, 4, 5, 105], labels=['new', '1 week before', '2 weeks before', '3 weeks before', '4 weeks before', '>=5 weeks before'], right=False)"
   ]
  },
  {
   "cell_type": "code",
   "execution_count": null,
   "metadata": {
    "execution": {
     "iopub.execute_input": "2022-03-29T08:31:06.902381Z",
     "iopub.status.busy": "2022-03-29T08:31:06.902156Z",
     "iopub.status.idle": "2022-03-29T08:31:07.193824Z",
     "shell.execute_reply": "2022-03-29T08:31:07.192877Z",
     "shell.execute_reply.started": "2022-03-29T08:31:06.902353Z"
    }
   },
   "outputs": [],
   "source": [
    "sales_per_week = sales_per_week.groupby(['week', 'last_purchase_week_bin']).agg(unit_sales=('unit_sales', 'sum'), article_count=('article_id', pd.Series.nunique)).reset_index()\n",
    "sales_per_week['unit_sales_pct'] = sales_per_week['unit_sales']/sales_per_week.groupby('week').unit_sales.transform('sum')*100"
   ]
  },
  {
   "cell_type": "markdown",
   "metadata": {},
   "source": [
    "Indeed most of the articles have been sold in the week before."
   ]
  },
  {
   "cell_type": "code",
   "execution_count": null,
   "metadata": {
    "execution": {
     "iopub.execute_input": "2022-03-29T08:31:07.195593Z",
     "iopub.status.busy": "2022-03-29T08:31:07.195247Z",
     "iopub.status.idle": "2022-03-29T08:31:07.291001Z",
     "shell.execute_reply": "2022-03-29T08:31:07.289989Z",
     "shell.execute_reply.started": "2022-03-29T08:31:07.195547Z"
    }
   },
   "outputs": [],
   "source": [
    "px.bar(sales_per_week, x='week', y='article_count', color='last_purchase_week_bin', title='Number of unique articles per week')"
   ]
  },
  {
   "cell_type": "markdown",
   "metadata": {},
   "source": [
    "The spike in articles sold in week 85 that had not been sold in the previous 4 weeks are likely \"offline articles\" that could not be sold due to the COVID19 lockdown and are not available in the online store.\n",
    "\n",
    "Looking at the actual sales figures, the articles that were last sold a few weeks ago become even more irrelevant."
   ]
  },
  {
   "cell_type": "code",
   "execution_count": null,
   "metadata": {
    "execution": {
     "iopub.execute_input": "2022-03-29T08:35:15.100492Z",
     "iopub.status.busy": "2022-03-29T08:35:15.09977Z",
     "iopub.status.idle": "2022-03-29T08:35:15.190621Z",
     "shell.execute_reply": "2022-03-29T08:35:15.18981Z",
     "shell.execute_reply.started": "2022-03-29T08:35:15.100448Z"
    }
   },
   "outputs": [],
   "source": [
    "px.bar(sales_per_week, x='week', y='unit_sales', color='last_purchase_week_bin', title='Unit sales per week grouped by week of last purchase')"
   ]
  },
  {
   "cell_type": "markdown",
   "metadata": {},
   "source": [
    "In fact, this week's new articles and those sold in the previous three weeks already account for more than 99% of all sales. Normally it should be enough to look at only those 20k articles instead of all 105k articles."
   ]
  },
  {
   "cell_type": "code",
   "execution_count": null,
   "metadata": {
    "execution": {
     "iopub.execute_input": "2022-03-28T21:54:25.07134Z",
     "iopub.status.busy": "2022-03-28T21:54:25.071055Z",
     "iopub.status.idle": "2022-03-28T21:54:25.09591Z",
     "shell.execute_reply": "2022-03-28T21:54:25.094776Z",
     "shell.execute_reply.started": "2022-03-28T21:54:25.071309Z"
    }
   },
   "outputs": [],
   "source": [
    "tmp = (sales_per_week[sales_per_week.week>5].groupby('last_purchase_week_bin').mean()).reset_index()\n",
    "tmp['unit_sales_pct_cum'] = tmp['unit_sales_pct'].cumsum()\n",
    "tmp['article_count_cum'] = tmp['article_count'].cumsum().astype('int')\n",
    "tmp[['last_purchase_week_bin', 'unit_sales_pct', 'unit_sales_pct_cum', 'article_count_cum']]"
   ]
  },
  {
   "cell_type": "code",
   "execution_count": null,
   "metadata": {
    "execution": {
     "iopub.execute_input": "2022-03-28T21:49:35.004736Z",
     "iopub.status.busy": "2022-03-28T21:49:35.003847Z",
     "iopub.status.idle": "2022-03-28T21:49:35.108567Z",
     "shell.execute_reply": "2022-03-28T21:49:35.107156Z",
     "shell.execute_reply.started": "2022-03-28T21:49:35.004645Z"
    }
   },
   "outputs": [],
   "source": [
    "px.bar(sales_per_week, x='week', y='unit_sales_pct', color='last_purchase_week_bin', title='Relative sales grouped by week of last purchase')"
   ]
  },
  {
   "cell_type": "markdown",
   "metadata": {},
   "source": [
    "# Looking at new customers\n",
    "\n",
    "Reducing the number of relevant customers is a little harder, as the number of customers that purchase today and haven't purchased anything in the last 4 weeks is significant and there are a lot of customers in the data."
   ]
  },
  {
   "cell_type": "code",
   "execution_count": null,
   "metadata": {
    "execution": {
     "iopub.execute_input": "2022-04-01T13:55:02.416961Z",
     "iopub.status.busy": "2022-04-01T13:55:02.416682Z",
     "iopub.status.idle": "2022-04-01T13:55:02.422349Z",
     "shell.execute_reply": "2022-04-01T13:55:02.421449Z",
     "shell.execute_reply.started": "2022-04-01T13:55:02.416931Z"
    }
   },
   "outputs": [],
   "source": [
    "len(customers)"
   ]
  },
  {
   "cell_type": "code",
   "execution_count": null,
   "metadata": {
    "execution": {
     "iopub.execute_input": "2022-04-01T13:59:24.978671Z",
     "iopub.status.busy": "2022-04-01T13:59:24.978274Z"
    }
   },
   "outputs": [],
   "source": [
    "sales_per_week = sales.groupby(['customer_id', 'week'], as_index=False).agg(unit_sales=('price', 'size')).sort_values('week')\n",
    "sales_per_week['last_purchase_week'] = sales_per_week.groupby('customer_id').week.diff()\n",
    "sales_per_week.loc[sales_per_week.last_purchase_week.isna(), 'last_purchase_week'] = 0"
   ]
  },
  {
   "cell_type": "code",
   "execution_count": null,
   "metadata": {
    "execution": {
     "iopub.execute_input": "2022-04-01T13:59:02.456774Z",
     "iopub.status.busy": "2022-04-01T13:59:02.456233Z",
     "iopub.status.idle": "2022-04-01T13:59:02.75293Z",
     "shell.execute_reply": "2022-04-01T13:59:02.75196Z",
     "shell.execute_reply.started": "2022-04-01T13:59:02.456718Z"
    }
   },
   "outputs": [],
   "source": [
    "sales_per_week['last_purchase_week_bin'] = pd.cut(\n",
    "    sales_per_week.last_purchase_week,\n",
    "    bins=[0,\n",
    "          1, 2,\n",
    "          4, 9, 17, 26, 52,\n",
    "          205],\n",
    "    labels=['new',\n",
    "            '1 week before', '2 weeks before',\n",
    "            '1 month before', '2-3 months before', '4-6 months before', '6-12 months before',\n",
    "            '>=1 year before'], right=False)"
   ]
  },
  {
   "cell_type": "code",
   "execution_count": null,
   "metadata": {
    "execution": {
     "iopub.execute_input": "2022-04-01T13:59:02.754777Z",
     "iopub.status.busy": "2022-04-01T13:59:02.754448Z",
     "iopub.status.idle": "2022-04-01T13:59:03.794018Z",
     "shell.execute_reply": "2022-04-01T13:59:03.792978Z",
     "shell.execute_reply.started": "2022-04-01T13:59:02.754717Z"
    }
   },
   "outputs": [],
   "source": [
    "sales_per_week_plot = sales_per_week.groupby(['week', 'last_purchase_week_bin']).agg(unit_sales=('unit_sales', 'sum'), customer_count=('customer_id', pd.Series.nunique)).reset_index()\n",
    "sales_per_week_plot['unit_sales_pct'] = sales_per_week_plot['unit_sales']/sales_per_week_plot.groupby('week').unit_sales.transform('sum')*100"
   ]
  },
  {
   "cell_type": "code",
   "execution_count": null,
   "metadata": {
    "execution": {
     "iopub.execute_input": "2022-04-01T13:59:03.796551Z",
     "iopub.status.busy": "2022-04-01T13:59:03.796182Z",
     "iopub.status.idle": "2022-04-01T13:59:04.879824Z",
     "shell.execute_reply": "2022-04-01T13:59:04.878952Z",
     "shell.execute_reply.started": "2022-04-01T13:59:03.796519Z"
    }
   },
   "outputs": [],
   "source": [
    "px.bar(sales_per_week_plot, x='week', y='customer_count', color='last_purchase_week_bin', title='Number of unique customers per week')"
   ]
  },
  {
   "cell_type": "code",
   "execution_count": null,
   "metadata": {
    "execution": {
     "iopub.execute_input": "2022-04-01T13:59:04.881606Z",
     "iopub.status.busy": "2022-04-01T13:59:04.881332Z",
     "iopub.status.idle": "2022-04-01T13:59:04.915387Z",
     "shell.execute_reply": "2022-04-01T13:59:04.91398Z",
     "shell.execute_reply.started": "2022-04-01T13:59:04.881566Z"
    }
   },
   "outputs": [],
   "source": [
    "tmp = (sales_per_week_plot[sales_per_week_plot.week>40].groupby('last_purchase_week_bin').mean()).reset_index()\n",
    "tmp['unit_sales_pct_cum'] = tmp['unit_sales_pct'].cumsum()\n",
    "tmp['customer_count_cum'] = tmp['customer_count'].cumsum().astype('int')\n",
    "tmp[['last_purchase_week_bin', 'unit_sales_pct', 'unit_sales_pct_cum', 'customer_count_cum']]"
   ]
  },
  {
   "cell_type": "markdown",
   "metadata": {},
   "source": [
    "Focussing on customers that bought something in the last month would account for 70% of the sold items and cut the number of relevant customers to about 20%."
   ]
  },
  {
   "cell_type": "code",
   "execution_count": null,
   "metadata": {
    "execution": {
     "iopub.execute_input": "2022-04-01T13:59:04.91848Z",
     "iopub.status.busy": "2022-04-01T13:59:04.917734Z",
     "iopub.status.idle": "2022-04-01T13:59:05.133087Z",
     "shell.execute_reply": "2022-04-01T13:59:05.132097Z",
     "shell.execute_reply.started": "2022-04-01T13:59:04.918431Z"
    }
   },
   "outputs": [],
   "source": [
    "one_months_customers = sales[sales.week.between(104-4, 104)].customer_id.nunique()\n",
    "print(f'Number of customers in a month: {one_months_customers}')\n",
    "print(f'Relative number of customers in a month: {one_months_customers/len(customers):.2%}')"
   ]
  },
  {
   "cell_type": "markdown",
   "metadata": {},
   "source": [
    "The number of new customers seems reasonable in line with the transaction data."
   ]
  },
  {
   "cell_type": "code",
   "execution_count": null,
   "metadata": {
    "execution": {
     "iopub.execute_input": "2022-04-01T13:59:05.136076Z",
     "iopub.status.busy": "2022-04-01T13:59:05.135404Z",
     "iopub.status.idle": "2022-04-01T13:59:24.976324Z",
     "shell.execute_reply": "2022-04-01T13:59:24.974987Z",
     "shell.execute_reply.started": "2022-04-01T13:59:05.13603Z"
    }
   },
   "outputs": [],
   "source": [
    "outer_join = customers.merge(sales, how = 'outer', indicator = True)\n",
    "new_customers_without_transactions = outer_join[~(outer_join._merge == 'both')].drop('_merge', axis = 1)\n",
    "len(new_customers_without_transactions)"
   ]
  }
 ],
 "metadata": {
  "kernelspec": {
   "display_name": "Python 3 (ipykernel)",
   "language": "python",
   "name": "python3"
  },
  "language_info": {
   "codemirror_mode": {
    "name": "ipython",
    "version": 3
   },
   "file_extension": ".py",
   "mimetype": "text/x-python",
   "name": "python",
   "nbconvert_exporter": "python",
   "pygments_lexer": "ipython3",
   "version": "3.8.12"
  },
  "toc": {
   "base_numbering": 1,
   "nav_menu": {},
   "number_sections": true,
   "sideBar": true,
   "skip_h1_title": false,
   "title_cell": "Table of Contents",
   "title_sidebar": "Contents",
   "toc_cell": false,
   "toc_position": {},
   "toc_section_display": true,
   "toc_window_display": false
  }
 },
 "nbformat": 4,
 "nbformat_minor": 4
}
