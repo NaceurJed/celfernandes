{
 "cells": [
  {
   "cell_type": "markdown",
   "metadata": {},
   "source": [
    "<img src=\"https://i.imgur.com/eCtgnYS.png\">\n",
    "\n",
    "<center><h1>- Data Exploration -</h1></center>\n",
    "\n",
    ">  🛍️ **Competition Goal:** For each customer within the training data we need to predict up to 12 products that the customer will buy in the next 7-day period *after* the training time period. We can predict up to *12 products* that the customer will likely be purchasing in the 7-day period.\n",
    "\n",
    "### ⬇ Libraries"
   ]
  },
  {
   "cell_type": "code",
   "execution_count": null,
   "metadata": {
    "execution": {
     "iopub.execute_input": "2022-04-01T13:42:36.567731Z",
     "iopub.status.busy": "2022-04-01T13:42:36.566348Z",
     "iopub.status.idle": "2022-04-01T13:42:38.868411Z",
     "shell.execute_reply": "2022-04-01T13:42:38.867636Z",
     "shell.execute_reply.started": "2022-04-01T13:42:36.56761Z"
    }
   },
   "outputs": [],
   "source": [
    "# Libraries\n",
    "import os\n",
    "import gc\n",
    "import wandb\n",
    "import time\n",
    "import random\n",
    "import math\n",
    "import glob\n",
    "from scipy import spatial\n",
    "from tqdm import tqdm\n",
    "import warnings\n",
    "import cv2\n",
    "import pandas as pd\n",
    "import numpy as np\n",
    "from numpy import dot, sqrt\n",
    "import seaborn as sns\n",
    "import matplotlib as mpl\n",
    "import matplotlib.patches as patches\n",
    "import matplotlib.pyplot as plt\n",
    "import matplotlib.image as mpimg\n",
    "from matplotlib.offsetbox import AnnotationBbox, OffsetImage\n",
    "from IPython.display import display_html\n",
    "from wordcloud import WordCloud, STOPWORDS\n",
    "from PIL import Image\n",
    "plt.rcParams.update({'font.size': 16})\n",
    "\n",
    "# Environment check\n",
    "warnings.filterwarnings(\"ignore\")\n",
    "os.environ[\"WANDB_SILENT\"] = \"true\"\n",
    "CONFIG = {'competition': 'HandM', '_wandb_kernel': 'aot'}\n",
    "\n",
    "# Custom colors\n",
    "class clr:\n",
    "    S = '\\033[1m' + '\\033[95m'\n",
    "    E = '\\033[0m'\n",
    "    \n",
    "my_colors = [\"#AF0848\", \"#E90B60\", \"#CB2170\", \"#954E93\", \"#705D98\", \"#5573A8\", \"#398BBB\", \"#00BDE3\"]\n",
    "print(clr.S+\"Notebook Color Scheme:\"+clr.E)\n",
    "sns.palplot(sns.color_palette(my_colors))\n",
    "plt.show()\n",
    "\n",
    "bk_image = plt.imread(\"../input/hm-fashion-recommender-dataset/background.jpg\")"
   ]
  },
  {
   "cell_type": "markdown",
   "metadata": {},
   "source": [
    "### 🐝 W&B Fork & Run\n",
    "\n",
    "In order to run this notebook you will need to input your own **secret API key** within the `! wandb login $secret_value_0` line. \n",
    "\n",
    "🐝**How do you get your own API key?**\n",
    "\n",
    "Super simple! Go to **https://wandb.ai/site** -> Login -> Click on your profile in the top right corner -> Settings -> Scroll down to API keys -> copy your very own key (for more info check [this amazing notebook for ML Experiment Tracking on Kaggle](https://www.kaggle.com/ayuraj/experiment-tracking-with-weights-and-biases)).\n",
    "\n",
    "<center><img src=\"https://i.imgur.com/fFccmoS.png\" width=500></center>"
   ]
  },
  {
   "cell_type": "code",
   "execution_count": null,
   "metadata": {
    "execution": {
     "iopub.execute_input": "2022-04-01T13:42:38.871494Z",
     "iopub.status.busy": "2022-04-01T13:42:38.871083Z",
     "iopub.status.idle": "2022-04-01T13:42:41.144507Z",
     "shell.execute_reply": "2022-04-01T13:42:41.143626Z",
     "shell.execute_reply.started": "2022-04-01T13:42:38.871458Z"
    }
   },
   "outputs": [],
   "source": [
    "# 🐝 Secrets\n",
    "from kaggle_secrets import UserSecretsClient\n",
    "user_secrets = UserSecretsClient()\n",
    "secret_value_0 = user_secrets.get_secret(\"wandb\")\n",
    "\n",
    "! wandb login $secret_value_0"
   ]
  },
  {
   "cell_type": "markdown",
   "metadata": {},
   "source": [
    "### ⬇ Helper Functions"
   ]
  },
  {
   "cell_type": "code",
   "execution_count": null,
   "metadata": {
    "_kg_hide-input": true,
    "execution": {
     "iopub.execute_input": "2022-04-01T13:42:41.146487Z",
     "iopub.status.busy": "2022-04-01T13:42:41.146214Z",
     "iopub.status.idle": "2022-04-01T13:42:58.127388Z",
     "shell.execute_reply": "2022-04-01T13:42:58.12655Z",
     "shell.execute_reply.started": "2022-04-01T13:42:41.146447Z"
    },
    "jupyter": {
     "source_hidden": true
    }
   },
   "outputs": [],
   "source": [
    "def adjust_id(x):\n",
    "    '''Adjusts article ID code.'''\n",
    "    x = str(x)\n",
    "    if len(x) == 9:\n",
    "        x = \"0\"+x\n",
    "    \n",
    "    return x\n",
    "\n",
    "\n",
    "def insert_image(path, zoom, xybox, ax):\n",
    "    '''Insert an image within matplotlib'''\n",
    "    imagebox = OffsetImage(mpimg.imread(path), zoom=zoom)\n",
    "    ab = AnnotationBbox(imagebox, xy=(0.5, 0.7), frameon=False, pad=1, xybox=xybox)\n",
    "    ax.add_artist(ab)\n",
    "    \n",
    "    \n",
    "def show_values_on_bars(axs, h_v=\"v\", space=0.4):\n",
    "    '''Plots the value at the end of the a seaborn barplot.\n",
    "    axs: the ax of the plot\n",
    "    h_v: weather or not the barplot is vertical/ horizontal'''\n",
    "    \n",
    "    def _show_on_single_plot(ax):\n",
    "        if h_v == \"v\":\n",
    "            for p in ax.patches:\n",
    "                _x = p.get_x() + p.get_width() / 2\n",
    "                _y = p.get_y() + p.get_height()\n",
    "                value = int(p.get_height())\n",
    "                ax.text(_x, _y, format(value, ','), ha=\"center\") \n",
    "        elif h_v == \"h\":\n",
    "            for p in ax.patches:\n",
    "                _x = p.get_x() + p.get_width() + float(space)\n",
    "                _y = p.get_y() + p.get_height()\n",
    "                value = int(p.get_width())\n",
    "                ax.text(_x, _y, format(value, ','), ha=\"left\")\n",
    "\n",
    "    if isinstance(axs, np.ndarray):\n",
    "        for idx, ax in np.ndenumerate(axs):\n",
    "            _show_on_single_plot(ax)\n",
    "    else:\n",
    "        _show_on_single_plot(axs)\n",
    "\n",
    "\n",
    "# === 🐝 W&B ===\n",
    "def save_dataset_artifact(run_name, artifact_name, path):\n",
    "    '''Saves dataset to W&B Artifactory.\n",
    "    run_name: name of the experiment\n",
    "    artifact_name: under what name should the dataset be stored\n",
    "    path: path to the dataset'''\n",
    "    \n",
    "    run = wandb.init(project='HandM', \n",
    "                     name=run_name, \n",
    "                     config=CONFIG)\n",
    "    artifact = wandb.Artifact(name=artifact_name, \n",
    "                              type='dataset')\n",
    "    artifact.add_file(path)\n",
    "\n",
    "    wandb.log_artifact(artifact)\n",
    "    wandb.finish()\n",
    "    print(\"Artifact has been saved successfully.\")\n",
    "    \n",
    "    \n",
    "def create_wandb_plot(x_data=None, y_data=None, x_name=None, y_name=None, title=None, log=None, plot=\"line\"):\n",
    "    '''Create and save lineplot/barplot in W&B Environment.\n",
    "    x_data & y_data: Pandas Series containing x & y data\n",
    "    x_name & y_name: strings containing axis names\n",
    "    title: title of the graph\n",
    "    log: string containing name of log'''\n",
    "    \n",
    "    data = [[label, val] for (label, val) in zip(x_data, y_data)]\n",
    "    table = wandb.Table(data=data, columns = [x_name, y_name])\n",
    "    \n",
    "    if plot == \"line\":\n",
    "        wandb.log({log : wandb.plot.line(table, x_name, y_name, title=title)})\n",
    "    elif plot == \"bar\":\n",
    "        wandb.log({log : wandb.plot.bar(table, x_name, y_name, title=title)})\n",
    "    elif plot == \"scatter\":\n",
    "        wandb.log({log : wandb.plot.scatter(table, x_name, y_name, title=title)})\n",
    "        \n",
    "        \n",
    "def create_wandb_hist(x_data=None, x_name=None, title=None, log=None):\n",
    "    '''Create and save histogram in W&B Environment.\n",
    "    x_data: Pandas Series containing x values\n",
    "    x_name: strings containing axis name\n",
    "    title: title of the graph\n",
    "    log: string containing name of log'''\n",
    "    \n",
    "    data = [[x] for x in x_data]\n",
    "    table = wandb.Table(data=data, columns=[x_name])\n",
    "    wandb.log({log : wandb.plot.histogram(table, x_name, title=title)})\n",
    "    \n",
    "    \n",
    "# 🐝 Log Cover Photo\n",
    "run = wandb.init(project='HandM', name='CoverPhoto', config=CONFIG)\n",
    "cover = plt.imread(\"../input/hm-fashion-recommender-dataset/pics/Kaggle Covers.png\")\n",
    "wandb.log({\"example\": wandb.Image(cover)})\n",
    "wandb.finish()"
   ]
  },
  {
   "cell_type": "markdown",
   "metadata": {},
   "source": [
    "# 1. Dataset\n",
    "\n",
    "🛍️ **There are 3 metadata .csv files and 1 image file:**\n",
    "* `images` - folder containing the photo of *almost* all `article_ids`\n",
    "* `articles.csv` - description features of all `article_ids` **(105,542 datapoints)**\n",
    "* `customers.csv` - description features of the customer profiles **(1,371,980 datapoints)**\n",
    "* `transactions_train.csv` - file containing the `customer_id`, the article that was bought and at what price **(31,788,324 datapoints)**"
   ]
  },
  {
   "cell_type": "code",
   "execution_count": null,
   "metadata": {
    "execution": {
     "iopub.execute_input": "2022-03-30T09:02:25.093006Z",
     "iopub.status.busy": "2022-03-30T09:02:25.092601Z",
     "iopub.status.idle": "2022-03-30T09:03:36.921685Z",
     "shell.execute_reply": "2022-03-30T09:03:36.920937Z",
     "shell.execute_reply.started": "2022-03-30T09:02:25.092969Z"
    }
   },
   "outputs": [],
   "source": [
    "%%time\n",
    "\n",
    "# Read in the data\n",
    "articles = pd.read_csv(\"../input/h-and-m-personalized-fashion-recommendations/articles.csv\")\n",
    "customers = pd.read_csv(\"../input/h-and-m-personalized-fashion-recommendations/customers.csv\")\n",
    "transactions = pd.read_csv(\"../input/h-and-m-personalized-fashion-recommendations/transactions_train.csv\")\n",
    "ss = pd.read_csv(\"../input/h-and-m-personalized-fashion-recommendations/sample_submission.csv\")"
   ]
  },
  {
   "cell_type": "code",
   "execution_count": null,
   "metadata": {
    "execution": {
     "iopub.execute_input": "2022-03-30T09:03:36.935701Z",
     "iopub.status.busy": "2022-03-30T09:03:36.935275Z",
     "iopub.status.idle": "2022-03-30T09:03:36.975294Z",
     "shell.execute_reply": "2022-03-30T09:03:36.974606Z",
     "shell.execute_reply.started": "2022-03-30T09:03:36.935646Z"
    }
   },
   "outputs": [],
   "source": [
    "print(clr.S+\"ARTICLES:\"+clr.E, articles.shape)\n",
    "display_html(articles.head(3))\n",
    "print(\"\\n\", clr.S+\"CUSTOMERS:\"+clr.E, customers.shape)\n",
    "display_html(customers.head(3))\n",
    "print(\"\\n\", clr.S+\"TRANSACTIONS:\"+clr.E, transactions.shape)\n",
    "display_html(transactions.head(3))\n",
    "print(\"\\n\", clr.S+\"SAMPLE_SUBMISSION:\"+clr.E, ss.shape)\n",
    "display_html(ss.head(3))"
   ]
  },
  {
   "cell_type": "markdown",
   "metadata": {},
   "source": [
    "# 2. Articles\n",
    "\n",
    "## I. Preprocessing\n",
    "\n",
    "🛍️ **Important Notes**:\n",
    "* There are *more* `article_ids` than actual images:\n",
    "    * unique article ids: 105,542\n",
    "    * unique images: 105,100\n",
    "* The `path` processing was taking too long, so the fastest (takes 1 second) way to do it was to create a variable that contains all article ids within the `images` folder (remember, `set()` is faster than a `list`), and then to correct any path that was invalid within the `articles.csv` file.\n",
    "* There are only 416 missing values within the `desc` column - product description"
   ]
  },
  {
   "cell_type": "code",
   "execution_count": null,
   "metadata": {
    "execution": {
     "iopub.execute_input": "2022-03-30T09:03:36.977061Z",
     "iopub.status.busy": "2022-03-30T09:03:36.976369Z",
     "iopub.status.idle": "2022-03-30T09:03:43.998055Z",
     "shell.execute_reply": "2022-03-30T09:03:43.997281Z",
     "shell.execute_reply.started": "2022-03-30T09:03:36.977023Z"
    }
   },
   "outputs": [],
   "source": [
    "# 🐝 W&B Experiment\n",
    "run = wandb.init(project='HandM', name='Articles', config=CONFIG)"
   ]
  },
  {
   "cell_type": "code",
   "execution_count": null,
   "metadata": {
    "execution": {
     "iopub.execute_input": "2022-03-30T09:03:44.794801Z",
     "iopub.status.busy": "2022-03-30T09:03:44.794513Z",
     "iopub.status.idle": "2022-03-30T09:03:46.258533Z",
     "shell.execute_reply": "2022-03-30T09:03:46.257832Z",
     "shell.execute_reply.started": "2022-03-30T09:03:44.794763Z"
    }
   },
   "outputs": [],
   "source": [
    "print(clr.S+\"There are no missing values in any columns but 'Detail Description':\"+clr.E,\n",
    "      articles.isna().sum()[-1], \"total missing values\")\n",
    "\n",
    "# Replace missing values\n",
    "articles.fillna(value=\"No Description\", inplace=True)\n",
    "\n",
    "# Adjust the article ID and product code to be string & add \"0\"\n",
    "articles[\"article_id\"] = articles[\"article_id\"].apply(lambda x: adjust_id(x))\n",
    "articles[\"product_code\"] = articles[\"article_id\"].apply(lambda x: x[:3])"
   ]
  },
  {
   "cell_type": "code",
   "execution_count": null,
   "metadata": {
    "execution": {
     "iopub.execute_input": "2022-03-30T09:03:46.260193Z",
     "iopub.status.busy": "2022-03-30T09:03:46.259949Z",
     "iopub.status.idle": "2022-03-30T09:03:52.168294Z",
     "shell.execute_reply": "2022-03-30T09:03:52.167593Z",
     "shell.execute_reply.started": "2022-03-30T09:03:46.260158Z"
    }
   },
   "outputs": [],
   "source": [
    "# Get all paths from the image folder\n",
    "all_image_paths = glob.glob(f\"../input/h-and-m-personalized-fashion-recommendations/images/*/*\")\n",
    "\n",
    "print(clr.S+\"Number of unique article_ids within articles.csv:\"+clr.E, len(articles), \"\\n\"+\n",
    "      clr.S+\"Number of unique images within the image folder:\"+clr.E, len(all_image_paths), \"\\n\"+\n",
    "      clr.S+\"=> not all article_ids have a corresponding image!!!\"+clr.E, \"\\n\")\n",
    "\n",
    "# 🐝 Log Distinct article IDs\n",
    "wandb.log({\"article_ids\":len(articles)})\n",
    "\n",
    "# Get all valid article ids\n",
    "# Create a set() - as it moves faster than a list\n",
    "all_image_ids = set()\n",
    "\n",
    "for path in tqdm(all_image_paths):\n",
    "    article_id = path.split('/')[-1].split('.')[0]\n",
    "    all_image_ids.add(article_id)"
   ]
  },
  {
   "cell_type": "code",
   "execution_count": null,
   "metadata": {
    "execution": {
     "iopub.execute_input": "2022-03-30T09:03:52.17426Z",
     "iopub.status.busy": "2022-03-30T09:03:52.172281Z",
     "iopub.status.idle": "2022-03-30T09:03:54.376076Z",
     "shell.execute_reply": "2022-03-30T09:03:54.375173Z",
     "shell.execute_reply.started": "2022-03-30T09:03:52.174226Z"
    }
   },
   "outputs": [],
   "source": [
    "# An image path example: ../input/h-and-m-personalized-fashion-recommendations/images/010/0108775015.jpg\n",
    "\n",
    "# Create full path to the article image\n",
    "images_path = \"../input/h-and-m-personalized-fashion-recommendations/images/\"\n",
    "articles[\"path\"] = images_path + articles[\"product_code\"] + \"/\" + articles[\"article_id\"] + \".jpg\"\n",
    "\n",
    "# Adjust the incorrect paths and set them to None\n",
    "for k, article_id in tqdm(enumerate(articles[\"article_id\"])):\n",
    "    if article_id not in all_image_ids:\n",
    "        articles.loc[k, \"path\"] = None"
   ]
  },
  {
   "cell_type": "markdown",
   "metadata": {},
   "source": [
    "## II. Explore"
   ]
  },
  {
   "cell_type": "code",
   "execution_count": null,
   "metadata": {
    "_kg_hide-input": true,
    "execution": {
     "iopub.execute_input": "2022-03-30T09:03:54.377756Z",
     "iopub.status.busy": "2022-03-30T09:03:54.377479Z",
     "iopub.status.idle": "2022-03-30T09:04:00.586132Z",
     "shell.execute_reply": "2022-03-30T09:04:00.585418Z",
     "shell.execute_reply.started": "2022-03-30T09:03:54.377714Z"
    },
    "jupyter": {
     "source_hidden": true
    }
   },
   "outputs": [],
   "source": [
    "print(clr.S+\"Total Number of unique Product Names:\"+clr.E, articles[\"prod_name\"].nunique())\n",
    "\n",
    "# Data\n",
    "prod_name = articles[\"prod_name\"].value_counts().reset_index().head(15)\n",
    "total_prod_names = articles[\"prod_name\"].nunique()\n",
    "clrs = [\"#CB2170\" if x==max(prod_name[\"prod_name\"]) else '#954E93' for x in prod_name[\"prod_name\"]]\n",
    "\n",
    "# Get images\n",
    "prod_name_images = articles[articles[\"prod_name\"].isin(prod_name[\"index\"].tolist())].groupby(\"prod_name\")[\"path\"].first().reset_index()\n",
    "image_paths = prod_name_images[\"path\"].tolist()\n",
    "image_names = prod_name_images[\"prod_name\"].tolist()\n",
    "\n",
    "# Plot\n",
    "fig, ax = plt.subplots(figsize=(25, 13))\n",
    "plt.title('- Most Frequent Product Names -', size=22, weight=\"bold\")\n",
    "\n",
    "sns.barplot(data=prod_name, x=\"prod_name\", y=\"index\", ax=ax,\n",
    "            palette=clrs)\n",
    "x0,x1 = ax.get_xlim()\n",
    "y0,y1 = ax.get_ylim()\n",
    "plt.imshow(bk_image, zorder=0, extent=[x0, x1, y0, y1], alpha=0.35, aspect='auto')\n",
    "\n",
    "show_values_on_bars(axs=ax, h_v=\"h\", space=0.4)\n",
    "plt.ylabel(\"Product Name\", size = 16, weight=\"bold\")\n",
    "plt.xlabel(\"\")\n",
    "plt.xticks([])\n",
    "plt.yticks(size=16)\n",
    "plt.tick_params(size=16)\n",
    "\n",
    "insert_image(path='../input/hm-fashion-recommender-dataset/pics/dragonfly.jpg', zoom=0.45, xybox=(92, 11), ax=ax)\n",
    "\n",
    "sns.despine(left=True, bottom=True)\n",
    "plt.show();\n",
    "\n",
    "print(\"\\n\")\n",
    "\n",
    "# Plot\n",
    "fig, axs = plt.subplots(3, 5, figsize=(23, 8))\n",
    "fig.suptitle('- Example Images -', size=22, weight=\"bold\")\n",
    "axs = axs.flatten()\n",
    "\n",
    "for k, (path, name) in enumerate(zip(image_paths, image_names)):\n",
    "    axs[k].set_title(f\"{name}\", size = 16)\n",
    "    img = plt.imread(path)\n",
    "    axs[k].imshow(img)\n",
    "    axs[k].axis(\"off\")\n",
    "\n",
    "plt.tight_layout()\n",
    "plt.show()"
   ]
  },
  {
   "cell_type": "code",
   "execution_count": null,
   "metadata": {
    "execution": {
     "iopub.execute_input": "2022-03-30T09:04:00.58747Z",
     "iopub.status.busy": "2022-03-30T09:04:00.587239Z",
     "iopub.status.idle": "2022-03-30T09:04:02.197241Z",
     "shell.execute_reply": "2022-03-30T09:04:02.19645Z",
     "shell.execute_reply.started": "2022-03-30T09:04:00.587437Z"
    }
   },
   "outputs": [],
   "source": [
    "# 🐝 Log Barplot to W&B\n",
    "create_wandb_plot(x_data=prod_name[\"index\"], y_data=prod_name[\"prod_name\"],\n",
    "                  x_name=\"Product Name\", y_name=\"Frequency\", \n",
    "                  title=\"- Most Frequent Product Names -\", log=\"prod_name\", plot=\"bar\")"
   ]
  },
  {
   "cell_type": "markdown",
   "metadata": {},
   "source": [
    "---"
   ]
  },
  {
   "cell_type": "code",
   "execution_count": null,
   "metadata": {
    "_kg_hide-input": true,
    "execution": {
     "iopub.execute_input": "2022-03-30T09:04:02.199673Z",
     "iopub.status.busy": "2022-03-30T09:04:02.199371Z",
     "iopub.status.idle": "2022-03-30T09:04:09.48138Z",
     "shell.execute_reply": "2022-03-30T09:04:09.480642Z",
     "shell.execute_reply.started": "2022-03-30T09:04:02.199637Z"
    },
    "jupyter": {
     "source_hidden": true
    }
   },
   "outputs": [],
   "source": [
    "print(clr.S+\"Total Number of unique Product Types:\"+clr.E, articles[\"product_type_name\"].nunique())\n",
    "\n",
    "# Data\n",
    "prod_type = articles[\"product_type_name\"].value_counts().reset_index().head(15)\n",
    "total_prod_types = articles[\"product_type_name\"].nunique()\n",
    "clrs = [\"#00BDE3\" if x==max(prod_type[\"product_type_name\"]) else '#398BBB' for x in prod_type[\"product_type_name\"]]\n",
    "\n",
    "# Get images\n",
    "prod_type_images = articles[articles[\"product_type_name\"].isin(prod_type[\"index\"].tolist())].groupby(\"product_type_name\")[\"path\"].first().reset_index()\n",
    "image_paths = prod_type_images[\"path\"].tolist()\n",
    "image_names = prod_type_images[\"product_type_name\"].tolist()\n",
    "\n",
    "# Plot\n",
    "fig, ax = plt.subplots(figsize=(25, 13))\n",
    "plt.title('- Most Frequent Product Types -', size=22, weight=\"bold\")\n",
    "\n",
    "sns.barplot(data=prod_type, x=\"product_type_name\", y=\"index\", ax=ax,\n",
    "            palette=clrs)\n",
    "x0,x1 = ax.get_xlim()\n",
    "y0,y1 = ax.get_ylim()\n",
    "plt.imshow(bk_image, zorder=0, extent=[x0, x1, y0, y1], alpha=0.35, aspect='auto')\n",
    "\n",
    "show_values_on_bars(axs=ax, h_v=\"h\", space=0.4)\n",
    "plt.ylabel(\"Product Type\", size = 16, weight=\"bold\")\n",
    "plt.xlabel(\"\")\n",
    "plt.xticks([])\n",
    "plt.yticks(size=16)\n",
    "plt.tick_params(size=16)\n",
    "\n",
    "insert_image(path='../input/hm-fashion-recommender-dataset/pics/blue.jpg', zoom=0.45, xybox=(11000, 11), ax=ax)\n",
    "\n",
    "sns.despine(left=True, bottom=True)\n",
    "plt.show();\n",
    "\n",
    "print(\"\\n\")\n",
    "\n",
    "# Plot\n",
    "fig, axs = plt.subplots(3, 5, figsize=(23, 8))\n",
    "fig.suptitle('- Example Images -', size=22, weight=\"bold\")\n",
    "axs = axs.flatten()\n",
    "\n",
    "for k, (path, name) in enumerate(zip(image_paths, image_names)):\n",
    "    axs[k].set_title(f\"{name}\", size = 16)\n",
    "    img = plt.imread(path)\n",
    "    axs[k].imshow(img)\n",
    "    axs[k].axis(\"off\")\n",
    "\n",
    "plt.tight_layout()\n",
    "plt.show()"
   ]
  },
  {
   "cell_type": "code",
   "execution_count": null,
   "metadata": {
    "execution": {
     "iopub.execute_input": "2022-03-30T09:04:09.482753Z",
     "iopub.status.busy": "2022-03-30T09:04:09.482464Z",
     "iopub.status.idle": "2022-03-30T09:04:10.778533Z",
     "shell.execute_reply": "2022-03-30T09:04:10.777839Z",
     "shell.execute_reply.started": "2022-03-30T09:04:09.482713Z"
    }
   },
   "outputs": [],
   "source": [
    "# 🐝 Log Barplot to W&B\n",
    "create_wandb_plot(x_data=prod_type[\"index\"], y_data=prod_type[\"product_type_name\"],\n",
    "                  x_name=\"Product Type\", y_name=\"Frequency\", \n",
    "                  title=\"- Most Frequent Product Types -\", log=\"prod_type\", plot=\"bar\")"
   ]
  },
  {
   "cell_type": "markdown",
   "metadata": {},
   "source": [
    "---"
   ]
  },
  {
   "cell_type": "code",
   "execution_count": null,
   "metadata": {
    "_kg_hide-input": true,
    "execution": {
     "iopub.execute_input": "2022-03-30T09:04:10.779964Z",
     "iopub.status.busy": "2022-03-30T09:04:10.779719Z",
     "iopub.status.idle": "2022-03-30T09:04:48.194241Z",
     "shell.execute_reply": "2022-03-30T09:04:48.193488Z",
     "shell.execute_reply.started": "2022-03-30T09:04:10.77993Z"
    },
    "jupyter": {
     "source_hidden": true
    }
   },
   "outputs": [],
   "source": [
    "print(clr.S+\"Total Number of unique Product Group:\"+clr.E, articles[\"product_group_name\"].nunique())\n",
    "\n",
    "# Data\n",
    "prod_group = articles[\"product_group_name\"].value_counts().reset_index()\n",
    "total_prod_groups = articles[\"product_group_name\"].nunique()\n",
    "clrs = [\"#E90B60\" if x==max(prod_group[\"product_group_name\"]) else '#AF0848' for x in prod_group[\"product_group_name\"]]\n",
    "\n",
    "# Get images\n",
    "prod_group_images = articles[articles[\"product_group_name\"].isin(prod_group[\"index\"].tolist())].groupby(\"product_group_name\")[\"path\"].first().reset_index()\n",
    "image_paths = prod_group_images[\"path\"].tolist()\n",
    "image_names = prod_group_images[\"product_group_name\"].tolist()\n",
    "\n",
    "# Plot\n",
    "fig, ax = plt.subplots(figsize=(25, 13))\n",
    "plt.title('- Most Frequent Product Groups -', size=22, weight=\"bold\")\n",
    "\n",
    "sns.barplot(data=prod_group, x=\"product_group_name\", y=\"index\", ax=ax,\n",
    "            palette=clrs)\n",
    "x0,x1 = ax.get_xlim()\n",
    "y0,y1 = ax.get_ylim()\n",
    "plt.imshow(bk_image, zorder=0, extent=[x0, x1, y0, y1], alpha=0.35, aspect='auto')\n",
    "\n",
    "show_values_on_bars(axs=ax, h_v=\"h\", space=0.4)\n",
    "plt.ylabel(\"Product Group\", size = 16, weight=\"bold\")\n",
    "plt.xlabel(\"\")\n",
    "plt.xticks([])\n",
    "plt.yticks(size=16)\n",
    "plt.tick_params(size=16)\n",
    "\n",
    "insert_image(path='../input/hm-fashion-recommender-dataset/pics/chloe.jpg', zoom=0.45, xybox=(40000, 14), ax=ax)\n",
    "\n",
    "sns.despine(left=True, bottom=True)\n",
    "plt.show();\n",
    "\n",
    "print(\"\\n\")\n",
    "\n",
    "# Plot\n",
    "fig, axs = plt.subplots(4, 6, figsize=(23, 10))\n",
    "fig.suptitle('- Example Images -', size=22, weight=\"bold\")\n",
    "axs = axs.flatten()\n",
    "\n",
    "for k, (path, name) in enumerate(zip(image_paths, image_names)):\n",
    "    axs[k].set_title(f\"{name}\", size = 16)\n",
    "    img = plt.imread(path)\n",
    "    axs[k].imshow(img)\n",
    "    axs[k].axis(\"off\")\n",
    "\n",
    "for a in [-1, -2, -3, -4, -5]: axs[a].set_visible(False)\n",
    "plt.tight_layout()\n",
    "plt.show()"
   ]
  },
  {
   "cell_type": "code",
   "execution_count": null,
   "metadata": {
    "execution": {
     "iopub.execute_input": "2022-03-30T09:04:48.195966Z",
     "iopub.status.busy": "2022-03-30T09:04:48.195663Z",
     "iopub.status.idle": "2022-03-30T09:05:16.657641Z",
     "shell.execute_reply": "2022-03-30T09:05:16.656898Z",
     "shell.execute_reply.started": "2022-03-30T09:04:48.195929Z"
    }
   },
   "outputs": [],
   "source": [
    "# 🐝 Log Barplot to W&B\n",
    "create_wandb_plot(x_data=prod_group[\"index\"], y_data=prod_group[\"product_group_name\"],\n",
    "                  x_name=\"Product Group\", y_name=\"Frequency\", \n",
    "                  title=\"- Most Frequent Product Group -\", log=\"prod_group\", plot=\"bar\")"
   ]
  },
  {
   "cell_type": "markdown",
   "metadata": {},
   "source": [
    "---"
   ]
  },
  {
   "cell_type": "code",
   "execution_count": null,
   "metadata": {
    "execution": {
     "iopub.execute_input": "2022-03-30T09:05:16.659045Z",
     "iopub.status.busy": "2022-03-30T09:05:16.658807Z",
     "iopub.status.idle": "2022-03-30T09:05:18.377668Z",
     "shell.execute_reply": "2022-03-30T09:05:18.376955Z",
     "shell.execute_reply.started": "2022-03-30T09:05:16.659011Z"
    }
   },
   "outputs": [],
   "source": [
    "def change_color(x):\n",
    "    '''Change color name.'''\n",
    "    if (\"light\" in x.lower().strip()) or \\\n",
    "        (\"dark\" in x.lower().strip()) or \\\n",
    "        (\"greyish\" in x.lower().strip()) or \\\n",
    "        (\"yellowish\" in x.lower().strip()) or \\\n",
    "        (\"greenish\" in x.lower().strip()) or \\\n",
    "        (\"off\" in x.lower().strip()) or \\\n",
    "        (\"other\" in x.lower().strip()):\n",
    "        x = x.split(\" \")[-1]\n",
    "        \n",
    "    return x\n",
    "\n",
    "articles[\"colour_group_name\"] = articles[\"colour_group_name\"].apply(lambda x: change_color(x))"
   ]
  },
  {
   "cell_type": "code",
   "execution_count": null,
   "metadata": {
    "_kg_hide-input": true,
    "execution": {
     "iopub.execute_input": "2022-03-30T09:05:18.379296Z",
     "iopub.status.busy": "2022-03-30T09:05:18.379063Z",
     "iopub.status.idle": "2022-03-30T09:05:29.901827Z",
     "shell.execute_reply": "2022-03-30T09:05:29.901098Z",
     "shell.execute_reply.started": "2022-03-30T09:05:18.379263Z"
    },
    "jupyter": {
     "source_hidden": true
    }
   },
   "outputs": [],
   "source": [
    "# Appearance and color\n",
    "print(clr.S+\"Total Number of unique Product Appearances:\"+clr.E, articles[\"graphical_appearance_name\"].nunique())\n",
    "print(clr.S+\"Total Number of unique Product Colors (after preprocess):\"+clr.E, articles[\"colour_group_name\"].nunique())\n",
    "\n",
    "# --- Data 1 ---\n",
    "prod_appearance = articles[\"graphical_appearance_name\"].value_counts().reset_index().head(15)\n",
    "total_prod_appearances = articles[\"graphical_appearance_name\"].nunique()\n",
    "clrs1 = [\"#AF0848\" if x==max(prod_appearance[\"graphical_appearance_name\"]) else '#E90B60' for x in prod_appearance[\"graphical_appearance_name\"]]\n",
    "\n",
    "\n",
    "# Get images\n",
    "prod_appearance_images = articles[articles[\"graphical_appearance_name\"].isin(prod_appearance[\"index\"].tolist())].groupby(\"graphical_appearance_name\")[\"path\"].first().reset_index()\n",
    "image_paths1 = prod_appearance_images[\"path\"].tolist()\n",
    "image_names1 = prod_appearance_images[\"graphical_appearance_name\"].tolist()\n",
    "\n",
    "# --- Data 2 ---\n",
    "prod_color = articles[\"colour_group_name\"].value_counts().reset_index().head(15)\n",
    "total_prod_color = articles[\"colour_group_name\"].nunique()\n",
    "clrs2 = [\"#CB2170\" if x==max(prod_color[\"colour_group_name\"]) else '#954E93' for x in prod_color[\"colour_group_name\"]]\n",
    "\n",
    "# Get images\n",
    "prod_color_images = articles[articles[\"colour_group_name\"].isin(prod_color[\"index\"].tolist())].groupby(\"colour_group_name\")[\"path\"].first().reset_index()\n",
    "image_paths2 = prod_color_images[\"path\"].tolist()\n",
    "image_names2 = prod_color_images[\"colour_group_name\"].tolist()\n",
    "\n",
    "# Plot\n",
    "fig, (ax1, ax2) = plt.subplots(nrows=1, ncols=2, figsize=(25, 13))\n",
    "\n",
    "ax1.set_title('- Most Frequent Product Appearances -', size=22, weight=\"bold\")\n",
    "sns.barplot(data=prod_appearance, x=\"graphical_appearance_name\", y=\"index\", ax=ax1,\n",
    "            palette=clrs2)\n",
    "x0,x1 = ax1.get_xlim()\n",
    "y0,y1 = ax1.get_ylim()\n",
    "ax1.imshow(bk_image, zorder=0, extent=[x0, x1, y0, y1], alpha=0.35, aspect='auto')\n",
    "\n",
    "show_values_on_bars(axs=ax1, h_v=\"h\", space=0.4)\n",
    "ax1.set_ylabel(\"Product Appearance\", size = 16, weight=\"bold\")\n",
    "ax1.set_xlabel(\"\")\n",
    "ax1.set_xticks([])\n",
    "# ax1.set_yticks(size=16)\n",
    "# ax1.set_tick_params(size=16)\n",
    "\n",
    "# insert_image(path='../input/hm-fashion-recommender-dataset/pics/blue.jpg', zoom=0.45, xybox=(11000, 11), ax=ax1)\n",
    "\n",
    "\n",
    "ax2.set_title('- Most Frequent Product Colors -', size=22, weight=\"bold\")\n",
    "sns.barplot(data=prod_color, x=\"colour_group_name\", y=\"index\", ax=ax2,\n",
    "            palette=clrs2)\n",
    "x0,x1 = ax2.get_xlim()\n",
    "y0,y1 = ax2.get_ylim()\n",
    "ax2.imshow(bk_image, zorder=0, extent=[x0, x1, y0, y1], alpha=0.35, aspect='auto')\n",
    "\n",
    "show_values_on_bars(axs=ax2, h_v=\"h\", space=0.4)\n",
    "ax2.set_ylabel(\"Product Colors\", size = 16, weight=\"bold\")\n",
    "ax2.set_xlabel(\"\")\n",
    "ax2.set_xticks([])\n",
    "# ax1.set_yticks(size=16)\n",
    "# ax1.set_tick_params(size=16)\n",
    "\n",
    "# insert_image(path='../input/hm-fashion-recommender-dataset/pics/blue.jpg', zoom=0.45, xybox=(11000, 11), ax=ax1)\n",
    "\n",
    "sns.despine(left=True, bottom=True)\n",
    "plt.show();\n",
    "\n",
    "print(\"\\n\")\n",
    "\n",
    "# Plot\n",
    "fig, axs = plt.subplots(3, 5, figsize=(23, 8))\n",
    "fig.suptitle('- Example Images [Appearance] -', size=22, weight=\"bold\")\n",
    "axs = axs.flatten()\n",
    "\n",
    "for k, (path, name) in enumerate(zip(image_paths1, image_names1)):\n",
    "    axs[k].set_title(f\"{name}\", size = 16)\n",
    "    img = plt.imread(path)\n",
    "    axs[k].imshow(img)\n",
    "    axs[k].axis(\"off\")\n",
    "\n",
    "plt.tight_layout()\n",
    "plt.show()\n",
    "\n",
    "# Plot\n",
    "fig, axs = plt.subplots(3, 5, figsize=(23, 8))\n",
    "fig.suptitle('- Example Images [Color] -', size=22, weight=\"bold\")\n",
    "axs = axs.flatten()\n",
    "\n",
    "for k, (path, name) in enumerate(zip(image_paths2, image_names2)):\n",
    "    axs[k].set_title(f\"{name}\", size = 16)\n",
    "    img = plt.imread(path)\n",
    "    axs[k].imshow(img)\n",
    "    axs[k].axis(\"off\")\n",
    "\n",
    "plt.tight_layout()\n",
    "plt.show()"
   ]
  },
  {
   "cell_type": "code",
   "execution_count": null,
   "metadata": {
    "execution": {
     "iopub.execute_input": "2022-03-30T09:05:29.903332Z",
     "iopub.status.busy": "2022-03-30T09:05:29.903088Z",
     "iopub.status.idle": "2022-03-30T09:05:35.529055Z",
     "shell.execute_reply": "2022-03-30T09:05:35.528276Z",
     "shell.execute_reply.started": "2022-03-30T09:05:29.903299Z"
    }
   },
   "outputs": [],
   "source": [
    "# 🐝 Log Barplot to W&B\n",
    "create_wandb_plot(x_data= prod_appearance[\"index\"], y_data=prod_appearance[\"graphical_appearance_name\"],\n",
    "                  x_name=\"Product Appearance\", y_name=\"Frequency\", \n",
    "                  title=\"- Most Frequent Product Appearance -\", log=\"prod_appearance\", plot=\"bar\")\n",
    "\n",
    "create_wandb_plot(x_data= prod_color[\"index\"], y_data=prod_color[\"colour_group_name\"],\n",
    "                  x_name=\"Product Color\", y_name=\"Frequency\", \n",
    "                  title=\"- Most Frequent Product Color -\", log=\"prod_color\", plot=\"bar\")"
   ]
  },
  {
   "cell_type": "markdown",
   "metadata": {},
   "source": [
    "---\n",
    "\n",
    "🛍️ **Important Notes**:\n",
    "* In order for the wordcloud to take the shape of the image you should input a `.jpg` image with **white** background (not black and not transparent - because the function will interpret the transparent background as black).\n",
    "* More custom fonts like I used below can be found here: https://www.dafont.com/"
   ]
  },
  {
   "cell_type": "code",
   "execution_count": null,
   "metadata": {
    "execution": {
     "iopub.execute_input": "2022-03-30T09:05:35.530592Z",
     "iopub.status.busy": "2022-03-30T09:05:35.530314Z",
     "iopub.status.idle": "2022-03-30T09:05:36.844712Z",
     "shell.execute_reply": "2022-03-30T09:05:36.84389Z",
     "shell.execute_reply.started": "2022-03-30T09:05:35.530557Z"
    }
   },
   "outputs": [],
   "source": [
    "def similar_color_func(word=None, font_size=None,\n",
    "                       position=None, orientation=None,\n",
    "                       font_path=None, random_state=None):\n",
    "    '''Creates a custom function for the color of the wordcloud.'''\n",
    "    \n",
    "    h = 270 # 0 - 360 <- the color hue\n",
    "    s = 40 # 0-100 <- the color saturation\n",
    "    l = random_state.randint(30, 70) # 0 - 100 <- gradient\n",
    "    \n",
    "    return \"hsl({}, {}%, {}%)\".format(h, s, l)"
   ]
  },
  {
   "cell_type": "code",
   "execution_count": null,
   "metadata": {
    "execution": {
     "iopub.execute_input": "2022-03-30T09:05:36.856829Z",
     "iopub.status.busy": "2022-03-30T09:05:36.852509Z",
     "iopub.status.idle": "2022-03-30T09:05:44.467551Z",
     "shell.execute_reply": "2022-03-30T09:05:44.466838Z",
     "shell.execute_reply.started": "2022-03-30T09:05:36.856787Z"
    }
   },
   "outputs": [],
   "source": [
    "print(clr.S+\"Total Number of unique Article Descriptions:\"+clr.E, articles[\"detail_desc\"].nunique(), \"\\n\")\n",
    "\n",
    "# Get descriptions and convert them to a string\n",
    "text = articles[\"detail_desc\"].unique()\n",
    "text = \" \".join(text)\n",
    "\n",
    "# Get the mask - the form of the wordcloud\n",
    "mask = np.array(Image.open('../input/hm-fashion-recommender-dataset/pics/mask.jpg'))\n",
    "\n",
    "# Create wordcloud object\n",
    "wc = WordCloud(mask=mask, background_color=\"white\", max_words=2000,\n",
    "               stopwords=STOPWORDS, max_font_size=256,\n",
    "               random_state=42, width=mask.shape[1],\n",
    "               height=mask.shape[0], font_path=\"../input/hm-fashion-recommender-dataset/MorningRainbow.ttf\",\n",
    "               color_func=similar_color_func)\n",
    "wc.generate(text)\n",
    "\n",
    "# Plot\n",
    "fig = plt.figure(figsize=(15, 15))\n",
    "plt.title(\"- Most Common Words found within Article Descriptions -\",\n",
    "           size=22, weight=\"bold\")\n",
    "plt.imshow(wc, interpolation=\"bilinear\")\n",
    "plt.axis('off')\n",
    "plt.show()"
   ]
  },
  {
   "cell_type": "code",
   "execution_count": null,
   "metadata": {
    "execution": {
     "iopub.execute_input": "2022-03-30T09:05:44.469145Z",
     "iopub.status.busy": "2022-03-30T09:05:44.468874Z",
     "iopub.status.idle": "2022-03-30T09:06:29.291296Z",
     "shell.execute_reply": "2022-03-30T09:06:29.290545Z",
     "shell.execute_reply.started": "2022-03-30T09:05:44.469111Z"
    }
   },
   "outputs": [],
   "source": [
    "# 🐝 Save wordcloud to Dashboard\n",
    "fig.canvas.draw()\n",
    "image_from_plot = np.frombuffer(fig.canvas.tostring_rgb(), dtype=np.uint8)\n",
    "image_from_plot = image_from_plot.reshape(fig.canvas.get_width_height()[::-1] + (3,))\n",
    "\n",
    "wandb.log({\"wordcloud\": wandb.Image(image_from_plot)})\n",
    "\n",
    "wandb.finish()"
   ]
  },
  {
   "cell_type": "code",
   "execution_count": null,
   "metadata": {
    "execution": {
     "iopub.execute_input": "2022-03-30T09:06:29.29335Z",
     "iopub.status.busy": "2022-03-30T09:06:29.292669Z",
     "iopub.status.idle": "2022-03-30T09:06:50.916379Z",
     "shell.execute_reply": "2022-03-30T09:06:50.914583Z",
     "shell.execute_reply.started": "2022-03-30T09:06:29.293312Z"
    }
   },
   "outputs": [],
   "source": [
    "# 🐝 Save the updated `articles` file.\n",
    "# articles.to_parquet('articles.pqt', index=False)\n",
    "\n",
    "save_dataset_artifact(run_name=\"save_articles\", artifact_name=\"articles\",\n",
    "                      path=\"../input/hm-fashion-recommender-dataset/articles.pqt\")"
   ]
  },
  {
   "cell_type": "markdown",
   "metadata": {},
   "source": [
    "# 3. Customers\n",
    "\n",
    "🛍️ **Important Notes**:\n",
    "* In this dataset we have quite a few missing values:\n",
    "    * for columns `FN` and `Active` I replaced all missing values with 0\n",
    "    * for `club_member_status` and `fashion_news_frequency` I have set all missing values with `UNKNOWN`\n",
    "    * for `age` I have imputed all missing values with the median age (which is 36)\n",
    "* I have created an `age_interval` as well that splits all ages in decades"
   ]
  },
  {
   "cell_type": "code",
   "execution_count": null,
   "metadata": {
    "execution": {
     "iopub.execute_input": "2022-03-30T09:06:50.918541Z",
     "iopub.status.busy": "2022-03-30T09:06:50.918263Z",
     "iopub.status.idle": "2022-03-30T09:06:58.902333Z",
     "shell.execute_reply": "2022-03-30T09:06:58.901576Z",
     "shell.execute_reply.started": "2022-03-30T09:06:50.9185Z"
    }
   },
   "outputs": [],
   "source": [
    "# 🐝 W&B Experiment\n",
    "run = wandb.init(project='HandM', name='Customers', config=CONFIG)"
   ]
  },
  {
   "cell_type": "code",
   "execution_count": null,
   "metadata": {
    "execution": {
     "iopub.execute_input": "2022-03-30T09:06:58.904413Z",
     "iopub.status.busy": "2022-03-30T09:06:58.903866Z",
     "iopub.status.idle": "2022-03-30T09:06:59.88439Z",
     "shell.execute_reply": "2022-03-30T09:06:59.883704Z",
     "shell.execute_reply.started": "2022-03-30T09:06:58.904373Z"
    }
   },
   "outputs": [],
   "source": [
    "def create_age_interval(x):\n",
    "    if x <= 25:\n",
    "        return [16, 25]\n",
    "    elif x <= 35:\n",
    "        return [26, 35]\n",
    "    elif x <= 45:\n",
    "        return [36, 45]\n",
    "    elif x <= 55:\n",
    "        return [46, 55]\n",
    "    elif x <= 65:\n",
    "        return [56, 65]\n",
    "    else:\n",
    "        return [66, 99]"
   ]
  },
  {
   "cell_type": "code",
   "execution_count": null,
   "metadata": {
    "execution": {
     "iopub.execute_input": "2022-03-30T09:06:59.887064Z",
     "iopub.status.busy": "2022-03-30T09:06:59.886461Z",
     "iopub.status.idle": "2022-03-30T09:07:03.834439Z",
     "shell.execute_reply": "2022-03-30T09:07:03.833728Z",
     "shell.execute_reply.started": "2022-03-30T09:06:59.887018Z"
    }
   },
   "outputs": [],
   "source": [
    "print(clr.S+\"Missing values within customers dataset:\"+clr.E)\n",
    "print(customers.isna().sum())\n",
    "\n",
    "# 🐝 Log Distinct customer IDs\n",
    "wandb.log({\"customer_ids\":len(customers)})\n",
    "\n",
    "# Fill FN and Active - the only available value is \"1\"\n",
    "customers[\"FN\"].fillna(0, inplace=True)\n",
    "customers[\"Active\"].fillna(0, inplace=True)\n",
    "\n",
    "# Set unknown the club member status & news frequency\n",
    "customers[\"club_member_status\"].fillna(\"UNKNOWN\", inplace=True)\n",
    "\n",
    "customers[\"fashion_news_frequency\"] = customers[\"fashion_news_frequency\"].replace({\"None\":\"NONE\"})\n",
    "customers[\"fashion_news_frequency\"].fillna(\"UNKNOWN\", inplace=True)\n",
    "\n",
    "# Set missing values in age with the median\n",
    "customers[\"age\"].fillna(customers[\"age\"].median(), inplace=True)\n",
    "customers[\"age_interval\"] = customers[\"age\"].apply(lambda x: create_age_interval(x))"
   ]
  },
  {
   "cell_type": "code",
   "execution_count": null,
   "metadata": {
    "_kg_hide-input": true,
    "execution": {
     "iopub.execute_input": "2022-03-30T09:07:03.836149Z",
     "iopub.status.busy": "2022-03-30T09:07:03.835886Z",
     "iopub.status.idle": "2022-03-30T09:07:12.974653Z",
     "shell.execute_reply": "2022-03-30T09:07:12.973873Z",
     "shell.execute_reply.started": "2022-03-30T09:07:03.836114Z"
    },
    "jupyter": {
     "source_hidden": true
    }
   },
   "outputs": [],
   "source": [
    "plt.figure(figsize=(24, 10))\n",
    "plt.suptitle('- Customer Profile -', size=22, weight=\"bold\")\n",
    "\n",
    "ax1 = plt.subplot(2,2,1)\n",
    "ax2 = plt.subplot(2,2,2)\n",
    "ax3 = plt.subplot(2,1,2)\n",
    "\n",
    "sns.countplot(data=customers, x=\"club_member_status\", ax=ax1,\n",
    "              order=customers['club_member_status'].value_counts().index,\n",
    "              palette=my_colors[2:])\n",
    "show_values_on_bars(axs=ax1, h_v=\"v\", space=0.4)\n",
    "ax1.set_title(\"Club Member Status\", size=18, weight=\"bold\")\n",
    "ax1.set_yticks([])\n",
    "ax1.set_xlabel(\"\")\n",
    "ax1.set_ylabel(\"\")\n",
    "\n",
    "sns.countplot(data=customers, x=\"fashion_news_frequency\", ax=ax2,\n",
    "              order=customers['fashion_news_frequency'].value_counts().index,\n",
    "              palette=my_colors[2:])\n",
    "show_values_on_bars(axs=ax2, h_v=\"v\", space=0.4)\n",
    "ax2.set_title(\"Fashion News frequency\", size=18, weight=\"bold\")\n",
    "ax2.set_yticks([])\n",
    "ax2.set_xlabel(\"\")\n",
    "ax2.set_ylabel(\"\")\n",
    "\n",
    "sns.distplot(customers[\"age\"], color=my_colors[-3], ax=ax3,\n",
    "             hist_kws=dict(edgecolor=my_colors[-3]))\n",
    "ax3.set_title(\"Age Distribution\", size=18, weight=\"bold\")\n",
    "ax3.set_ylabel(\"\")\n",
    "\n",
    "for ax in [ax1, ax2]:\n",
    "    x0,x1 = ax.get_xlim()\n",
    "    y0,y1 = ax.get_ylim()\n",
    "    ax.imshow(bk_image, zorder=0, extent=[x0, x1, y0, y1], alpha=0.35, aspect='auto')\n",
    "    \n",
    "# insert_image(path='../input/hm-fashion-recommender-dataset/pics/vans.jpg', zoom=0.5, xybox=(60, 0.00), ax=ax3)\n",
    "\n",
    "sns.despine(left=True, bottom=True)\n",
    "plt.subplots_adjust(left=None, bottom=None, right=None, top=None, wspace=None, hspace=0.99);"
   ]
  },
  {
   "cell_type": "code",
   "execution_count": null,
   "metadata": {
    "execution": {
     "iopub.execute_input": "2022-03-30T09:07:12.979167Z",
     "iopub.status.busy": "2022-03-30T09:07:12.978959Z",
     "iopub.status.idle": "2022-03-30T09:08:01.642896Z",
     "shell.execute_reply": "2022-03-30T09:08:01.642116Z",
     "shell.execute_reply.started": "2022-03-30T09:07:12.97914Z"
    }
   },
   "outputs": [],
   "source": [
    "# 🐝 Log Barplot to W&B\n",
    "dt = customers[\"club_member_status\"].value_counts().reset_index()\n",
    "create_wandb_plot(x_data= dt[\"index\"], y_data=dt[\"club_member_status\"],\n",
    "                  x_name=\"Status\", y_name=\"Frequency\", \n",
    "                  title=\"- Club Member Status -\", log=\"member_status\", plot=\"bar\")\n",
    "\n",
    "dt = customers[\"fashion_news_frequency\"].value_counts().reset_index()\n",
    "create_wandb_plot(x_data= dt[\"index\"], y_data=dt[\"fashion_news_frequency\"],\n",
    "                  x_name=\"News\", y_name=\"Frequency\", \n",
    "                  title=\"- Fashion News Frequency -\", log=\"news_freq\", plot=\"bar\")\n",
    "\n",
    "create_wandb_hist(x_data=customers[\"age\"], x_name=\"Age\", \n",
    "                  title=\"Age Distribution\", log=\"age_dist\")\n",
    "\n",
    "wandb.finish()"
   ]
  },
  {
   "cell_type": "code",
   "execution_count": null,
   "metadata": {
    "execution": {
     "iopub.execute_input": "2022-03-30T09:08:01.644548Z",
     "iopub.status.busy": "2022-03-30T09:08:01.644302Z",
     "iopub.status.idle": "2022-03-30T09:08:27.279951Z",
     "shell.execute_reply": "2022-03-30T09:08:27.279008Z",
     "shell.execute_reply.started": "2022-03-30T09:08:01.644514Z"
    }
   },
   "outputs": [],
   "source": [
    "# 🪄🐝 Save the updated `customers` file.\n",
    "# customers.to_parquet('customers.pqt', index=False)\n",
    "\n",
    "save_dataset_artifact(run_name=\"save_customers\", artifact_name=\"customers\",\n",
    "                      path=\"../input/hm-fashion-recommender-dataset/customers.pqt\")"
   ]
  },
  {
   "cell_type": "markdown",
   "metadata": {},
   "source": [
    "# 4. Transactions\n",
    "\n",
    "🛍️ **Important Notes**:\n",
    "* Denims, Trousers and Undergarments are sold the most.\n",
    "* The **prices are altered**, with the highest one being 0.59 and the lowest being 0.0000169.\n",
    "* The most expensive items are leather garments.\n",
    "* The average order has around 23 units and costs ~0.649.\n",
    "* The units/order is directly correlated with the price/order: as the units increase, the price within the order increases too."
   ]
  },
  {
   "cell_type": "code",
   "execution_count": null,
   "metadata": {
    "execution": {
     "iopub.execute_input": "2022-03-30T09:08:27.282038Z",
     "iopub.status.busy": "2022-03-30T09:08:27.281745Z",
     "iopub.status.idle": "2022-03-30T09:08:35.090178Z",
     "shell.execute_reply": "2022-03-30T09:08:35.089385Z",
     "shell.execute_reply.started": "2022-03-30T09:08:27.281998Z"
    }
   },
   "outputs": [],
   "source": [
    "# 🐝 W&B Experiment\n",
    "run = wandb.init(project='HandM', name='Transactions', config=CONFIG)"
   ]
  },
  {
   "cell_type": "code",
   "execution_count": null,
   "metadata": {
    "execution": {
     "iopub.execute_input": "2022-03-30T09:08:35.095415Z",
     "iopub.status.busy": "2022-03-30T09:08:35.094524Z",
     "iopub.status.idle": "2022-03-30T09:09:06.879488Z",
     "shell.execute_reply": "2022-03-30T09:09:06.878764Z",
     "shell.execute_reply.started": "2022-03-30T09:08:35.095372Z"
    }
   },
   "outputs": [],
   "source": [
    "print(clr.S+\"Missing values within transactions dataset:\"+clr.E)\n",
    "print(transactions.isna().sum())\n",
    "\n",
    "# 🐝 Log length of transactions\n",
    "wandb.log({\"transaction_ids\":len(transactions)})\n",
    "\n",
    "# Adjust article_id (as did for articles dataframe)\n",
    "transactions[\"article_id\"] = transactions[\"article_id\"].apply(lambda x: adjust_id(x))"
   ]
  },
  {
   "cell_type": "markdown",
   "metadata": {},
   "source": [
    "---"
   ]
  },
  {
   "cell_type": "code",
   "execution_count": null,
   "metadata": {
    "_kg_hide-input": true,
    "execution": {
     "iopub.execute_input": "2022-03-30T09:09:06.884131Z",
     "iopub.status.busy": "2022-03-30T09:09:06.883828Z",
     "iopub.status.idle": "2022-03-30T09:09:19.062755Z",
     "shell.execute_reply": "2022-03-30T09:09:19.062016Z",
     "shell.execute_reply.started": "2022-03-30T09:09:06.884101Z"
    },
    "jupyter": {
     "source_hidden": true
    }
   },
   "outputs": [],
   "source": [
    "# Get data\n",
    "top_sold_products = transactions[\"article_id\"].value_counts().reset_index().head(15)\n",
    "top_sold_products.columns = [\"article_id\", \"count\"]\n",
    "top_sold_products = pd.merge(top_sold_products, articles, on=\"article_id\")[[\"article_id\", \"count\", \"prod_name\"]]\n",
    "\n",
    "clrs = [\"#E90B60\" if x==max(top_sold_products[\"count\"]) else '#AF0848' for x in top_sold_products[\"count\"]]\n",
    "\n",
    "# Get images\n",
    "image_paths = [path for path in articles[articles[\"article_id\"].isin(top_sold_products[\"article_id\"].tolist())][\"path\"].tolist() \n",
    "               if path != None]\n",
    "image_names = articles[articles[\"path\"].isin(image_paths)][\"prod_name\"].tolist()\n",
    "\n",
    "\n",
    "# Plot\n",
    "fig, ax = plt.subplots(figsize=(25, 13))\n",
    "plt.title('- Products that sell the most (in UNITS) -', size=22, weight=\"bold\")\n",
    "\n",
    "sns.barplot(data=top_sold_products, x=\"count\", y=\"prod_name\", ax=ax,\n",
    "            palette=clrs)\n",
    "x0,x1 = ax.get_xlim()\n",
    "y0,y1 = ax.get_ylim()\n",
    "plt.imshow(bk_image, zorder=0, extent=[x0, x1, y0, y1], alpha=0.35, aspect='auto')\n",
    "\n",
    "show_values_on_bars(axs=ax, h_v=\"h\", space=0.4)\n",
    "plt.ylabel(\"Product Name\", size = 16, weight=\"bold\")\n",
    "plt.xlabel(\"\")\n",
    "plt.xticks([])\n",
    "plt.yticks(size=16)\n",
    "plt.tick_params(size=16)\n",
    "\n",
    "# insert_image(path='../input/hm-fashion-recommender-dataset/pics/chloe.jpg', zoom=0.45, xybox=(40000, 14), ax=ax)\n",
    "\n",
    "sns.despine(left=True, bottom=True)\n",
    "plt.show();\n",
    "\n",
    "print(\"\\n\")\n",
    "\n",
    "# Plot\n",
    "fig, axs = plt.subplots(3, 5, figsize=(23, 10))\n",
    "fig.suptitle('- Images -', size=22, weight=\"bold\")\n",
    "axs = axs.flatten()\n",
    "\n",
    "for k, (path, name) in enumerate(zip(image_paths, image_names)):\n",
    "    axs[k].set_title(f\"{name}\", size = 16)\n",
    "    img = plt.imread(path)\n",
    "    axs[k].imshow(img)\n",
    "    axs[k].axis(\"off\")\n",
    "\n",
    "for a in [-1, -2]: axs[a].set_visible(False)\n",
    "plt.tight_layout()\n",
    "plt.show()"
   ]
  },
  {
   "cell_type": "code",
   "execution_count": null,
   "metadata": {
    "execution": {
     "iopub.execute_input": "2022-03-30T09:09:19.064264Z",
     "iopub.status.busy": "2022-03-30T09:09:19.063875Z",
     "iopub.status.idle": "2022-03-30T09:09:20.403223Z",
     "shell.execute_reply": "2022-03-30T09:09:20.40249Z",
     "shell.execute_reply.started": "2022-03-30T09:09:19.064228Z"
    }
   },
   "outputs": [],
   "source": [
    "# 🐝 Log Barplot to W&B\n",
    "create_wandb_plot(x_data= top_sold_products[\"prod_name\"], y_data=top_sold_products[\"count\"],\n",
    "                  x_name=\"Prod Name\", y_name=\"Count\", \n",
    "                  title=\"- Products that sell the most (UNITS) -\", log=\"sold_most\", plot=\"bar\")"
   ]
  },
  {
   "cell_type": "markdown",
   "metadata": {},
   "source": [
    "---"
   ]
  },
  {
   "cell_type": "code",
   "execution_count": null,
   "metadata": {
    "_kg_hide-input": true,
    "execution": {
     "iopub.execute_input": "2022-03-30T09:09:20.404721Z",
     "iopub.status.busy": "2022-03-30T09:09:20.404445Z",
     "iopub.status.idle": "2022-03-30T09:09:30.698237Z",
     "shell.execute_reply": "2022-03-30T09:09:30.69749Z",
     "shell.execute_reply.started": "2022-03-30T09:09:20.404669Z"
    },
    "jupyter": {
     "source_hidden": true
    }
   },
   "outputs": [],
   "source": [
    "print(clr.S+\"Maximum Price is:\"+clr.E, transactions[\"price\"].max(), \"\\n\" +\n",
    "      clr.S+\"Minimum Price is:\"+clr.E, transactions[\"price\"].min(), \"\\n\" +\n",
    "      clr.S+\"Average Price is:\"+clr.E, transactions[\"price\"].mean())\n",
    "\n",
    "# Get data\n",
    "top_sold_products = transactions.groupby(\"article_id\")[\"price\"].max().reset_index()\\\n",
    "                                        .sort_values(\"price\", ascending=False).head(15)\n",
    "top_sold_products.columns = [\"article_id\", \"price\"]\n",
    "top_sold_products = pd.merge(top_sold_products, articles, on=\"article_id\")[[\"article_id\", \"price\", \"prod_name\"]]\n",
    "\n",
    "clrs = [\"#E90B60\" if x==max(top_sold_products[\"price\"]) else '#AF0848' for x in top_sold_products[\"price\"]]\n",
    "\n",
    "# Get images\n",
    "image_paths = [path for path in articles[articles[\"article_id\"].isin(top_sold_products[\"article_id\"].tolist())][\"path\"].tolist() \n",
    "               if path != None]\n",
    "image_names = articles[articles[\"path\"].isin(image_paths)][\"prod_name\"].tolist()\n",
    "\n",
    "# Plot\n",
    "fig, axs = plt.subplots(3, 5, figsize=(23, 10))\n",
    "fig.suptitle('- Most Expensive Products -', size=22, weight=\"bold\")\n",
    "axs = axs.flatten()\n",
    "\n",
    "for k, (path, name) in enumerate(zip(image_paths, image_names)):\n",
    "    prc = top_sold_products[top_sold_products[\"prod_name\"]==name][\"price\"].values[0]\n",
    "    axs[k].set_title(f\"{name} : {round(prc, 3)}\", size = 16)\n",
    "    img = plt.imread(path)\n",
    "    axs[k].imshow(img)\n",
    "    axs[k].axis(\"off\")\n",
    "\n",
    "# for a in [-1, -2]: axs[a].set_visible(False)\n",
    "plt.tight_layout()\n",
    "plt.show()"
   ]
  },
  {
   "cell_type": "markdown",
   "metadata": {},
   "source": [
    "---"
   ]
  },
  {
   "cell_type": "code",
   "execution_count": null,
   "metadata": {
    "_kg_hide-input": true,
    "execution": {
     "iopub.execute_input": "2022-03-30T09:09:30.699939Z",
     "iopub.status.busy": "2022-03-30T09:09:30.699545Z",
     "iopub.status.idle": "2022-03-30T09:10:41.847045Z",
     "shell.execute_reply": "2022-03-30T09:10:41.846215Z",
     "shell.execute_reply.started": "2022-03-30T09:09:30.699903Z"
    },
    "jupyter": {
     "source_hidden": true
    }
   },
   "outputs": [],
   "source": [
    "# Data\n",
    "basket = transactions.groupby(\"customer_id\").agg({'article_id':'count', \n",
    "                                                  'price': 'sum'}).reset_index()\n",
    "basket.columns = [\"customer_id\", \"units\", \"order_price\"]\n",
    "\n",
    "print(clr.S+\"=== UNITS/ORDER ===\"+clr.E)\n",
    "print(clr.S+\"Maximum Units/Order is:\"+clr.E, basket[\"units\"].max(), \"\\n\" +\n",
    "      clr.S+\"Minimum Units/Order is:\"+clr.E, basket[\"units\"].min(), \"\\n\" +\n",
    "      clr.S+\"Average Units/Order is:\"+clr.E, basket[\"units\"].mean(), \"\\n\")\n",
    "\n",
    "print(clr.S+\"=== SPENDING/ORDER ===\"+clr.E)\n",
    "print(clr.S+\"Maximum Spending/Order is:\"+clr.E, basket[\"order_price\"].max(), \"\\n\" +\n",
    "      clr.S+\"Minimum Spending/Order is:\"+clr.E, basket[\"order_price\"].min(), \"\\n\" +\n",
    "      clr.S+\"Average Spending/Order is:\"+clr.E, basket[\"order_price\"].mean())\n",
    "\n",
    "# Plot\n",
    "plt.figure(figsize=(24, 15))\n",
    "plt.suptitle('- Order Attributes -', size=22, weight=\"bold\")\n",
    "\n",
    "ax1 = plt.subplot(2,2,1)\n",
    "ax2 = plt.subplot(2,2,2)\n",
    "ax3 = plt.subplot(2,1,2)\n",
    "\n",
    "sns.distplot(basket[\"units\"], color=my_colors[-3], ax=ax1,\n",
    "             hist_kws=dict(edgecolor=my_colors[-3]))\n",
    "ax1.set_title(\"Units/Order Distribution\", size=18, weight=\"bold\")\n",
    "ax1.set_ylabel(\"\")\n",
    "\n",
    "sns.distplot(basket[\"order_price\"], color=my_colors[-5], ax=ax2,\n",
    "             hist_kws=dict(edgecolor=my_colors[-5]))\n",
    "ax2.set_title(\"Spending/Order Distribution\", size=18, weight=\"bold\")\n",
    "ax2.set_ylabel(\"\")\n",
    "\n",
    "sns.scatterplot(data=basket, x=\"units\", y=\"order_price\", hue=\"units\", palette=\"mako\", \n",
    "                legend=None, ax=ax3)\n",
    "ax3.set_title(\"Units x Price Correlation\", size=18, weight=\"bold\")\n",
    "ax3.set_ylabel(\"Spending per Order\")\n",
    "ax3.set_xlabel(\"Units per Order\")\n",
    "\n",
    "sns.despine(left=True, bottom=True)\n",
    "plt.subplots_adjust(left=None, bottom=None, right=None, top=None, wspace=None, hspace=None);"
   ]
  },
  {
   "cell_type": "code",
   "execution_count": null,
   "metadata": {
    "execution": {
     "iopub.execute_input": "2022-03-30T09:10:41.852269Z",
     "iopub.status.busy": "2022-03-30T09:10:41.851616Z",
     "iopub.status.idle": "2022-03-30T09:10:49.829185Z",
     "shell.execute_reply": "2022-03-30T09:10:49.828385Z",
     "shell.execute_reply.started": "2022-03-30T09:10:41.852235Z"
    }
   },
   "outputs": [],
   "source": [
    "# 🐝 Log parameters\n",
    "wandb.log({\"average_units_per_order\" : basket[\"units\"].mean(),\n",
    "           \"average_spending_per_order\" : basket[\"order_price\"].mean()})\n",
    "\n",
    "wandb.finish()"
   ]
  },
  {
   "cell_type": "code",
   "execution_count": null,
   "metadata": {
    "execution": {
     "iopub.execute_input": "2022-03-30T09:10:49.831395Z",
     "iopub.status.busy": "2022-03-30T09:10:49.830566Z",
     "iopub.status.idle": "2022-03-30T09:11:26.391235Z",
     "shell.execute_reply": "2022-03-30T09:11:26.389492Z",
     "shell.execute_reply.started": "2022-03-30T09:10:49.831357Z"
    }
   },
   "outputs": [],
   "source": [
    "# 🐝 Save the updated `transactions` file.\n",
    "# transactions.to_parquet('transactions.pqt', index=False)\n",
    "\n",
    "save_dataset_artifact(run_name=\"save_transactions\", artifact_name=\"transactions\",\n",
    "                      path=\"../input/hm-fashion-recommender-dataset/transactions.pqt\")"
   ]
  },
  {
   "cell_type": "code",
   "execution_count": null,
   "metadata": {
    "execution": {
     "iopub.execute_input": "2022-03-30T09:11:26.393275Z",
     "iopub.status.busy": "2022-03-30T09:11:26.393004Z",
     "iopub.status.idle": "2022-03-30T09:11:29.198866Z",
     "shell.execute_reply": "2022-03-30T09:11:29.198076Z",
     "shell.execute_reply.started": "2022-03-30T09:11:26.393238Z"
    }
   },
   "outputs": [],
   "source": [
    "del articles, customers, transactions, ss\n",
    "del top_sold_products, prod_appearance, prod_color, prod_name\n",
    "gc.collect()"
   ]
  },
  {
   "cell_type": "markdown",
   "metadata": {},
   "source": [
    "<img src=\"https://i.imgur.com/nMuocgz.png\">\n",
    "\n",
    "# 5. Market Basket Analysis\n",
    "\n",
    "**What is a Recommender System**?\n",
    "\n",
    "A recommender system is not more or less than an algorithm that tries to predict the preference on an object or concept based on somebody's preferences for other objects or concepts.\n",
    "\n",
    "This can apply to **anything**: movies, songs, books, amazon orders, clothing or just Google Engine searches.\n",
    "\n",
    "<center><img src=\"https://i.imgur.com/qKG6v9l.png\" width=500></center>\n",
    "\n",
    "> 🛍 **Turicreate**: we will be using `turicreate` model in order to create recommendations for users based on their previous purchases. For more details about the library you can [read the documentation](https://github.com/apple/turicreate). My main inspiration was this amazing article [How to Build a Recommendation System for Purchase Data (Step-by-Step)](https://medium.datadriveninvestor.com/how-to-build-a-recommendation-system-for-purchase-data-step-by-step-d6d7a78800b6).\n",
    "\n",
    "> 🛍 **RAPIDS**: as RAPIDS outperformes pandas whenever we have large datasets, I will be using it to prepare the data."
   ]
  },
  {
   "cell_type": "code",
   "execution_count": null,
   "metadata": {
    "_kg_hide-output": true,
    "collapsed": true,
    "execution": {
     "iopub.execute_input": "2022-04-01T13:42:58.131638Z",
     "iopub.status.busy": "2022-04-01T13:42:58.131398Z",
     "iopub.status.idle": "2022-04-01T13:43:43.241657Z",
     "shell.execute_reply": "2022-04-01T13:43:43.240879Z",
     "shell.execute_reply.started": "2022-04-01T13:42:58.13161Z"
    },
    "jupyter": {
     "outputs_hidden": true
    }
   },
   "outputs": [],
   "source": [
    "!pip install turicreate --user\n",
    "\n",
    "import turicreate as tc\n",
    "import cudf\n",
    "import cuml\n",
    "import cupy\n",
    "\n",
    "from cuml.model_selection import train_test_split"
   ]
  },
  {
   "cell_type": "code",
   "execution_count": null,
   "metadata": {
    "execution": {
     "iopub.execute_input": "2022-04-01T14:21:04.01939Z",
     "iopub.status.busy": "2022-04-01T14:21:04.018718Z",
     "iopub.status.idle": "2022-04-01T14:21:04.967825Z",
     "shell.execute_reply": "2022-04-01T14:21:04.96707Z",
     "shell.execute_reply.started": "2022-04-01T14:21:04.019355Z"
    }
   },
   "outputs": [],
   "source": [
    "# Read in RAPIDS dataframes\n",
    "transactions = cudf.read_parquet(\"../input/hm-fashion-recommender-dataset/transactions.pqt\")"
   ]
  },
  {
   "cell_type": "markdown",
   "metadata": {},
   "source": [
    "### Faster & Lighter dataframe\n",
    "\n",
    "I will be using Chris's Deotte [trick within this discussion post](https://www.kaggle.com/competitions/h-and-m-personalized-fashion-recommendations/discussion/308635) to make the dataframes lighter."
   ]
  },
  {
   "cell_type": "code",
   "execution_count": null,
   "metadata": {
    "execution": {
     "iopub.execute_input": "2022-04-01T14:21:04.969523Z",
     "iopub.status.busy": "2022-04-01T14:21:04.969286Z",
     "iopub.status.idle": "2022-04-01T14:21:05.452896Z",
     "shell.execute_reply": "2022-04-01T14:21:05.452166Z",
     "shell.execute_reply.started": "2022-04-01T14:21:04.96949Z"
    }
   },
   "outputs": [],
   "source": [
    "# Keep only last 16 digits from customer_id and convert to int\n",
    "transactions['customer_id'] = transactions['customer_id'].str[-16:].str.hex_to_int().astype('int64')\n",
    "# Convert article_id from object to int32\n",
    "# transactions['article_id'] = transactions['article_id'].astype('int32')\n",
    "# Convert date from object to datetime\n",
    "transactions['t_dat'] = cudf.to_datetime(transactions['t_dat'])\n",
    "\n",
    "transactions = transactions[['t_dat','customer_id','article_id']]"
   ]
  },
  {
   "cell_type": "markdown",
   "metadata": {},
   "source": [
    "### Decrease dataset size\n",
    "\n",
    "🛍 I will decrease the dataset size as following:\n",
    "* Select only **TOP_N most frequently bought articles** - as there are 104,547 unique article IDs, the training dataframe would be extremely wide and the notebook would run out of memory. Hence, for showcasing purposes I have set the TOP_N used in this notebook to be very low (only 200 ids are used).\n",
    "* Get only customers with many transactions (as customers with only 1 purchased item are harder to evaluate by the model)."
   ]
  },
  {
   "cell_type": "code",
   "execution_count": null,
   "metadata": {
    "execution": {
     "iopub.execute_input": "2022-04-01T14:21:05.454533Z",
     "iopub.status.busy": "2022-04-01T14:21:05.454297Z",
     "iopub.status.idle": "2022-04-01T14:21:05.458441Z",
     "shell.execute_reply": "2022-04-01T14:21:05.457639Z",
     "shell.execute_reply.started": "2022-04-01T14:21:05.454499Z"
    }
   },
   "outputs": [],
   "source": [
    "# ------ PARAMETERS ------\n",
    "TOP_CUSTOMERS = 300000\n",
    "TOP_N = 200\n",
    "# ------------------------"
   ]
  },
  {
   "cell_type": "code",
   "execution_count": null,
   "metadata": {
    "execution": {
     "iopub.execute_input": "2022-04-01T14:21:05.834526Z",
     "iopub.status.busy": "2022-04-01T14:21:05.833974Z",
     "iopub.status.idle": "2022-04-01T14:21:06.157801Z",
     "shell.execute_reply": "2022-04-01T14:21:06.156981Z",
     "shell.execute_reply.started": "2022-04-01T14:21:05.83449Z"
    }
   },
   "outputs": [],
   "source": [
    "# Select only most frequent article ids\n",
    "most_frequent_articles = transactions[\"article_id\"].value_counts().reset_index()\n",
    "most_frequent_articles.columns = [\"article_id\", \"count\"]\n",
    "print(clr.S+\"Total Unique IDs in Transactions:\"+clr.E, len(most_frequent_articles))\n",
    "print(clr.S+\"Total Unique IDs that are selected:\"+clr.E, TOP_N)\n",
    "# Get top n most frequent products\n",
    "most_frequent_articles = cupy.asarray(most_frequent_articles.head(TOP_N)[\"article_id\"])\n",
    "\n",
    "transactions = transactions[transactions[\"article_id\"].isin(most_frequent_articles)].reset_index(drop=True)"
   ]
  },
  {
   "cell_type": "code",
   "execution_count": null,
   "metadata": {
    "execution": {
     "iopub.execute_input": "2022-04-01T14:21:07.541077Z",
     "iopub.status.busy": "2022-04-01T14:21:07.540377Z",
     "iopub.status.idle": "2022-04-01T14:21:07.730053Z",
     "shell.execute_reply": "2022-04-01T14:21:07.729227Z",
     "shell.execute_reply.started": "2022-04-01T14:21:07.541038Z"
    }
   },
   "outputs": [],
   "source": [
    "# Get customers with many transactions on these TOP_N items\n",
    "customers_top_trans = list(transactions[\"customer_id\"].value_counts().reset_index()\\\n",
    "                            .head(TOP_CUSTOMERS)[\"index\"].unique().to_pandas())\n",
    "transactions = transactions[transactions[\"customer_id\"].isin(customers_top_trans)].reset_index(drop=True)\n",
    "\n",
    "print(clr.S+\"Total unique users to recommend:\"+clr.E, transactions[\"customer_id\"].nunique())"
   ]
  },
  {
   "cell_type": "code",
   "execution_count": null,
   "metadata": {
    "execution": {
     "iopub.execute_input": "2022-04-01T14:21:10.503327Z",
     "iopub.status.busy": "2022-04-01T14:21:10.503043Z",
     "iopub.status.idle": "2022-04-01T14:21:10.704129Z",
     "shell.execute_reply": "2022-04-01T14:21:10.703463Z",
     "shell.execute_reply.started": "2022-04-01T14:21:10.503293Z"
    }
   },
   "outputs": [],
   "source": [
    "del most_frequent_articles, customers_top_trans\n",
    "gc.collect()"
   ]
  },
  {
   "cell_type": "markdown",
   "metadata": {},
   "source": [
    "# 6. Prepare Datasets\n",
    "\n",
    "We will be preparing 3 distinct datasets as follows:\n",
    "\n",
    "<center><img src=\"https://i.imgur.com/ODESQDe.png\" width=700></center>\n",
    "\n",
    "### I. Train Dataset"
   ]
  },
  {
   "cell_type": "code",
   "execution_count": null,
   "metadata": {
    "execution": {
     "iopub.execute_input": "2022-04-01T14:21:12.302675Z",
     "iopub.status.busy": "2022-04-01T14:21:12.302408Z",
     "iopub.status.idle": "2022-04-01T14:21:12.339143Z",
     "shell.execute_reply": "2022-04-01T14:21:12.338487Z",
     "shell.execute_reply.started": "2022-04-01T14:21:12.302646Z"
    }
   },
   "outputs": [],
   "source": [
    "# Count per each customer how many products of each they have bought\n",
    "train = transactions.groupby([\"customer_id\",\"article_id\"])[\"t_dat\"].count().reset_index()\n",
    "train.columns = [\"customer_id\",\"article_id\", \"purchase_count\"]\n",
    "\n",
    "train.head()"
   ]
  },
  {
   "cell_type": "markdown",
   "metadata": {},
   "source": [
    "### II. Dummy Dataset"
   ]
  },
  {
   "cell_type": "code",
   "execution_count": null,
   "metadata": {
    "execution": {
     "iopub.execute_input": "2022-04-01T14:21:13.393638Z",
     "iopub.status.busy": "2022-04-01T14:21:13.393078Z",
     "iopub.status.idle": "2022-04-01T14:21:13.415795Z",
     "shell.execute_reply": "2022-04-01T14:21:13.415066Z",
     "shell.execute_reply.started": "2022-04-01T14:21:13.393581Z"
    }
   },
   "outputs": [],
   "source": [
    "dummy_train = train.copy()\n",
    "dummy_train['purchase_dummy'] = 1\n",
    "\n",
    "dummy_train.head()"
   ]
  },
  {
   "cell_type": "markdown",
   "metadata": {},
   "source": [
    "### III. Normalized Dataset"
   ]
  },
  {
   "cell_type": "code",
   "execution_count": null,
   "metadata": {
    "execution": {
     "iopub.execute_input": "2022-04-01T14:21:14.499272Z",
     "iopub.status.busy": "2022-04-01T14:21:14.498566Z",
     "iopub.status.idle": "2022-04-01T14:21:14.50546Z",
     "shell.execute_reply": "2022-04-01T14:21:14.50463Z",
     "shell.execute_reply.started": "2022-04-01T14:21:14.499236Z"
    }
   },
   "outputs": [],
   "source": [
    "def normalize_data(data):\n",
    "    \n",
    "    # Create matrix with customers on rows and articles ad columns\n",
    "    # Using pandas here due to an error in cudf\n",
    "    df_matrix = cudf.DataFrame(pd.pivot(data.to_pandas(), columns=\"article_id\",\n",
    "                                        index=\"customer_id\", values=\"purchase_count\"))\n",
    "    # Normalize\n",
    "    df_matrix_norm = (df_matrix-df_matrix.min())/(df_matrix.max()-df_matrix.min())\n",
    "    d = df_matrix_norm.reset_index()\n",
    "    d.index.names = ['scaled_purchase_freq']\n",
    "    \n",
    "    # Recreate df with each customer and the 'label' whether they purchased the product or not\n",
    "    final = cudf.melt(d, id_vars=['customer_id'], value_name='scaled_purchase_freq').dropna()\n",
    "    final.columns = [\"customer_id\", \"article_id\", \"scaled_purchase_freq\"]\n",
    "    final = final.reset_index(drop=True)\n",
    "    \n",
    "    return final"
   ]
  },
  {
   "cell_type": "code",
   "execution_count": null,
   "metadata": {
    "execution": {
     "iopub.execute_input": "2022-04-01T14:21:15.399956Z",
     "iopub.status.busy": "2022-04-01T14:21:15.399409Z",
     "iopub.status.idle": "2022-04-01T14:21:25.745926Z",
     "shell.execute_reply": "2022-04-01T14:21:25.74507Z",
     "shell.execute_reply.started": "2022-04-01T14:21:15.399917Z"
    }
   },
   "outputs": [],
   "source": [
    "# Normalize count dataset\n",
    "norm_train = normalize_data(data=train)\n",
    "\n",
    "norm_train.head()"
   ]
  },
  {
   "cell_type": "markdown",
   "metadata": {},
   "source": [
    "# 7. Data Validation"
   ]
  },
  {
   "cell_type": "code",
   "execution_count": null,
   "metadata": {
    "execution": {
     "iopub.execute_input": "2022-04-01T15:12:27.761815Z",
     "iopub.status.busy": "2022-04-01T15:12:27.761236Z",
     "iopub.status.idle": "2022-04-01T15:12:27.76664Z",
     "shell.execute_reply": "2022-04-01T15:12:27.765824Z",
     "shell.execute_reply.started": "2022-04-01T15:12:27.761773Z"
    }
   },
   "outputs": [],
   "source": [
    "def split_data(data):\n",
    "    \n",
    "    train, test = train_test_split(data, test_size=0.3)\n",
    "    train_data = tc.SFrame(train.to_pandas())\n",
    "    test_data = tc.SFrame(test.to_pandas())\n",
    "    \n",
    "    return train_data, test_data"
   ]
  },
  {
   "cell_type": "code",
   "execution_count": null,
   "metadata": {
    "execution": {
     "iopub.execute_input": "2022-04-01T15:12:35.614461Z",
     "iopub.status.busy": "2022-04-01T15:12:35.614206Z",
     "iopub.status.idle": "2022-04-01T15:12:36.467836Z",
     "shell.execute_reply": "2022-04-01T15:12:36.467028Z",
     "shell.execute_reply.started": "2022-04-01T15:12:35.614432Z"
    }
   },
   "outputs": [],
   "source": [
    "# TODO: fix norm_train error\n",
    "train_data, test_data = split_data(train)\n",
    "train_data_dummy, test_data_dummy = split_data(dummy_train)\n",
    "# train_data_norm, test_data_norm = split_data(norm_train)"
   ]
  },
  {
   "cell_type": "markdown",
   "metadata": {},
   "source": [
    "# 8. Models"
   ]
  },
  {
   "cell_type": "code",
   "execution_count": null,
   "metadata": {
    "execution": {
     "iopub.execute_input": "2022-04-01T14:21:26.606464Z",
     "iopub.status.busy": "2022-04-01T14:21:26.606073Z",
     "iopub.status.idle": "2022-04-01T14:21:26.688703Z",
     "shell.execute_reply": "2022-04-01T14:21:26.688056Z",
     "shell.execute_reply.started": "2022-04-01T14:21:26.606434Z"
    }
   },
   "outputs": [],
   "source": [
    "# ------ PARAMETERS ------\n",
    "user_id = 'customer_id'\n",
    "item_id = 'article_id'\n",
    "users_to_recommend = list(train[\"customer_id\"].unique().to_pandas())\n",
    "# ------------------------"
   ]
  },
  {
   "cell_type": "code",
   "execution_count": null,
   "metadata": {
    "execution": {
     "iopub.execute_input": "2022-04-01T14:21:26.690807Z",
     "iopub.status.busy": "2022-04-01T14:21:26.690395Z",
     "iopub.status.idle": "2022-04-01T14:21:26.699323Z",
     "shell.execute_reply": "2022-04-01T14:21:26.698458Z",
     "shell.execute_reply.started": "2022-04-01T14:21:26.690772Z"
    }
   },
   "outputs": [],
   "source": [
    "def train_model(train_data, name, user_id, item_id, target, users_to_recommend):\n",
    "    '''\n",
    "    Trains a recommender model.\n",
    "    train_data: the training tc.SFrame()\n",
    "    name: can be 'popularity', 'cosine' or 'pearson'\n",
    "    user_id & item_id: the customer and article unique IDs\n",
    "    target: the value to be predicted, can be 'purchase_count', 'purchase_dummy' or 'scaled_purchase_freq'\n",
    "    users_to_recommend: a unique list containing all customers for which we do the prediction\n",
    "    '''\n",
    "    \n",
    "    if name == 'popularity':\n",
    "        model = tc.popularity_recommender.create(train_data, \n",
    "                                                 user_id=user_id, \n",
    "                                                 item_id=item_id, \n",
    "                                                 target=target, verbose=False)\n",
    "    elif name == 'cosine':\n",
    "        model = tc.item_similarity_recommender.create(train_data, \n",
    "                                                      user_id=user_id, \n",
    "                                                      item_id=item_id, \n",
    "                                                      target=target,\n",
    "                                                      similarity_type='cosine', verbose=False)\n",
    "    elif name == 'pearson':\n",
    "            model = tc.item_similarity_recommender.create(train_data, \n",
    "                                                          user_id=user_id, \n",
    "                                                          item_id=item_id, \n",
    "                                                          target=target, \n",
    "                                                          similarity_type='pearson', verbose=False)\n",
    "    \n",
    "    # k is set to 12 => maximum items to recommend for one customer\n",
    "    recom = model.recommend(users=users_to_recommend, k=12, verbose=False)\n",
    "    \n",
    "    return model, recom"
   ]
  },
  {
   "cell_type": "markdown",
   "metadata": {},
   "source": [
    "## 8.1 Popularity Recommender System\n",
    "\n",
    "> 🛍 **Popularity Algorithm**: this one recommends the most popular articles across all customers."
   ]
  },
  {
   "cell_type": "code",
   "execution_count": null,
   "metadata": {
    "execution": {
     "iopub.execute_input": "2022-04-01T14:21:30.005708Z",
     "iopub.status.busy": "2022-04-01T14:21:30.005256Z",
     "iopub.status.idle": "2022-04-01T14:25:25.58672Z",
     "shell.execute_reply": "2022-04-01T14:25:25.585841Z",
     "shell.execute_reply.started": "2022-04-01T14:21:30.005667Z"
    }
   },
   "outputs": [],
   "source": [
    "# --- TRAIN ---\n",
    "name = 'popularity'\n",
    "target = 'purchase_count'\n",
    "\n",
    "popularity_count, _ = train_model(train_data, name, user_id, item_id, target, users_to_recommend)\n",
    "# _.to_dataframe()[\"article_id\"].nunique()"
   ]
  },
  {
   "cell_type": "code",
   "execution_count": null,
   "metadata": {
    "execution": {
     "iopub.execute_input": "2022-04-01T14:26:26.947426Z",
     "iopub.status.busy": "2022-04-01T14:26:26.94688Z",
     "iopub.status.idle": "2022-04-01T14:30:25.124182Z",
     "shell.execute_reply": "2022-04-01T14:30:25.12332Z",
     "shell.execute_reply.started": "2022-04-01T14:26:26.947387Z"
    }
   },
   "outputs": [],
   "source": [
    "# --- DUMMY ---\n",
    "name = 'popularity'\n",
    "target = 'purchase_dummy'\n",
    "\n",
    "popularity_dummy, _ = train_model(train_data_dummy, name, user_id, item_id, target, users_to_recommend)"
   ]
  },
  {
   "cell_type": "markdown",
   "metadata": {},
   "source": [
    "## 8.2 Cosine Recommender System\n",
    "\n",
    "> 🛍 **Cosine Algorithm**: uses the *collaborative filtering* methodology to find how similar is a product from another."
   ]
  },
  {
   "cell_type": "code",
   "execution_count": null,
   "metadata": {
    "execution": {
     "iopub.execute_input": "2022-04-01T14:30:39.187739Z",
     "iopub.status.busy": "2022-04-01T14:30:39.187471Z",
     "iopub.status.idle": "2022-04-01T14:34:31.447672Z",
     "shell.execute_reply": "2022-04-01T14:34:31.44686Z",
     "shell.execute_reply.started": "2022-04-01T14:30:39.187705Z"
    }
   },
   "outputs": [],
   "source": [
    "# --- TRAIN ---\n",
    "name = 'cosine'\n",
    "target = 'purchase_count'\n",
    "\n",
    "cosine_count, _ = train_model(train_data, name, user_id, item_id, target, users_to_recommend)"
   ]
  },
  {
   "cell_type": "code",
   "execution_count": null,
   "metadata": {
    "execution": {
     "iopub.execute_input": "2022-04-01T14:34:45.459485Z",
     "iopub.status.busy": "2022-04-01T14:34:45.459244Z",
     "iopub.status.idle": "2022-04-01T14:38:50.35693Z",
     "shell.execute_reply": "2022-04-01T14:38:50.356187Z",
     "shell.execute_reply.started": "2022-04-01T14:34:45.459452Z"
    }
   },
   "outputs": [],
   "source": [
    "# --- DUMMY ---\n",
    "name = 'cosine'\n",
    "target = 'purchase_dummy'\n",
    "\n",
    "cosine_dummy, _ = train_model(train_data_dummy, name, user_id, item_id, target, users_to_recommend)"
   ]
  },
  {
   "cell_type": "markdown",
   "metadata": {},
   "source": [
    "## 8.3 Pearson Recommender System\n",
    "\n",
    "> 🛍 **Pearson Algorithm**: as explained in the Cosine Algorithm, this also uses the *collaborative filtering* methodology to find how similar is a product from another."
   ]
  },
  {
   "cell_type": "code",
   "execution_count": null,
   "metadata": {
    "execution": {
     "iopub.execute_input": "2022-04-01T14:39:04.050003Z",
     "iopub.status.busy": "2022-04-01T14:39:04.049761Z",
     "iopub.status.idle": "2022-04-01T14:42:53.667374Z",
     "shell.execute_reply": "2022-04-01T14:42:53.666645Z",
     "shell.execute_reply.started": "2022-04-01T14:39:04.049977Z"
    }
   },
   "outputs": [],
   "source": [
    "# --- TRAIN ---\n",
    "name = 'pearson'\n",
    "target = 'purchase_count'\n",
    "\n",
    "pearson_count, _ = train_model(train_data, name, user_id, item_id, target, users_to_recommend)"
   ]
  },
  {
   "cell_type": "code",
   "execution_count": null,
   "metadata": {
    "execution": {
     "iopub.execute_input": "2022-04-01T14:43:08.41906Z",
     "iopub.status.busy": "2022-04-01T14:43:08.416835Z",
     "iopub.status.idle": "2022-04-01T14:47:04.781769Z",
     "shell.execute_reply": "2022-04-01T14:47:04.781022Z",
     "shell.execute_reply.started": "2022-04-01T14:43:08.419019Z"
    }
   },
   "outputs": [],
   "source": [
    "# --- DUMMY ---\n",
    "name = 'pearson'\n",
    "target = 'purchase_dummy'\n",
    "\n",
    "pearson_dummy, _ = train_model(train_data_dummy, name, user_id, item_id, target, users_to_recommend)"
   ]
  },
  {
   "cell_type": "markdown",
   "metadata": {},
   "source": [
    "## 8.4 Evaluate\n",
    "\n",
    "> 🛍 **Note**: The tables below show the **RMSE, Mean Precision & Mean Recall** output from the 3 algorithms (Popularity, Cosine and Pearson) on 2 types of datasets: Count and Dummy (for mor details you can check out the `eval_counts.txt` and `eval_dummy.txt` files available in [my dataset](https://www.kaggle.com/datasets/andradaolteanu/hm-fashion-recommender-dataset))\n",
    "\n",
    "<center><img src=\"https://i.imgur.com/8LP7Cr4.png\" width=900></center>\n",
    "\n",
    "*Side note: I have commented the cells below so that the notebook commits faster - all the results are in `eval_counts.txt` and `eval_dummy.txt` files available in [this dataset](https://www.kaggle.com/datasets/andradaolteanu/hm-fashion-recommender-dataset)*"
   ]
  },
  {
   "cell_type": "code",
   "execution_count": null,
   "metadata": {
    "execution": {
     "iopub.execute_input": "2022-04-01T14:48:31.829709Z",
     "iopub.status.busy": "2022-04-01T14:48:31.82934Z",
     "iopub.status.idle": "2022-04-01T14:48:31.834392Z",
     "shell.execute_reply": "2022-04-01T14:48:31.833653Z",
     "shell.execute_reply.started": "2022-04-01T14:48:31.829671Z"
    }
   },
   "outputs": [],
   "source": [
    "# Group all models per type of dataset\n",
    "model_counts = [popularity_count, cosine_count, pearson_count]\n",
    "models_dummy = [popularity_dummy, cosine_dummy, pearson_dummy]\n",
    "\n",
    "names_counts = ['Popularity Model on Purchase Counts', 'Cosine Similarity on Purchase Counts',\n",
    "                'Pearson Similarity on Purchase Counts']\n",
    "names_dummy = ['Popularity Model on Purchase Dummy', 'Cosine Similarity on Purchase Dummy',\n",
    "               'Pearson Similarity on Purchase Dummy']\n",
    "\n",
    "# # Evaluate the models\n",
    "# eval_counts = tc.recommender.util.compare_models(test_data, model_counts, model_names=names_counts, verbose=False)\n",
    "# eval_dummy = tc.recommender.util.compare_models(test_data_dummy, models_dummy, model_names=names_dummy, verbose=False)"
   ]
  },
  {
   "cell_type": "code",
   "execution_count": null,
   "metadata": {
    "_kg_hide-input": true,
    "execution": {
     "iopub.execute_input": "2022-04-01T14:48:34.02281Z",
     "iopub.status.busy": "2022-04-01T14:48:34.022114Z",
     "iopub.status.idle": "2022-04-01T14:48:34.026523Z",
     "shell.execute_reply": "2022-04-01T14:48:34.025629Z",
     "shell.execute_reply.started": "2022-04-01T14:48:34.022756Z"
    },
    "jupyter": {
     "source_hidden": true
    }
   },
   "outputs": [],
   "source": [
    "# # Print outputs to .txt files\n",
    "# f = open(\"eval_counts.txt\", \"a\")\n",
    "# print(eval_counts, file=f)\n",
    "# f.close()\n",
    "\n",
    "# f = open(\"eval_dummy.txt\", \"a\")\n",
    "# print(eval_dummy, file=f)\n",
    "# f.close()"
   ]
  },
  {
   "cell_type": "code",
   "execution_count": null,
   "metadata": {
    "execution": {
     "iopub.execute_input": "2022-04-01T14:48:35.202554Z",
     "iopub.status.busy": "2022-04-01T14:48:35.201905Z",
     "iopub.status.idle": "2022-04-01T14:49:04.040988Z",
     "shell.execute_reply": "2022-04-01T14:49:04.039964Z",
     "shell.execute_reply.started": "2022-04-01T14:48:35.202516Z"
    }
   },
   "outputs": [],
   "source": [
    "# 🐝 Save the updated `articles` file.\n",
    "save_dataset_artifact(run_name=\"save_output_counts\", artifact_name=\"counts_results\",\n",
    "                      path=\"../input/hm-fashion-recommender-dataset/eval_counts.txt\")\n",
    "\n",
    "save_dataset_artifact(run_name=\"save_output_dummy\", artifact_name=\"dummy_results\",\n",
    "                      path=\"../input/hm-fashion-recommender-dataset/eval_dummy.txt\")"
   ]
  },
  {
   "cell_type": "code",
   "execution_count": null,
   "metadata": {
    "execution": {
     "iopub.execute_input": "2022-04-01T14:49:04.043874Z",
     "iopub.status.busy": "2022-04-01T14:49:04.043213Z",
     "iopub.status.idle": "2022-04-01T14:49:04.28436Z",
     "shell.execute_reply": "2022-04-01T14:49:04.283579Z",
     "shell.execute_reply.started": "2022-04-01T14:49:04.043827Z"
    }
   },
   "outputs": [],
   "source": [
    "del popularity_count, cosine_count, pearson_count\n",
    "del popularity_dummy, cosine_dummy, pearson_dummy\n",
    "gc.collect()"
   ]
  },
  {
   "cell_type": "markdown",
   "metadata": {},
   "source": [
    "# 9. Prediction\n",
    "\n",
    "## 9.1 Predictions using the Recommender System"
   ]
  },
  {
   "cell_type": "code",
   "execution_count": null,
   "metadata": {
    "execution": {
     "iopub.execute_input": "2022-04-01T15:00:55.969341Z",
     "iopub.status.busy": "2022-04-01T15:00:55.969061Z",
     "iopub.status.idle": "2022-04-01T15:00:55.973572Z",
     "shell.execute_reply": "2022-04-01T15:00:55.97264Z",
     "shell.execute_reply.started": "2022-04-01T15:00:55.969313Z"
    }
   },
   "outputs": [],
   "source": [
    "METHOD = \"cosine\"\n",
    "TARGET = \"purchase_dummy\"\n",
    "\n",
    "# 🐝 W&B Experiment\n",
    "run = wandb.init(project='HandM', name=f'{METHOD}_customers{TOP_CUSTOMERS}_topArticles{TOP_N}', config=CONFIG)"
   ]
  },
  {
   "cell_type": "code",
   "execution_count": null,
   "metadata": {
    "execution": {
     "iopub.execute_input": "2022-04-01T15:00:57.280203Z",
     "iopub.status.busy": "2022-04-01T15:00:57.279355Z",
     "iopub.status.idle": "2022-04-01T15:05:17.630118Z",
     "shell.execute_reply": "2022-04-01T15:05:17.629437Z",
     "shell.execute_reply.started": "2022-04-01T15:00:57.280151Z"
    }
   },
   "outputs": [],
   "source": [
    "# Final Model Training\n",
    "final_model = tc.item_similarity_recommender.create(tc.SFrame(dummy_train.to_pandas()), \n",
    "                                                    user_id=user_id, \n",
    "                                                    item_id=item_id, \n",
    "                                                    target=TARGET,\n",
    "                                                    similarity_type=METHOD,\n",
    "                                                    verbose=False)\n",
    "\n",
    "recom = final_model.recommend(users=users_to_recommend, k=12, verbose=False)\n",
    "\n",
    "# Convert to dataframe\n",
    "recom_df = recom.to_dataframe()\n",
    "\n",
    "print(clr.S+\"12 Recommendations for each Customer:\"+clr.E)\n",
    "recom_df.head(12)"
   ]
  },
  {
   "cell_type": "code",
   "execution_count": null,
   "metadata": {
    "execution": {
     "iopub.execute_input": "2022-04-01T15:05:17.632182Z",
     "iopub.status.busy": "2022-04-01T15:05:17.63191Z",
     "iopub.status.idle": "2022-04-01T15:06:11.969153Z",
     "shell.execute_reply": "2022-04-01T15:06:11.968419Z",
     "shell.execute_reply.started": "2022-04-01T15:05:17.632145Z"
    }
   },
   "outputs": [],
   "source": [
    "# Adjust ID\n",
    "recom_df[\"article_id\"] = recom_df[\"article_id\"].apply(lambda x: adjust_id(x))\n",
    "\n",
    "# Map all article_ids per 1 customer (like in submission file)\n",
    "all_preds = recom_df.groupby(\"customer_id\")[\"article_id\"].unique().to_dict()\n",
    "recom_df[\"preds\"] = recom_df[\"customer_id\"].map(all_preds)\n",
    "recom_df[\"preds\"] = recom_df[\"preds\"].apply(lambda x: \" \".join([str(y) for y in x]))\n",
    "\n",
    "recom_df = recom_df.groupby(\"customer_id\")[\"preds\"].first().reset_index()"
   ]
  },
  {
   "cell_type": "code",
   "execution_count": null,
   "metadata": {
    "execution": {
     "iopub.execute_input": "2022-04-01T15:06:11.970942Z",
     "iopub.status.busy": "2022-04-01T15:06:11.970668Z",
     "iopub.status.idle": "2022-04-01T15:06:11.974469Z",
     "shell.execute_reply": "2022-04-01T15:06:11.973755Z",
     "shell.execute_reply.started": "2022-04-01T15:06:11.970905Z"
    }
   },
   "outputs": [],
   "source": [
    "# 🐝 Log CV score\n",
    "wandb.log({\"TOP_CUSTOMERS\" : TOP_CUSTOMERS,\n",
    "              \"TOP_N\" : TOP_N,\n",
    "              \"METHOD\" : METHOD,\n",
    "              \"TARGET\": TARGET,\n",
    "              \"CV\" : 0.0051})\n",
    "\n",
    "wandb.finish()"
   ]
  },
  {
   "cell_type": "markdown",
   "metadata": {},
   "source": [
    "### Make Submission"
   ]
  },
  {
   "cell_type": "code",
   "execution_count": null,
   "metadata": {
    "execution": {
     "iopub.execute_input": "2022-04-01T15:06:11.977298Z",
     "iopub.status.busy": "2022-04-01T15:06:11.976765Z",
     "iopub.status.idle": "2022-04-01T15:06:12.214168Z",
     "shell.execute_reply": "2022-04-01T15:06:12.213429Z",
     "shell.execute_reply.started": "2022-04-01T15:06:11.97726Z"
    }
   },
   "outputs": [],
   "source": [
    "# Import sample submission\n",
    "ss = cudf.read_csv(\"../input/h-and-m-personalized-fashion-recommendations/sample_submission.csv\")\n",
    "ss['customer_id_new'] = ss['customer_id'].str[-16:].str.hex_to_int().astype('int64')"
   ]
  },
  {
   "cell_type": "code",
   "execution_count": null,
   "metadata": {
    "execution": {
     "iopub.execute_input": "2022-04-01T15:06:12.215878Z",
     "iopub.status.busy": "2022-04-01T15:06:12.215626Z",
     "iopub.status.idle": "2022-04-01T15:06:12.452317Z",
     "shell.execute_reply": "2022-04-01T15:06:12.451597Z",
     "shell.execute_reply.started": "2022-04-01T15:06:12.215842Z"
    }
   },
   "outputs": [],
   "source": [
    "# Merge with predicted preds\n",
    "ss = ss.merge(cudf.DataFrame(recom_df[[\"customer_id\", \"preds\"]]), \n",
    "              left_on=\"customer_id_new\", right_on=\"customer_id\", how=\"left\")"
   ]
  },
  {
   "cell_type": "markdown",
   "metadata": {},
   "source": [
    "## 9.2 Prediction using Common Sense\n",
    "\n",
    "Because we **cannot predict every customer using the Recommender Systems** (because the dataset is too large), we will have to use other *simpler* methods to predict the rest of the customers.\n",
    "\n",
    "I was heavily inspired by Chris' Deotte's [notebook](https://www.kaggle.com/code/cdeotte/recommend-items-purchased-together-0-021/notebook) fot his next section (which is as of now **work in progress**)."
   ]
  },
  {
   "cell_type": "code",
   "execution_count": null,
   "metadata": {
    "execution": {
     "iopub.execute_input": "2022-04-01T15:06:12.45372Z",
     "iopub.status.busy": "2022-04-01T15:06:12.453446Z",
     "iopub.status.idle": "2022-04-01T15:06:20.098491Z",
     "shell.execute_reply": "2022-04-01T15:06:20.097768Z",
     "shell.execute_reply.started": "2022-04-01T15:06:12.453684Z"
    }
   },
   "outputs": [],
   "source": [
    "# Read in RAPIDS dataframes\n",
    "transactions = cudf.read_parquet(\"../input/hm-fashion-recommender-dataset/transactions.pqt\")\n",
    "print(clr.S+\"Unique customer IDs:\"+clr.E, transactions[\"customer_id\"].nunique())\n",
    "\n",
    "transactions['customer_id'] = transactions['customer_id'].str[-16:].str.hex_to_int().astype('int64')\n",
    "transactions['t_dat'] = cudf.to_datetime(transactions['t_dat'])\n",
    "transactions = transactions[['t_dat','customer_id','article_id']]"
   ]
  },
  {
   "cell_type": "code",
   "execution_count": null,
   "metadata": {
    "execution": {
     "iopub.execute_input": "2022-04-01T15:06:20.100168Z",
     "iopub.status.busy": "2022-04-01T15:06:20.099914Z",
     "iopub.status.idle": "2022-04-01T15:06:20.457563Z",
     "shell.execute_reply": "2022-04-01T15:06:20.456773Z",
     "shell.execute_reply.started": "2022-04-01T15:06:20.100132Z"
    }
   },
   "outputs": [],
   "source": [
    "# Compute last purchase date\n",
    "max_date = transactions.groupby('customer_id')[\"t_dat\"].max().reset_index()\n",
    "max_date.columns = ['customer_id','max_date']\n",
    "transactions = transactions.merge(max_date, on=['customer_id'], how='left')\n",
    "transactions['diff_days'] = (transactions[\"max_date\"] - transactions[\"t_dat\"]).dt.days\n",
    "\n",
    "del max_date\n",
    "gc.collect()"
   ]
  },
  {
   "cell_type": "markdown",
   "metadata": {},
   "source": [
    "### Compute most frequent purchased items\n",
    "\n",
    "*TODO: enhance using EDA knowledge*"
   ]
  },
  {
   "cell_type": "code",
   "execution_count": null,
   "metadata": {
    "execution": {
     "iopub.execute_input": "2022-04-01T15:06:20.459309Z",
     "iopub.status.busy": "2022-04-01T15:06:20.459047Z",
     "iopub.status.idle": "2022-04-01T15:06:20.463475Z",
     "shell.execute_reply": "2022-04-01T15:06:20.462838Z",
     "shell.execute_reply.started": "2022-04-01T15:06:20.459272Z"
    }
   },
   "outputs": [],
   "source": [
    "# temp = transactions.groupby([\"customer_id\", \"article_id\"])[\"t_dat\"].count().reset_index()\n",
    "# temp.columns = [\"customer_id\", \"article_id\", \"count\"]\n",
    "\n",
    "# transactions = transactions.merge(temp, on=[\"customer_id\", \"article_id\"], how='left')\n",
    "# transactions = transactions.sort_values([\"count\", \"t_dat\"], ascending=False)\n",
    "# transactions = transactions.drop_duplicates([\"customer_id\", \"article_id\"])\n",
    "# transactions = transactions.sort_values([\"count\", \"t_dat\"], ascending=False)"
   ]
  },
  {
   "cell_type": "markdown",
   "metadata": {},
   "source": [
    "### Compute Last Week's Most Popular Items"
   ]
  },
  {
   "cell_type": "code",
   "execution_count": null,
   "metadata": {
    "execution": {
     "iopub.execute_input": "2022-04-01T15:06:20.465141Z",
     "iopub.status.busy": "2022-04-01T15:06:20.464794Z",
     "iopub.status.idle": "2022-04-01T15:06:20.523429Z",
     "shell.execute_reply": "2022-04-01T15:06:20.522782Z",
     "shell.execute_reply.started": "2022-04-01T15:06:20.465098Z"
    }
   },
   "outputs": [],
   "source": [
    "temp = transactions.loc[transactions[\"t_dat\"] >= cudf.to_datetime('2020-09-16')]\n",
    "top12 = ' 0' + ' 0'.join(temp.article_id.value_counts().to_pandas().index.astype('str')[:12])"
   ]
  },
  {
   "cell_type": "markdown",
   "metadata": {},
   "source": [
    "### Final Submission"
   ]
  },
  {
   "cell_type": "code",
   "execution_count": null,
   "metadata": {
    "execution": {
     "iopub.execute_input": "2022-04-01T15:06:20.526161Z",
     "iopub.status.busy": "2022-04-01T15:06:20.525571Z",
     "iopub.status.idle": "2022-04-01T15:06:21.637703Z",
     "shell.execute_reply": "2022-04-01T15:06:21.636754Z",
     "shell.execute_reply.started": "2022-04-01T15:06:20.526114Z"
    }
   },
   "outputs": [],
   "source": [
    "# Fill customers with no prediction with top12\n",
    "# TODO: change this\n",
    "ss['preds'].fillna(top12, inplace=True)\n",
    "\n",
    "# Drop unwanted columns and make submission\n",
    "ss.drop(columns=[\"prediction\", \"customer_id_new\", \"customer_id_y\"], inplace=True)\n",
    "ss.columns = [\"customer_id\", \"prediction\"]\n",
    "\n",
    "ss.to_csv('submission.csv', index=False)"
   ]
  },
  {
   "cell_type": "code",
   "execution_count": null,
   "metadata": {
    "execution": {
     "iopub.execute_input": "2022-04-01T15:06:21.645338Z",
     "iopub.status.busy": "2022-04-01T15:06:21.642982Z",
     "iopub.status.idle": "2022-04-01T15:06:21.66713Z",
     "shell.execute_reply": "2022-04-01T15:06:21.666465Z",
     "shell.execute_reply.started": "2022-04-01T15:06:21.64529Z"
    }
   },
   "outputs": [],
   "source": [
    "# Submission needs to be 1371980 long\n",
    "\n",
    "print(clr.S+\"Submission Shape:\"+clr.E, ss.shape)\n",
    "ss.head()"
   ]
  },
  {
   "cell_type": "code",
   "execution_count": null,
   "metadata": {},
   "outputs": [],
   "source": [
    "# === Work in Progress"
   ]
  },
  {
   "cell_type": "code",
   "execution_count": null,
   "metadata": {},
   "outputs": [],
   "source": []
  },
  {
   "cell_type": "markdown",
   "metadata": {},
   "source": [
    "<center><img src=\"https://i.imgur.com/0cx4xXI.png\"></center>\n",
    "\n",
    "### 🐝 W&B Dashboard\n",
    "\n",
    "> My [W&B Dashboard](https://wandb.ai/andrada/HandM).\n",
    "\n",
    "<center><video src=\"https://i.imgur.com/ni0pfbj.mp4\" width=800 controls></center>\n",
    "\n",
    "<center><img src=\"https://i.imgur.com/knxTRkO.png\"></center>\n",
    "\n",
    "### My Specs\n",
    "\n",
    "* 🖥 Z8 G4 Workstation\n",
    "* 💾 2 CPUs & 96GB Memory\n",
    "* 🎮 NVIDIA Quadro RTX 8000\n",
    "* 💻 Zbook Studio G7 on the go"
   ]
  }
 ],
 "metadata": {
  "kernelspec": {
   "display_name": "Python 3 (ipykernel)",
   "language": "python",
   "name": "python3"
  },
  "language_info": {
   "codemirror_mode": {
    "name": "ipython",
    "version": 3
   },
   "file_extension": ".py",
   "mimetype": "text/x-python",
   "name": "python",
   "nbconvert_exporter": "python",
   "pygments_lexer": "ipython3",
   "version": "3.8.12"
  },
  "toc": {
   "base_numbering": 1,
   "nav_menu": {},
   "number_sections": true,
   "sideBar": true,
   "skip_h1_title": false,
   "title_cell": "Table of Contents",
   "title_sidebar": "Contents",
   "toc_cell": false,
   "toc_position": {},
   "toc_section_display": true,
   "toc_window_display": false
  }
 },
 "nbformat": 4,
 "nbformat_minor": 4
}
