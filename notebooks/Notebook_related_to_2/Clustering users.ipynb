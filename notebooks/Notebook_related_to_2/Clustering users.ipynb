{
 "cells": [
  {
   "cell_type": "markdown",
   "id": "477a9fbe",
   "metadata": {},
   "source": [
    "# Segments"
   ]
  },
  {
   "cell_type": "code",
   "execution_count": 2,
   "id": "7d0ce286",
   "metadata": {
    "ExecuteTime": {
     "end_time": "2022-04-12T12:44:45.504772Z",
     "start_time": "2022-04-12T12:44:45.187991Z"
    }
   },
   "outputs": [],
   "source": [
    "import numpy as np\n",
    "import pandas as pd\n",
    "import datetime "
   ]
  },
  {
   "cell_type": "code",
   "execution_count": 4,
   "id": "a1b8eb26",
   "metadata": {
    "ExecuteTime": {
     "end_time": "2022-04-12T12:45:03.351507Z",
     "start_time": "2022-04-12T12:45:02.046623Z"
    }
   },
   "outputs": [],
   "source": [
    "transactions = pd.read_csv('transactions.csv')"
   ]
  },
  {
   "cell_type": "code",
   "execution_count": null,
   "id": "4820a9cb",
   "metadata": {},
   "outputs": [],
   "source": [
    "transa"
   ]
  },
  {
   "cell_type": "code",
   "execution_count": 3,
   "id": "e82c88dd",
   "metadata": {
    "ExecuteTime": {
     "end_time": "2022-04-08T13:24:35.911924Z",
     "start_time": "2022-04-08T13:24:33.670063Z"
    }
   },
   "outputs": [],
   "source": [
    "customers = pd.read_csv('../../raw_data/customers.csv')"
   ]
  },
  {
   "cell_type": "code",
   "execution_count": 3,
   "id": "037d69e4",
   "metadata": {
    "ExecuteTime": {
     "end_time": "2022-04-08T14:32:57.332151Z",
     "start_time": "2022-04-08T14:32:56.966452Z"
    }
   },
   "outputs": [],
   "source": [
    "articles = pd.read_csv('../../raw_data/articles.csv')"
   ]
  },
  {
   "cell_type": "code",
   "execution_count": 4,
   "id": "f76c4103",
   "metadata": {
    "ExecuteTime": {
     "end_time": "2022-04-08T14:33:00.308891Z",
     "start_time": "2022-04-08T14:32:57.333431Z"
    }
   },
   "outputs": [],
   "source": [
    "transactions = transactions.merge(articles[['article_id','garment_group_name']],how = 'left', on = 'article_id')"
   ]
  },
  {
   "cell_type": "code",
   "execution_count": 4,
   "id": "f443cce7",
   "metadata": {
    "ExecuteTime": {
     "end_time": "2022-04-08T14:28:07.746265Z",
     "start_time": "2022-04-08T14:27:58.154998Z"
    }
   },
   "outputs": [],
   "source": [
    "spring_summer =  ['07','08','09','04','05','06']\n",
    "fall_winter = ['10','11','12','01','02','03']\n",
    "\n",
    "def season_transformer(date):\n",
    "    if date[5:7] in spring_summer:\n",
    "        return 1\n",
    "    return 0\n",
    "\n",
    "transactions['season'] = transactions.t_dat.apply(season_transformer)\n",
    "transactions['count']=1\n",
    "transactions['sales_channel_id'] = transactions['sales_channel_id'].map({2:int(0),1:1})"
   ]
  },
  {
   "cell_type": "code",
   "execution_count": 9,
   "id": "20031dc3",
   "metadata": {
    "ExecuteTime": {
     "end_time": "2022-04-08T13:58:38.537684Z",
     "start_time": "2022-04-08T13:58:38.511554Z"
    }
   },
   "outputs": [],
   "source": []
  },
  {
   "cell_type": "code",
   "execution_count": 8,
   "id": "f6b4012e",
   "metadata": {
    "ExecuteTime": {
     "end_time": "2022-04-08T14:28:59.806508Z",
     "start_time": "2022-04-08T14:28:59.784130Z"
    }
   },
   "outputs": [
    {
     "data": {
      "text/html": [
       "<div>\n",
       "<style scoped>\n",
       "    .dataframe tbody tr th:only-of-type {\n",
       "        vertical-align: middle;\n",
       "    }\n",
       "\n",
       "    .dataframe tbody tr th {\n",
       "        vertical-align: top;\n",
       "    }\n",
       "\n",
       "    .dataframe thead th {\n",
       "        text-align: right;\n",
       "    }\n",
       "</style>\n",
       "<table border=\"1\" class=\"dataframe\">\n",
       "  <thead>\n",
       "    <tr style=\"text-align: right;\">\n",
       "      <th></th>\n",
       "      <th>t_dat</th>\n",
       "      <th>customer_id</th>\n",
       "      <th>article_id</th>\n",
       "      <th>price</th>\n",
       "      <th>sales_channel_id</th>\n",
       "      <th>season</th>\n",
       "      <th>count</th>\n",
       "      <th>garment_group_name</th>\n",
       "    </tr>\n",
       "  </thead>\n",
       "  <tbody>\n",
       "    <tr>\n",
       "      <th>0</th>\n",
       "      <td>2018-09-20</td>\n",
       "      <td>000058a12d5b43e67d225668fa1f8d618c13dc232df0ca...</td>\n",
       "      <td>663713001</td>\n",
       "      <td>0.050831</td>\n",
       "      <td>0</td>\n",
       "      <td>1</td>\n",
       "      <td>1</td>\n",
       "      <td>Under-, Nightwear</td>\n",
       "    </tr>\n",
       "    <tr>\n",
       "      <th>1</th>\n",
       "      <td>2018-09-20</td>\n",
       "      <td>000058a12d5b43e67d225668fa1f8d618c13dc232df0ca...</td>\n",
       "      <td>541518023</td>\n",
       "      <td>0.030492</td>\n",
       "      <td>0</td>\n",
       "      <td>1</td>\n",
       "      <td>1</td>\n",
       "      <td>Under-, Nightwear</td>\n",
       "    </tr>\n",
       "    <tr>\n",
       "      <th>2</th>\n",
       "      <td>2018-09-20</td>\n",
       "      <td>00007d2de826758b65a93dd24ce629ed66842531df6699...</td>\n",
       "      <td>505221004</td>\n",
       "      <td>0.015237</td>\n",
       "      <td>0</td>\n",
       "      <td>1</td>\n",
       "      <td>1</td>\n",
       "      <td>Knitwear</td>\n",
       "    </tr>\n",
       "    <tr>\n",
       "      <th>3</th>\n",
       "      <td>2018-09-20</td>\n",
       "      <td>00007d2de826758b65a93dd24ce629ed66842531df6699...</td>\n",
       "      <td>685687003</td>\n",
       "      <td>0.016932</td>\n",
       "      <td>0</td>\n",
       "      <td>1</td>\n",
       "      <td>1</td>\n",
       "      <td>Special Offers</td>\n",
       "    </tr>\n",
       "    <tr>\n",
       "      <th>4</th>\n",
       "      <td>2018-09-20</td>\n",
       "      <td>00007d2de826758b65a93dd24ce629ed66842531df6699...</td>\n",
       "      <td>685687004</td>\n",
       "      <td>0.016932</td>\n",
       "      <td>0</td>\n",
       "      <td>1</td>\n",
       "      <td>1</td>\n",
       "      <td>Special Offers</td>\n",
       "    </tr>\n",
       "  </tbody>\n",
       "</table>\n",
       "</div>"
      ],
      "text/plain": [
       "        t_dat                                        customer_id  article_id  \\\n",
       "0  2018-09-20  000058a12d5b43e67d225668fa1f8d618c13dc232df0ca...   663713001   \n",
       "1  2018-09-20  000058a12d5b43e67d225668fa1f8d618c13dc232df0ca...   541518023   \n",
       "2  2018-09-20  00007d2de826758b65a93dd24ce629ed66842531df6699...   505221004   \n",
       "3  2018-09-20  00007d2de826758b65a93dd24ce629ed66842531df6699...   685687003   \n",
       "4  2018-09-20  00007d2de826758b65a93dd24ce629ed66842531df6699...   685687004   \n",
       "\n",
       "      price  sales_channel_id  season  count garment_group_name  \n",
       "0  0.050831                 0       1      1  Under-, Nightwear  \n",
       "1  0.030492                 0       1      1  Under-, Nightwear  \n",
       "2  0.015237                 0       1      1           Knitwear  \n",
       "3  0.016932                 0       1      1     Special Offers  \n",
       "4  0.016932                 0       1      1     Special Offers  "
      ]
     },
     "execution_count": 8,
     "metadata": {},
     "output_type": "execute_result"
    }
   ],
   "source": [
    "transactions.head()"
   ]
  },
  {
   "cell_type": "code",
   "execution_count": null,
   "id": "b5150bde",
   "metadata": {},
   "outputs": [],
   "source": []
  },
  {
   "cell_type": "code",
   "execution_count": null,
   "id": "2056ab48",
   "metadata": {},
   "outputs": [],
   "source": [
    "transactions[['customer_id', 'price' 'sales_channel_id \tgarment_group_name \tseason]]   groupby customer_id\n",
    "aggregation par colonnes, les lignes sont les customer_id, dans les colonnes on aura\n",
    "price : sum\n",
    "frequence d'été (binaire donc ok si pas d'hiver)(somme puis diviser par nombre achat)\n",
    "frequence d'achat en magasin (somme puis diviser par nombre achat)\n",
    "nombre d'achats totaux approximatif\n",
    "date de dernier achat (prendre le min sur la colonne des dates, convertie en datetime) qu'on convertit en distance à la semaine 104 plus tard  irl\n",
    "date de dernier achat boutique"
   ]
  },
  {
   "cell_type": "code",
   "execution_count": null,
   "id": "f660dfd8",
   "metadata": {},
   "outputs": [],
   "source": [
    "transactions[['customer_id','price']]"
   ]
  },
  {
   "cell_type": "code",
   "execution_count": 5,
   "id": "39b8259e",
   "metadata": {
    "ExecuteTime": {
     "end_time": "2022-04-10T13:26:59.156434Z",
     "start_time": "2022-04-10T13:26:59.148544Z"
    }
   },
   "outputs": [
    {
     "data": {
      "text/plain": [
       "Timestamp('2018-09-20 00:00:00')"
      ]
     },
     "execution_count": 5,
     "metadata": {},
     "output_type": "execute_result"
    }
   ],
   "source": [
    "min(pd.to_datetime('2018-09-20'),pd.to_datetime('2018-09-30'))"
   ]
  },
  {
   "cell_type": "code",
   "execution_count": null,
   "id": "acc98873",
   "metadata": {},
   "outputs": [],
   "source": []
  },
  {
   "cell_type": "code",
   "execution_count": 10,
   "id": "e435a41a",
   "metadata": {
    "ExecuteTime": {
     "end_time": "2022-04-08T13:34:59.861143Z",
     "start_time": "2022-04-08T13:34:59.858197Z"
    }
   },
   "outputs": [],
   "source": []
  },
  {
   "cell_type": "code",
   "execution_count": 11,
   "id": "f745c333",
   "metadata": {
    "ExecuteTime": {
     "end_time": "2022-04-08T13:35:10.553500Z",
     "start_time": "2022-04-08T13:35:00.125376Z"
    }
   },
   "outputs": [],
   "source": [
    "transactions.t_dat = transactions.t_dat.apply(season_transformer)"
   ]
  },
  {
   "cell_type": "code",
   "execution_count": 16,
   "id": "53dfac40",
   "metadata": {
    "ExecuteTime": {
     "end_time": "2022-04-08T13:36:18.098132Z",
     "start_time": "2022-04-08T13:36:18.088793Z"
    }
   },
   "outputs": [
    {
     "data": {
      "text/html": [
       "<div>\n",
       "<style scoped>\n",
       "    .dataframe tbody tr th:only-of-type {\n",
       "        vertical-align: middle;\n",
       "    }\n",
       "\n",
       "    .dataframe tbody tr th {\n",
       "        vertical-align: top;\n",
       "    }\n",
       "\n",
       "    .dataframe thead th {\n",
       "        text-align: right;\n",
       "    }\n",
       "</style>\n",
       "<table border=\"1\" class=\"dataframe\">\n",
       "  <thead>\n",
       "    <tr style=\"text-align: right;\">\n",
       "      <th></th>\n",
       "      <th>customer_id</th>\n",
       "      <th>FN</th>\n",
       "      <th>Active</th>\n",
       "      <th>club_member_status</th>\n",
       "      <th>fashion_news_frequency</th>\n",
       "      <th>age</th>\n",
       "      <th>postal_code</th>\n",
       "    </tr>\n",
       "  </thead>\n",
       "  <tbody>\n",
       "    <tr>\n",
       "      <th>0</th>\n",
       "      <td>00000dbacae5abe5e23885899a1fa44253a17956c6d1c3...</td>\n",
       "      <td>NaN</td>\n",
       "      <td>NaN</td>\n",
       "      <td>ACTIVE</td>\n",
       "      <td>NONE</td>\n",
       "      <td>49.0</td>\n",
       "      <td>52043ee2162cf5aa7ee79974281641c6f11a68d276429a...</td>\n",
       "    </tr>\n",
       "    <tr>\n",
       "      <th>1</th>\n",
       "      <td>0000423b00ade91418cceaf3b26c6af3dd342b51fd051e...</td>\n",
       "      <td>NaN</td>\n",
       "      <td>NaN</td>\n",
       "      <td>ACTIVE</td>\n",
       "      <td>NONE</td>\n",
       "      <td>25.0</td>\n",
       "      <td>2973abc54daa8a5f8ccfe9362140c63247c5eee03f1d93...</td>\n",
       "    </tr>\n",
       "    <tr>\n",
       "      <th>2</th>\n",
       "      <td>000058a12d5b43e67d225668fa1f8d618c13dc232df0ca...</td>\n",
       "      <td>NaN</td>\n",
       "      <td>NaN</td>\n",
       "      <td>ACTIVE</td>\n",
       "      <td>NONE</td>\n",
       "      <td>24.0</td>\n",
       "      <td>64f17e6a330a85798e4998f62d0930d14db8db1c054af6...</td>\n",
       "    </tr>\n",
       "    <tr>\n",
       "      <th>3</th>\n",
       "      <td>00005ca1c9ed5f5146b52ac8639a40ca9d57aeff4d1bd2...</td>\n",
       "      <td>NaN</td>\n",
       "      <td>NaN</td>\n",
       "      <td>ACTIVE</td>\n",
       "      <td>NONE</td>\n",
       "      <td>54.0</td>\n",
       "      <td>5d36574f52495e81f019b680c843c443bd343d5ca5b1c2...</td>\n",
       "    </tr>\n",
       "    <tr>\n",
       "      <th>4</th>\n",
       "      <td>00006413d8573cd20ed7128e53b7b13819fe5cfc2d801f...</td>\n",
       "      <td>1.0</td>\n",
       "      <td>1.0</td>\n",
       "      <td>ACTIVE</td>\n",
       "      <td>Regularly</td>\n",
       "      <td>52.0</td>\n",
       "      <td>25fa5ddee9aac01b35208d01736e57942317d756b32ddd...</td>\n",
       "    </tr>\n",
       "  </tbody>\n",
       "</table>\n",
       "</div>"
      ],
      "text/plain": [
       "                                         customer_id   FN  Active  \\\n",
       "0  00000dbacae5abe5e23885899a1fa44253a17956c6d1c3...  NaN     NaN   \n",
       "1  0000423b00ade91418cceaf3b26c6af3dd342b51fd051e...  NaN     NaN   \n",
       "2  000058a12d5b43e67d225668fa1f8d618c13dc232df0ca...  NaN     NaN   \n",
       "3  00005ca1c9ed5f5146b52ac8639a40ca9d57aeff4d1bd2...  NaN     NaN   \n",
       "4  00006413d8573cd20ed7128e53b7b13819fe5cfc2d801f...  1.0     1.0   \n",
       "\n",
       "  club_member_status fashion_news_frequency   age  \\\n",
       "0             ACTIVE                   NONE  49.0   \n",
       "1             ACTIVE                   NONE  25.0   \n",
       "2             ACTIVE                   NONE  24.0   \n",
       "3             ACTIVE                   NONE  54.0   \n",
       "4             ACTIVE              Regularly  52.0   \n",
       "\n",
       "                                         postal_code  \n",
       "0  52043ee2162cf5aa7ee79974281641c6f11a68d276429a...  \n",
       "1  2973abc54daa8a5f8ccfe9362140c63247c5eee03f1d93...  \n",
       "2  64f17e6a330a85798e4998f62d0930d14db8db1c054af6...  \n",
       "3  5d36574f52495e81f019b680c843c443bd343d5ca5b1c2...  \n",
       "4  25fa5ddee9aac01b35208d01736e57942317d756b32ddd...  "
      ]
     },
     "execution_count": 16,
     "metadata": {},
     "output_type": "execute_result"
    }
   ],
   "source": [
    "customers.head()"
   ]
  },
  {
   "cell_type": "code",
   "execution_count": null,
   "id": "bafb10c5",
   "metadata": {},
   "outputs": [],
   "source": []
  },
  {
   "cell_type": "code",
   "execution_count": null,
   "id": "4910c61e",
   "metadata": {},
   "outputs": [],
   "source": [
    "finir par un KNN sur customers, l'age se fera tout seul j'imagine ?"
   ]
  },
  {
   "cell_type": "code",
   "execution_count": null,
   "id": "29a4f1a9",
   "metadata": {},
   "outputs": [],
   "source": []
  },
  {
   "cell_type": "code",
   "execution_count": null,
   "id": "f9ccd121",
   "metadata": {},
   "outputs": [],
   "source": []
  },
  {
   "cell_type": "code",
   "execution_count": null,
   "id": "9749eedf",
   "metadata": {},
   "outputs": [],
   "source": []
  },
  {
   "cell_type": "code",
   "execution_count": null,
   "id": "d52617b2",
   "metadata": {},
   "outputs": [],
   "source": []
  }
 ],
 "metadata": {
  "kernelspec": {
   "display_name": "Python 3 (ipykernel)",
   "language": "python",
   "name": "python3"
  },
  "language_info": {
   "codemirror_mode": {
    "name": "ipython",
    "version": 3
   },
   "file_extension": ".py",
   "mimetype": "text/x-python",
   "name": "python",
   "nbconvert_exporter": "python",
   "pygments_lexer": "ipython3",
   "version": "3.8.12"
  },
  "latex_envs": {
   "LaTeX_envs_menu_present": true,
   "autoclose": true,
   "autocomplete": true,
   "bibliofile": "biblio.bib",
   "cite_by": "apalike",
   "current_citInitial": 1,
   "eqLabelWithNumbers": true,
   "eqNumInitial": 1,
   "hotkeys": {
    "equation": "Ctrl-E",
    "itemize": "Ctrl-I"
   },
   "labels_anchors": false,
   "latex_user_defs": false,
   "report_style_numbering": false,
   "user_envs_cfg": false
  },
  "toc": {
   "base_numbering": 1,
   "nav_menu": {},
   "number_sections": true,
   "sideBar": true,
   "skip_h1_title": false,
   "title_cell": "Table of Contents",
   "title_sidebar": "Contents",
   "toc_cell": false,
   "toc_position": {},
   "toc_section_display": true,
   "toc_window_display": false
  }
 },
 "nbformat": 4,
 "nbformat_minor": 5
}
