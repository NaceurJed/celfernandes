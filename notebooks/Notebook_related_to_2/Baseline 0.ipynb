{
 "cells": [
  {
   "cell_type": "markdown",
   "id": "38660e19",
   "metadata": {},
   "source": [
    "# Creating the most basic baseline"
   ]
  },
  {
   "cell_type": "markdown",
   "id": "3c630a17",
   "metadata": {},
   "source": [
    "In this notebook, we do the following tasks:\n",
    "- convert the dates in terms of weeks, from 0 to 104.\n",
    "- extract a sample of the last month of the transaction_train dataset, that can be charged more easily in jupyter. This file will be located in the data directory.\n",
    "- compute the very first baseline of the project: we assign, to every customer in the dataset the same 12 items: the most populars for the week 100 to 104."
   ]
  },
  {
   "cell_type": "code",
   "execution_count": 1,
   "id": "60bba3cb",
   "metadata": {
    "ExecuteTime": {
<<<<<<< HEAD
     "end_time": "2022-04-06T09:13:09.700558Z",
     "start_time": "2022-04-06T09:13:09.295037Z"
=======
     "end_time": "2022-04-05T10:20:36.287211Z",
     "start_time": "2022-04-05T10:20:35.903846Z"
>>>>>>> master
    }
   },
   "outputs": [],
   "source": [
    "import pandas as pd\n",
    "import numpy as np\n",
<<<<<<< HEAD
    "import datetime\n",
    "import psutil \n",
    "import gc"
=======
    "import datetime"
>>>>>>> master
   ]
  },
  {
   "cell_type": "code",
   "execution_count": 2,
<<<<<<< HEAD
   "id": "c8df77be",
   "metadata": {
    "ExecuteTime": {
     "end_time": "2022-04-06T09:13:09.709048Z",
     "start_time": "2022-04-06T09:13:09.702124Z"
    }
   },
   "outputs": [
    {
     "data": {
      "text/plain": [
       "90.12910228755341"
      ]
     },
     "execution_count": 2,
     "metadata": {},
     "output_type": "execute_result"
    }
   ],
   "source": [
    "psutil.virtual_memory().available * 100 / psutil.virtual_memory().total"
   ]
  },
  {
   "cell_type": "code",
   "execution_count": 3,
   "id": "d47eb9c7",
   "metadata": {
    "ExecuteTime": {
     "end_time": "2022-04-06T09:13:30.038248Z",
     "start_time": "2022-04-06T09:13:10.534165Z"
    }
   },
   "outputs": [],
   "source": [
    "transactions_train = pd.read_csv('../raw_data/transactions_train.csv')\n",
    "transactions_train['unit'] = 1"
   ]
  },
  {
   "cell_type": "code",
   "execution_count": 6,
   "id": "bae2924b",
   "metadata": {
    "ExecuteTime": {
     "end_time": "2022-04-06T09:11:22.127389Z",
     "start_time": "2022-04-06T09:11:21.926730Z"
=======
   "id": "d47eb9c7",
   "metadata": {
    "ExecuteTime": {
     "end_time": "2022-04-05T10:22:50.438105Z",
     "start_time": "2022-04-05T10:22:25.935523Z"
>>>>>>> master
    }
   },
   "outputs": [],
   "source": [
<<<<<<< HEAD
    "del transactions_train"
   ]
  },
  {
   "cell_type": "markdown",
   "id": "cb110f55",
   "metadata": {},
   "source": [
    "31_788_324 transactions in general"
=======
    "transactions_train = pd.read_csv('../raw_data/transactions_train.csv')"
>>>>>>> master
   ]
  },
  {
   "cell_type": "code",
<<<<<<< HEAD
   "execution_count": 34,
   "id": "78c9677b",
   "metadata": {
    "ExecuteTime": {
     "end_time": "2022-04-06T09:45:19.460667Z",
     "start_time": "2022-04-06T09:45:19.450858Z"
=======
   "execution_count": 3,
   "id": "e5616198",
   "metadata": {
    "ExecuteTime": {
     "end_time": "2022-04-05T10:22:54.077986Z",
     "start_time": "2022-04-05T10:22:54.044866Z"
>>>>>>> master
    }
   },
   "outputs": [
    {
     "data": {
      "text/html": [
       "<div>\n",
       "<style scoped>\n",
       "    .dataframe tbody tr th:only-of-type {\n",
       "        vertical-align: middle;\n",
       "    }\n",
       "\n",
       "    .dataframe tbody tr th {\n",
       "        vertical-align: top;\n",
       "    }\n",
       "\n",
       "    .dataframe thead th {\n",
       "        text-align: right;\n",
       "    }\n",
       "</style>\n",
       "<table border=\"1\" class=\"dataframe\">\n",
       "  <thead>\n",
       "    <tr style=\"text-align: right;\">\n",
       "      <th></th>\n",
       "      <th>t_dat</th>\n",
       "      <th>customer_id</th>\n",
       "      <th>article_id</th>\n",
       "      <th>price</th>\n",
       "      <th>sales_channel_id</th>\n",
<<<<<<< HEAD
       "      <th>unit</th>\n",
=======
>>>>>>> master
       "    </tr>\n",
       "  </thead>\n",
       "  <tbody>\n",
       "    <tr>\n",
       "      <th>0</th>\n",
       "      <td>2018-09-20</td>\n",
       "      <td>000058a12d5b43e67d225668fa1f8d618c13dc232df0ca...</td>\n",
       "      <td>663713001</td>\n",
       "      <td>0.050831</td>\n",
       "      <td>2</td>\n",
<<<<<<< HEAD
       "      <td>1</td>\n",
=======
>>>>>>> master
       "    </tr>\n",
       "    <tr>\n",
       "      <th>1</th>\n",
       "      <td>2018-09-20</td>\n",
       "      <td>000058a12d5b43e67d225668fa1f8d618c13dc232df0ca...</td>\n",
       "      <td>541518023</td>\n",
       "      <td>0.030492</td>\n",
       "      <td>2</td>\n",
<<<<<<< HEAD
       "      <td>1</td>\n",
=======
>>>>>>> master
       "    </tr>\n",
       "    <tr>\n",
       "      <th>2</th>\n",
       "      <td>2018-09-20</td>\n",
       "      <td>00007d2de826758b65a93dd24ce629ed66842531df6699...</td>\n",
       "      <td>505221004</td>\n",
       "      <td>0.015237</td>\n",
       "      <td>2</td>\n",
<<<<<<< HEAD
       "      <td>1</td>\n",
=======
>>>>>>> master
       "    </tr>\n",
       "    <tr>\n",
       "      <th>3</th>\n",
       "      <td>2018-09-20</td>\n",
       "      <td>00007d2de826758b65a93dd24ce629ed66842531df6699...</td>\n",
       "      <td>685687003</td>\n",
       "      <td>0.016932</td>\n",
       "      <td>2</td>\n",
<<<<<<< HEAD
       "      <td>1</td>\n",
=======
>>>>>>> master
       "    </tr>\n",
       "    <tr>\n",
       "      <th>4</th>\n",
       "      <td>2018-09-20</td>\n",
       "      <td>00007d2de826758b65a93dd24ce629ed66842531df6699...</td>\n",
       "      <td>685687004</td>\n",
       "      <td>0.016932</td>\n",
       "      <td>2</td>\n",
<<<<<<< HEAD
       "      <td>1</td>\n",
=======
>>>>>>> master
       "    </tr>\n",
       "    <tr>\n",
       "      <th>...</th>\n",
       "      <td>...</td>\n",
       "      <td>...</td>\n",
       "      <td>...</td>\n",
       "      <td>...</td>\n",
       "      <td>...</td>\n",
<<<<<<< HEAD
       "      <td>...</td>\n",
=======
>>>>>>> master
       "    </tr>\n",
       "    <tr>\n",
       "      <th>31788319</th>\n",
       "      <td>2020-09-22</td>\n",
       "      <td>fff2282977442e327b45d8c89afde25617d00124d0f999...</td>\n",
       "      <td>929511001</td>\n",
       "      <td>0.059305</td>\n",
       "      <td>2</td>\n",
<<<<<<< HEAD
       "      <td>1</td>\n",
=======
>>>>>>> master
       "    </tr>\n",
       "    <tr>\n",
       "      <th>31788320</th>\n",
       "      <td>2020-09-22</td>\n",
       "      <td>fff2282977442e327b45d8c89afde25617d00124d0f999...</td>\n",
       "      <td>891322004</td>\n",
       "      <td>0.042356</td>\n",
       "      <td>2</td>\n",
<<<<<<< HEAD
       "      <td>1</td>\n",
=======
>>>>>>> master
       "    </tr>\n",
       "    <tr>\n",
       "      <th>31788321</th>\n",
       "      <td>2020-09-22</td>\n",
       "      <td>fff380805474b287b05cb2a7507b9a013482f7dd0bce0e...</td>\n",
       "      <td>918325001</td>\n",
       "      <td>0.043203</td>\n",
       "      <td>1</td>\n",
<<<<<<< HEAD
       "      <td>1</td>\n",
=======
>>>>>>> master
       "    </tr>\n",
       "    <tr>\n",
       "      <th>31788322</th>\n",
       "      <td>2020-09-22</td>\n",
       "      <td>fff4d3a8b1f3b60af93e78c30a7cb4cf75edaf2590d3e5...</td>\n",
       "      <td>833459002</td>\n",
       "      <td>0.006763</td>\n",
       "      <td>1</td>\n",
<<<<<<< HEAD
       "      <td>1</td>\n",
=======
>>>>>>> master
       "    </tr>\n",
       "    <tr>\n",
       "      <th>31788323</th>\n",
       "      <td>2020-09-22</td>\n",
       "      <td>fffef3b6b73545df065b521e19f64bf6fe93bfd450ab20...</td>\n",
       "      <td>898573003</td>\n",
       "      <td>0.033881</td>\n",
       "      <td>2</td>\n",
<<<<<<< HEAD
       "      <td>1</td>\n",
       "    </tr>\n",
       "  </tbody>\n",
       "</table>\n",
       "<p>31788324 rows × 6 columns</p>\n",
=======
       "    </tr>\n",
       "  </tbody>\n",
       "</table>\n",
       "<p>31788324 rows × 5 columns</p>\n",
>>>>>>> master
       "</div>"
      ],
      "text/plain": [
       "               t_dat                                        customer_id  \\\n",
       "0         2018-09-20  000058a12d5b43e67d225668fa1f8d618c13dc232df0ca...   \n",
       "1         2018-09-20  000058a12d5b43e67d225668fa1f8d618c13dc232df0ca...   \n",
       "2         2018-09-20  00007d2de826758b65a93dd24ce629ed66842531df6699...   \n",
       "3         2018-09-20  00007d2de826758b65a93dd24ce629ed66842531df6699...   \n",
       "4         2018-09-20  00007d2de826758b65a93dd24ce629ed66842531df6699...   \n",
       "...              ...                                                ...   \n",
       "31788319  2020-09-22  fff2282977442e327b45d8c89afde25617d00124d0f999...   \n",
       "31788320  2020-09-22  fff2282977442e327b45d8c89afde25617d00124d0f999...   \n",
       "31788321  2020-09-22  fff380805474b287b05cb2a7507b9a013482f7dd0bce0e...   \n",
       "31788322  2020-09-22  fff4d3a8b1f3b60af93e78c30a7cb4cf75edaf2590d3e5...   \n",
       "31788323  2020-09-22  fffef3b6b73545df065b521e19f64bf6fe93bfd450ab20...   \n",
       "\n",
<<<<<<< HEAD
       "          article_id     price  sales_channel_id  unit  \n",
       "0          663713001  0.050831                 2     1  \n",
       "1          541518023  0.030492                 2     1  \n",
       "2          505221004  0.015237                 2     1  \n",
       "3          685687003  0.016932                 2     1  \n",
       "4          685687004  0.016932                 2     1  \n",
       "...              ...       ...               ...   ...  \n",
       "31788319   929511001  0.059305                 2     1  \n",
       "31788320   891322004  0.042356                 2     1  \n",
       "31788321   918325001  0.043203                 1     1  \n",
       "31788322   833459002  0.006763                 1     1  \n",
       "31788323   898573003  0.033881                 2     1  \n",
       "\n",
       "[31788324 rows x 6 columns]"
      ]
     },
     "execution_count": 34,
=======
       "          article_id     price  sales_channel_id  \n",
       "0          663713001  0.050831                 2  \n",
       "1          541518023  0.030492                 2  \n",
       "2          505221004  0.015237                 2  \n",
       "3          685687003  0.016932                 2  \n",
       "4          685687004  0.016932                 2  \n",
       "...              ...       ...               ...  \n",
       "31788319   929511001  0.059305                 2  \n",
       "31788320   891322004  0.042356                 2  \n",
       "31788321   918325001  0.043203                 1  \n",
       "31788322   833459002  0.006763                 1  \n",
       "31788323   898573003  0.033881                 2  \n",
       "\n",
       "[31788324 rows x 5 columns]"
      ]
     },
     "execution_count": 3,
>>>>>>> master
     "metadata": {},
     "output_type": "execute_result"
    }
   ],
   "source": [
    "transactions_train"
   ]
  },
  {
   "cell_type": "code",
<<<<<<< HEAD
   "execution_count": 4,
<<<<<<< HEAD
   "id": "e5616198",
   "metadata": {
    "ExecuteTime": {
     "end_time": "2022-04-06T09:13:44.600453Z",
     "start_time": "2022-04-06T09:13:34.563519Z"
=======
   "id": "57fff6b5",
   "metadata": {
    "ExecuteTime": {
     "end_time": "2022-04-05T10:24:38.140575Z",
     "start_time": "2022-04-05T10:24:38.137251Z"
>>>>>>> master
=======
   "execution_count": 68,
   "id": "57fff6b5",
   "metadata": {
    "ExecuteTime": {
     "end_time": "2022-04-05T12:44:23.038634Z",
     "start_time": "2022-04-05T12:44:23.034675Z"
>>>>>>> d616c671ddbbb447bb750b0f9eff91450cc043e1
    }
   },
   "outputs": [],
   "source": [
<<<<<<< HEAD
<<<<<<< HEAD
    "a = transactions_train.groupby('customer_id').sum().sort_values(by = 'unit', ascending = False)"
=======
=======
    "#converts the column dates, which has strings, into dates\n",
>>>>>>> d616c671ddbbb447bb750b0f9eff91450cc043e1
    "def convert_to_date(s):\n",
    "    \"\"\"\n",
    "    Memoization technique - very fast conversion to pure python dates\n",
    "    \"\"\"\n",
    "    dates = {date:datetime.datetime.strptime(date,'%Y-%m-%d') for date in s.unique()}\n",
<<<<<<< HEAD
    "    return s.map(dates)"
>>>>>>> master
=======
    "    return s.map(dates)\n",
    "\n",
    "#converts the dates column into the weeks, starting from 1, finishing into 105\n",
    "def dates_to_weeks():\n",
    "    df_res = convert_to_date(transactions_train.t_dat).dt.isocalendar()\n",
    "    for i in range(4387358):\n",
    "        transactions_train.t_dat[i] = df.week[i]-37\n",
    "    for i in range(4387358,20748883):\n",
    "        transactions_train.t_dat[i] = df.week[i]+37\n",
    "    for i in range(20748883,31788324):\n",
    "        transactions_train.t_dat[i] = df.week[i]+37+52\n",
    " "
>>>>>>> d616c671ddbbb447bb750b0f9eff91450cc043e1
   ]
  },
  {
   "cell_type": "code",
<<<<<<< HEAD
<<<<<<< HEAD
   "execution_count": 58,
   "id": "d06f83b5",
   "metadata": {
    "ExecuteTime": {
     "end_time": "2022-04-06T10:00:43.525333Z",
     "start_time": "2022-04-06T10:00:43.516407Z"
=======
   "execution_count": 19,
   "id": "bb92ed08",
   "metadata": {
    "ExecuteTime": {
     "end_time": "2022-04-05T10:36:56.045638Z",
     "start_time": "2022-04-05T10:36:45.906580Z"
>>>>>>> master
=======
   "execution_count": 64,
   "id": "bb92ed08",
   "metadata": {
    "ExecuteTime": {
     "end_time": "2022-04-05T12:43:44.889261Z",
     "start_time": "2022-04-05T12:43:33.844825Z"
>>>>>>> d616c671ddbbb447bb750b0f9eff91450cc043e1
    }
   },
   "outputs": [
    {
     "data": {
      "text/html": [
       "<div>\n",
       "<style scoped>\n",
       "    .dataframe tbody tr th:only-of-type {\n",
       "        vertical-align: middle;\n",
       "    }\n",
       "\n",
       "    .dataframe tbody tr th {\n",
       "        vertical-align: top;\n",
       "    }\n",
       "\n",
       "    .dataframe thead th {\n",
       "        text-align: right;\n",
       "    }\n",
       "</style>\n",
       "<table border=\"1\" class=\"dataframe\">\n",
       "  <thead>\n",
       "    <tr style=\"text-align: right;\">\n",
       "      <th></th>\n",
<<<<<<< HEAD
       "      <th>article_id</th>\n",
       "      <th>price</th>\n",
       "      <th>sales_channel_id</th>\n",
       "      <th>unit</th>\n",
       "      <th>nbr_user</th>\n",
       "    </tr>\n",
       "    <tr>\n",
       "      <th>customer_id</th>\n",
       "      <th></th>\n",
       "      <th></th>\n",
       "      <th></th>\n",
       "      <th></th>\n",
       "      <th></th>\n",
=======
       "      <th>year</th>\n",
       "      <th>week</th>\n",
       "      <th>day</th>\n",
>>>>>>> master
       "    </tr>\n",
       "  </thead>\n",
       "  <tbody>\n",
       "    <tr>\n",
<<<<<<< HEAD
<<<<<<< HEAD
       "      <th>be1981ab818cf4ef6765b2ecaea7a2cbf14ccd6e8a7ee985513d9e8e53c6d91b</th>\n",
       "      <td>1417016556306</td>\n",
       "      <td>57.676407</td>\n",
       "      <td>3429</td>\n",
       "      <td>1895</td>\n",
       "      <td>1</td>\n",
       "    </tr>\n",
       "    <tr>\n",
       "      <th>b4db5e5259234574edfff958e170fe3a5e13b6f146752ca066abca3c156acc71</th>\n",
       "      <td>1083377072331</td>\n",
       "      <td>47.662000</td>\n",
       "      <td>2872</td>\n",
       "      <td>1441</td>\n",
       "      <td>1</td>\n",
       "    </tr>\n",
       "    <tr>\n",
       "      <th>49beaacac0c7801c2ce2d189efe525fe80b5d37e46ed05b50a4cd88e34d0748f</th>\n",
       "      <td>981224161874</td>\n",
       "      <td>30.126814</td>\n",
       "      <td>2679</td>\n",
       "      <td>1364</td>\n",
       "      <td>1</td>\n",
       "    </tr>\n",
       "    <tr>\n",
       "      <th>a65f77281a528bf5c1e9f270141d601d116e1df33bf9df512f495ee06647a9cc</th>\n",
       "      <td>1020985732548</td>\n",
       "      <td>50.921186</td>\n",
       "      <td>2692</td>\n",
       "      <td>1361</td>\n",
       "      <td>1</td>\n",
       "    </tr>\n",
       "    <tr>\n",
       "      <th>cd04ec2726dd58a8c753e0d6423e57716fd9ebcf2f14ed6012e7e5bea016b4d6</th>\n",
       "      <td>955673635748</td>\n",
       "      <td>41.327051</td>\n",
       "      <td>2474</td>\n",
       "      <td>1237</td>\n",
       "      <td>1</td>\n",
=======
       "      <th>0</th>\n",
       "      <td>2018</td>\n",
       "      <td>38</td>\n",
       "      <td>4</td>\n",
=======
       "      <th>20748884</th>\n",
       "      <td>2020</td>\n",
       "      <td>1</td>\n",
       "      <td>1</td>\n",
>>>>>>> d616c671ddbbb447bb750b0f9eff91450cc043e1
       "    </tr>\n",
       "    <tr>\n",
       "      <th>20748885</th>\n",
       "      <td>2020</td>\n",
       "      <td>1</td>\n",
       "      <td>1</td>\n",
       "    </tr>\n",
       "    <tr>\n",
       "      <th>20748886</th>\n",
       "      <td>2020</td>\n",
       "      <td>1</td>\n",
       "      <td>1</td>\n",
       "    </tr>\n",
       "    <tr>\n",
       "      <th>20748887</th>\n",
       "      <td>2020</td>\n",
       "      <td>1</td>\n",
       "      <td>1</td>\n",
       "    </tr>\n",
       "    <tr>\n",
<<<<<<< HEAD
       "      <th>4</th>\n",
       "      <td>2018</td>\n",
       "      <td>38</td>\n",
       "      <td>4</td>\n",
>>>>>>> master
=======
       "      <th>20748888</th>\n",
       "      <td>2020</td>\n",
       "      <td>1</td>\n",
       "      <td>1</td>\n",
>>>>>>> d616c671ddbbb447bb750b0f9eff91450cc043e1
       "    </tr>\n",
       "    <tr>\n",
       "      <th>...</th>\n",
       "      <td>...</td>\n",
       "      <td>...</td>\n",
       "      <td>...</td>\n",
<<<<<<< HEAD
       "      <td>...</td>\n",
       "      <td>...</td>\n",
       "    </tr>\n",
       "    <tr>\n",
       "      <th>9c7945de9cd5a5d7f833476ee2d7739e82b180a2026b5ca999ead0db90cd44e0</th>\n",
       "      <td>753692004</td>\n",
       "      <td>0.013542</td>\n",
       "      <td>2</td>\n",
       "      <td>1</td>\n",
       "      <td>1</td>\n",
       "    </tr>\n",
       "    <tr>\n",
       "      <th>2c0f5a51c0b29188a119bdd358897f279b1dda4ba0194b059ee6dc0e539df287</th>\n",
       "      <td>400342037</td>\n",
       "      <td>0.050831</td>\n",
       "      <td>2</td>\n",
       "      <td>1</td>\n",
       "      <td>1</td>\n",
       "    </tr>\n",
       "    <tr>\n",
       "      <th>2c0f6e18e2e825f006126fc8be1117928fa24d5810857a5c3544c68ce40712b1</th>\n",
       "      <td>790006003</td>\n",
       "      <td>0.053373</td>\n",
       "      <td>1</td>\n",
       "      <td>1</td>\n",
       "      <td>1</td>\n",
       "    </tr>\n",
       "    <tr>\n",
       "      <th>9c784d9b315f5c761a2f6c267f88d7f9bb4d8597b7983fd6fa35ab081e62de1f</th>\n",
       "      <td>842952001</td>\n",
       "      <td>0.030492</td>\n",
       "      <td>2</td>\n",
       "      <td>1</td>\n",
       "      <td>1</td>\n",
       "    </tr>\n",
       "    <tr>\n",
       "      <th>ffffd9ac14e89946416d80e791d064701994755c3ab686a1eaf3458c36f52241</th>\n",
       "      <td>806050001</td>\n",
       "      <td>0.084729</td>\n",
       "      <td>2</td>\n",
       "      <td>1</td>\n",
       "      <td>1</td>\n",
       "    </tr>\n",
       "  </tbody>\n",
       "</table>\n",
       "<p>1362281 rows × 5 columns</p>\n",
       "</div>"
      ],
      "text/plain": [
       "                                                       article_id      price  \\\n",
       "customer_id                                                                    \n",
       "be1981ab818cf4ef6765b2ecaea7a2cbf14ccd6e8a7ee98...  1417016556306  57.676407   \n",
       "b4db5e5259234574edfff958e170fe3a5e13b6f146752ca...  1083377072331  47.662000   \n",
       "49beaacac0c7801c2ce2d189efe525fe80b5d37e46ed05b...   981224161874  30.126814   \n",
       "a65f77281a528bf5c1e9f270141d601d116e1df33bf9df5...  1020985732548  50.921186   \n",
       "cd04ec2726dd58a8c753e0d6423e57716fd9ebcf2f14ed6...   955673635748  41.327051   \n",
       "...                                                           ...        ...   \n",
       "9c7945de9cd5a5d7f833476ee2d7739e82b180a2026b5ca...      753692004   0.013542   \n",
       "2c0f5a51c0b29188a119bdd358897f279b1dda4ba0194b0...      400342037   0.050831   \n",
       "2c0f6e18e2e825f006126fc8be1117928fa24d5810857a5...      790006003   0.053373   \n",
       "9c784d9b315f5c761a2f6c267f88d7f9bb4d8597b7983fd...      842952001   0.030492   \n",
       "ffffd9ac14e89946416d80e791d064701994755c3ab686a...      806050001   0.084729   \n",
       "\n",
       "                                                    sales_channel_id  unit  \\\n",
       "customer_id                                                                  \n",
       "be1981ab818cf4ef6765b2ecaea7a2cbf14ccd6e8a7ee98...              3429  1895   \n",
       "b4db5e5259234574edfff958e170fe3a5e13b6f146752ca...              2872  1441   \n",
       "49beaacac0c7801c2ce2d189efe525fe80b5d37e46ed05b...              2679  1364   \n",
       "a65f77281a528bf5c1e9f270141d601d116e1df33bf9df5...              2692  1361   \n",
       "cd04ec2726dd58a8c753e0d6423e57716fd9ebcf2f14ed6...              2474  1237   \n",
       "...                                                              ...   ...   \n",
       "9c7945de9cd5a5d7f833476ee2d7739e82b180a2026b5ca...                 2     1   \n",
       "2c0f5a51c0b29188a119bdd358897f279b1dda4ba0194b0...                 2     1   \n",
       "2c0f6e18e2e825f006126fc8be1117928fa24d5810857a5...                 1     1   \n",
       "9c784d9b315f5c761a2f6c267f88d7f9bb4d8597b7983fd...                 2     1   \n",
       "ffffd9ac14e89946416d80e791d064701994755c3ab686a...                 2     1   \n",
       "\n",
       "                                                    nbr_user  \n",
       "customer_id                                                   \n",
       "be1981ab818cf4ef6765b2ecaea7a2cbf14ccd6e8a7ee98...         1  \n",
       "b4db5e5259234574edfff958e170fe3a5e13b6f146752ca...         1  \n",
       "49beaacac0c7801c2ce2d189efe525fe80b5d37e46ed05b...         1  \n",
       "a65f77281a528bf5c1e9f270141d601d116e1df33bf9df5...         1  \n",
       "cd04ec2726dd58a8c753e0d6423e57716fd9ebcf2f14ed6...         1  \n",
       "...                                                      ...  \n",
       "9c7945de9cd5a5d7f833476ee2d7739e82b180a2026b5ca...         1  \n",
       "2c0f5a51c0b29188a119bdd358897f279b1dda4ba0194b0...         1  \n",
       "2c0f6e18e2e825f006126fc8be1117928fa24d5810857a5...         1  \n",
       "9c784d9b315f5c761a2f6c267f88d7f9bb4d8597b7983fd...         1  \n",
       "ffffd9ac14e89946416d80e791d064701994755c3ab686a...         1  \n",
       "\n",
       "[1362281 rows x 5 columns]"
      ]
     },
     "execution_count": 58,
     "metadata": {},
     "output_type": "execute_result"
    }
   ],
   "source": [
    "a[]"
   ]
  },
  {
   "cell_type": "code",
   "execution_count": 6,
   "id": "a0121a8b",
   "metadata": {
    "ExecuteTime": {
     "end_time": "2022-04-06T09:16:28.119469Z",
     "start_time": "2022-04-06T09:16:28.116122Z"
    }
   },
   "outputs": [],
   "source": [
    "a['nbr_user'] = 1"
   ]
  },
  {
   "cell_type": "code",
   "execution_count": 9,
   "id": "ef57cba9",
   "metadata": {
    "ExecuteTime": {
     "end_time": "2022-04-06T09:17:08.999535Z",
     "start_time": "2022-04-06T09:17:08.904538Z"
    }
   },
   "outputs": [],
   "source": [
    "b = a[a['unit'] >10].groupby('unit').sum()"
   ]
  },
  {
   "cell_type": "code",
   "execution_count": 53,
   "id": "972674e8",
   "metadata": {
    "ExecuteTime": {
     "end_time": "2022-04-06T09:51:40.943479Z",
     "start_time": "2022-04-06T09:51:40.864694Z"
    }
   },
   "outputs": [
    {
     "data": {
      "text/plain": [
       "883297.4875755805"
      ]
     },
     "execution_count": 53,
=======
       "    </tr>\n",
       "    <tr>\n",
       "      <th>31788319</th>\n",
       "      <td>2020</td>\n",
       "      <td>39</td>\n",
       "      <td>2</td>\n",
       "    </tr>\n",
       "    <tr>\n",
       "      <th>31788320</th>\n",
       "      <td>2020</td>\n",
       "      <td>39</td>\n",
       "      <td>2</td>\n",
       "    </tr>\n",
       "    <tr>\n",
       "      <th>31788321</th>\n",
       "      <td>2020</td>\n",
       "      <td>39</td>\n",
       "      <td>2</td>\n",
       "    </tr>\n",
       "    <tr>\n",
       "      <th>31788322</th>\n",
       "      <td>2020</td>\n",
       "      <td>39</td>\n",
       "      <td>2</td>\n",
       "    </tr>\n",
       "    <tr>\n",
       "      <th>31788323</th>\n",
       "      <td>2020</td>\n",
       "      <td>39</td>\n",
       "      <td>2</td>\n",
       "    </tr>\n",
       "  </tbody>\n",
       "</table>\n",
       "<p>11039440 rows × 3 columns</p>\n",
       "</div>"
      ],
      "text/plain": [
       "          year  week  day\n",
       "20748884  2020     1    1\n",
       "20748885  2020     1    1\n",
       "20748886  2020     1    1\n",
       "20748887  2020     1    1\n",
       "20748888  2020     1    1\n",
       "...        ...   ...  ...\n",
       "31788319  2020    39    2\n",
       "31788320  2020    39    2\n",
       "31788321  2020    39    2\n",
       "31788322  2020    39    2\n",
       "31788323  2020    39    2\n",
       "\n",
       "[11039440 rows x 3 columns]"
      ]
     },
<<<<<<< HEAD
     "execution_count": 19,
>>>>>>> master
=======
     "execution_count": 64,
>>>>>>> d616c671ddbbb447bb750b0f9eff91450cc043e1
     "metadata": {},
     "output_type": "execute_result"
    }
   ],
   "source": [
<<<<<<< HEAD
    "sum(a.head(1362281-35543)['price'])\n"
=======
    "df = convert_to_date(transactions_train.t_dat).dt.isocalendar()\n",
    "#df.loc[(df['year']==2018)]  #index of the year 2018\n",
    "#df.loc[(df['year']==2019)]  #index of the year 2019\n",
    "#df.loc[(df['year']==2020)]  #index of the year 2020\n",
<<<<<<< HEAD
    "df"
>>>>>>> master
=======
    "#df"
>>>>>>> d616c671ddbbb447bb750b0f9eff91450cc043e1
   ]
  },
  {
   "cell_type": "code",
<<<<<<< HEAD
<<<<<<< HEAD
   "execution_count": 54,
   "id": "9f9ac595",
   "metadata": {
    "ExecuteTime": {
     "end_time": "2022-04-06T09:51:41.396027Z",
     "start_time": "2022-04-06T09:51:41.389105Z"
=======
   "execution_count": 35,
   "id": "8deb3be1",
   "metadata": {
    "ExecuteTime": {
     "end_time": "2022-04-05T11:18:28.617162Z",
     "start_time": "2022-04-05T11:18:28.529533Z"
>>>>>>> master
=======
   "execution_count": 51,
   "id": "8deb3be1",
   "metadata": {
    "ExecuteTime": {
     "end_time": "2022-04-05T12:34:09.500074Z",
     "start_time": "2022-04-05T12:34:09.085444Z"
>>>>>>> d616c671ddbbb447bb750b0f9eff91450cc043e1
    }
   },
   "outputs": [
    {
     "data": {
<<<<<<< HEAD
      "text/plain": [
       "1348.486474576303"
      ]
     },
     "execution_count": 54,
=======
      "text/html": [
       "<div>\n",
       "<style scoped>\n",
       "    .dataframe tbody tr th:only-of-type {\n",
       "        vertical-align: middle;\n",
       "    }\n",
       "\n",
       "    .dataframe tbody tr th {\n",
       "        vertical-align: top;\n",
       "    }\n",
       "\n",
       "    .dataframe thead th {\n",
       "        text-align: right;\n",
       "    }\n",
       "</style>\n",
       "<table border=\"1\" class=\"dataframe\">\n",
       "  <thead>\n",
       "    <tr style=\"text-align: right;\">\n",
       "      <th></th>\n",
       "      <th>year</th>\n",
       "      <th>week</th>\n",
       "      <th>day</th>\n",
       "    </tr>\n",
       "  </thead>\n",
       "  <tbody>\n",
<<<<<<< HEAD
       "  </tbody>\n",
       "</table>\n",
       "</div>"
      ],
      "text/plain": [
       "Empty DataFrame\n",
       "Columns: [year, week, day]\n",
       "Index: []"
      ]
     },
     "execution_count": 35,
>>>>>>> master
     "metadata": {},
     "output_type": "execute_result"
    }
   ],
   "source": [
<<<<<<< HEAD
    "sum(a.tail(35543)['price'])\n"
   ]
  },
  {
   "cell_type": "code",
   "execution_count": 14,
   "id": "4249e810",
   "metadata": {
    "ExecuteTime": {
     "end_time": "2022-04-06T09:18:46.169801Z",
     "start_time": "2022-04-06T09:18:46.166853Z"
    }
   },
   "outputs": [],
   "source": [
    "abscisse = list(b.index)\n",
    "ordonnee = list(b['nbr_user'])"
   ]
  },
  {
   "cell_type": "code",
   "execution_count": 25,
   "id": "69413f34",
   "metadata": {
    "ExecuteTime": {
     "end_time": "2022-04-06T09:23:28.341928Z",
     "start_time": "2022-04-06T09:23:28.212888Z"
    }
   },
   "outputs": [
    {
     "data": {
      "image/png": "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\n",
      "text/plain": [
       "<Figure size 360x720 with 1 Axes>"
      ]
     },
     "metadata": {
      "needs_background": "light"
     },
     "output_type": "display_data"
    }
   ],
   "source": [
    "import matplotlib.pyplot as plt\n",
    "plt.figure(figsize = (5,10))\n",
    "plt.plot(abscisse,ordonnee);\n"
=======
    "df.loc[(df['year']==2020) &(df['week']==40)]  #index of the year 2020, week 38"
>>>>>>> master
   ]
  },
  {
   "cell_type": "code",
<<<<<<< HEAD
   "execution_count": 57,
   "id": "1588c855",
   "metadata": {
    "ExecuteTime": {
     "end_time": "2022-04-06T09:57:51.605153Z",
     "start_time": "2022-04-06T09:57:51.595877Z"
=======
   "execution_count": 29,
   "id": "2b1fb642",
   "metadata": {
    "ExecuteTime": {
     "end_time": "2022-04-05T10:45:45.977048Z",
     "start_time": "2022-04-05T10:45:45.967632Z"
>>>>>>> master
    }
   },
   "outputs": [
    {
     "data": {
      "text/html": [
       "<div>\n",
       "<style scoped>\n",
       "    .dataframe tbody tr th:only-of-type {\n",
       "        vertical-align: middle;\n",
       "    }\n",
       "\n",
       "    .dataframe tbody tr th {\n",
       "        vertical-align: top;\n",
       "    }\n",
       "\n",
       "    .dataframe thead th {\n",
       "        text-align: right;\n",
       "    }\n",
       "</style>\n",
       "<table border=\"1\" class=\"dataframe\">\n",
       "  <thead>\n",
       "    <tr style=\"text-align: right;\">\n",
       "      <th></th>\n",
<<<<<<< HEAD
       "      <th>article_id</th>\n",
       "      <th>price</th>\n",
       "      <th>sales_channel_id</th>\n",
       "      <th>unit</th>\n",
       "      <th>nbr_user</th>\n",
       "    </tr>\n",
       "    <tr>\n",
       "      <th>customer_id</th>\n",
       "      <th></th>\n",
       "      <th></th>\n",
       "      <th></th>\n",
       "      <th></th>\n",
       "      <th></th>\n",
=======
       "      <th>t_dat</th>\n",
       "      <th>customer_id</th>\n",
       "      <th>article_id</th>\n",
       "      <th>price</th>\n",
       "      <th>sales_channel_id</th>\n",
>>>>>>> master
       "    </tr>\n",
       "  </thead>\n",
       "  <tbody>\n",
       "    <tr>\n",
<<<<<<< HEAD
       "      <th>be1981ab818cf4ef6765b2ecaea7a2cbf14ccd6e8a7ee985513d9e8e53c6d91b</th>\n",
       "      <td>1417016556306</td>\n",
       "      <td>57.676407</td>\n",
       "      <td>3429</td>\n",
       "      <td>1895</td>\n",
       "      <td>1</td>\n",
       "    </tr>\n",
       "    <tr>\n",
       "      <th>b4db5e5259234574edfff958e170fe3a5e13b6f146752ca066abca3c156acc71</th>\n",
       "      <td>1083377072331</td>\n",
       "      <td>47.662000</td>\n",
       "      <td>2872</td>\n",
       "      <td>1441</td>\n",
       "      <td>1</td>\n",
       "    </tr>\n",
       "    <tr>\n",
       "      <th>49beaacac0c7801c2ce2d189efe525fe80b5d37e46ed05b50a4cd88e34d0748f</th>\n",
       "      <td>981224161874</td>\n",
       "      <td>30.126814</td>\n",
       "      <td>2679</td>\n",
       "      <td>1364</td>\n",
       "      <td>1</td>\n",
       "    </tr>\n",
       "    <tr>\n",
       "      <th>a65f77281a528bf5c1e9f270141d601d116e1df33bf9df512f495ee06647a9cc</th>\n",
       "      <td>1020985732548</td>\n",
       "      <td>50.921186</td>\n",
       "      <td>2692</td>\n",
       "      <td>1361</td>\n",
       "      <td>1</td>\n",
       "    </tr>\n",
       "    <tr>\n",
       "      <th>cd04ec2726dd58a8c753e0d6423e57716fd9ebcf2f14ed6012e7e5bea016b4d6</th>\n",
       "      <td>955673635748</td>\n",
       "      <td>41.327051</td>\n",
       "      <td>2474</td>\n",
       "      <td>1237</td>\n",
=======
       "    <tr>\n",
       "      <th>30665422</th>\n",
       "      <td>2020</td>\n",
       "      <td>35</td>\n",
       "      <td>1</td>\n",
       "    </tr>\n",
       "    <tr>\n",
       "      <th>30665423</th>\n",
       "      <td>2020</td>\n",
       "      <td>35</td>\n",
       "      <td>1</td>\n",
       "    </tr>\n",
       "    <tr>\n",
       "      <th>30665424</th>\n",
       "      <td>2020</td>\n",
       "      <td>35</td>\n",
       "      <td>1</td>\n",
       "    </tr>\n",
       "    <tr>\n",
       "      <th>30665425</th>\n",
       "      <td>2020</td>\n",
       "      <td>35</td>\n",
       "      <td>1</td>\n",
       "    </tr>\n",
       "    <tr>\n",
       "      <th>30665426</th>\n",
       "      <td>2020</td>\n",
       "      <td>35</td>\n",
>>>>>>> d616c671ddbbb447bb750b0f9eff91450cc043e1
       "      <td>1</td>\n",
       "    </tr>\n",
       "    <tr>\n",
       "      <th>...</th>\n",
       "      <td>...</td>\n",
       "      <td>...</td>\n",
       "      <td>...</td>\n",
<<<<<<< HEAD
       "      <td>...</td>\n",
       "      <td>...</td>\n",
       "    </tr>\n",
       "    <tr>\n",
       "      <th>9c7945de9cd5a5d7f833476ee2d7739e82b180a2026b5ca999ead0db90cd44e0</th>\n",
       "      <td>753692004</td>\n",
       "      <td>0.013542</td>\n",
       "      <td>2</td>\n",
       "      <td>1</td>\n",
       "      <td>1</td>\n",
       "    </tr>\n",
       "    <tr>\n",
       "      <th>2c0f5a51c0b29188a119bdd358897f279b1dda4ba0194b059ee6dc0e539df287</th>\n",
       "      <td>400342037</td>\n",
       "      <td>0.050831</td>\n",
       "      <td>2</td>\n",
       "      <td>1</td>\n",
       "      <td>1</td>\n",
       "    </tr>\n",
       "    <tr>\n",
       "      <th>2c0f6e18e2e825f006126fc8be1117928fa24d5810857a5c3544c68ce40712b1</th>\n",
       "      <td>790006003</td>\n",
       "      <td>0.053373</td>\n",
       "      <td>1</td>\n",
       "      <td>1</td>\n",
       "      <td>1</td>\n",
       "    </tr>\n",
       "    <tr>\n",
       "      <th>9c784d9b315f5c761a2f6c267f88d7f9bb4d8597b7983fd6fa35ab081e62de1f</th>\n",
       "      <td>842952001</td>\n",
       "      <td>0.030492</td>\n",
       "      <td>2</td>\n",
       "      <td>1</td>\n",
       "      <td>1</td>\n",
       "    </tr>\n",
       "    <tr>\n",
       "      <th>ffffd9ac14e89946416d80e791d064701994755c3ab686a1eaf3458c36f52241</th>\n",
       "      <td>806050001</td>\n",
       "      <td>0.084729</td>\n",
       "      <td>2</td>\n",
       "      <td>1</td>\n",
       "      <td>1</td>\n",
       "    </tr>\n",
       "  </tbody>\n",
       "</table>\n",
       "<p>1362281 rows × 5 columns</p>\n",
       "</div>"
      ],
      "text/plain": [
       "                                                       article_id      price  \\\n",
       "customer_id                                                                    \n",
       "be1981ab818cf4ef6765b2ecaea7a2cbf14ccd6e8a7ee98...  1417016556306  57.676407   \n",
       "b4db5e5259234574edfff958e170fe3a5e13b6f146752ca...  1083377072331  47.662000   \n",
       "49beaacac0c7801c2ce2d189efe525fe80b5d37e46ed05b...   981224161874  30.126814   \n",
       "a65f77281a528bf5c1e9f270141d601d116e1df33bf9df5...  1020985732548  50.921186   \n",
       "cd04ec2726dd58a8c753e0d6423e57716fd9ebcf2f14ed6...   955673635748  41.327051   \n",
       "...                                                           ...        ...   \n",
       "9c7945de9cd5a5d7f833476ee2d7739e82b180a2026b5ca...      753692004   0.013542   \n",
       "2c0f5a51c0b29188a119bdd358897f279b1dda4ba0194b0...      400342037   0.050831   \n",
       "2c0f6e18e2e825f006126fc8be1117928fa24d5810857a5...      790006003   0.053373   \n",
       "9c784d9b315f5c761a2f6c267f88d7f9bb4d8597b7983fd...      842952001   0.030492   \n",
       "ffffd9ac14e89946416d80e791d064701994755c3ab686a...      806050001   0.084729   \n",
       "\n",
       "                                                    sales_channel_id  unit  \\\n",
       "customer_id                                                                  \n",
       "be1981ab818cf4ef6765b2ecaea7a2cbf14ccd6e8a7ee98...              3429  1895   \n",
       "b4db5e5259234574edfff958e170fe3a5e13b6f146752ca...              2872  1441   \n",
       "49beaacac0c7801c2ce2d189efe525fe80b5d37e46ed05b...              2679  1364   \n",
       "a65f77281a528bf5c1e9f270141d601d116e1df33bf9df5...              2692  1361   \n",
       "cd04ec2726dd58a8c753e0d6423e57716fd9ebcf2f14ed6...              2474  1237   \n",
       "...                                                              ...   ...   \n",
       "9c7945de9cd5a5d7f833476ee2d7739e82b180a2026b5ca...                 2     1   \n",
       "2c0f5a51c0b29188a119bdd358897f279b1dda4ba0194b0...                 2     1   \n",
       "2c0f6e18e2e825f006126fc8be1117928fa24d5810857a5...                 1     1   \n",
       "9c784d9b315f5c761a2f6c267f88d7f9bb4d8597b7983fd...                 2     1   \n",
       "ffffd9ac14e89946416d80e791d064701994755c3ab686a...                 2     1   \n",
       "\n",
       "                                                    nbr_user  \n",
       "customer_id                                                   \n",
       "be1981ab818cf4ef6765b2ecaea7a2cbf14ccd6e8a7ee98...         1  \n",
       "b4db5e5259234574edfff958e170fe3a5e13b6f146752ca...         1  \n",
       "49beaacac0c7801c2ce2d189efe525fe80b5d37e46ed05b...         1  \n",
       "a65f77281a528bf5c1e9f270141d601d116e1df33bf9df5...         1  \n",
       "cd04ec2726dd58a8c753e0d6423e57716fd9ebcf2f14ed6...         1  \n",
       "...                                                      ...  \n",
       "9c7945de9cd5a5d7f833476ee2d7739e82b180a2026b5ca...         1  \n",
       "2c0f5a51c0b29188a119bdd358897f279b1dda4ba0194b0...         1  \n",
       "2c0f6e18e2e825f006126fc8be1117928fa24d5810857a5...         1  \n",
       "9c784d9b315f5c761a2f6c267f88d7f9bb4d8597b7983fd...         1  \n",
       "ffffd9ac14e89946416d80e791d064701994755c3ab686a...         1  \n",
       "\n",
       "[1362281 rows x 5 columns]"
      ]
     },
     "execution_count": 57,
     "metadata": {},
     "output_type": "execute_result"
    }
   ],
   "source": [
    "a"
   ]
  },
  {
   "cell_type": "code",
   "execution_count": 68,
   "id": "9a4f101e",
   "metadata": {
    "ExecuteTime": {
     "end_time": "2022-04-06T10:04:08.992722Z",
     "start_time": "2022-04-06T10:04:08.987421Z"
    }
   },
   "outputs": [
    {
     "data": {
      "text/plain": [
       "0        be1981ab818cf4ef6765b2ecaea7a2cbf14ccd6e8a7ee9...\n",
       "1        b4db5e5259234574edfff958e170fe3a5e13b6f146752c...\n",
       "2        49beaacac0c7801c2ce2d189efe525fe80b5d37e46ed05...\n",
       "3        a65f77281a528bf5c1e9f270141d601d116e1df33bf9df...\n",
       "4        cd04ec2726dd58a8c753e0d6423e57716fd9ebcf2f14ed...\n",
       "                               ...                        \n",
       "35538    3ab58a1af22f2b224e76a3cba36db1b36a81ac7bcd7a2e...\n",
       "35539    f449847d5301643789b051274f25d42c12e12c62d17dc3...\n",
       "35540    794f77c1fc4490d0a5ac1f274590a9f57b22f2c4815b5a...\n",
       "35541    2474c5cc794f2238e0ea440edb0ff33943b8319055fe36...\n",
       "35542    f27bcc9beecbaadd56f3111109155a3b18eedb90d7c079...\n",
       "Name: customer_id, Length: 35543, dtype: object"
      ]
     },
     "execution_count": 68,
     "metadata": {},
     "output_type": "execute_result"
    }
   ],
   "source": [
    "pd.Series(user_order_more_125.index)"
   ]
  },
  {
   "cell_type": "code",
   "execution_count": 77,
   "id": "cdf3f5b0",
   "metadata": {
    "ExecuteTime": {
     "end_time": "2022-04-06T10:08:42.039617Z",
     "start_time": "2022-04-06T10:08:41.928913Z"
    }
   },
   "outputs": [
    {
     "name": "stderr",
     "output_type": "stream",
     "text": [
      "/tmp/ipykernel_17362/1301236820.py:2: SettingWithCopyWarning: \n",
      "A value is trying to be set on a copy of a slice from a DataFrame.\n",
      "Try using .loc[row_indexer,col_indexer] = value instead\n",
      "\n",
      "See the caveats in the documentation: https://pandas.pydata.org/pandas-docs/stable/user_guide/indexing.html#returning-a-view-versus-a-copy\n",
      "  user_order_more_125['customer_id'] = user_order_more_125.index\n",
      "/tmp/ipykernel_17362/1301236820.py:3: SettingWithCopyWarning: \n",
      "A value is trying to be set on a copy of a slice from a DataFrame.\n",
      "Try using .loc[row_indexer,col_indexer] = value instead\n",
      "\n",
      "See the caveats in the documentation: https://pandas.pydata.org/pandas-docs/stable/user_guide/indexing.html#returning-a-view-versus-a-copy\n",
      "  user_order_more_125['unit_bought'] = user_order_more_125['unit']\n"
     ]
    }
   ],
   "source": [
    "user_order_more_125 = a[a['unit'] >= 125]\n",
    "user_order_more_125['customer_id'] = user_order_more_125.index\n",
    "user_order_more_125['unit_bought'] = user_order_more_125['unit']\n",
    "user_order_more_125[['customer_id','unit_bought']].to_csv('customers_with_over_125_orders.csv')\n"
   ]
  },
  {
   "cell_type": "code",
   "execution_count": null,
   "id": "6319450f",
   "metadata": {},
   "outputs": [],
   "source": [
    "1362281-35543"
   ]
  },
  {
   "cell_type": "code",
   "execution_count": 32,
   "id": "40a1d709",
   "metadata": {
    "ExecuteTime": {
     "end_time": "2022-04-06T09:43:26.824513Z",
     "start_time": "2022-04-06T09:43:26.820938Z"
    }
   },
   "outputs": [
    {
     "data": {
      "text/plain": [
       "0.02609079918166663"
      ]
     },
     "execution_count": 32,
     "metadata": {},
     "output_type": "execute_result"
    }
   ],
   "source": [
    "35543 /1362281"
   ]
  },
  {
   "cell_type": "markdown",
   "id": "23d9d632",
   "metadata": {},
   "source": [
    "As you can see, only 2 percent of the user "
   ]
  },
  {
   "cell_type": "code",
   "execution_count": null,
   "id": "0436c497",
   "metadata": {},
   "outputs": [],
   "source": []
  },
  {
   "cell_type": "code",
   "execution_count": null,
   "id": "f4da7243",
   "metadata": {},
   "outputs": [],
   "source": []
  },
  {
   "cell_type": "code",
   "execution_count": 29,
   "id": "a67ec0d3",
   "metadata": {
    "ExecuteTime": {
     "end_time": "2022-04-06T09:39:07.665506Z",
     "start_time": "2022-04-06T09:39:07.662095Z"
    }
   },
   "outputs": [
    {
     "data": {
      "text/plain": [
       "0.02609079918166663"
      ]
     },
     "execution_count": 29,
     "metadata": {},
     "output_type": "execute_result"
    }
   ],
   "source": []
  },
  {
   "cell_type": "code",
   "execution_count": 5,
   "id": "57fff6b5",
   "metadata": {
    "ExecuteTime": {
     "end_time": "2022-04-05T13:03:21.378326Z",
     "start_time": "2022-04-05T13:03:21.373869Z"
    }
   },
   "outputs": [],
   "source": [
    "#converts the column dates, which has strings, into dates\n",
    "def convert_to_date(s):\n",
    "    \"\"\"\n",
    "    Memoization technique - very fast conversion to pure python dates\n",
    "    \"\"\"\n",
    "    dates = {date:datetime.datetime.strptime(date,'%Y-%m-%d') for date in s.unique()}\n",
    "    return s.map(dates)\n",
    "\n",
    "#converts the dates column into the weeks, starting from 1, finishing into 105\n",
    "def dates_to_weeks():\n",
    "    df_res = convert_to_date(transactions_train.t_dat).dt.isocalendar()\n",
    "    for i in range(4387358):\n",
    "        transactions_train.t_dat[i] = df.week[i]-37\n",
    "    for i in range(4387358,20748883):\n",
    "        transactions_train.t_dat[i] = df.week[i]+37\n",
    "    for i in range(20748883,31788324):\n",
    "        transactions_train.t_dat[i] = df.week[i]+37+52\n",
    " "
   ]
  },
  {
   "cell_type": "code",
   "execution_count": 6,
   "id": "bb92ed08",
   "metadata": {
    "ExecuteTime": {
     "end_time": "2022-04-05T13:03:32.428197Z",
     "start_time": "2022-04-05T13:03:21.804703Z"
    }
   },
   "outputs": [],
   "source": [
    "df = convert_to_date(transactions_train.t_dat).dt.isocalendar()\n",
    "#df.loc[(df['year']==2018)]  #index of the year 2018\n",
    "#df.loc[(df['year']==2019)]  #index of the year 2019\n",
    "#df.loc[(df['year']==2020)]  #index of the year 2020\n",
    "#df"
   ]
  },
  {
   "cell_type": "code",
   "execution_count": 7,
   "id": "c890332d",
   "metadata": {
    "ExecuteTime": {
     "end_time": "2022-04-05T13:03:32.447798Z",
     "start_time": "2022-04-05T13:03:32.429927Z"
    }
   },
   "outputs": [
    {
     "data": {
      "text/html": [
       "<div>\n",
       "<style scoped>\n",
       "    .dataframe tbody tr th:only-of-type {\n",
       "        vertical-align: middle;\n",
       "    }\n",
       "\n",
       "    .dataframe tbody tr th {\n",
       "        vertical-align: top;\n",
       "    }\n",
       "\n",
       "    .dataframe thead th {\n",
       "        text-align: right;\n",
       "    }\n",
       "</style>\n",
       "<table border=\"1\" class=\"dataframe\">\n",
       "  <thead>\n",
       "    <tr style=\"text-align: right;\">\n",
       "      <th></th>\n",
       "      <th>year</th>\n",
       "      <th>week</th>\n",
       "      <th>day</th>\n",
       "    </tr>\n",
       "  </thead>\n",
       "  <tbody>\n",
       "    <tr>\n",
       "      <th>0</th>\n",
       "      <td>2018</td>\n",
       "      <td>38</td>\n",
       "      <td>4</td>\n",
       "    </tr>\n",
       "    <tr>\n",
       "      <th>1</th>\n",
       "      <td>2018</td>\n",
       "      <td>38</td>\n",
       "      <td>4</td>\n",
       "    </tr>\n",
       "    <tr>\n",
       "      <th>2</th>\n",
       "      <td>2018</td>\n",
       "      <td>38</td>\n",
       "      <td>4</td>\n",
       "    </tr>\n",
       "    <tr>\n",
       "      <th>3</th>\n",
       "      <td>2018</td>\n",
       "      <td>38</td>\n",
       "      <td>4</td>\n",
       "    </tr>\n",
       "    <tr>\n",
       "      <th>4</th>\n",
       "      <td>2018</td>\n",
       "      <td>38</td>\n",
       "      <td>4</td>\n",
=======
       "      <th>31492019</th>\n",
       "      <td>2020-09-14</td>\n",
       "      <td>0000757967448a6cb83efb3ea7a3fb9d418ac7adf2379d...</td>\n",
       "      <td>719530003</td>\n",
       "      <td>0.033881</td>\n",
       "      <td>2</td>\n",
       "    </tr>\n",
       "    <tr>\n",
       "      <th>31492020</th>\n",
       "      <td>2020-09-14</td>\n",
       "      <td>0000757967448a6cb83efb3ea7a3fb9d418ac7adf2379d...</td>\n",
       "      <td>448509014</td>\n",
       "      <td>0.042356</td>\n",
       "      <td>2</td>\n",
       "    </tr>\n",
       "    <tr>\n",
       "      <th>31492021</th>\n",
       "      <td>2020-09-14</td>\n",
       "      <td>0001d44dbe7f6c4b35200abdb052c77a87596fe1bdcc37...</td>\n",
       "      <td>734592001</td>\n",
       "      <td>0.030492</td>\n",
       "      <td>1</td>\n",
       "    </tr>\n",
       "    <tr>\n",
       "      <th>31492022</th>\n",
       "      <td>2020-09-14</td>\n",
       "      <td>0003e867a930d0d6842f923d6ba7c9b77aba33fe2a0fbf...</td>\n",
       "      <td>889036004</td>\n",
       "      <td>0.050831</td>\n",
       "      <td>2</td>\n",
       "    </tr>\n",
       "    <tr>\n",
       "      <th>31492023</th>\n",
       "      <td>2020-09-14</td>\n",
       "      <td>0008968c0d451dbc5a9968da03196fe20051965edde741...</td>\n",
       "      <td>893059004</td>\n",
       "      <td>0.035576</td>\n",
       "      <td>2</td>\n",
>>>>>>> master
       "    </tr>\n",
       "    <tr>\n",
       "      <th>...</th>\n",
       "      <td>...</td>\n",
       "      <td>...</td>\n",
       "      <td>...</td>\n",
<<<<<<< HEAD
       "    </tr>\n",
       "    <tr>\n",
       "      <th>31788319</th>\n",
       "      <td>2020</td>\n",
       "      <td>39</td>\n",
       "      <td>2</td>\n",
       "    </tr>\n",
       "    <tr>\n",
       "      <th>31788320</th>\n",
       "      <td>2020</td>\n",
       "      <td>39</td>\n",
       "      <td>2</td>\n",
       "    </tr>\n",
       "    <tr>\n",
       "      <th>31788321</th>\n",
       "      <td>2020</td>\n",
       "      <td>39</td>\n",
       "      <td>2</td>\n",
       "    </tr>\n",
       "    <tr>\n",
       "      <th>31788322</th>\n",
       "      <td>2020</td>\n",
       "      <td>39</td>\n",
       "      <td>2</td>\n",
       "    </tr>\n",
       "    <tr>\n",
       "      <th>31788323</th>\n",
       "      <td>2020</td>\n",
       "      <td>39</td>\n",
       "      <td>2</td>\n",
       "    </tr>\n",
       "  </tbody>\n",
       "</table>\n",
       "<p>31788324 rows × 3 columns</p>\n",
       "</div>"
      ],
      "text/plain": [
       "          year  week  day\n",
       "0         2018    38    4\n",
       "1         2018    38    4\n",
       "2         2018    38    4\n",
       "3         2018    38    4\n",
       "4         2018    38    4\n",
       "...        ...   ...  ...\n",
       "31788319  2020    39    2\n",
       "31788320  2020    39    2\n",
       "31788321  2020    39    2\n",
       "31788322  2020    39    2\n",
       "31788323  2020    39    2\n",
       "\n",
       "[31788324 rows x 3 columns]"
      ]
     },
     "execution_count": 7,
     "metadata": {},
     "output_type": "execute_result"
    }
   ],
   "source": [
    "df"
   ]
  },
  {
   "cell_type": "code",
   "execution_count": 17,
   "id": "8deb3be1",
   "metadata": {
    "ExecuteTime": {
     "end_time": "2022-04-05T13:05:12.093030Z",
     "start_time": "2022-04-05T13:05:12.015345Z"
    }
   },
   "outputs": [
    {
     "data": {
      "text/html": [
       "<div>\n",
       "<style scoped>\n",
       "    .dataframe tbody tr th:only-of-type {\n",
       "        vertical-align: middle;\n",
       "    }\n",
       "\n",
       "    .dataframe tbody tr th {\n",
       "        vertical-align: top;\n",
       "    }\n",
       "\n",
       "    .dataframe thead th {\n",
       "        text-align: right;\n",
       "    }\n",
       "</style>\n",
       "<table border=\"1\" class=\"dataframe\">\n",
       "  <thead>\n",
       "    <tr style=\"text-align: right;\">\n",
       "      <th></th>\n",
       "      <th>year</th>\n",
       "      <th>week</th>\n",
       "      <th>day</th>\n",
       "    </tr>\n",
       "  </thead>\n",
       "  <tbody>\n",
       "    <tr>\n",
       "      <th>31492019</th>\n",
       "      <td>2020</td>\n",
       "      <td>38</td>\n",
       "      <td>1</td>\n",
       "    </tr>\n",
       "    <tr>\n",
       "      <th>31492020</th>\n",
       "      <td>2020</td>\n",
       "      <td>38</td>\n",
       "      <td>1</td>\n",
       "    </tr>\n",
       "    <tr>\n",
       "      <th>31492021</th>\n",
       "      <td>2020</td>\n",
       "      <td>38</td>\n",
       "      <td>1</td>\n",
       "    </tr>\n",
       "    <tr>\n",
       "      <th>31492022</th>\n",
       "      <td>2020</td>\n",
       "      <td>38</td>\n",
       "      <td>1</td>\n",
       "    </tr>\n",
       "    <tr>\n",
       "      <th>31492023</th>\n",
       "      <td>2020</td>\n",
       "      <td>38</td>\n",
       "      <td>1</td>\n",
       "    </tr>\n",
       "    <tr>\n",
       "      <th>...</th>\n",
       "      <td>...</td>\n",
       "      <td>...</td>\n",
       "      <td>...</td>\n",
       "    </tr>\n",
       "    <tr>\n",
=======
       "    </tr>\n",
       "    <tr>\n",
>>>>>>> d616c671ddbbb447bb750b0f9eff91450cc043e1
       "      <th>31723323</th>\n",
       "      <td>2020</td>\n",
       "      <td>38</td>\n",
       "      <td>7</td>\n",
<<<<<<< HEAD
       "    </tr>\n",
       "    <tr>\n",
       "      <th>31723324</th>\n",
       "      <td>2020</td>\n",
       "      <td>38</td>\n",
       "      <td>7</td>\n",
       "    </tr>\n",
       "    <tr>\n",
       "      <th>31723325</th>\n",
       "      <td>2020</td>\n",
       "      <td>38</td>\n",
       "      <td>7</td>\n",
       "    </tr>\n",
       "    <tr>\n",
       "      <th>31723326</th>\n",
       "      <td>2020</td>\n",
       "      <td>38</td>\n",
       "      <td>7</td>\n",
       "    </tr>\n",
       "    <tr>\n",
       "      <th>31723327</th>\n",
       "      <td>2020</td>\n",
       "      <td>38</td>\n",
       "      <td>7</td>\n",
       "    </tr>\n",
       "  </tbody>\n",
       "</table>\n",
       "<p>231309 rows × 3 columns</p>\n",
       "</div>"
      ],
      "text/plain": [
       "          year  week  day\n",
       "31492019  2020    38    1\n",
       "31492020  2020    38    1\n",
       "31492021  2020    38    1\n",
       "31492022  2020    38    1\n",
       "31492023  2020    38    1\n",
       "...        ...   ...  ...\n",
       "31723323  2020    38    7\n",
       "31723324  2020    38    7\n",
       "31723325  2020    38    7\n",
       "31723326  2020    38    7\n",
       "31723327  2020    38    7\n",
       "\n",
       "[231309 rows x 3 columns]"
      ]
     },
     "execution_count": 17,
=======
       "      <td>...</td>\n",
       "      <td>...</td>\n",
       "    </tr>\n",
       "    <tr>\n",
       "      <th>31723322</th>\n",
       "      <td>2020-09-20</td>\n",
       "      <td>fff4381593e170ca0aea188998487c830d9a4070c9ec4b...</td>\n",
       "      <td>799365001</td>\n",
       "      <td>0.050831</td>\n",
       "      <td>1</td>\n",
       "    </tr>\n",
       "    <tr>\n",
       "      <th>31723323</th>\n",
       "      <td>2020-09-20</td>\n",
       "      <td>fff7e7674509592818bf453391af43a85eaaac9a52d858...</td>\n",
       "      <td>624486049</td>\n",
       "      <td>0.013542</td>\n",
       "      <td>1</td>\n",
=======
>>>>>>> d616c671ddbbb447bb750b0f9eff91450cc043e1
       "    </tr>\n",
       "    <tr>\n",
       "      <th>31723324</th>\n",
       "      <td>2020</td>\n",
       "      <td>38</td>\n",
       "      <td>7</td>\n",
       "    </tr>\n",
       "    <tr>\n",
       "      <th>31723325</th>\n",
       "      <td>2020</td>\n",
       "      <td>38</td>\n",
       "      <td>7</td>\n",
       "    </tr>\n",
       "    <tr>\n",
       "      <th>31723326</th>\n",
       "      <td>2020</td>\n",
       "      <td>38</td>\n",
       "      <td>7</td>\n",
       "    </tr>\n",
       "    <tr>\n",
       "      <th>31723327</th>\n",
       "      <td>2020</td>\n",
       "      <td>38</td>\n",
       "      <td>7</td>\n",
       "    </tr>\n",
       "  </tbody>\n",
       "</table>\n",
       "<p>1057906 rows × 3 columns</p>\n",
       "</div>"
      ],
      "text/plain": [
       "          year  week  day\n",
       "30665422  2020    35    1\n",
       "30665423  2020    35    1\n",
       "30665424  2020    35    1\n",
       "30665425  2020    35    1\n",
       "30665426  2020    35    1\n",
       "...        ...   ...  ...\n",
       "31723323  2020    38    7\n",
       "31723324  2020    38    7\n",
       "31723325  2020    38    7\n",
       "31723326  2020    38    7\n",
       "31723327  2020    38    7\n",
       "\n",
       "[1057906 rows x 3 columns]"
      ]
     },
<<<<<<< HEAD
     "execution_count": 29,
>>>>>>> master
=======
     "execution_count": 51,
>>>>>>> d616c671ddbbb447bb750b0f9eff91450cc043e1
     "metadata": {},
     "output_type": "execute_result"
    }
   ],
   "source": [
<<<<<<< HEAD
<<<<<<< HEAD
    "df.loc[(df['year']==2020) & ((df['week']==37))]#| (df['week']==37)| (df['week']==36)| (df['week']==35)) ]  #index of the year 2020, week 38"
   ]
  },
  {
   "cell_type": "code",
   "execution_count": 19,
   "id": "572dcb7a",
   "metadata": {
    "ExecuteTime": {
     "end_time": "2022-04-05T13:18:33.772873Z",
     "start_time": "2022-04-05T13:13:38.256507Z"
    }
   },
   "outputs": [
    {
     "name": "stderr",
     "output_type": "stream",
     "text": [
      "/tmp/ipykernel_14966/3054074095.py:2: SettingWithCopyWarning: \n",
      "A value is trying to be set on a copy of a slice from a DataFrame\n",
      "\n",
      "See the caveats in the documentation: https://pandas.pydata.org/pandas-docs/stable/user_guide/indexing.html#returning-a-view-versus-a-copy\n",
      "  transactions_train.t_dat[i] = 104\n"
     ]
    },
    {
     "ename": "KeyboardInterrupt",
     "evalue": "",
     "output_type": "error",
     "traceback": [
      "\u001b[0;31m---------------------------------------------------------------------------\u001b[0m",
      "\u001b[0;31mKeyboardInterrupt\u001b[0m                         Traceback (most recent call last)",
      "\u001b[0;32m/tmp/ipykernel_14966/3054074095.py\u001b[0m in \u001b[0;36m<module>\u001b[0;34m\u001b[0m\n\u001b[1;32m      1\u001b[0m \u001b[0;32mfor\u001b[0m \u001b[0mi\u001b[0m \u001b[0;32min\u001b[0m \u001b[0mrange\u001b[0m\u001b[0;34m(\u001b[0m\u001b[0;36m31492019\u001b[0m\u001b[0;34m,\u001b[0m\u001b[0;36m31723327\u001b[0m\u001b[0;34m)\u001b[0m\u001b[0;34m:\u001b[0m\u001b[0;34m\u001b[0m\u001b[0;34m\u001b[0m\u001b[0m\n\u001b[0;32m----> 2\u001b[0;31m     \u001b[0mtransactions_train\u001b[0m\u001b[0;34m.\u001b[0m\u001b[0mt_dat\u001b[0m\u001b[0;34m[\u001b[0m\u001b[0mi\u001b[0m\u001b[0;34m]\u001b[0m \u001b[0;34m=\u001b[0m \u001b[0;36m104\u001b[0m\u001b[0;34m\u001b[0m\u001b[0;34m\u001b[0m\u001b[0m\n\u001b[0m",
      "\u001b[0;32m~/.pyenv/versions/3.8.12/envs/lewagon/lib/python3.8/site-packages/pandas/core/series.py\u001b[0m in \u001b[0;36m__setitem__\u001b[0;34m(self, key, value)\u001b[0m\n\u001b[1;32m   1073\u001b[0m         \u001b[0mcheck_deprecated_indexers\u001b[0m\u001b[0;34m(\u001b[0m\u001b[0mkey\u001b[0m\u001b[0;34m)\u001b[0m\u001b[0;34m\u001b[0m\u001b[0;34m\u001b[0m\u001b[0m\n\u001b[1;32m   1074\u001b[0m         \u001b[0mkey\u001b[0m \u001b[0;34m=\u001b[0m \u001b[0mcom\u001b[0m\u001b[0;34m.\u001b[0m\u001b[0mapply_if_callable\u001b[0m\u001b[0;34m(\u001b[0m\u001b[0mkey\u001b[0m\u001b[0;34m,\u001b[0m \u001b[0mself\u001b[0m\u001b[0;34m)\u001b[0m\u001b[0;34m\u001b[0m\u001b[0;34m\u001b[0m\u001b[0m\n\u001b[0;32m-> 1075\u001b[0;31m         \u001b[0mcacher_needs_updating\u001b[0m \u001b[0;34m=\u001b[0m \u001b[0mself\u001b[0m\u001b[0;34m.\u001b[0m\u001b[0m_check_is_chained_assignment_possible\u001b[0m\u001b[0;34m(\u001b[0m\u001b[0;34m)\u001b[0m\u001b[0;34m\u001b[0m\u001b[0;34m\u001b[0m\u001b[0m\n\u001b[0m\u001b[1;32m   1076\u001b[0m \u001b[0;34m\u001b[0m\u001b[0m\n\u001b[1;32m   1077\u001b[0m         \u001b[0;32mif\u001b[0m \u001b[0mkey\u001b[0m \u001b[0;32mis\u001b[0m \u001b[0mEllipsis\u001b[0m\u001b[0;34m:\u001b[0m\u001b[0;34m\u001b[0m\u001b[0;34m\u001b[0m\u001b[0m\n",
      "\u001b[0;32m~/.pyenv/versions/3.8.12/envs/lewagon/lib/python3.8/site-packages/pandas/core/series.py\u001b[0m in \u001b[0;36m_check_is_chained_assignment_possible\u001b[0;34m(self)\u001b[0m\n\u001b[1;32m   1254\u001b[0m             \u001b[0mref\u001b[0m \u001b[0;34m=\u001b[0m \u001b[0mself\u001b[0m\u001b[0;34m.\u001b[0m\u001b[0m_get_cacher\u001b[0m\u001b[0;34m(\u001b[0m\u001b[0;34m)\u001b[0m\u001b[0;34m\u001b[0m\u001b[0;34m\u001b[0m\u001b[0m\n\u001b[1;32m   1255\u001b[0m             \u001b[0;32mif\u001b[0m \u001b[0mref\u001b[0m \u001b[0;32mis\u001b[0m \u001b[0;32mnot\u001b[0m \u001b[0;32mNone\u001b[0m \u001b[0;32mand\u001b[0m \u001b[0mref\u001b[0m\u001b[0;34m.\u001b[0m\u001b[0m_is_mixed_type\u001b[0m\u001b[0;34m:\u001b[0m\u001b[0;34m\u001b[0m\u001b[0;34m\u001b[0m\u001b[0m\n\u001b[0;32m-> 1256\u001b[0;31m                 \u001b[0mself\u001b[0m\u001b[0;34m.\u001b[0m\u001b[0m_check_setitem_copy\u001b[0m\u001b[0;34m(\u001b[0m\u001b[0mt\u001b[0m\u001b[0;34m=\u001b[0m\u001b[0;34m\"referent\"\u001b[0m\u001b[0;34m,\u001b[0m \u001b[0mforce\u001b[0m\u001b[0;34m=\u001b[0m\u001b[0;32mTrue\u001b[0m\u001b[0;34m)\u001b[0m\u001b[0;34m\u001b[0m\u001b[0;34m\u001b[0m\u001b[0m\n\u001b[0m\u001b[1;32m   1257\u001b[0m             \u001b[0;32mreturn\u001b[0m \u001b[0;32mTrue\u001b[0m\u001b[0;34m\u001b[0m\u001b[0;34m\u001b[0m\u001b[0m\n\u001b[1;32m   1258\u001b[0m         \u001b[0;32mreturn\u001b[0m \u001b[0msuper\u001b[0m\u001b[0;34m(\u001b[0m\u001b[0;34m)\u001b[0m\u001b[0;34m.\u001b[0m\u001b[0m_check_is_chained_assignment_possible\u001b[0m\u001b[0;34m(\u001b[0m\u001b[0;34m)\u001b[0m\u001b[0;34m\u001b[0m\u001b[0;34m\u001b[0m\u001b[0m\n",
      "\u001b[0;32m~/.pyenv/versions/3.8.12/envs/lewagon/lib/python3.8/site-packages/pandas/core/generic.py\u001b[0m in \u001b[0;36m_check_setitem_copy\u001b[0;34m(self, t, force)\u001b[0m\n\u001b[1;32m   4028\u001b[0m             \u001b[0;32mraise\u001b[0m \u001b[0mcom\u001b[0m\u001b[0;34m.\u001b[0m\u001b[0mSettingWithCopyError\u001b[0m\u001b[0;34m(\u001b[0m\u001b[0mt\u001b[0m\u001b[0;34m)\u001b[0m\u001b[0;34m\u001b[0m\u001b[0;34m\u001b[0m\u001b[0m\n\u001b[1;32m   4029\u001b[0m         \u001b[0;32melif\u001b[0m \u001b[0mvalue\u001b[0m \u001b[0;34m==\u001b[0m \u001b[0;34m\"warn\"\u001b[0m\u001b[0;34m:\u001b[0m\u001b[0;34m\u001b[0m\u001b[0;34m\u001b[0m\u001b[0m\n\u001b[0;32m-> 4030\u001b[0;31m             \u001b[0mwarnings\u001b[0m\u001b[0;34m.\u001b[0m\u001b[0mwarn\u001b[0m\u001b[0;34m(\u001b[0m\u001b[0mt\u001b[0m\u001b[0;34m,\u001b[0m \u001b[0mcom\u001b[0m\u001b[0;34m.\u001b[0m\u001b[0mSettingWithCopyWarning\u001b[0m\u001b[0;34m,\u001b[0m \u001b[0mstacklevel\u001b[0m\u001b[0;34m=\u001b[0m\u001b[0mfind_stack_level\u001b[0m\u001b[0;34m(\u001b[0m\u001b[0;34m)\u001b[0m\u001b[0;34m)\u001b[0m\u001b[0;34m\u001b[0m\u001b[0;34m\u001b[0m\u001b[0m\n\u001b[0m\u001b[1;32m   4031\u001b[0m \u001b[0;34m\u001b[0m\u001b[0m\n\u001b[1;32m   4032\u001b[0m     \u001b[0;32mdef\u001b[0m \u001b[0m__delitem__\u001b[0m\u001b[0;34m(\u001b[0m\u001b[0mself\u001b[0m\u001b[0;34m,\u001b[0m \u001b[0mkey\u001b[0m\u001b[0;34m)\u001b[0m \u001b[0;34m->\u001b[0m \u001b[0;32mNone\u001b[0m\u001b[0;34m:\u001b[0m\u001b[0;34m\u001b[0m\u001b[0;34m\u001b[0m\u001b[0m\n",
      "\u001b[0;32m~/.pyenv/versions/3.8.12/envs/lewagon/lib/python3.8/site-packages/pandas/util/_exceptions.py\u001b[0m in \u001b[0;36mfind_stack_level\u001b[0;34m()\u001b[0m\n\u001b[1;32m     30\u001b[0m     \u001b[0;34m(\u001b[0m\u001b[0mtests\u001b[0m \u001b[0mnotwithstanding\u001b[0m\u001b[0;34m)\u001b[0m\u001b[0;34m.\u001b[0m\u001b[0;34m\u001b[0m\u001b[0;34m\u001b[0m\u001b[0m\n\u001b[1;32m     31\u001b[0m     \"\"\"\n\u001b[0;32m---> 32\u001b[0;31m     \u001b[0mstack\u001b[0m \u001b[0;34m=\u001b[0m \u001b[0minspect\u001b[0m\u001b[0;34m.\u001b[0m\u001b[0mstack\u001b[0m\u001b[0;34m(\u001b[0m\u001b[0;34m)\u001b[0m\u001b[0;34m\u001b[0m\u001b[0;34m\u001b[0m\u001b[0m\n\u001b[0m\u001b[1;32m     33\u001b[0m \u001b[0;34m\u001b[0m\u001b[0m\n\u001b[1;32m     34\u001b[0m     \u001b[0;32mimport\u001b[0m \u001b[0mpandas\u001b[0m \u001b[0;32mas\u001b[0m \u001b[0mpd\u001b[0m\u001b[0;34m\u001b[0m\u001b[0;34m\u001b[0m\u001b[0m\n",
      "\u001b[0;32m~/.pyenv/versions/3.8.12/lib/python3.8/inspect.py\u001b[0m in \u001b[0;36mstack\u001b[0;34m(context)\u001b[0m\n\u001b[1;32m   1524\u001b[0m \u001b[0;32mdef\u001b[0m \u001b[0mstack\u001b[0m\u001b[0;34m(\u001b[0m\u001b[0mcontext\u001b[0m\u001b[0;34m=\u001b[0m\u001b[0;36m1\u001b[0m\u001b[0;34m)\u001b[0m\u001b[0;34m:\u001b[0m\u001b[0;34m\u001b[0m\u001b[0;34m\u001b[0m\u001b[0m\n\u001b[1;32m   1525\u001b[0m     \u001b[0;34m\"\"\"Return a list of records for the stack above the caller's frame.\"\"\"\u001b[0m\u001b[0;34m\u001b[0m\u001b[0;34m\u001b[0m\u001b[0m\n\u001b[0;32m-> 1526\u001b[0;31m     \u001b[0;32mreturn\u001b[0m \u001b[0mgetouterframes\u001b[0m\u001b[0;34m(\u001b[0m\u001b[0msys\u001b[0m\u001b[0;34m.\u001b[0m\u001b[0m_getframe\u001b[0m\u001b[0;34m(\u001b[0m\u001b[0;36m1\u001b[0m\u001b[0;34m)\u001b[0m\u001b[0;34m,\u001b[0m \u001b[0mcontext\u001b[0m\u001b[0;34m)\u001b[0m\u001b[0;34m\u001b[0m\u001b[0;34m\u001b[0m\u001b[0m\n\u001b[0m\u001b[1;32m   1527\u001b[0m \u001b[0;34m\u001b[0m\u001b[0m\n\u001b[1;32m   1528\u001b[0m \u001b[0;32mdef\u001b[0m \u001b[0mtrace\u001b[0m\u001b[0;34m(\u001b[0m\u001b[0mcontext\u001b[0m\u001b[0;34m=\u001b[0m\u001b[0;36m1\u001b[0m\u001b[0;34m)\u001b[0m\u001b[0;34m:\u001b[0m\u001b[0;34m\u001b[0m\u001b[0;34m\u001b[0m\u001b[0m\n",
      "\u001b[0;32m~/.pyenv/versions/3.8.12/lib/python3.8/inspect.py\u001b[0m in \u001b[0;36mgetouterframes\u001b[0;34m(frame, context)\u001b[0m\n\u001b[1;32m   1501\u001b[0m     \u001b[0mframelist\u001b[0m \u001b[0;34m=\u001b[0m \u001b[0;34m[\u001b[0m\u001b[0;34m]\u001b[0m\u001b[0;34m\u001b[0m\u001b[0;34m\u001b[0m\u001b[0m\n\u001b[1;32m   1502\u001b[0m     \u001b[0;32mwhile\u001b[0m \u001b[0mframe\u001b[0m\u001b[0;34m:\u001b[0m\u001b[0;34m\u001b[0m\u001b[0;34m\u001b[0m\u001b[0m\n\u001b[0;32m-> 1503\u001b[0;31m         \u001b[0mframeinfo\u001b[0m \u001b[0;34m=\u001b[0m \u001b[0;34m(\u001b[0m\u001b[0mframe\u001b[0m\u001b[0;34m,\u001b[0m\u001b[0;34m)\u001b[0m \u001b[0;34m+\u001b[0m \u001b[0mgetframeinfo\u001b[0m\u001b[0;34m(\u001b[0m\u001b[0mframe\u001b[0m\u001b[0;34m,\u001b[0m \u001b[0mcontext\u001b[0m\u001b[0;34m)\u001b[0m\u001b[0;34m\u001b[0m\u001b[0;34m\u001b[0m\u001b[0m\n\u001b[0m\u001b[1;32m   1504\u001b[0m         \u001b[0mframelist\u001b[0m\u001b[0;34m.\u001b[0m\u001b[0mappend\u001b[0m\u001b[0;34m(\u001b[0m\u001b[0mFrameInfo\u001b[0m\u001b[0;34m(\u001b[0m\u001b[0;34m*\u001b[0m\u001b[0mframeinfo\u001b[0m\u001b[0;34m)\u001b[0m\u001b[0;34m)\u001b[0m\u001b[0;34m\u001b[0m\u001b[0;34m\u001b[0m\u001b[0m\n\u001b[1;32m   1505\u001b[0m         \u001b[0mframe\u001b[0m \u001b[0;34m=\u001b[0m \u001b[0mframe\u001b[0m\u001b[0;34m.\u001b[0m\u001b[0mf_back\u001b[0m\u001b[0;34m\u001b[0m\u001b[0;34m\u001b[0m\u001b[0m\n",
      "\u001b[0;32m~/.pyenv/versions/3.8.12/lib/python3.8/inspect.py\u001b[0m in \u001b[0;36mgetframeinfo\u001b[0;34m(frame, context)\u001b[0m\n\u001b[1;32m   1471\u001b[0m         \u001b[0;32mraise\u001b[0m \u001b[0mTypeError\u001b[0m\u001b[0;34m(\u001b[0m\u001b[0;34m'{!r} is not a frame or traceback object'\u001b[0m\u001b[0;34m.\u001b[0m\u001b[0mformat\u001b[0m\u001b[0;34m(\u001b[0m\u001b[0mframe\u001b[0m\u001b[0;34m)\u001b[0m\u001b[0;34m)\u001b[0m\u001b[0;34m\u001b[0m\u001b[0;34m\u001b[0m\u001b[0m\n\u001b[1;32m   1472\u001b[0m \u001b[0;34m\u001b[0m\u001b[0m\n\u001b[0;32m-> 1473\u001b[0;31m     \u001b[0mfilename\u001b[0m \u001b[0;34m=\u001b[0m \u001b[0mgetsourcefile\u001b[0m\u001b[0;34m(\u001b[0m\u001b[0mframe\u001b[0m\u001b[0;34m)\u001b[0m \u001b[0;32mor\u001b[0m \u001b[0mgetfile\u001b[0m\u001b[0;34m(\u001b[0m\u001b[0mframe\u001b[0m\u001b[0;34m)\u001b[0m\u001b[0;34m\u001b[0m\u001b[0;34m\u001b[0m\u001b[0m\n\u001b[0m\u001b[1;32m   1474\u001b[0m     \u001b[0;32mif\u001b[0m \u001b[0mcontext\u001b[0m \u001b[0;34m>\u001b[0m \u001b[0;36m0\u001b[0m\u001b[0;34m:\u001b[0m\u001b[0;34m\u001b[0m\u001b[0;34m\u001b[0m\u001b[0m\n\u001b[1;32m   1475\u001b[0m         \u001b[0mstart\u001b[0m \u001b[0;34m=\u001b[0m \u001b[0mlineno\u001b[0m \u001b[0;34m-\u001b[0m \u001b[0;36m1\u001b[0m \u001b[0;34m-\u001b[0m \u001b[0mcontext\u001b[0m\u001b[0;34m//\u001b[0m\u001b[0;36m2\u001b[0m\u001b[0;34m\u001b[0m\u001b[0;34m\u001b[0m\u001b[0m\n",
      "\u001b[0;32m~/.pyenv/versions/3.8.12/lib/python3.8/inspect.py\u001b[0m in \u001b[0;36mgetsourcefile\u001b[0;34m(object)\u001b[0m\n\u001b[1;32m    706\u001b[0m         \u001b[0;32mreturn\u001b[0m \u001b[0mfilename\u001b[0m\u001b[0;34m\u001b[0m\u001b[0;34m\u001b[0m\u001b[0m\n\u001b[1;32m    707\u001b[0m     \u001b[0;31m# only return a non-existent filename if the module has a PEP 302 loader\u001b[0m\u001b[0;34m\u001b[0m\u001b[0;34m\u001b[0m\u001b[0;34m\u001b[0m\u001b[0m\n\u001b[0;32m--> 708\u001b[0;31m     \u001b[0;32mif\u001b[0m \u001b[0mgetattr\u001b[0m\u001b[0;34m(\u001b[0m\u001b[0mgetmodule\u001b[0m\u001b[0;34m(\u001b[0m\u001b[0mobject\u001b[0m\u001b[0;34m,\u001b[0m \u001b[0mfilename\u001b[0m\u001b[0;34m)\u001b[0m\u001b[0;34m,\u001b[0m \u001b[0;34m'__loader__'\u001b[0m\u001b[0;34m,\u001b[0m \u001b[0;32mNone\u001b[0m\u001b[0;34m)\u001b[0m \u001b[0;32mis\u001b[0m \u001b[0;32mnot\u001b[0m \u001b[0;32mNone\u001b[0m\u001b[0;34m:\u001b[0m\u001b[0;34m\u001b[0m\u001b[0;34m\u001b[0m\u001b[0m\n\u001b[0m\u001b[1;32m    709\u001b[0m         \u001b[0;32mreturn\u001b[0m \u001b[0mfilename\u001b[0m\u001b[0;34m\u001b[0m\u001b[0;34m\u001b[0m\u001b[0m\n\u001b[1;32m    710\u001b[0m     \u001b[0;31m# or it is in the linecache\u001b[0m\u001b[0;34m\u001b[0m\u001b[0;34m\u001b[0m\u001b[0;34m\u001b[0m\u001b[0m\n",
      "\u001b[0;32m~/.pyenv/versions/3.8.12/lib/python3.8/inspect.py\u001b[0m in \u001b[0;36mgetmodule\u001b[0;34m(object, _filename)\u001b[0m\n\u001b[1;32m    742\u001b[0m     \u001b[0;31m# Update the filename to module name cache and check yet again\u001b[0m\u001b[0;34m\u001b[0m\u001b[0;34m\u001b[0m\u001b[0;34m\u001b[0m\u001b[0m\n\u001b[1;32m    743\u001b[0m     \u001b[0;31m# Copy sys.modules in order to cope with changes while iterating\u001b[0m\u001b[0;34m\u001b[0m\u001b[0;34m\u001b[0m\u001b[0;34m\u001b[0m\u001b[0m\n\u001b[0;32m--> 744\u001b[0;31m     \u001b[0;32mfor\u001b[0m \u001b[0mmodname\u001b[0m\u001b[0;34m,\u001b[0m \u001b[0mmodule\u001b[0m \u001b[0;32min\u001b[0m \u001b[0msys\u001b[0m\u001b[0;34m.\u001b[0m\u001b[0mmodules\u001b[0m\u001b[0;34m.\u001b[0m\u001b[0mcopy\u001b[0m\u001b[0;34m(\u001b[0m\u001b[0;34m)\u001b[0m\u001b[0;34m.\u001b[0m\u001b[0mitems\u001b[0m\u001b[0;34m(\u001b[0m\u001b[0;34m)\u001b[0m\u001b[0;34m:\u001b[0m\u001b[0;34m\u001b[0m\u001b[0;34m\u001b[0m\u001b[0m\n\u001b[0m\u001b[1;32m    745\u001b[0m         \u001b[0;32mif\u001b[0m \u001b[0mismodule\u001b[0m\u001b[0;34m(\u001b[0m\u001b[0mmodule\u001b[0m\u001b[0;34m)\u001b[0m \u001b[0;32mand\u001b[0m \u001b[0mhasattr\u001b[0m\u001b[0;34m(\u001b[0m\u001b[0mmodule\u001b[0m\u001b[0;34m,\u001b[0m \u001b[0;34m'__file__'\u001b[0m\u001b[0;34m)\u001b[0m\u001b[0;34m:\u001b[0m\u001b[0;34m\u001b[0m\u001b[0;34m\u001b[0m\u001b[0m\n\u001b[1;32m    746\u001b[0m             \u001b[0mf\u001b[0m \u001b[0;34m=\u001b[0m \u001b[0mmodule\u001b[0m\u001b[0;34m.\u001b[0m\u001b[0m__file__\u001b[0m\u001b[0;34m\u001b[0m\u001b[0;34m\u001b[0m\u001b[0m\n",
      "\u001b[0;31mKeyboardInterrupt\u001b[0m: "
     ]
    }
   ],
   "source": [
    "for i in range(31492019,31723327):\n",
    "    transactions_train.t_dat[i] = 104"
   ]
  },
  {
   "cell_type": "code",
   "execution_count": null,
   "id": "5a472ec1",
   "metadata": {},
   "outputs": [],
   "source": [
    "for i in range(,31492019):\n",
    "    transactions_train.t_dat[i] = 103"
=======
    "transactions_train.iloc[31492019:31723327,:]"
>>>>>>> master
=======
    "df.loc[(df['year']==2020) & ((df['week']==38)| (df['week']==37)| (df['week']==36)| (df['week']==35)) ]  #index of the year 2020, week 38"
>>>>>>> d616c671ddbbb447bb750b0f9eff91450cc043e1
   ]
  },
  {
   "cell_type": "code",
   "execution_count": 36,
   "id": "d6f7c644",
   "metadata": {
    "ExecuteTime": {
     "end_time": "2022-04-05T11:18:35.640332Z",
     "start_time": "2022-04-05T11:18:35.430394Z"
    }
   },
   "outputs": [],
   "source": [
    "transaction_train_week_105 = transactions_train.iloc[31723328:,:]\n",
    "transaction_train_week_105.to_csv('transaction_train_week_105.csv')"
   ]
  },
  {
   "cell_type": "code",
<<<<<<< HEAD
<<<<<<< HEAD
   "execution_count": 52,
   "id": "9fe9264c",
   "metadata": {
    "ExecuteTime": {
     "end_time": "2022-04-05T12:34:39.228094Z",
     "start_time": "2022-04-05T12:34:35.764774Z"
=======
   "execution_count": 33,
   "id": "9fe9264c",
   "metadata": {
    "ExecuteTime": {
     "end_time": "2022-04-05T11:18:02.902022Z",
     "start_time": "2022-04-05T11:18:02.166690Z"
>>>>>>> master
=======
   "execution_count": 52,
   "id": "9fe9264c",
   "metadata": {
    "ExecuteTime": {
     "end_time": "2022-04-05T12:34:39.228094Z",
     "start_time": "2022-04-05T12:34:35.764774Z"
>>>>>>> d616c671ddbbb447bb750b0f9eff91450cc043e1
    }
   },
   "outputs": [],
   "source": [
<<<<<<< HEAD
<<<<<<< HEAD
    "transaction_train_week_100_104 = transactions_train.iloc[30665422:31723327,:]\n",
    "transaction_train_week_100_104.to_csv('transaction_train_week_100_104.csv')"
=======
    "transaction_train_week_104 = transactions_train.iloc[31492019:31723326,:]\n",
    "transaction_train_week_104.to_csv('transaction_train_week_104.csv')"
>>>>>>> master
=======
    "transaction_train_week_100_104 = transactions_train.iloc[30665422:31723327,:]\n",
    "transaction_train_week_100_104.to_csv('transaction_train_week_100_104.csv')"
>>>>>>> d616c671ddbbb447bb750b0f9eff91450cc043e1
   ]
  },
  {
   "cell_type": "code",
   "execution_count": null,
   "id": "0ad95bfc",
   "metadata": {},
   "outputs": [],
   "source": []
  }
 ],
 "metadata": {
  "kernelspec": {
   "display_name": "Python 3 (ipykernel)",
   "language": "python",
   "name": "python3"
  },
  "language_info": {
   "codemirror_mode": {
    "name": "ipython",
    "version": 3
   },
   "file_extension": ".py",
   "mimetype": "text/x-python",
   "name": "python",
   "nbconvert_exporter": "python",
   "pygments_lexer": "ipython3",
   "version": "3.8.12"
  },
  "latex_envs": {
   "LaTeX_envs_menu_present": true,
   "autoclose": true,
   "autocomplete": true,
   "bibliofile": "biblio.bib",
   "cite_by": "apalike",
   "current_citInitial": 1,
   "eqLabelWithNumbers": true,
   "eqNumInitial": 1,
   "hotkeys": {
    "equation": "Ctrl-E",
    "itemize": "Ctrl-I"
   },
   "labels_anchors": false,
   "latex_user_defs": false,
   "report_style_numbering": false,
   "user_envs_cfg": false
  },
  "toc": {
   "base_numbering": 1,
   "nav_menu": {},
   "number_sections": true,
   "sideBar": true,
   "skip_h1_title": false,
   "title_cell": "Table of Contents",
   "title_sidebar": "Contents",
   "toc_cell": false,
   "toc_position": {},
   "toc_section_display": true,
   "toc_window_display": false
  }
 },
 "nbformat": 4,
 "nbformat_minor": 5
}
