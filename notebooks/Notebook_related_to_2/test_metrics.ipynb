{
 "cells": [
  {
   "cell_type": "code",
   "execution_count": 3,
   "id": "31eadbf7",
   "metadata": {
    "ExecuteTime": {
     "end_time": "2022-04-12T10:58:56.573084Z",
     "start_time": "2022-04-12T10:58:55.982734Z"
    }
   },
   "outputs": [],
   "source": [
    "import pandas as pd\n",
    "import numpy as np \n",
    "import datetime"
   ]
  },
  {
   "cell_type": "code",
   "execution_count": 29,
   "id": "1929016d",
   "metadata": {
    "ExecuteTime": {
     "end_time": "2022-04-12T12:16:30.979883Z",
     "start_time": "2022-04-12T12:16:30.976116Z"
    }
   },
   "outputs": [],
   "source": [
    "dict_pred ={'000270f6018e827d6d678efe815565a22668fb801b2b89bf84b1cb4f4ca631ea': np.array(['685814003', '621381012', '715624001', '685813043', '685814001', '682550002','621381014', '685814063', '706016002', '806388001', '706016001', '767423001']),\n",
    "        '0005653de6979862791b1de079f271419bc73adcfece2cffe2596cb8a64e2ece': np.array(['685814003', '621381012', '715624001', '685813043', '685814001', '682550002','621381014', '685814063', '706016002', '806388001', '706016001', '767423001'])}\n",
    "\n",
    "\n",
    "dict_true={'0f0d81edc152e71d6a8c269f1c11e3af11872e3eac9bafb30e9d49247127aa19': np.array(['918292011', '924605001', '864415002', '885951002']),\n",
    "           '477d7545c587f56caf86cf1cdc28b9712d9c399ddda7fb248d7cd54154fad15b': np.array(['682550002']),\n",
    "           '000270f6018e827d6d678efe815565a22668fb801b2b89bf84b1cb4f4ca631ea': np.array(['854818004', '933882001', '893429001', '877369001', '732842021','673396002', '706016038', '706016002'])}\n",
    "\n",
    "\n",
    "list_pred = [dict_pred.get(key,0) for key in dict_pred if key in dict_true]\n",
    "list_true = [dict_true.get(key,0) for key in dict_true if key in dict_pred]\n"
   ]
  },
  {
   "cell_type": "code",
   "execution_count": 46,
   "id": "2ac7bab8",
   "metadata": {
    "ExecuteTime": {
     "end_time": "2022-04-12T12:21:06.960418Z",
     "start_time": "2022-04-12T12:21:06.957246Z"
    }
   },
   "outputs": [],
   "source": [
    "dict_pred2 ={'000270f6018e827d6d678efe815565a22668fb801b2b89bf84b1cb4f4ca631ea': np.array(['685814003', '621381012', '715624001', '685813043', '685814001', '682550002','621381014', '685814063', '706016002', '806388001', '706016001', '767423001'])}\n",
    "\n",
    "\n",
    "dict_true2 ={'000270f6018e827d6d678efe815565a22668fb801b2b89bf84b1cb4f4ca631ea': np.array(['685814003', '621381012', '715624001', '685813043', '685814001', '682550002','621381014', '685814063', '706016002', '806388001', '706016001', '767423001'])}\n",
    "\n",
    "\n",
    "list_pred2 = [dict_pred2.get(key,0) for key in dict_pred2 if key in dict_true2]\n",
    "list_true2 = [dict_true2.get(key,0) for key in dict_true2 if key in dict_pred2]"
   ]
  },
  {
   "cell_type": "code",
   "execution_count": 47,
   "id": "d63ed155",
   "metadata": {
    "ExecuteTime": {
     "end_time": "2022-04-12T12:21:07.473298Z",
     "start_time": "2022-04-12T12:21:07.469337Z"
    }
   },
   "outputs": [],
   "source": [
    "def apk(actual, predicted, k=12):\n",
    "    \"\"\"\n",
    "    Computes the average precision at k.\n",
    "    This function computes the average prescision at k between two lists of\n",
    "    items.\n",
    "    Parameters\n",
    "    ----------\n",
    "    actual : list\n",
    "             A list of elements that are to be predicted (order doesn't matter)\n",
    "    predicted : list\n",
    "                A list of predicted elements (order does matter)\n",
    "    k : int, optional\n",
    "        The maximum number of predicted elements\n",
    "    Returns\n",
    "    -------\n",
    "    score : double\n",
    "            The average precision at k over the input lists\n",
    "    \"\"\"\n",
    "    n = len(actual)\n",
    "    if n == 0:\n",
    "        return 1.0\n",
    "    if len(predicted)>k:\n",
    "        predicted = predicted[:k]\n",
    "\n",
    "    score = 0.0\n",
    "    num_hits = 0.0\n",
    "\n",
    "    for i,p in enumerate(predicted):\n",
    "        # first condition checks whether it is valid prediction\n",
    "        # second condition checks if prediction is not repeated\n",
    "        if p in actual and p not in predicted[:i]:\n",
    "            num_hits += 1.0\n",
    "            score += num_hits / (i+1.0)\n",
    "\n",
    "    return score / min(len(actual), k)\n",
    "\n",
    "def mapk(actual, predicted, k=12):\n",
    "    \"\"\"\n",
    "    Computes the mean average precision at k.\n",
    "    This function computes the mean average prescision at k between two lists\n",
    "    of lists of items.\n",
    "    Parameters\n",
    "    ----------\n",
    "    actual : list\n",
    "             A list of lists of elements that are to be predicted \n",
    "             (order doesn't matter in the lists)\n",
    "    predicted : list\n",
    "                A list of lists of predicted elements\n",
    "                (order matters in the lists)\n",
    "    k : int, optional\n",
    "        The maximum number of predicted elements\n",
    "    Returns\n",
    "    -------\n",
    "    score : double\n",
    "            The mean average precision at k over the input lists\n",
    "    \"\"\"\n",
    "    return np.mean([apk(a,p,k) for a,p in zip(actual, predicted)])"
   ]
  },
  {
   "cell_type": "code",
   "execution_count": 48,
   "id": "7d4fba49",
   "metadata": {
    "ExecuteTime": {
     "end_time": "2022-04-12T12:21:07.871357Z",
     "start_time": "2022-04-12T12:21:07.865352Z"
    }
   },
   "outputs": [
    {
     "data": {
      "text/plain": [
       "1.0"
      ]
     },
     "metadata": {},
     "output_type": "display_data"
    },
    {
     "data": {
      "text/plain": [
       "0.0"
      ]
     },
     "metadata": {},
     "output_type": "display_data"
    }
   ],
   "source": [
    "display(mapk(list_pred2,list_true2))\n",
    "display(metric_no_order_global(list_pred2,list_true2))"
   ]
  },
  {
   "cell_type": "code",
   "execution_count": 39,
   "id": "cf51c22f",
   "metadata": {
    "ExecuteTime": {
     "end_time": "2022-04-12T12:19:21.746604Z",
     "start_time": "2022-04-12T12:19:21.742219Z"
    }
   },
   "outputs": [
    {
     "data": {
      "text/plain": [
       "[array(['685814003', '621381012', '715624001', '685813043', '685814001',\n",
       "        '682550002', '621381014', '685814063', '706016002', '806388001',\n",
       "        '706016001', '767423001'], dtype='<U9')]"
      ]
     },
     "metadata": {},
     "output_type": "display_data"
    },
    {
     "data": {
      "text/plain": [
       "[array(['854818004', '933882001', '893429001', '877369001', '732842021',\n",
       "        '673396002', '706016038', '706016002'], dtype='<U9')]"
      ]
     },
     "metadata": {},
     "output_type": "display_data"
    }
   ],
   "source": [
    "display(list_pred)\n",
    "display(list_true)"
   ]
  },
  {
   "cell_type": "code",
   "execution_count": 40,
   "id": "bcaffe3a",
   "metadata": {
    "ExecuteTime": {
     "end_time": "2022-04-12T12:19:22.113520Z",
     "start_time": "2022-04-12T12:19:22.110025Z"
    }
   },
   "outputs": [],
   "source": [
    "def metric_no_order(actual, predicted, k=12):\n",
    "    n = len(actual)\n",
    "    if n == 0:\n",
    "        return 0.0\n",
    "    set_actual = set(actual)\n",
    "    set_pred = set(predicted)\n",
    "\n",
    "    return len(set_actual - set_pred ) / n\n",
    "\n",
    "#metric applied to a list of lists of items\n",
    "def metric_no_order_global(actual, predicted, k=12):\n",
    "    return np.mean([metric_no_order(a,p,k) for a,p in zip(actual, predicted)])"
   ]
  },
  {
   "cell_type": "code",
   "execution_count": 41,
   "id": "1f8a49b3",
   "metadata": {
    "ExecuteTime": {
     "end_time": "2022-04-12T12:19:22.508208Z",
     "start_time": "2022-04-12T12:19:22.504439Z"
    }
   },
   "outputs": [
    {
     "data": {
      "text/plain": [
       "0.9166666666666666"
      ]
     },
     "execution_count": 41,
     "metadata": {},
     "output_type": "execute_result"
    }
   ],
   "source": [
    "metric_no_order_global(list_pred,list_true)\n",
    "\n"
   ]
  },
  {
   "cell_type": "code",
   "execution_count": 74,
   "id": "fd1ffcc1",
   "metadata": {
    "ExecuteTime": {
     "end_time": "2022-04-12T13:00:59.627745Z",
     "start_time": "2022-04-12T13:00:59.623589Z"
    }
   },
   "outputs": [
    {
     "data": {
      "text/plain": [
       "{1: 89, 2: 3, 3: 0, 4: 5}"
      ]
     },
     "execution_count": 74,
     "metadata": {},
     "output_type": "execute_result"
    }
   ],
   "source": [
    "import collections\n",
    "\n",
    "d = {2:3, 1:89, 4:5, 3:0}\n",
    "\n",
    "od = dict(collections.OrderedDict(sorted(d.items())))\n",
    "\n",
    "od"
   ]
  },
  {
   "cell_type": "code",
   "execution_count": null,
   "id": "54ea89e8",
   "metadata": {},
   "outputs": [],
   "source": []
  },
  {
   "cell_type": "code",
   "execution_count": null,
   "id": "c21d8363",
   "metadata": {},
   "outputs": [],
   "source": []
  },
  {
   "cell_type": "code",
   "execution_count": 79,
   "id": "134ea5ef",
   "metadata": {
    "ExecuteTime": {
     "end_time": "2022-04-12T13:08:18.108511Z",
     "start_time": "2022-04-12T13:08:18.104146Z"
    }
   },
   "outputs": [
    {
     "data": {
      "text/plain": [
       "{'621381012',\n",
       " '621381014',\n",
       " '682550002',\n",
       " '685813043',\n",
       " '685814001',\n",
       " '685814003',\n",
       " '685814063',\n",
       " '706016001',\n",
       " '706016002',\n",
       " '715624001',\n",
       " '767423001',\n",
       " '806388001'}"
      ]
     },
     "execution_count": 79,
     "metadata": {},
     "output_type": "execute_result"
    }
   ],
   "source": [
    "a = np.array(['685814003', '621381012', '715624001', '685813043', '685814001', '682550002','621381014', '685814063', '706016002', '806388001', '706016001', '767423001'])\n",
    "set(a)"
   ]
  },
  {
   "cell_type": "code",
   "execution_count": 82,
   "id": "6dcc5cbe",
   "metadata": {
    "ExecuteTime": {
     "end_time": "2022-04-12T13:15:03.253120Z",
     "start_time": "2022-04-12T13:15:03.249109Z"
    }
   },
   "outputs": [],
   "source": [
    "dict_actual ={'000270f6018e827d6d678efe815565a22668fb801b2b89bf84b1cb4f4ca631ea': np.array(['685814003', '621381012', '715624001', '685813043', '685814001', '682550002','621381014', '685814063', '706016002', '806388001', '706016001', '767423001']),\n",
    "        '0005653de6979862791b1de079f271419bc73adcfece2cffe2596cb8a64e2ece': np.array(['685814003', '621381012', '715624001', '685813043', '685814001', '682550002','621381014', '685814063', '706016002', '806388001', '706016001', '767423001'])}\n",
    "\n",
    "dict_pred ={'0005653de6979862791b1de079f271419bc73adcfece2cffe2596cb8a64e2ece': np.array(['685814003', '621381012', '715624001', '685813043', '685814001', '682550002','621381014', '685814063', '706016002', '806388001', '706016001', '767423001']),\n",
    "    '000270f6018e827d6d678efe815565a22668fb801b2b89bf84b1cb4f4ca631ea': np.array(['685814003', '621381012', '715624001', '685813043', '685814001', '682550002','621381014', '685814063', '706016002', '806388001', '706016001', '767423001'])\n",
    "        }\n",
    "actual, pred = convert_dico_actual_predicted(dict_actual,dict_pred)"
   ]
  },
  {
   "cell_type": "code",
   "execution_count": 139,
   "id": "acfe38ed",
   "metadata": {
    "ExecuteTime": {
     "end_time": "2022-04-12T13:58:03.269746Z",
     "start_time": "2022-04-12T13:58:03.258228Z"
    }
   },
   "outputs": [
    {
     "data": {
      "text/plain": [
       "{'S_i': (array(['685814003', '621381012', '715624001', '685813043', '685814001',\n",
       "         '682550002', '621381014', '685814063', '706016002', '806388001',\n",
       "         '706016001', '767423001'], dtype='<U9'),\n",
       "  array(['685814003', '621381012', '715624001', '685813043', '685814001',\n",
       "         '682550002', '621381014', '685814063', '706016002', '806388001',\n",
       "         '706016001', '767423001'], dtype='<U9'))}"
      ]
     },
     "execution_count": 139,
     "metadata": {},
     "output_type": "execute_result"
    }
   ],
   "source": [
    "{'S_i':i}"
   ]
  },
  {
   "cell_type": "code",
   "execution_count": 91,
   "id": "d622691d",
   "metadata": {
    "ExecuteTime": {
     "end_time": "2022-04-12T13:16:33.436470Z",
     "start_time": "2022-04-12T13:16:33.432654Z"
    }
   },
   "outputs": [
    {
     "data": {
      "text/plain": [
       "array(['685814003', '621381012', '715624001', '685813043', '685814001',\n",
       "       '682550002', '621381014', '685814063', '706016002', '806388001',\n",
       "       '706016001', '767423001'], dtype='<U9')"
      ]
     },
     "execution_count": 91,
     "metadata": {},
     "output_type": "execute_result"
    }
   ],
   "source": [
    "a = [i for i in zip(actual,pred)]\n",
    "a[0][1]"
   ]
  },
  {
   "cell_type": "code",
   "execution_count": null,
   "id": "9db3cd94",
   "metadata": {},
   "outputs": [],
   "source": [
    "def convert_dico_actual_predicted(dict_actual,dict_pred):\n",
    "    dict_actual_filtered = {key:value for key in dict_pred if key in dict_actual }\n",
    "    \n",
    "    \n",
    "    \n",
    "    \n",
    "    predicted = [dict_pred.get(key,0) for key in dict_pred if key in dict_actual]\n",
    "    actual= [dict_actual.get(key,0) for key in dict_actual if key in dict_pred]\n",
    "    return predicted, actual"
   ]
  },
  {
   "cell_type": "code",
   "execution_count": 131,
   "id": "0813216c",
   "metadata": {
    "ExecuteTime": {
     "end_time": "2022-04-12T13:36:11.083023Z",
     "start_time": "2022-04-12T13:36:11.076556Z"
    }
   },
   "outputs": [],
   "source": [
    "import collections\n",
    "\n",
    "def convert_dico_actual_predicted(dict_actual,dict_pred):\n",
    "    \n",
    "    #First, reduce the dictionnaries to the keys, values for which the keys are in both dicts\n",
    "    dict_actual_filtered = {key:dict_actual[key] for key in dict_actual if key in dict_pred }\n",
    "    dict_pred_filtered = {key:dict_pred[key] for key in dict_pred if key in dict_actual }\n",
    "\n",
    "    #Now, order the dictionnaries accordingly to the keys\n",
    "    dict_actual_filtered_ordered = dict(collections.OrderedDict(sorted(dict_actual_filtered.items())))\n",
    "    dict_pred_filtered_ordered = dict(collections.OrderedDict(sorted(dict_pred_filtered.items())))\n",
    "\n",
    "    #Since they are well ordrered and contain the same keys, we only need to convert into lists.\n",
    "    actual= [dict_actual_filtered_ordered.get(key,0) for key in dict_actual_filtered_ordered]\n",
    "    pred = [dict_pred_filtered_ordered.get(key,0) for key in dict_pred_filtered_ordered]\n",
    "    return actual, pred\n",
    "\n",
    "#1)\n",
    "#Compute the metric for two arrays of items: predicted and actual. This gives the ratio of correct predictions: the closer to 1, the better.\n",
    "def metric_no_order(array_items_actual,array_items_pred):\n",
    "    n = len(array_items_actual)\n",
    "    if n == 0:\n",
    "        return 0.0\n",
    "    set_actual = set(array_items_actual)\n",
    "    set_pred = set(array_items_pred)\n",
    "    return 1- len(set_actual - set_pred) / n\n",
    "\n",
    "#metric applied to the full dictionnaries\n",
    "def metric_no_order_global(dict_actual,dict_pred, k=12):\n",
    "    actual, pred = convert_dico_actual_predicted(dict_actual,dict_pred)\n",
    "    n = len(actual)\n",
    "    return np.mean([metric_no_order(actual[i],pred[i]) for i in range(n)])\n",
    "\n",
    "\n"
   ]
  },
  {
   "cell_type": "code",
   "execution_count": 134,
   "id": "7cde0b4d",
   "metadata": {
    "ExecuteTime": {
     "end_time": "2022-04-12T13:36:30.598975Z",
     "start_time": "2022-04-12T13:36:30.594686Z"
    }
   },
   "outputs": [
    {
     "data": {
      "text/plain": [
       "0.5625"
      ]
     },
     "execution_count": 134,
     "metadata": {},
     "output_type": "execute_result"
    }
   ],
   "source": [
    "(1/8 + 1) / 2"
   ]
  },
  {
   "cell_type": "code",
   "execution_count": 132,
   "id": "edd90aec",
   "metadata": {
    "ExecuteTime": {
     "end_time": "2022-04-12T13:36:13.459915Z",
     "start_time": "2022-04-12T13:36:13.455177Z"
    }
   },
   "outputs": [
    {
     "data": {
      "text/plain": [
       "0.5625"
      ]
     },
     "execution_count": 132,
     "metadata": {},
     "output_type": "execute_result"
    }
   ],
   "source": [
    "metric_no_order_global(dict_actual,dict_pred)"
   ]
  },
  {
   "cell_type": "code",
   "execution_count": 127,
   "id": "4f4ff4c4",
   "metadata": {
    "ExecuteTime": {
     "end_time": "2022-04-12T13:33:01.911084Z",
     "start_time": "2022-04-12T13:33:01.907178Z"
    }
   },
   "outputs": [],
   "source": [
    "dict_pred ={'000270f6018e827d6d678efe815565a22668fb801b2b89bf84b1cb4f4ca631ea': np.array(['685814003', '621381012', '715624001', '685813043', '685814001', '682550002','621381014', '685814063', '706016002', '806388001', '706016001', '767423001']),\n",
    "        '0005653de6979862791b1de079f271419bc73adcfece2cffe2596cb8a64e2ece': np.array(['685814003', '621381012', '715624001', '685813043', '685814001', '682550002','621381014', '685814063', '706016002', '806388001', '706016001', '767423001']),\n",
    "                                                                                     '477d7545c587f56caf86cf1cdc28b9712d9c399ddda7fb248d7cd54154fad15b': np.array(['682550002'])}\n",
    "\n",
    "\n",
    "dict_actual={'0f0d81edc152e71d6a8c269f1c11e3af11872e3eac9bafb30e9d49247127aa19': np.array(['918292011', '924605001', '864415002', '885951002']),\n",
    "           '477d7545c587f56caf86cf1cdc28b9712d9c399ddda7fb248d7cd54154fad15b': np.array(['682550002']),\n",
    "           '000270f6018e827d6d678efe815565a22668fb801b2b89bf84b1cb4f4ca631ea': np.array(['854818004', '933882001', '893429001', '877369001', '732842021','673396002', '706016038', '706016002'])}\n"
   ]
  },
  {
   "cell_type": "code",
   "execution_count": 128,
   "id": "f48562cb",
   "metadata": {
    "ExecuteTime": {
     "end_time": "2022-04-12T13:33:02.189211Z",
     "start_time": "2022-04-12T13:33:02.186292Z"
    }
   },
   "outputs": [],
   "source": [
    "a=convert_dico_actual_predicted(dict_actual,dict_pred)[0][0]\n",
    "b = convert_dico_actual_predicted(dict_actual,dict_pred)[1][0]"
   ]
  },
  {
   "cell_type": "code",
   "execution_count": 129,
   "id": "795c2887",
   "metadata": {
    "ExecuteTime": {
     "end_time": "2022-04-12T13:33:02.537930Z",
     "start_time": "2022-04-12T13:33:02.534025Z"
    }
   },
   "outputs": [
    {
     "data": {
      "text/plain": [
       "0.125"
      ]
     },
     "execution_count": 129,
     "metadata": {},
     "output_type": "execute_result"
    }
   ],
   "source": [
    "metric_no_order(a,b)\n",
    "\n"
   ]
  },
  {
   "cell_type": "code",
   "execution_count": 130,
   "id": "69aaf32c",
   "metadata": {
    "ExecuteTime": {
     "end_time": "2022-04-12T13:33:04.224092Z",
     "start_time": "2022-04-12T13:33:04.220091Z"
    }
   },
   "outputs": [
    {
     "data": {
      "text/plain": [
       "0.125"
      ]
     },
     "execution_count": 130,
     "metadata": {},
     "output_type": "execute_result"
    }
   ],
   "source": [
    "1/8"
   ]
  },
  {
   "cell_type": "code",
   "execution_count": null,
   "id": "da8d585c",
   "metadata": {},
   "outputs": [],
   "source": []
  },
  {
   "cell_type": "code",
   "execution_count": null,
   "id": "c0fef097",
   "metadata": {},
   "outputs": [],
   "source": []
  },
  {
   "cell_type": "code",
   "execution_count": null,
   "id": "08db6f9c",
   "metadata": {},
   "outputs": [],
   "source": []
  },
  {
   "cell_type": "code",
   "execution_count": null,
   "id": "e9f9c8ad",
   "metadata": {},
   "outputs": [],
   "source": []
  },
  {
   "cell_type": "code",
   "execution_count": null,
   "id": "447ed370",
   "metadata": {},
   "outputs": [],
   "source": []
  },
  {
   "cell_type": "code",
   "execution_count": null,
   "id": "7fae0b88",
   "metadata": {},
   "outputs": [],
   "source": []
  },
  {
   "cell_type": "code",
   "execution_count": null,
   "id": "8de4a097",
   "metadata": {},
   "outputs": [],
   "source": []
  },
  {
   "cell_type": "code",
   "execution_count": null,
   "id": "8fb96122",
   "metadata": {},
   "outputs": [],
   "source": []
  },
  {
   "cell_type": "code",
   "execution_count": 2,
   "id": "1c04b34f",
   "metadata": {
    "ExecuteTime": {
     "end_time": "2022-04-12T14:32:27.422484Z",
     "start_time": "2022-04-12T14:32:22.227397Z"
    }
   },
   "outputs": [],
   "source": [
    "#This .py constructs a KMeans clustering of this dataframe into N clusters\n",
    "\n",
    "import pandas as pd\n",
    "import numpy as np\n",
    "from sklearn.cluster import KMeans\n",
    "customers = pd.read_csv('../../RecoHnM/data/customers_feature_engineered.csv')\n",
    "customers.drop(columns=['Unnamed: 0'],inplace = True)\n",
    "customers['age'] = customers['age'].fillna(customers['age'].mean())\n"
   ]
  },
  {
   "cell_type": "code",
   "execution_count": 7,
   "id": "309d7814",
   "metadata": {
    "ExecuteTime": {
     "end_time": "2022-04-12T14:33:25.396061Z",
     "start_time": "2022-04-12T14:33:25.392563Z"
    }
   },
   "outputs": [],
   "source": [
    "def clustering_customers(number_of_clusters):\n",
    "    # Configuring the parameters of the clustering algorithm\n",
    "    \n",
    "\n",
    "    #remove the index, as it would bias the clustering\n",
    "    customers_no_id = customers.drop('customer_id',1)\n",
    "\n",
    "    # Define the clustering algorithm\n",
    "    KMeans_cluster = KMeans(n_clusters=number_of_clusters)\n",
    "    # Fitting the clustering algorithm\n",
    "    KMeans_cluster.fit(customers_no_id)\n",
    "    # Adding the results to a new column in the dataframe\n",
    "    customers[\"cluster_KNN\"] = KMeans_cluster.labels_\n",
    "\n",
    "def customers_with_clusters(number_of_clusters):\n",
    "    clustering_customers(number_of_clusters)\n",
    "    return customers[['article_id','cluster_KNN']]"
   ]
  },
  {
   "cell_type": "code",
   "execution_count": 6,
   "id": "d01a3875",
   "metadata": {
    "ExecuteTime": {
     "end_time": "2022-04-12T14:32:55.774194Z",
     "start_time": "2022-04-12T14:32:55.317135Z"
    }
   },
   "outputs": [
    {
     "data": {
      "text/plain": [
       "1362281"
      ]
     },
     "metadata": {},
     "output_type": "display_data"
    },
    {
     "data": {
      "text/plain": [
       "1362281"
      ]
     },
     "metadata": {},
     "output_type": "display_data"
    }
   ],
   "source": [
    "display(len(customers.dropna()))\n",
    "display(len(customers))"
   ]
  },
  {
   "cell_type": "code",
   "execution_count": null,
   "id": "23f37c4b",
   "metadata": {
    "ExecuteTime": {
     "start_time": "2022-04-12T14:34:52.803Z"
    }
   },
   "outputs": [
    {
     "name": "stderr",
     "output_type": "stream",
     "text": [
      "/tmp/ipykernel_20432/3569358431.py:6: FutureWarning: In a future version of pandas all arguments of DataFrame.drop except for the argument 'labels' will be keyword-only.\n",
      "  customers_no_id = customers.drop('customer_id',1)\n"
     ]
    }
   ],
   "source": [
    "clus = customers_with_clusters(25)"
   ]
  },
  {
   "cell_type": "code",
   "execution_count": null,
   "id": "9bd248b7",
   "metadata": {
    "ExecuteTime": {
     "start_time": "2022-04-12T14:30:44.481Z"
    }
   },
   "outputs": [],
   "source": [
    "l,"
   ]
  },
  {
   "cell_type": "code",
   "execution_count": null,
   "id": "c0b5b42a",
   "metadata": {},
   "outputs": [],
   "source": []
  }
 ],
 "metadata": {
  "kernelspec": {
   "display_name": "Python 3 (ipykernel)",
   "language": "python",
   "name": "python3"
  },
  "language_info": {
   "codemirror_mode": {
    "name": "ipython",
    "version": 3
   },
   "file_extension": ".py",
   "mimetype": "text/x-python",
   "name": "python",
   "nbconvert_exporter": "python",
   "pygments_lexer": "ipython3",
   "version": "3.8.12"
  },
  "latex_envs": {
   "LaTeX_envs_menu_present": true,
   "autoclose": true,
   "autocomplete": true,
   "bibliofile": "biblio.bib",
   "cite_by": "apalike",
   "current_citInitial": 1,
   "eqLabelWithNumbers": true,
   "eqNumInitial": 1,
   "hotkeys": {
    "equation": "Ctrl-E",
    "itemize": "Ctrl-I"
   },
   "labels_anchors": false,
   "latex_user_defs": false,
   "report_style_numbering": false,
   "user_envs_cfg": false
  },
  "toc": {
   "base_numbering": 1,
   "nav_menu": {},
   "number_sections": true,
   "sideBar": true,
   "skip_h1_title": false,
   "title_cell": "Table of Contents",
   "title_sidebar": "Contents",
   "toc_cell": false,
   "toc_position": {},
   "toc_section_display": true,
   "toc_window_display": false
  }
 },
 "nbformat": 4,
 "nbformat_minor": 5
}
