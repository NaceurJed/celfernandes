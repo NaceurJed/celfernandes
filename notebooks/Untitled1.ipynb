{
 "cells": [
  {
   "cell_type": "code",
   "execution_count": 1,
   "id": "2206b729",
   "metadata": {
    "ExecuteTime": {
     "end_time": "2022-04-06T12:34:50.553614Z",
     "start_time": "2022-04-06T12:34:47.329152Z"
    }
   },
   "outputs": [],
   "source": [
    "import pandas as pd\n",
    "import matplotlib.pyplot as plt\n",
    "import seaborn as sns"
   ]
  },
  {
   "cell_type": "code",
   "execution_count": 2,
   "id": "be65cc9b",
   "metadata": {
    "ExecuteTime": {
     "end_time": "2022-04-06T12:35:16.694476Z",
     "start_time": "2022-04-06T12:35:13.838041Z"
    }
   },
   "outputs": [],
   "source": [
    "transactions_101_104 = pd.read_csv('../raw_data/transaction_train_week_101_104.csv')\n",
    "#101= dernière semaine d'aout\n",
    "#102= première semaine septembre\n",
    "#103= deuxième semaine septembre\n",
    "#104= troisème semaine de septembre (qui nous servira de target dans le cadre du projet)"
   ]
  },
  {
   "cell_type": "code",
   "execution_count": 3,
   "id": "695ca47a",
   "metadata": {
    "ExecuteTime": {
     "end_time": "2022-04-06T12:35:43.429564Z",
     "start_time": "2022-04-06T12:35:43.231768Z"
    }
   },
   "outputs": [
    {
     "name": "stdout",
     "output_type": "stream",
     "text": [
      "<class 'pandas.core.frame.DataFrame'>\n",
      "RangeIndex: 1057905 entries, 0 to 1057904\n",
      "Data columns (total 7 columns):\n",
      " #   Column            Non-Null Count    Dtype  \n",
      "---  ------            --------------    -----  \n",
      " 0   Unnamed: 0        1057905 non-null  int64  \n",
      " 1   Unnamed: 0.1      1057905 non-null  int64  \n",
      " 2   t_dat             1057905 non-null  int64  \n",
      " 3   customer_id       1057905 non-null  object \n",
      " 4   article_id        1057905 non-null  int64  \n",
      " 5   price             1057905 non-null  float64\n",
      " 6   sales_channel_id  1057905 non-null  int64  \n",
      "dtypes: float64(1), int64(5), object(1)\n",
      "memory usage: 56.5+ MB\n"
     ]
    }
   ],
   "source": [
    "transactions_101_104.info()"
   ]
  },
  {
   "cell_type": "markdown",
   "id": "8f1761d5",
   "metadata": {},
   "source": [
    "## Cleaning de dataset Transactions"
   ]
  },
  {
   "cell_type": "code",
   "execution_count": 4,
   "id": "826257ba",
   "metadata": {
    "ExecuteTime": {
     "end_time": "2022-04-06T12:38:54.749970Z",
     "start_time": "2022-04-06T12:38:54.699320Z"
    }
   },
   "outputs": [],
   "source": [
    "# je supprime les 2 premières colonnes inutiles:\n",
    "transactions_101_104=transactions_101_104.drop(columns=['Unnamed: 0', 'Unnamed: 0.1'])"
   ]
  },
  {
   "cell_type": "code",
   "execution_count": null,
   "id": "78806fa0",
   "metadata": {},
   "outputs": [],
   "source": [
    "transactions_101_104.info()"
   ]
  }
 ],
 "metadata": {
  "kernelspec": {
   "display_name": "Python 3 (ipykernel)",
   "language": "python",
   "name": "python3"
  },
  "language_info": {
   "codemirror_mode": {
    "name": "ipython",
    "version": 3
   },
   "file_extension": ".py",
   "mimetype": "text/x-python",
   "name": "python",
   "nbconvert_exporter": "python",
   "pygments_lexer": "ipython3",
   "version": "3.8.12"
  },
  "toc": {
   "base_numbering": 1,
   "nav_menu": {},
   "number_sections": true,
   "sideBar": true,
   "skip_h1_title": false,
   "title_cell": "Table of Contents",
   "title_sidebar": "Contents",
   "toc_cell": false,
   "toc_position": {},
   "toc_section_display": true,
   "toc_window_display": false
  }
 },
 "nbformat": 4,
 "nbformat_minor": 5
}
