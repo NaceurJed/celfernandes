{
 "cells": [
  {
   "cell_type": "code",
   "execution_count": 5,
   "id": "705be0a3",
   "metadata": {
    "ExecuteTime": {
     "end_time": "2022-04-07T09:07:26.730299Z",
     "start_time": "2022-04-07T09:07:24.820599Z"
    }
   },
   "outputs": [],
   "source": [
    "import pandas as pd\n",
    "import matplotlib.pyplot as plt\n",
    "import seaborn as sns"
   ]
  },
  {
   "cell_type": "markdown",
   "id": "ef392e7c",
   "metadata": {},
   "source": [
    "# Lecture des données"
   ]
  },
  {
   "cell_type": "code",
   "execution_count": 6,
   "id": "d9b0b6ac",
   "metadata": {
    "ExecuteTime": {
     "end_time": "2022-04-07T09:07:32.740692Z",
     "start_time": "2022-04-07T09:07:26.733673Z"
    }
   },
   "outputs": [],
   "source": [
    "transactions_101_104 = pd.read_csv('../raw_data/transaction_train_week_101_104.csv')\n",
    "#101= dernière semaine d'aout\n",
    "#102= première semaine septembre\n",
    "#103= deuxième semaine septembre\n",
    "#104= troisème semaine de septembre (qui nous servira de target dans le cadre du projet)"
   ]
  },
  {
   "cell_type": "code",
   "execution_count": 58,
   "id": "2f508b55",
   "metadata": {
    "ExecuteTime": {
     "end_time": "2022-04-06T13:29:59.170183Z",
     "start_time": "2022-04-06T13:29:59.151250Z"
    }
   },
   "outputs": [
    {
     "data": {
      "text/html": [
       "<div>\n",
       "<style scoped>\n",
       "    .dataframe tbody tr th:only-of-type {\n",
       "        vertical-align: middle;\n",
       "    }\n",
       "\n",
       "    .dataframe tbody tr th {\n",
       "        vertical-align: top;\n",
       "    }\n",
       "\n",
       "    .dataframe thead th {\n",
       "        text-align: right;\n",
       "    }\n",
       "</style>\n",
       "<table border=\"1\" class=\"dataframe\">\n",
       "  <thead>\n",
       "    <tr style=\"text-align: right;\">\n",
       "      <th></th>\n",
       "      <th>Unnamed: 0</th>\n",
       "      <th>Unnamed: 0.1</th>\n",
       "      <th>t_dat</th>\n",
       "      <th>customer_id</th>\n",
       "      <th>article_id</th>\n",
       "      <th>price</th>\n",
       "      <th>sales_channel_id</th>\n",
       "    </tr>\n",
       "  </thead>\n",
       "  <tbody>\n",
       "    <tr>\n",
       "      <th>0</th>\n",
       "      <td>0</td>\n",
       "      <td>30665422</td>\n",
       "      <td>101</td>\n",
       "      <td>0000e9a4db2da4e9c68558ad1e7df570d02767b213ec6b...</td>\n",
       "      <td>880553001</td>\n",
       "      <td>0.025407</td>\n",
       "      <td>2</td>\n",
       "    </tr>\n",
       "    <tr>\n",
       "      <th>1</th>\n",
       "      <td>1</td>\n",
       "      <td>30665423</td>\n",
       "      <td>101</td>\n",
       "      <td>0000e9a4db2da4e9c68558ad1e7df570d02767b213ec6b...</td>\n",
       "      <td>880553001</td>\n",
       "      <td>0.025407</td>\n",
       "      <td>2</td>\n",
       "    </tr>\n",
       "    <tr>\n",
       "      <th>2</th>\n",
       "      <td>2</td>\n",
       "      <td>30665424</td>\n",
       "      <td>101</td>\n",
       "      <td>00047d50bde8751b26aaec7536ccc5fd92828ffa0a396d...</td>\n",
       "      <td>909081004</td>\n",
       "      <td>0.033881</td>\n",
       "      <td>2</td>\n",
       "    </tr>\n",
       "    <tr>\n",
       "      <th>3</th>\n",
       "      <td>3</td>\n",
       "      <td>30665425</td>\n",
       "      <td>101</td>\n",
       "      <td>00047d50bde8751b26aaec7536ccc5fd92828ffa0a396d...</td>\n",
       "      <td>516903024</td>\n",
       "      <td>0.025407</td>\n",
       "      <td>2</td>\n",
       "    </tr>\n",
       "    <tr>\n",
       "      <th>4</th>\n",
       "      <td>4</td>\n",
       "      <td>30665426</td>\n",
       "      <td>101</td>\n",
       "      <td>00047d50bde8751b26aaec7536ccc5fd92828ffa0a396d...</td>\n",
       "      <td>897679003</td>\n",
       "      <td>0.042356</td>\n",
       "      <td>2</td>\n",
       "    </tr>\n",
       "  </tbody>\n",
       "</table>\n",
       "</div>"
      ],
      "text/plain": [
       "   Unnamed: 0  Unnamed: 0.1  t_dat  \\\n",
       "0           0      30665422    101   \n",
       "1           1      30665423    101   \n",
       "2           2      30665424    101   \n",
       "3           3      30665425    101   \n",
       "4           4      30665426    101   \n",
       "\n",
       "                                         customer_id  article_id     price  \\\n",
       "0  0000e9a4db2da4e9c68558ad1e7df570d02767b213ec6b...   880553001  0.025407   \n",
       "1  0000e9a4db2da4e9c68558ad1e7df570d02767b213ec6b...   880553001  0.025407   \n",
       "2  00047d50bde8751b26aaec7536ccc5fd92828ffa0a396d...   909081004  0.033881   \n",
       "3  00047d50bde8751b26aaec7536ccc5fd92828ffa0a396d...   516903024  0.025407   \n",
       "4  00047d50bde8751b26aaec7536ccc5fd92828ffa0a396d...   897679003  0.042356   \n",
       "\n",
       "   sales_channel_id  \n",
       "0                 2  \n",
       "1                 2  \n",
       "2                 2  \n",
       "3                 2  \n",
       "4                 2  "
      ]
     },
     "execution_count": 58,
     "metadata": {},
     "output_type": "execute_result"
    }
   ],
   "source": [
    "transactions_101_104.head()"
   ]
  },
  {
   "cell_type": "code",
   "execution_count": 7,
   "id": "ed79e0a5",
   "metadata": {
    "ExecuteTime": {
     "end_time": "2022-04-07T09:08:06.583700Z",
     "start_time": "2022-04-07T09:07:32.743297Z"
    }
   },
   "outputs": [],
   "source": [
    "# note du 06042022: à ce stade de l'analyse les customers sans information sur l'âge ne sont pas inclus\n",
    "S1= pd.read_csv('../raw_data/customers_age_16_17.csv')\n",
    "S2= pd.read_csv('../raw_data/customers_age_18_19.csv')\n",
    "S3= pd.read_csv('../raw_data/customers_age_20_21.csv')\n",
    "S4= pd.read_csv('../raw_data/customers_age_22_23.csv')\n",
    "S5= pd.read_csv('../raw_data/customers_age_24_25.csv')\n",
    "S6= pd.read_csv('../raw_data/customers_age_26_27.csv')\n",
    "S7= pd.read_csv('../raw_data/customers_age_28_29.csv')\n",
    "S8= pd.read_csv('../raw_data/customers_age_30_34.csv')\n",
    "S9= pd.read_csv('../raw_data/customers_age_35_39.csv')\n",
    "S10= pd.read_csv('../raw_data/customers_age_40_44.csv')\n",
    "S11= pd.read_csv('../raw_data/customers_age_45_49.csv')\n",
    "S12= pd.read_csv('../raw_data/customers_age_50_54.csv')\n",
    "S13= pd.read_csv('../raw_data/customers_age_55_59.csv')\n",
    "S14= pd.read_csv('../raw_data/customers_age_60.csv')"
   ]
  },
  {
   "cell_type": "code",
   "execution_count": 8,
   "id": "dbbca5be",
   "metadata": {
    "ExecuteTime": {
     "end_time": "2022-04-07T09:08:11.365160Z",
     "start_time": "2022-04-07T09:08:11.354410Z"
    }
   },
   "outputs": [
    {
     "data": {
      "text/plain": [
       "((9553, 8),\n",
       " (62030, 8),\n",
       " (122726, 8),\n",
       " (106736, 8),\n",
       " (111113, 8),\n",
       " (102792, 8),\n",
       " (84991, 8),\n",
       " (150520, 8),\n",
       " (83548, 8),\n",
       " (85493, 8),\n",
       " (118625, 8),\n",
       " (135326, 8),\n",
       " (90916, 8),\n",
       " (91750, 8))"
      ]
     },
     "execution_count": 8,
     "metadata": {},
     "output_type": "execute_result"
    }
   ],
   "source": [
    "S1.shape, S2.shape, S3.shape, S4.shape, S5.shape, S6.shape, S7.shape, S8.shape, S9.shape, S10.shape, S11.shape, S12.shape, S13.shape, S14.shape"
   ]
  },
  {
   "cell_type": "code",
   "execution_count": 83,
   "id": "14419b0a",
   "metadata": {
    "ExecuteTime": {
     "end_time": "2022-04-06T13:53:54.192617Z",
     "start_time": "2022-04-06T13:53:54.174552Z"
    }
   },
   "outputs": [
    {
     "name": "stdout",
     "output_type": "stream",
     "text": [
      "<class 'pandas.core.frame.DataFrame'>\n",
      "RangeIndex: 9553 entries, 0 to 9552\n",
      "Data columns (total 2 columns):\n",
      " #   Column       Non-Null Count  Dtype \n",
      "---  ------       --------------  ----- \n",
      " 0   customer_id  9553 non-null   object\n",
      " 1   age_id       9553 non-null   int64 \n",
      "dtypes: int64(1), object(1)\n",
      "memory usage: 149.4+ KB\n"
     ]
    }
   ],
   "source": [
    "S1.info()"
   ]
  },
  {
   "cell_type": "markdown",
   "id": "8d581402",
   "metadata": {},
   "source": [
    "# Préparation du dataset Transactions"
   ]
  },
  {
   "cell_type": "code",
   "execution_count": 9,
   "id": "d853cecc",
   "metadata": {
    "ExecuteTime": {
     "end_time": "2022-04-07T09:08:26.610396Z",
     "start_time": "2022-04-07T09:08:24.100004Z"
    }
   },
   "outputs": [],
   "source": [
    "# je garde uniquement la week, le customer id pour le merge, et l'article ID pour récupérer les plus populaires:\n",
    "transactions_101_104=transactions_101_104.drop(columns=['Unnamed: 0', 'Unnamed: 0.1', 'price', 'sales_channel_id'])"
   ]
  },
  {
   "cell_type": "code",
   "execution_count": 10,
   "id": "1909b49f",
   "metadata": {
    "ExecuteTime": {
     "end_time": "2022-04-07T09:08:27.473992Z",
     "start_time": "2022-04-07T09:08:27.386099Z"
    }
   },
   "outputs": [
    {
     "name": "stdout",
     "output_type": "stream",
     "text": [
      "<class 'pandas.core.frame.DataFrame'>\n",
      "RangeIndex: 1057905 entries, 0 to 1057904\n",
      "Data columns (total 3 columns):\n",
      " #   Column       Non-Null Count    Dtype \n",
      "---  ------       --------------    ----- \n",
      " 0   t_dat        1057905 non-null  int64 \n",
      " 1   customer_id  1057905 non-null  object\n",
      " 2   article_id   1057905 non-null  int64 \n",
      "dtypes: int64(2), object(1)\n",
      "memory usage: 24.2+ MB\n"
     ]
    }
   ],
   "source": [
    "transactions_101_104.info()"
   ]
  },
  {
   "cell_type": "code",
   "execution_count": 11,
   "id": "a5542b14",
   "metadata": {
    "ExecuteTime": {
     "end_time": "2022-04-07T09:08:32.483099Z",
     "start_time": "2022-04-07T09:08:31.210451Z"
    }
   },
   "outputs": [
    {
     "data": {
      "text/html": [
       "<div>\n",
       "<style scoped>\n",
       "    .dataframe tbody tr th:only-of-type {\n",
       "        vertical-align: middle;\n",
       "    }\n",
       "\n",
       "    .dataframe tbody tr th {\n",
       "        vertical-align: top;\n",
       "    }\n",
       "\n",
       "    .dataframe thead th {\n",
       "        text-align: right;\n",
       "    }\n",
       "</style>\n",
       "<table border=\"1\" class=\"dataframe\">\n",
       "  <thead>\n",
       "    <tr style=\"text-align: right;\">\n",
       "      <th></th>\n",
       "      <th>t_dat</th>\n",
       "      <th>customer_id</th>\n",
       "      <th>article_id</th>\n",
       "      <th>in101</th>\n",
       "      <th>in102</th>\n",
       "      <th>in103</th>\n",
       "      <th>in104</th>\n",
       "    </tr>\n",
       "  </thead>\n",
       "  <tbody>\n",
       "    <tr>\n",
       "      <th>0</th>\n",
       "      <td>101</td>\n",
       "      <td>0000e9a4db2da4e9c68558ad1e7df570d02767b213ec6b...</td>\n",
       "      <td>880553001</td>\n",
       "      <td>1</td>\n",
       "      <td>0</td>\n",
       "      <td>0</td>\n",
       "      <td>0</td>\n",
       "    </tr>\n",
       "    <tr>\n",
       "      <th>1</th>\n",
       "      <td>101</td>\n",
       "      <td>0000e9a4db2da4e9c68558ad1e7df570d02767b213ec6b...</td>\n",
       "      <td>880553001</td>\n",
       "      <td>1</td>\n",
       "      <td>0</td>\n",
       "      <td>0</td>\n",
       "      <td>0</td>\n",
       "    </tr>\n",
       "    <tr>\n",
       "      <th>2</th>\n",
       "      <td>101</td>\n",
       "      <td>00047d50bde8751b26aaec7536ccc5fd92828ffa0a396d...</td>\n",
       "      <td>909081004</td>\n",
       "      <td>1</td>\n",
       "      <td>0</td>\n",
       "      <td>0</td>\n",
       "      <td>0</td>\n",
       "    </tr>\n",
       "    <tr>\n",
       "      <th>3</th>\n",
       "      <td>101</td>\n",
       "      <td>00047d50bde8751b26aaec7536ccc5fd92828ffa0a396d...</td>\n",
       "      <td>516903024</td>\n",
       "      <td>1</td>\n",
       "      <td>0</td>\n",
       "      <td>0</td>\n",
       "      <td>0</td>\n",
       "    </tr>\n",
       "    <tr>\n",
       "      <th>4</th>\n",
       "      <td>101</td>\n",
       "      <td>00047d50bde8751b26aaec7536ccc5fd92828ffa0a396d...</td>\n",
       "      <td>897679003</td>\n",
       "      <td>1</td>\n",
       "      <td>0</td>\n",
       "      <td>0</td>\n",
       "      <td>0</td>\n",
       "    </tr>\n",
       "    <tr>\n",
       "      <th>...</th>\n",
       "      <td>...</td>\n",
       "      <td>...</td>\n",
       "      <td>...</td>\n",
       "      <td>...</td>\n",
       "      <td>...</td>\n",
       "      <td>...</td>\n",
       "      <td>...</td>\n",
       "    </tr>\n",
       "    <tr>\n",
       "      <th>1057900</th>\n",
       "      <td>104</td>\n",
       "      <td>fff4381593e170ca0aea188998487c830d9a4070c9ec4b...</td>\n",
       "      <td>799365001</td>\n",
       "      <td>0</td>\n",
       "      <td>0</td>\n",
       "      <td>0</td>\n",
       "      <td>1</td>\n",
       "    </tr>\n",
       "    <tr>\n",
       "      <th>1057901</th>\n",
       "      <td>104</td>\n",
       "      <td>fff7e7674509592818bf453391af43a85eaaac9a52d858...</td>\n",
       "      <td>624486049</td>\n",
       "      <td>0</td>\n",
       "      <td>0</td>\n",
       "      <td>0</td>\n",
       "      <td>1</td>\n",
       "    </tr>\n",
       "    <tr>\n",
       "      <th>1057902</th>\n",
       "      <td>104</td>\n",
       "      <td>fff871bf24b40fd1290215414d760afaa69bb164d2b970...</td>\n",
       "      <td>717490010</td>\n",
       "      <td>0</td>\n",
       "      <td>0</td>\n",
       "      <td>0</td>\n",
       "      <td>1</td>\n",
       "    </tr>\n",
       "    <tr>\n",
       "      <th>1057903</th>\n",
       "      <td>104</td>\n",
       "      <td>fff871bf24b40fd1290215414d760afaa69bb164d2b970...</td>\n",
       "      <td>717490058</td>\n",
       "      <td>0</td>\n",
       "      <td>0</td>\n",
       "      <td>0</td>\n",
       "      <td>1</td>\n",
       "    </tr>\n",
       "    <tr>\n",
       "      <th>1057904</th>\n",
       "      <td>104</td>\n",
       "      <td>fff871bf24b40fd1290215414d760afaa69bb164d2b970...</td>\n",
       "      <td>717490057</td>\n",
       "      <td>0</td>\n",
       "      <td>0</td>\n",
       "      <td>0</td>\n",
       "      <td>1</td>\n",
       "    </tr>\n",
       "  </tbody>\n",
       "</table>\n",
       "<p>1057905 rows × 7 columns</p>\n",
       "</div>"
      ],
      "text/plain": [
       "         t_dat                                        customer_id  article_id  \\\n",
       "0          101  0000e9a4db2da4e9c68558ad1e7df570d02767b213ec6b...   880553001   \n",
       "1          101  0000e9a4db2da4e9c68558ad1e7df570d02767b213ec6b...   880553001   \n",
       "2          101  00047d50bde8751b26aaec7536ccc5fd92828ffa0a396d...   909081004   \n",
       "3          101  00047d50bde8751b26aaec7536ccc5fd92828ffa0a396d...   516903024   \n",
       "4          101  00047d50bde8751b26aaec7536ccc5fd92828ffa0a396d...   897679003   \n",
       "...        ...                                                ...         ...   \n",
       "1057900    104  fff4381593e170ca0aea188998487c830d9a4070c9ec4b...   799365001   \n",
       "1057901    104  fff7e7674509592818bf453391af43a85eaaac9a52d858...   624486049   \n",
       "1057902    104  fff871bf24b40fd1290215414d760afaa69bb164d2b970...   717490010   \n",
       "1057903    104  fff871bf24b40fd1290215414d760afaa69bb164d2b970...   717490058   \n",
       "1057904    104  fff871bf24b40fd1290215414d760afaa69bb164d2b970...   717490057   \n",
       "\n",
       "         in101  in102  in103  in104  \n",
       "0            1      0      0      0  \n",
       "1            1      0      0      0  \n",
       "2            1      0      0      0  \n",
       "3            1      0      0      0  \n",
       "4            1      0      0      0  \n",
       "...        ...    ...    ...    ...  \n",
       "1057900      0      0      0      1  \n",
       "1057901      0      0      0      1  \n",
       "1057902      0      0      0      1  \n",
       "1057903      0      0      0      1  \n",
       "1057904      0      0      0      1  \n",
       "\n",
       "[1057905 rows x 7 columns]"
      ]
     },
     "execution_count": 11,
     "metadata": {},
     "output_type": "execute_result"
    }
   ],
   "source": [
    "# je crée des dummies par week si jamais plus tard on a besoin de baselines pour d'autres semaines que la 104\n",
    "article_history=transactions_101_104\n",
    "article_history['in101']=article_history['t_dat'].apply(lambda x: 1 if x==101 else 0)\n",
    "article_history['in102']=article_history['t_dat'].apply(lambda x: 1 if x==102 else 0)\n",
    "article_history['in103']=article_history['t_dat'].apply(lambda x: 1 if x==103 else 0)\n",
    "article_history['in104']=article_history['t_dat'].apply(lambda x: 1 if x==104 else 0)\n",
    "article_history"
   ]
  },
  {
   "cell_type": "markdown",
   "id": "82b1fe73",
   "metadata": {
    "ExecuteTime": {
     "end_time": "2022-04-06T13:36:10.092694Z",
     "start_time": "2022-04-06T13:36:10.088334Z"
    }
   },
   "source": [
    "# merge des données segments aux données transactions"
   ]
  },
  {
   "cell_type": "code",
   "execution_count": 92,
   "id": "e6e088d5",
   "metadata": {
    "ExecuteTime": {
     "end_time": "2022-04-06T13:59:53.575267Z",
     "start_time": "2022-04-06T13:59:53.382115Z"
    }
   },
   "outputs": [],
   "source": [
    "S1_achats=S1[['customer_id','age_id']].merge(article_history)"
   ]
  },
  {
   "cell_type": "code",
   "execution_count": 93,
   "id": "a9f92087",
   "metadata": {
    "ExecuteTime": {
     "end_time": "2022-04-06T14:00:04.688124Z",
     "start_time": "2022-04-06T14:00:04.681864Z"
    }
   },
   "outputs": [
    {
     "data": {
      "text/plain": [
       "(5955, 8)"
      ]
     },
     "execution_count": 93,
     "metadata": {},
     "output_type": "execute_result"
    }
   ],
   "source": [
    "S1_achats.shape #(5955, 8)"
   ]
  },
  {
   "cell_type": "code",
   "execution_count": 95,
   "id": "35d8184d",
   "metadata": {
    "ExecuteTime": {
     "end_time": "2022-04-06T14:00:33.288834Z",
     "start_time": "2022-04-06T14:00:33.275576Z"
    }
   },
   "outputs": [
    {
     "data": {
      "text/html": [
       "<div>\n",
       "<style scoped>\n",
       "    .dataframe tbody tr th:only-of-type {\n",
       "        vertical-align: middle;\n",
       "    }\n",
       "\n",
       "    .dataframe tbody tr th {\n",
       "        vertical-align: top;\n",
       "    }\n",
       "\n",
       "    .dataframe thead th {\n",
       "        text-align: right;\n",
       "    }\n",
       "</style>\n",
       "<table border=\"1\" class=\"dataframe\">\n",
       "  <thead>\n",
       "    <tr style=\"text-align: right;\">\n",
       "      <th></th>\n",
       "      <th>customer_id</th>\n",
       "      <th>age_id</th>\n",
       "      <th>t_dat</th>\n",
       "      <th>article_id</th>\n",
       "      <th>in101</th>\n",
       "      <th>in102</th>\n",
       "      <th>in103</th>\n",
       "      <th>in104</th>\n",
       "    </tr>\n",
       "  </thead>\n",
       "  <tbody>\n",
       "    <tr>\n",
       "      <th>0</th>\n",
       "      <td>0006ca2c5ecdbdcc1de5e72adffc6c33448fc2aaa62afe...</td>\n",
       "      <td>0</td>\n",
       "      <td>101</td>\n",
       "      <td>572998001</td>\n",
       "      <td>1</td>\n",
       "      <td>0</td>\n",
       "      <td>0</td>\n",
       "      <td>0</td>\n",
       "    </tr>\n",
       "    <tr>\n",
       "      <th>1</th>\n",
       "      <td>0006ca2c5ecdbdcc1de5e72adffc6c33448fc2aaa62afe...</td>\n",
       "      <td>0</td>\n",
       "      <td>101</td>\n",
       "      <td>572998009</td>\n",
       "      <td>1</td>\n",
       "      <td>0</td>\n",
       "      <td>0</td>\n",
       "      <td>0</td>\n",
       "    </tr>\n",
       "    <tr>\n",
       "      <th>2</th>\n",
       "      <td>00089f13f465ec902e5c49a3bb408c5e31205096d6f267...</td>\n",
       "      <td>0</td>\n",
       "      <td>101</td>\n",
       "      <td>926502001</td>\n",
       "      <td>1</td>\n",
       "      <td>0</td>\n",
       "      <td>0</td>\n",
       "      <td>0</td>\n",
       "    </tr>\n",
       "    <tr>\n",
       "      <th>3</th>\n",
       "      <td>000e3f587242eb077685a487ad27dad632a4801576dfd1...</td>\n",
       "      <td>0</td>\n",
       "      <td>101</td>\n",
       "      <td>501620049</td>\n",
       "      <td>1</td>\n",
       "      <td>0</td>\n",
       "      <td>0</td>\n",
       "      <td>0</td>\n",
       "    </tr>\n",
       "    <tr>\n",
       "      <th>4</th>\n",
       "      <td>001c42459c8978d55a69fa1528975893b011a6539631f3...</td>\n",
       "      <td>0</td>\n",
       "      <td>101</td>\n",
       "      <td>885077003</td>\n",
       "      <td>1</td>\n",
       "      <td>0</td>\n",
       "      <td>0</td>\n",
       "      <td>0</td>\n",
       "    </tr>\n",
       "  </tbody>\n",
       "</table>\n",
       "</div>"
      ],
      "text/plain": [
       "                                         customer_id  age_id  t_dat  \\\n",
       "0  0006ca2c5ecdbdcc1de5e72adffc6c33448fc2aaa62afe...       0    101   \n",
       "1  0006ca2c5ecdbdcc1de5e72adffc6c33448fc2aaa62afe...       0    101   \n",
       "2  00089f13f465ec902e5c49a3bb408c5e31205096d6f267...       0    101   \n",
       "3  000e3f587242eb077685a487ad27dad632a4801576dfd1...       0    101   \n",
       "4  001c42459c8978d55a69fa1528975893b011a6539631f3...       0    101   \n",
       "\n",
       "   article_id  in101  in102  in103  in104  \n",
       "0   572998001      1      0      0      0  \n",
       "1   572998009      1      0      0      0  \n",
       "2   926502001      1      0      0      0  \n",
       "3   501620049      1      0      0      0  \n",
       "4   885077003      1      0      0      0  "
      ]
     },
     "execution_count": 95,
     "metadata": {},
     "output_type": "execute_result"
    }
   ],
   "source": [
    "S1_achats.head()"
   ]
  },
  {
   "cell_type": "code",
   "execution_count": 96,
   "id": "19a7ebec",
   "metadata": {
    "ExecuteTime": {
     "end_time": "2022-04-06T14:01:54.315900Z",
     "start_time": "2022-04-06T14:01:54.300326Z"
    }
   },
   "outputs": [
    {
     "data": {
      "text/plain": [
       "(2501, 6)"
      ]
     },
     "execution_count": 96,
     "metadata": {},
     "output_type": "execute_result"
    }
   ],
   "source": [
    "S1_articles=S1_achats.groupby(['article_id']).sum()\n",
    "S1_articles.shape"
   ]
  },
  {
   "cell_type": "code",
   "execution_count": 103,
   "id": "8b739235",
   "metadata": {
    "ExecuteTime": {
     "end_time": "2022-04-06T14:04:49.997615Z",
     "start_time": "2022-04-06T14:04:49.985637Z"
    }
   },
   "outputs": [
    {
     "data": {
      "text/html": [
       "<div>\n",
       "<style scoped>\n",
       "    .dataframe tbody tr th:only-of-type {\n",
       "        vertical-align: middle;\n",
       "    }\n",
       "\n",
       "    .dataframe tbody tr th {\n",
       "        vertical-align: top;\n",
       "    }\n",
       "\n",
       "    .dataframe thead th {\n",
       "        text-align: right;\n",
       "    }\n",
       "</style>\n",
       "<table border=\"1\" class=\"dataframe\">\n",
       "  <thead>\n",
       "    <tr style=\"text-align: right;\">\n",
       "      <th></th>\n",
       "      <th>age_id</th>\n",
       "      <th>t_dat</th>\n",
       "      <th>in101</th>\n",
       "      <th>in102</th>\n",
       "      <th>in103</th>\n",
       "      <th>in104</th>\n",
       "    </tr>\n",
       "    <tr>\n",
       "      <th>article_id</th>\n",
       "      <th></th>\n",
       "      <th></th>\n",
       "      <th></th>\n",
       "      <th></th>\n",
       "      <th></th>\n",
       "      <th></th>\n",
       "    </tr>\n",
       "  </thead>\n",
       "  <tbody>\n",
       "    <tr>\n",
       "      <th>448509014</th>\n",
       "      <td>0</td>\n",
       "      <td>3723</td>\n",
       "      <td>4</td>\n",
       "      <td>2</td>\n",
       "      <td>5</td>\n",
       "      <td>25</td>\n",
       "    </tr>\n",
       "    <tr>\n",
       "      <th>797988002</th>\n",
       "      <td>0</td>\n",
       "      <td>3303</td>\n",
       "      <td>7</td>\n",
       "      <td>2</td>\n",
       "      <td>0</td>\n",
       "      <td>23</td>\n",
       "    </tr>\n",
       "    <tr>\n",
       "      <th>685814003</th>\n",
       "      <td>0</td>\n",
       "      <td>3725</td>\n",
       "      <td>1</td>\n",
       "      <td>0</td>\n",
       "      <td>16</td>\n",
       "      <td>19</td>\n",
       "    </tr>\n",
       "    <tr>\n",
       "      <th>715624052</th>\n",
       "      <td>0</td>\n",
       "      <td>2173</td>\n",
       "      <td>3</td>\n",
       "      <td>0</td>\n",
       "      <td>2</td>\n",
       "      <td>16</td>\n",
       "    </tr>\n",
       "    <tr>\n",
       "      <th>682550002</th>\n",
       "      <td>0</td>\n",
       "      <td>2282</td>\n",
       "      <td>0</td>\n",
       "      <td>0</td>\n",
       "      <td>6</td>\n",
       "      <td>16</td>\n",
       "    </tr>\n",
       "    <tr>\n",
       "      <th>456163086</th>\n",
       "      <td>0</td>\n",
       "      <td>2380</td>\n",
       "      <td>2</td>\n",
       "      <td>1</td>\n",
       "      <td>4</td>\n",
       "      <td>16</td>\n",
       "    </tr>\n",
       "    <tr>\n",
       "      <th>730683050</th>\n",
       "      <td>0</td>\n",
       "      <td>2269</td>\n",
       "      <td>5</td>\n",
       "      <td>2</td>\n",
       "      <td>0</td>\n",
       "      <td>15</td>\n",
       "    </tr>\n",
       "    <tr>\n",
       "      <th>715624001</th>\n",
       "      <td>0</td>\n",
       "      <td>3494</td>\n",
       "      <td>10</td>\n",
       "      <td>2</td>\n",
       "      <td>8</td>\n",
       "      <td>14</td>\n",
       "    </tr>\n",
       "    <tr>\n",
       "      <th>871517008</th>\n",
       "      <td>0</td>\n",
       "      <td>2171</td>\n",
       "      <td>3</td>\n",
       "      <td>0</td>\n",
       "      <td>4</td>\n",
       "      <td>14</td>\n",
       "    </tr>\n",
       "    <tr>\n",
       "      <th>706016001</th>\n",
       "      <td>0</td>\n",
       "      <td>2982</td>\n",
       "      <td>9</td>\n",
       "      <td>1</td>\n",
       "      <td>5</td>\n",
       "      <td>14</td>\n",
       "    </tr>\n",
       "    <tr>\n",
       "      <th>715624053</th>\n",
       "      <td>0</td>\n",
       "      <td>2372</td>\n",
       "      <td>2</td>\n",
       "      <td>7</td>\n",
       "      <td>0</td>\n",
       "      <td>14</td>\n",
       "    </tr>\n",
       "    <tr>\n",
       "      <th>715624013</th>\n",
       "      <td>0</td>\n",
       "      <td>2468</td>\n",
       "      <td>7</td>\n",
       "      <td>3</td>\n",
       "      <td>1</td>\n",
       "      <td>13</td>\n",
       "    </tr>\n",
       "  </tbody>\n",
       "</table>\n",
       "</div>"
      ],
      "text/plain": [
       "            age_id  t_dat  in101  in102  in103  in104\n",
       "article_id                                           \n",
       "448509014        0   3723      4      2      5     25\n",
       "797988002        0   3303      7      2      0     23\n",
       "685814003        0   3725      1      0     16     19\n",
       "715624052        0   2173      3      0      2     16\n",
       "682550002        0   2282      0      0      6     16\n",
       "456163086        0   2380      2      1      4     16\n",
       "730683050        0   2269      5      2      0     15\n",
       "715624001        0   3494     10      2      8     14\n",
       "871517008        0   2171      3      0      4     14\n",
       "706016001        0   2982      9      1      5     14\n",
       "715624053        0   2372      2      7      0     14\n",
       "715624013        0   2468      7      3      1     13"
      ]
     },
     "execution_count": 103,
     "metadata": {},
     "output_type": "execute_result"
    }
   ],
   "source": [
    "S1_Top12_104=S1_articles.sort_values(by='in104', ascending=False).head(12)\n",
    "S1_Top12_104"
   ]
  },
  {
   "cell_type": "code",
   "execution_count": 58,
   "id": "3bfe9bac",
   "metadata": {
    "ExecuteTime": {
     "end_time": "2022-04-07T10:48:40.471176Z",
     "start_time": "2022-04-07T10:48:40.457088Z"
    }
   },
   "outputs": [],
   "source": [
    "def Baseline_0 (segment,transact_history,week): # exemple: week104name ='in104' dans l'historique des transactions\n",
    "    \n",
    "    week_dummy=\"in\" + f'{week}'\n",
    "    filtre_week=transact_history[week_dummy]==1\n",
    "    achats=segment[['customer_id']].merge(transact_history[filtre_week][['customer_id','article_id',week_dummy]])\n",
    "    articles= achats.groupby(['article_id']).sum()\n",
    "    Top12_arr=articles.sort_values(by=week_dummy, ascending=False).head(12)\n",
    "    Top12=\"\"\n",
    "    for i in range (0, 12):\n",
    "        if i==0 :\n",
    "            Top12=str(Top12_arr.index[i])\n",
    "        else: \n",
    "            Top12=Top12 + \" \"+ str(Top12_arr.index[i])\n",
    "            \n",
    "    #je donne à tous mes customers de mon segment le baseline top12 calculée ci-dessus\n",
    "    segment['Baseline0']=Top12\n",
    "    \n",
    "    #Ancien code ici *******************************************************************\n",
    "    #je retourne sur leurs achats et je vérifie si l'articleID acheté est dans la TOP12 (1 si oui, O sinon)\n",
    "    #achats['inBaseline0']=achats['article_id'].apply(lambda x: 1 if str(x) in Top12 else 0)\n",
    "    #Baseline0_precision=achats.groupby(['customer_id']).count().drop(columns= ['article_id',week_dummy] ) \n",
    "    \n",
    "    #penser à faire un changement de nom de col pour la précision\n",
    "    #segment_BS=segment.merge(Baseline0_precision, how = 'left', on='customer_id') \n",
    "    #  *******************************************************************\n",
    "    \n",
    "    #je retourne sur leurs achats et je vérifie si l'articleID acheté est dans la TOP12 (1 si oui, O sinon)\n",
    "    achats['inBaseline0']=achats['article_id'].apply(lambda x: 1 if str(x) in Top12 else 0)\n",
    "    Baseline0_precision=achats.groupby(['customer_id']).count().drop(columns= ['article_id',week_dummy]).rename(columns={'inBaseline0':'Precision'})\n",
    "    print(\"Statistiques concernant le segment:\")\n",
    "    print(\"Taille du segment : \" + f'{len(segment)}')\n",
    "    print(\"Nbre d'acheteurs : \" + f'{Baseline0_precision.count()}')\n",
    "    print(\"Nbre de ref_achetées : \" + f'{articles.count()}')\n",
    "    print(\"Précision moyenne:\" + f'{Baseline0_precision.mean()}')\n",
    "    \n",
    "    segment_BS=segment.merge(Baseline0_precision, how = 'left', on='customer_id') \n",
    "    #return segment_BS\n",
    "    return achats\n",
    "  "
   ]
  },
  {
   "cell_type": "code",
   "execution_count": 57,
   "id": "25f4b5ce",
   "metadata": {
    "ExecuteTime": {
     "end_time": "2022-04-07T10:48:28.678306Z",
     "start_time": "2022-04-07T10:48:26.700116Z"
    }
   },
   "outputs": [
    {
     "name": "stdout",
     "output_type": "stream",
     "text": [
      "Statistiques concernant le segment:\n",
      "Taille du segment : 9553\n",
      "Nbre d'acheteurs : Precision    1213\n",
      "dtype: int64\n",
      "Nbre de ref_achetées : in104    1663\n",
      "dtype: int64\n",
      "Précision moyenne:Precision    2.656224\n",
      "dtype: float64\n"
     ]
    },
    {
     "data": {
      "text/html": [
       "<div>\n",
       "<style scoped>\n",
       "    .dataframe tbody tr th:only-of-type {\n",
       "        vertical-align: middle;\n",
       "    }\n",
       "\n",
       "    .dataframe tbody tr th {\n",
       "        vertical-align: top;\n",
       "    }\n",
       "\n",
       "    .dataframe thead th {\n",
       "        text-align: right;\n",
       "    }\n",
       "</style>\n",
       "<table border=\"1\" class=\"dataframe\">\n",
       "  <thead>\n",
       "    <tr style=\"text-align: right;\">\n",
       "      <th></th>\n",
       "      <th>customer_id</th>\n",
       "      <th>article_id</th>\n",
       "      <th>in104</th>\n",
       "      <th>inBaseline0</th>\n",
       "    </tr>\n",
       "  </thead>\n",
       "  <tbody>\n",
       "    <tr>\n",
       "      <th>0</th>\n",
       "      <td>002921dfdcb8be4426c555a01cb8a009003db8c7582453...</td>\n",
       "      <td>778064003</td>\n",
       "      <td>1</td>\n",
       "      <td>0</td>\n",
       "    </tr>\n",
       "    <tr>\n",
       "      <th>1</th>\n",
       "      <td>002921dfdcb8be4426c555a01cb8a009003db8c7582453...</td>\n",
       "      <td>889661001</td>\n",
       "      <td>1</td>\n",
       "      <td>0</td>\n",
       "    </tr>\n",
       "    <tr>\n",
       "      <th>2</th>\n",
       "      <td>002921dfdcb8be4426c555a01cb8a009003db8c7582453...</td>\n",
       "      <td>800245011</td>\n",
       "      <td>1</td>\n",
       "      <td>0</td>\n",
       "    </tr>\n",
       "    <tr>\n",
       "      <th>3</th>\n",
       "      <td>002921dfdcb8be4426c555a01cb8a009003db8c7582453...</td>\n",
       "      <td>156231001</td>\n",
       "      <td>1</td>\n",
       "      <td>0</td>\n",
       "    </tr>\n",
       "    <tr>\n",
       "      <th>4</th>\n",
       "      <td>002921dfdcb8be4426c555a01cb8a009003db8c7582453...</td>\n",
       "      <td>156231001</td>\n",
       "      <td>1</td>\n",
       "      <td>0</td>\n",
       "    </tr>\n",
       "    <tr>\n",
       "      <th>...</th>\n",
       "      <td>...</td>\n",
       "      <td>...</td>\n",
       "      <td>...</td>\n",
       "      <td>...</td>\n",
       "    </tr>\n",
       "    <tr>\n",
       "      <th>3217</th>\n",
       "      <td>ffd6bb6d6a33e415467e69d18d28ec9e64061a4f58d67c...</td>\n",
       "      <td>914441006</td>\n",
       "      <td>1</td>\n",
       "      <td>0</td>\n",
       "    </tr>\n",
       "    <tr>\n",
       "      <th>3218</th>\n",
       "      <td>ffd6bb6d6a33e415467e69d18d28ec9e64061a4f58d67c...</td>\n",
       "      <td>914441004</td>\n",
       "      <td>1</td>\n",
       "      <td>0</td>\n",
       "    </tr>\n",
       "    <tr>\n",
       "      <th>3219</th>\n",
       "      <td>ffec95723bd3cfc50cef76f198716d18e395261f7cd8b1...</td>\n",
       "      <td>858147006</td>\n",
       "      <td>1</td>\n",
       "      <td>0</td>\n",
       "    </tr>\n",
       "    <tr>\n",
       "      <th>3220</th>\n",
       "      <td>ffec95723bd3cfc50cef76f198716d18e395261f7cd8b1...</td>\n",
       "      <td>892643001</td>\n",
       "      <td>1</td>\n",
       "      <td>0</td>\n",
       "    </tr>\n",
       "    <tr>\n",
       "      <th>3221</th>\n",
       "      <td>ffec95723bd3cfc50cef76f198716d18e395261f7cd8b1...</td>\n",
       "      <td>846181003</td>\n",
       "      <td>1</td>\n",
       "      <td>0</td>\n",
       "    </tr>\n",
       "  </tbody>\n",
       "</table>\n",
       "<p>3222 rows × 4 columns</p>\n",
       "</div>"
      ],
      "text/plain": [
       "                                            customer_id  article_id  in104  \\\n",
       "0     002921dfdcb8be4426c555a01cb8a009003db8c7582453...   778064003      1   \n",
       "1     002921dfdcb8be4426c555a01cb8a009003db8c7582453...   889661001      1   \n",
       "2     002921dfdcb8be4426c555a01cb8a009003db8c7582453...   800245011      1   \n",
       "3     002921dfdcb8be4426c555a01cb8a009003db8c7582453...   156231001      1   \n",
       "4     002921dfdcb8be4426c555a01cb8a009003db8c7582453...   156231001      1   \n",
       "...                                                 ...         ...    ...   \n",
       "3217  ffd6bb6d6a33e415467e69d18d28ec9e64061a4f58d67c...   914441006      1   \n",
       "3218  ffd6bb6d6a33e415467e69d18d28ec9e64061a4f58d67c...   914441004      1   \n",
       "3219  ffec95723bd3cfc50cef76f198716d18e395261f7cd8b1...   858147006      1   \n",
       "3220  ffec95723bd3cfc50cef76f198716d18e395261f7cd8b1...   892643001      1   \n",
       "3221  ffec95723bd3cfc50cef76f198716d18e395261f7cd8b1...   846181003      1   \n",
       "\n",
       "      inBaseline0  \n",
       "0               0  \n",
       "1               0  \n",
       "2               0  \n",
       "3               0  \n",
       "4               0  \n",
       "...           ...  \n",
       "3217            0  \n",
       "3218            0  \n",
       "3219            0  \n",
       "3220            0  \n",
       "3221            0  \n",
       "\n",
       "[3222 rows x 4 columns]"
      ]
     },
     "execution_count": 57,
     "metadata": {},
     "output_type": "execute_result"
    }
   ],
   "source": [
    "Baseline_0(S1,article_history,'104')"
   ]
  },
  {
   "cell_type": "code",
   "execution_count": 41,
   "id": "040b6fd4",
   "metadata": {
    "ExecuteTime": {
     "end_time": "2022-04-07T10:36:52.542097Z",
     "start_time": "2022-04-07T10:36:52.273028Z"
    }
   },
   "outputs": [
    {
     "name": "stdout",
     "output_type": "stream",
     "text": [
      "Statistiques concernant le segment:\n",
      "Taille du segment : 62030\n",
      "Nbre d'acheteurs : Precision    6069\n",
      "dtype: int64\n",
      "Nbre de ref_achetées : in104    5079\n",
      "dtype: int64\n",
      "Précision moyenne:Precision    2.788103\n",
      "dtype: float64\n"
     ]
    },
    {
     "data": {
      "text/html": [
       "<div>\n",
       "<style scoped>\n",
       "    .dataframe tbody tr th:only-of-type {\n",
       "        vertical-align: middle;\n",
       "    }\n",
       "\n",
       "    .dataframe tbody tr th {\n",
       "        vertical-align: top;\n",
       "    }\n",
       "\n",
       "    .dataframe thead th {\n",
       "        text-align: right;\n",
       "    }\n",
       "</style>\n",
       "<table border=\"1\" class=\"dataframe\">\n",
       "  <thead>\n",
       "    <tr style=\"text-align: right;\">\n",
       "      <th></th>\n",
       "      <th>customer_id</th>\n",
       "      <th>article_id</th>\n",
       "      <th>in104</th>\n",
       "      <th>inBaseline0</th>\n",
       "    </tr>\n",
       "  </thead>\n",
       "  <tbody>\n",
       "    <tr>\n",
       "      <th>0</th>\n",
       "      <td>0006bfcec82c6c132276c0a5549ae13645c9ab77b0243f...</td>\n",
       "      <td>882354001</td>\n",
       "      <td>1</td>\n",
       "      <td>0</td>\n",
       "    </tr>\n",
       "    <tr>\n",
       "      <th>1</th>\n",
       "      <td>0006bfcec82c6c132276c0a5549ae13645c9ab77b0243f...</td>\n",
       "      <td>817354001</td>\n",
       "      <td>1</td>\n",
       "      <td>0</td>\n",
       "    </tr>\n",
       "    <tr>\n",
       "      <th>2</th>\n",
       "      <td>0006bfcec82c6c132276c0a5549ae13645c9ab77b0243f...</td>\n",
       "      <td>817354001</td>\n",
       "      <td>1</td>\n",
       "      <td>0</td>\n",
       "    </tr>\n",
       "    <tr>\n",
       "      <th>3</th>\n",
       "      <td>0006bfcec82c6c132276c0a5549ae13645c9ab77b0243f...</td>\n",
       "      <td>903473001</td>\n",
       "      <td>1</td>\n",
       "      <td>0</td>\n",
       "    </tr>\n",
       "    <tr>\n",
       "      <th>4</th>\n",
       "      <td>0006bfcec82c6c132276c0a5549ae13645c9ab77b0243f...</td>\n",
       "      <td>881577002</td>\n",
       "      <td>1</td>\n",
       "      <td>0</td>\n",
       "    </tr>\n",
       "    <tr>\n",
       "      <th>...</th>\n",
       "      <td>...</td>\n",
       "      <td>...</td>\n",
       "      <td>...</td>\n",
       "      <td>...</td>\n",
       "    </tr>\n",
       "    <tr>\n",
       "      <th>16916</th>\n",
       "      <td>fff673307d4cdbf688e4a0bcfe7f671036033dbe7eba01...</td>\n",
       "      <td>860525009</td>\n",
       "      <td>1</td>\n",
       "      <td>0</td>\n",
       "    </tr>\n",
       "    <tr>\n",
       "      <th>16917</th>\n",
       "      <td>fff673307d4cdbf688e4a0bcfe7f671036033dbe7eba01...</td>\n",
       "      <td>759871003</td>\n",
       "      <td>1</td>\n",
       "      <td>0</td>\n",
       "    </tr>\n",
       "    <tr>\n",
       "      <th>16918</th>\n",
       "      <td>fff673307d4cdbf688e4a0bcfe7f671036033dbe7eba01...</td>\n",
       "      <td>456163060</td>\n",
       "      <td>1</td>\n",
       "      <td>0</td>\n",
       "    </tr>\n",
       "    <tr>\n",
       "      <th>16919</th>\n",
       "      <td>fff673307d4cdbf688e4a0bcfe7f671036033dbe7eba01...</td>\n",
       "      <td>711053003</td>\n",
       "      <td>1</td>\n",
       "      <td>0</td>\n",
       "    </tr>\n",
       "    <tr>\n",
       "      <th>16920</th>\n",
       "      <td>fff673307d4cdbf688e4a0bcfe7f671036033dbe7eba01...</td>\n",
       "      <td>865086004</td>\n",
       "      <td>1</td>\n",
       "      <td>0</td>\n",
       "    </tr>\n",
       "  </tbody>\n",
       "</table>\n",
       "<p>16921 rows × 4 columns</p>\n",
       "</div>"
      ],
      "text/plain": [
       "                                             customer_id  article_id  in104  \\\n",
       "0      0006bfcec82c6c132276c0a5549ae13645c9ab77b0243f...   882354001      1   \n",
       "1      0006bfcec82c6c132276c0a5549ae13645c9ab77b0243f...   817354001      1   \n",
       "2      0006bfcec82c6c132276c0a5549ae13645c9ab77b0243f...   817354001      1   \n",
       "3      0006bfcec82c6c132276c0a5549ae13645c9ab77b0243f...   903473001      1   \n",
       "4      0006bfcec82c6c132276c0a5549ae13645c9ab77b0243f...   881577002      1   \n",
       "...                                                  ...         ...    ...   \n",
       "16916  fff673307d4cdbf688e4a0bcfe7f671036033dbe7eba01...   860525009      1   \n",
       "16917  fff673307d4cdbf688e4a0bcfe7f671036033dbe7eba01...   759871003      1   \n",
       "16918  fff673307d4cdbf688e4a0bcfe7f671036033dbe7eba01...   456163060      1   \n",
       "16919  fff673307d4cdbf688e4a0bcfe7f671036033dbe7eba01...   711053003      1   \n",
       "16920  fff673307d4cdbf688e4a0bcfe7f671036033dbe7eba01...   865086004      1   \n",
       "\n",
       "       inBaseline0  \n",
       "0                0  \n",
       "1                0  \n",
       "2                0  \n",
       "3                0  \n",
       "4                0  \n",
       "...            ...  \n",
       "16916            0  \n",
       "16917            0  \n",
       "16918            0  \n",
       "16919            0  \n",
       "16920            0  \n",
       "\n",
       "[16921 rows x 4 columns]"
      ]
     },
     "execution_count": 41,
     "metadata": {},
     "output_type": "execute_result"
    }
   ],
   "source": [
    "Baseline_0(S2,article_history,'104')"
   ]
  },
  {
   "cell_type": "code",
   "execution_count": 42,
   "id": "69b3e1ed",
   "metadata": {
    "ExecuteTime": {
     "end_time": "2022-04-07T10:36:56.514563Z",
     "start_time": "2022-04-07T10:36:56.116825Z"
    }
   },
   "outputs": [
    {
     "name": "stdout",
     "output_type": "stream",
     "text": [
      "Statistiques concernant le segment:\n",
      "Taille du segment : 122726\n",
      "Nbre d'acheteurs : Precision    13203\n",
      "dtype: int64\n",
      "Nbre de ref_achetées : in104    8113\n",
      "dtype: int64\n",
      "Précision moyenne:Precision    3.102401\n",
      "dtype: float64\n"
     ]
    },
    {
     "data": {
      "text/html": [
       "<div>\n",
       "<style scoped>\n",
       "    .dataframe tbody tr th:only-of-type {\n",
       "        vertical-align: middle;\n",
       "    }\n",
       "\n",
       "    .dataframe tbody tr th {\n",
       "        vertical-align: top;\n",
       "    }\n",
       "\n",
       "    .dataframe thead th {\n",
       "        text-align: right;\n",
       "    }\n",
       "</style>\n",
       "<table border=\"1\" class=\"dataframe\">\n",
       "  <thead>\n",
       "    <tr style=\"text-align: right;\">\n",
       "      <th></th>\n",
       "      <th>customer_id</th>\n",
       "      <th>article_id</th>\n",
       "      <th>in104</th>\n",
       "      <th>inBaseline0</th>\n",
       "    </tr>\n",
       "  </thead>\n",
       "  <tbody>\n",
       "    <tr>\n",
       "      <th>0</th>\n",
       "      <td>0000757967448a6cb83efb3ea7a3fb9d418ac7adf2379d...</td>\n",
       "      <td>719530003</td>\n",
       "      <td>1</td>\n",
       "      <td>0</td>\n",
       "    </tr>\n",
       "    <tr>\n",
       "      <th>1</th>\n",
       "      <td>0000757967448a6cb83efb3ea7a3fb9d418ac7adf2379d...</td>\n",
       "      <td>448509014</td>\n",
       "      <td>1</td>\n",
       "      <td>1</td>\n",
       "    </tr>\n",
       "    <tr>\n",
       "      <th>2</th>\n",
       "      <td>0001f8cef6b9702d54abf66fd89eb21014bf98567065a9...</td>\n",
       "      <td>820671001</td>\n",
       "      <td>1</td>\n",
       "      <td>0</td>\n",
       "    </tr>\n",
       "    <tr>\n",
       "      <th>3</th>\n",
       "      <td>0005340aa69bb5a28d98712a36d8f669024bce137e3c82...</td>\n",
       "      <td>821395014</td>\n",
       "      <td>1</td>\n",
       "      <td>0</td>\n",
       "    </tr>\n",
       "    <tr>\n",
       "      <th>4</th>\n",
       "      <td>0005340aa69bb5a28d98712a36d8f669024bce137e3c82...</td>\n",
       "      <td>759814036</td>\n",
       "      <td>1</td>\n",
       "      <td>0</td>\n",
       "    </tr>\n",
       "    <tr>\n",
       "      <th>...</th>\n",
       "      <td>...</td>\n",
       "      <td>...</td>\n",
       "      <td>...</td>\n",
       "      <td>...</td>\n",
       "    </tr>\n",
       "    <tr>\n",
       "      <th>40956</th>\n",
       "      <td>fffd0248a95c2e49fee876ff93598e2e20839e51b9b767...</td>\n",
       "      <td>926745002</td>\n",
       "      <td>1</td>\n",
       "      <td>0</td>\n",
       "    </tr>\n",
       "    <tr>\n",
       "      <th>40957</th>\n",
       "      <td>ffffcf35913a0bee60e8741cb2b4e78b8a98ee5ff2e6a1...</td>\n",
       "      <td>689365050</td>\n",
       "      <td>1</td>\n",
       "      <td>0</td>\n",
       "    </tr>\n",
       "    <tr>\n",
       "      <th>40958</th>\n",
       "      <td>ffffcf35913a0bee60e8741cb2b4e78b8a98ee5ff2e6a1...</td>\n",
       "      <td>884081001</td>\n",
       "      <td>1</td>\n",
       "      <td>0</td>\n",
       "    </tr>\n",
       "    <tr>\n",
       "      <th>40959</th>\n",
       "      <td>ffffcf35913a0bee60e8741cb2b4e78b8a98ee5ff2e6a1...</td>\n",
       "      <td>794819001</td>\n",
       "      <td>1</td>\n",
       "      <td>0</td>\n",
       "    </tr>\n",
       "    <tr>\n",
       "      <th>40960</th>\n",
       "      <td>ffffcf35913a0bee60e8741cb2b4e78b8a98ee5ff2e6a1...</td>\n",
       "      <td>762846027</td>\n",
       "      <td>1</td>\n",
       "      <td>0</td>\n",
       "    </tr>\n",
       "  </tbody>\n",
       "</table>\n",
       "<p>40961 rows × 4 columns</p>\n",
       "</div>"
      ],
      "text/plain": [
       "                                             customer_id  article_id  in104  \\\n",
       "0      0000757967448a6cb83efb3ea7a3fb9d418ac7adf2379d...   719530003      1   \n",
       "1      0000757967448a6cb83efb3ea7a3fb9d418ac7adf2379d...   448509014      1   \n",
       "2      0001f8cef6b9702d54abf66fd89eb21014bf98567065a9...   820671001      1   \n",
       "3      0005340aa69bb5a28d98712a36d8f669024bce137e3c82...   821395014      1   \n",
       "4      0005340aa69bb5a28d98712a36d8f669024bce137e3c82...   759814036      1   \n",
       "...                                                  ...         ...    ...   \n",
       "40956  fffd0248a95c2e49fee876ff93598e2e20839e51b9b767...   926745002      1   \n",
       "40957  ffffcf35913a0bee60e8741cb2b4e78b8a98ee5ff2e6a1...   689365050      1   \n",
       "40958  ffffcf35913a0bee60e8741cb2b4e78b8a98ee5ff2e6a1...   884081001      1   \n",
       "40959  ffffcf35913a0bee60e8741cb2b4e78b8a98ee5ff2e6a1...   794819001      1   \n",
       "40960  ffffcf35913a0bee60e8741cb2b4e78b8a98ee5ff2e6a1...   762846027      1   \n",
       "\n",
       "       inBaseline0  \n",
       "0                0  \n",
       "1                1  \n",
       "2                0  \n",
       "3                0  \n",
       "4                0  \n",
       "...            ...  \n",
       "40956            0  \n",
       "40957            0  \n",
       "40958            0  \n",
       "40959            0  \n",
       "40960            0  \n",
       "\n",
       "[40961 rows x 4 columns]"
      ]
     },
     "execution_count": 42,
     "metadata": {},
     "output_type": "execute_result"
    }
   ],
   "source": [
    "Baseline_0(S3,article_history,'104')"
   ]
  },
  {
   "cell_type": "code",
   "execution_count": 43,
   "id": "5e77cffb",
   "metadata": {
    "ExecuteTime": {
     "end_time": "2022-04-07T10:37:00.197442Z",
     "start_time": "2022-04-07T10:36:59.290445Z"
    }
   },
   "outputs": [
    {
     "name": "stdout",
     "output_type": "stream",
     "text": [
      "Statistiques concernant le segment:\n",
      "Taille du segment : 106736\n",
      "Nbre d'acheteurs : Precision    13091\n",
      "dtype: int64\n",
      "Nbre de ref_achetées : in104    9143\n",
      "dtype: int64\n",
      "Précision moyenne:Precision    3.688794\n",
      "dtype: float64\n"
     ]
    },
    {
     "data": {
      "text/html": [
       "<div>\n",
       "<style scoped>\n",
       "    .dataframe tbody tr th:only-of-type {\n",
       "        vertical-align: middle;\n",
       "    }\n",
       "\n",
       "    .dataframe tbody tr th {\n",
       "        vertical-align: top;\n",
       "    }\n",
       "\n",
       "    .dataframe thead th {\n",
       "        text-align: right;\n",
       "    }\n",
       "</style>\n",
       "<table border=\"1\" class=\"dataframe\">\n",
       "  <thead>\n",
       "    <tr style=\"text-align: right;\">\n",
       "      <th></th>\n",
       "      <th>customer_id</th>\n",
       "      <th>article_id</th>\n",
       "      <th>in104</th>\n",
       "      <th>inBaseline0</th>\n",
       "    </tr>\n",
       "  </thead>\n",
       "  <tbody>\n",
       "    <tr>\n",
       "      <th>0</th>\n",
       "      <td>00077dbd5c4a4991e092e63893ccf29294a9d5c46e8501...</td>\n",
       "      <td>903762001</td>\n",
       "      <td>1</td>\n",
       "      <td>0</td>\n",
       "    </tr>\n",
       "    <tr>\n",
       "      <th>1</th>\n",
       "      <td>00077dbd5c4a4991e092e63893ccf29294a9d5c46e8501...</td>\n",
       "      <td>879189005</td>\n",
       "      <td>1</td>\n",
       "      <td>0</td>\n",
       "    </tr>\n",
       "    <tr>\n",
       "      <th>2</th>\n",
       "      <td>0007c93b2a5ff71d3358d0ee4391c47bbf6b8e7d4d2bf6...</td>\n",
       "      <td>903773001</td>\n",
       "      <td>1</td>\n",
       "      <td>0</td>\n",
       "    </tr>\n",
       "    <tr>\n",
       "      <th>3</th>\n",
       "      <td>0007c93b2a5ff71d3358d0ee4391c47bbf6b8e7d4d2bf6...</td>\n",
       "      <td>556539010</td>\n",
       "      <td>1</td>\n",
       "      <td>0</td>\n",
       "    </tr>\n",
       "    <tr>\n",
       "      <th>4</th>\n",
       "      <td>0007c93b2a5ff71d3358d0ee4391c47bbf6b8e7d4d2bf6...</td>\n",
       "      <td>889387002</td>\n",
       "      <td>1</td>\n",
       "      <td>0</td>\n",
       "    </tr>\n",
       "    <tr>\n",
       "      <th>...</th>\n",
       "      <td>...</td>\n",
       "      <td>...</td>\n",
       "      <td>...</td>\n",
       "      <td>...</td>\n",
       "    </tr>\n",
       "    <tr>\n",
       "      <th>48285</th>\n",
       "      <td>fff3573d9131d15da6a46c1ca8f03b5d37e4f6b804171e...</td>\n",
       "      <td>876204002</td>\n",
       "      <td>1</td>\n",
       "      <td>0</td>\n",
       "    </tr>\n",
       "    <tr>\n",
       "      <th>48286</th>\n",
       "      <td>fff3573d9131d15da6a46c1ca8f03b5d37e4f6b804171e...</td>\n",
       "      <td>888715001</td>\n",
       "      <td>1</td>\n",
       "      <td>0</td>\n",
       "    </tr>\n",
       "    <tr>\n",
       "      <th>48287</th>\n",
       "      <td>fff3573d9131d15da6a46c1ca8f03b5d37e4f6b804171e...</td>\n",
       "      <td>866503005</td>\n",
       "      <td>1</td>\n",
       "      <td>0</td>\n",
       "    </tr>\n",
       "    <tr>\n",
       "      <th>48288</th>\n",
       "      <td>fff3573d9131d15da6a46c1ca8f03b5d37e4f6b804171e...</td>\n",
       "      <td>916796006</td>\n",
       "      <td>1</td>\n",
       "      <td>0</td>\n",
       "    </tr>\n",
       "    <tr>\n",
       "      <th>48289</th>\n",
       "      <td>fff38fb3dcf46be085512d057c86f56f739fbd558f1a75...</td>\n",
       "      <td>883307004</td>\n",
       "      <td>1</td>\n",
       "      <td>0</td>\n",
       "    </tr>\n",
       "  </tbody>\n",
       "</table>\n",
       "<p>48290 rows × 4 columns</p>\n",
       "</div>"
      ],
      "text/plain": [
       "                                             customer_id  article_id  in104  \\\n",
       "0      00077dbd5c4a4991e092e63893ccf29294a9d5c46e8501...   903762001      1   \n",
       "1      00077dbd5c4a4991e092e63893ccf29294a9d5c46e8501...   879189005      1   \n",
       "2      0007c93b2a5ff71d3358d0ee4391c47bbf6b8e7d4d2bf6...   903773001      1   \n",
       "3      0007c93b2a5ff71d3358d0ee4391c47bbf6b8e7d4d2bf6...   556539010      1   \n",
       "4      0007c93b2a5ff71d3358d0ee4391c47bbf6b8e7d4d2bf6...   889387002      1   \n",
       "...                                                  ...         ...    ...   \n",
       "48285  fff3573d9131d15da6a46c1ca8f03b5d37e4f6b804171e...   876204002      1   \n",
       "48286  fff3573d9131d15da6a46c1ca8f03b5d37e4f6b804171e...   888715001      1   \n",
       "48287  fff3573d9131d15da6a46c1ca8f03b5d37e4f6b804171e...   866503005      1   \n",
       "48288  fff3573d9131d15da6a46c1ca8f03b5d37e4f6b804171e...   916796006      1   \n",
       "48289  fff38fb3dcf46be085512d057c86f56f739fbd558f1a75...   883307004      1   \n",
       "\n",
       "       inBaseline0  \n",
       "0                0  \n",
       "1                0  \n",
       "2                0  \n",
       "3                0  \n",
       "4                0  \n",
       "...            ...  \n",
       "48285            0  \n",
       "48286            0  \n",
       "48287            0  \n",
       "48288            0  \n",
       "48289            0  \n",
       "\n",
       "[48290 rows x 4 columns]"
      ]
     },
     "execution_count": 43,
     "metadata": {},
     "output_type": "execute_result"
    }
   ],
   "source": [
    "Baseline_0(S4,article_history,'104')"
   ]
  },
  {
   "cell_type": "code",
   "execution_count": 44,
   "id": "655e556a",
   "metadata": {
    "ExecuteTime": {
     "end_time": "2022-04-07T10:37:08.783960Z",
     "start_time": "2022-04-07T10:37:07.371526Z"
    }
   },
   "outputs": [
    {
     "name": "stdout",
     "output_type": "stream",
     "text": [
      "Statistiques concernant le segment:\n",
      "Taille du segment : 111113\n",
      "Nbre d'acheteurs : Precision    14092\n",
      "dtype: int64\n",
      "Nbre de ref_achetées : in104    10282\n",
      "dtype: int64\n",
      "Précision moyenne:Precision    4.037184\n",
      "dtype: float64\n"
     ]
    },
    {
     "data": {
      "text/html": [
       "<div>\n",
       "<style scoped>\n",
       "    .dataframe tbody tr th:only-of-type {\n",
       "        vertical-align: middle;\n",
       "    }\n",
       "\n",
       "    .dataframe tbody tr th {\n",
       "        vertical-align: top;\n",
       "    }\n",
       "\n",
       "    .dataframe thead th {\n",
       "        text-align: right;\n",
       "    }\n",
       "</style>\n",
       "<table border=\"1\" class=\"dataframe\">\n",
       "  <thead>\n",
       "    <tr style=\"text-align: right;\">\n",
       "      <th></th>\n",
       "      <th>customer_id</th>\n",
       "      <th>article_id</th>\n",
       "      <th>in104</th>\n",
       "      <th>inBaseline0</th>\n",
       "    </tr>\n",
       "  </thead>\n",
       "  <tbody>\n",
       "    <tr>\n",
       "      <th>0</th>\n",
       "      <td>000058a12d5b43e67d225668fa1f8d618c13dc232df0ca...</td>\n",
       "      <td>794321007</td>\n",
       "      <td>1</td>\n",
       "      <td>0</td>\n",
       "    </tr>\n",
       "    <tr>\n",
       "      <th>1</th>\n",
       "      <td>0010e8eb18f131e724d6997909af0808adbba057529edb...</td>\n",
       "      <td>237347060</td>\n",
       "      <td>1</td>\n",
       "      <td>0</td>\n",
       "    </tr>\n",
       "    <tr>\n",
       "      <th>2</th>\n",
       "      <td>0010e8eb18f131e724d6997909af0808adbba057529edb...</td>\n",
       "      <td>562245001</td>\n",
       "      <td>1</td>\n",
       "      <td>0</td>\n",
       "    </tr>\n",
       "    <tr>\n",
       "      <th>3</th>\n",
       "      <td>0010e8eb18f131e724d6997909af0808adbba057529edb...</td>\n",
       "      <td>610776105</td>\n",
       "      <td>1</td>\n",
       "      <td>0</td>\n",
       "    </tr>\n",
       "    <tr>\n",
       "      <th>4</th>\n",
       "      <td>0010e8eb18f131e724d6997909af0808adbba057529edb...</td>\n",
       "      <td>456163060</td>\n",
       "      <td>1</td>\n",
       "      <td>0</td>\n",
       "    </tr>\n",
       "    <tr>\n",
       "      <th>...</th>\n",
       "      <td>...</td>\n",
       "      <td>...</td>\n",
       "      <td>...</td>\n",
       "      <td>...</td>\n",
       "    </tr>\n",
       "    <tr>\n",
       "      <th>56887</th>\n",
       "      <td>ffffbbf78b6eaac697a8a5dfbfd2bfa8113ee5b403e474...</td>\n",
       "      <td>720125039</td>\n",
       "      <td>1</td>\n",
       "      <td>0</td>\n",
       "    </tr>\n",
       "    <tr>\n",
       "      <th>56888</th>\n",
       "      <td>ffffbbf78b6eaac697a8a5dfbfd2bfa8113ee5b403e474...</td>\n",
       "      <td>740922009</td>\n",
       "      <td>1</td>\n",
       "      <td>0</td>\n",
       "    </tr>\n",
       "    <tr>\n",
       "      <th>56889</th>\n",
       "      <td>ffffbbf78b6eaac697a8a5dfbfd2bfa8113ee5b403e474...</td>\n",
       "      <td>791587007</td>\n",
       "      <td>1</td>\n",
       "      <td>0</td>\n",
       "    </tr>\n",
       "    <tr>\n",
       "      <th>56890</th>\n",
       "      <td>ffffbbf78b6eaac697a8a5dfbfd2bfa8113ee5b403e474...</td>\n",
       "      <td>804992033</td>\n",
       "      <td>1</td>\n",
       "      <td>0</td>\n",
       "    </tr>\n",
       "    <tr>\n",
       "      <th>56891</th>\n",
       "      <td>ffffbbf78b6eaac697a8a5dfbfd2bfa8113ee5b403e474...</td>\n",
       "      <td>557599022</td>\n",
       "      <td>1</td>\n",
       "      <td>0</td>\n",
       "    </tr>\n",
       "  </tbody>\n",
       "</table>\n",
       "<p>56892 rows × 4 columns</p>\n",
       "</div>"
      ],
      "text/plain": [
       "                                             customer_id  article_id  in104  \\\n",
       "0      000058a12d5b43e67d225668fa1f8d618c13dc232df0ca...   794321007      1   \n",
       "1      0010e8eb18f131e724d6997909af0808adbba057529edb...   237347060      1   \n",
       "2      0010e8eb18f131e724d6997909af0808adbba057529edb...   562245001      1   \n",
       "3      0010e8eb18f131e724d6997909af0808adbba057529edb...   610776105      1   \n",
       "4      0010e8eb18f131e724d6997909af0808adbba057529edb...   456163060      1   \n",
       "...                                                  ...         ...    ...   \n",
       "56887  ffffbbf78b6eaac697a8a5dfbfd2bfa8113ee5b403e474...   720125039      1   \n",
       "56888  ffffbbf78b6eaac697a8a5dfbfd2bfa8113ee5b403e474...   740922009      1   \n",
       "56889  ffffbbf78b6eaac697a8a5dfbfd2bfa8113ee5b403e474...   791587007      1   \n",
       "56890  ffffbbf78b6eaac697a8a5dfbfd2bfa8113ee5b403e474...   804992033      1   \n",
       "56891  ffffbbf78b6eaac697a8a5dfbfd2bfa8113ee5b403e474...   557599022      1   \n",
       "\n",
       "       inBaseline0  \n",
       "0                0  \n",
       "1                0  \n",
       "2                0  \n",
       "3                0  \n",
       "4                0  \n",
       "...            ...  \n",
       "56887            0  \n",
       "56888            0  \n",
       "56889            0  \n",
       "56890            0  \n",
       "56891            0  \n",
       "\n",
       "[56892 rows x 4 columns]"
      ]
     },
     "execution_count": 44,
     "metadata": {},
     "output_type": "execute_result"
    }
   ],
   "source": [
    "Baseline_0(S5,article_history,'104')"
   ]
  },
  {
   "cell_type": "code",
   "execution_count": 45,
   "id": "82082e4e",
   "metadata": {
    "ExecuteTime": {
     "end_time": "2022-04-07T10:37:18.160557Z",
     "start_time": "2022-04-07T10:37:17.777564Z"
    }
   },
   "outputs": [
    {
     "name": "stdout",
     "output_type": "stream",
     "text": [
      "Statistiques concernant le segment:\n",
      "Taille du segment : 102792\n",
      "Nbre d'acheteurs : Precision    12440\n",
      "dtype: int64\n",
      "Nbre de ref_achetées : in104    10479\n",
      "dtype: int64\n",
      "Précision moyenne:Precision    4.350402\n",
      "dtype: float64\n"
     ]
    },
    {
     "data": {
      "text/html": [
       "<div>\n",
       "<style scoped>\n",
       "    .dataframe tbody tr th:only-of-type {\n",
       "        vertical-align: middle;\n",
       "    }\n",
       "\n",
       "    .dataframe tbody tr th {\n",
       "        vertical-align: top;\n",
       "    }\n",
       "\n",
       "    .dataframe thead th {\n",
       "        text-align: right;\n",
       "    }\n",
       "</style>\n",
       "<table border=\"1\" class=\"dataframe\">\n",
       "  <thead>\n",
       "    <tr style=\"text-align: right;\">\n",
       "      <th></th>\n",
       "      <th>customer_id</th>\n",
       "      <th>article_id</th>\n",
       "      <th>in104</th>\n",
       "      <th>inBaseline0</th>\n",
       "    </tr>\n",
       "  </thead>\n",
       "  <tbody>\n",
       "    <tr>\n",
       "      <th>0</th>\n",
       "      <td>00039306476aaf41a07fed942884f16b30abfa83a2a8be...</td>\n",
       "      <td>624486001</td>\n",
       "      <td>1</td>\n",
       "      <td>0</td>\n",
       "    </tr>\n",
       "    <tr>\n",
       "      <th>1</th>\n",
       "      <td>000ed4cabda96069b547ae531c66de5f1bf6a7e5b83aa8...</td>\n",
       "      <td>894140005</td>\n",
       "      <td>1</td>\n",
       "      <td>0</td>\n",
       "    </tr>\n",
       "    <tr>\n",
       "      <th>2</th>\n",
       "      <td>000ed4cabda96069b547ae531c66de5f1bf6a7e5b83aa8...</td>\n",
       "      <td>894140005</td>\n",
       "      <td>1</td>\n",
       "      <td>0</td>\n",
       "    </tr>\n",
       "    <tr>\n",
       "      <th>3</th>\n",
       "      <td>000ed4cabda96069b547ae531c66de5f1bf6a7e5b83aa8...</td>\n",
       "      <td>882757004</td>\n",
       "      <td>1</td>\n",
       "      <td>0</td>\n",
       "    </tr>\n",
       "    <tr>\n",
       "      <th>4</th>\n",
       "      <td>000ed4cabda96069b547ae531c66de5f1bf6a7e5b83aa8...</td>\n",
       "      <td>827411001</td>\n",
       "      <td>1</td>\n",
       "      <td>0</td>\n",
       "    </tr>\n",
       "    <tr>\n",
       "      <th>...</th>\n",
       "      <td>...</td>\n",
       "      <td>...</td>\n",
       "      <td>...</td>\n",
       "      <td>...</td>\n",
       "    </tr>\n",
       "    <tr>\n",
       "      <th>54114</th>\n",
       "      <td>fff67e0ce3800aab23d16104d8ae13224f80053000dd6e...</td>\n",
       "      <td>805000008</td>\n",
       "      <td>1</td>\n",
       "      <td>0</td>\n",
       "    </tr>\n",
       "    <tr>\n",
       "      <th>54115</th>\n",
       "      <td>fff67e0ce3800aab23d16104d8ae13224f80053000dd6e...</td>\n",
       "      <td>769748014</td>\n",
       "      <td>1</td>\n",
       "      <td>0</td>\n",
       "    </tr>\n",
       "    <tr>\n",
       "      <th>54116</th>\n",
       "      <td>fff67e0ce3800aab23d16104d8ae13224f80053000dd6e...</td>\n",
       "      <td>868823007</td>\n",
       "      <td>1</td>\n",
       "      <td>0</td>\n",
       "    </tr>\n",
       "    <tr>\n",
       "      <th>54117</th>\n",
       "      <td>fff67e0ce3800aab23d16104d8ae13224f80053000dd6e...</td>\n",
       "      <td>915529005</td>\n",
       "      <td>1</td>\n",
       "      <td>0</td>\n",
       "    </tr>\n",
       "    <tr>\n",
       "      <th>54118</th>\n",
       "      <td>fffbdd2f8e59d45c0fb50a14b0ea555f7daa5307b3f922...</td>\n",
       "      <td>765308002</td>\n",
       "      <td>1</td>\n",
       "      <td>0</td>\n",
       "    </tr>\n",
       "  </tbody>\n",
       "</table>\n",
       "<p>54119 rows × 4 columns</p>\n",
       "</div>"
      ],
      "text/plain": [
       "                                             customer_id  article_id  in104  \\\n",
       "0      00039306476aaf41a07fed942884f16b30abfa83a2a8be...   624486001      1   \n",
       "1      000ed4cabda96069b547ae531c66de5f1bf6a7e5b83aa8...   894140005      1   \n",
       "2      000ed4cabda96069b547ae531c66de5f1bf6a7e5b83aa8...   894140005      1   \n",
       "3      000ed4cabda96069b547ae531c66de5f1bf6a7e5b83aa8...   882757004      1   \n",
       "4      000ed4cabda96069b547ae531c66de5f1bf6a7e5b83aa8...   827411001      1   \n",
       "...                                                  ...         ...    ...   \n",
       "54114  fff67e0ce3800aab23d16104d8ae13224f80053000dd6e...   805000008      1   \n",
       "54115  fff67e0ce3800aab23d16104d8ae13224f80053000dd6e...   769748014      1   \n",
       "54116  fff67e0ce3800aab23d16104d8ae13224f80053000dd6e...   868823007      1   \n",
       "54117  fff67e0ce3800aab23d16104d8ae13224f80053000dd6e...   915529005      1   \n",
       "54118  fffbdd2f8e59d45c0fb50a14b0ea555f7daa5307b3f922...   765308002      1   \n",
       "\n",
       "       inBaseline0  \n",
       "0                0  \n",
       "1                0  \n",
       "2                0  \n",
       "3                0  \n",
       "4                0  \n",
       "...            ...  \n",
       "54114            0  \n",
       "54115            0  \n",
       "54116            0  \n",
       "54117            0  \n",
       "54118            0  \n",
       "\n",
       "[54119 rows x 4 columns]"
      ]
     },
     "execution_count": 45,
     "metadata": {},
     "output_type": "execute_result"
    }
   ],
   "source": [
    "Baseline_0(S6,article_history,'104')"
   ]
  },
  {
   "cell_type": "code",
   "execution_count": 46,
   "id": "be34bf54",
   "metadata": {
    "ExecuteTime": {
     "end_time": "2022-04-07T10:37:21.870603Z",
     "start_time": "2022-04-07T10:37:21.472662Z"
    }
   },
   "outputs": [
    {
     "name": "stdout",
     "output_type": "stream",
     "text": [
      "Statistiques concernant le segment:\n",
      "Taille du segment : 84991\n",
      "Nbre d'acheteurs : Precision    9781\n",
      "dtype: int64\n",
      "Nbre de ref_achetées : in104    10000\n",
      "dtype: int64\n",
      "Précision moyenne:Precision    4.57213\n",
      "dtype: float64\n"
     ]
    },
    {
     "data": {
      "text/html": [
       "<div>\n",
       "<style scoped>\n",
       "    .dataframe tbody tr th:only-of-type {\n",
       "        vertical-align: middle;\n",
       "    }\n",
       "\n",
       "    .dataframe tbody tr th {\n",
       "        vertical-align: top;\n",
       "    }\n",
       "\n",
       "    .dataframe thead th {\n",
       "        text-align: right;\n",
       "    }\n",
       "</style>\n",
       "<table border=\"1\" class=\"dataframe\">\n",
       "  <thead>\n",
       "    <tr style=\"text-align: right;\">\n",
       "      <th></th>\n",
       "      <th>customer_id</th>\n",
       "      <th>article_id</th>\n",
       "      <th>in104</th>\n",
       "      <th>inBaseline0</th>\n",
       "    </tr>\n",
       "  </thead>\n",
       "  <tbody>\n",
       "    <tr>\n",
       "      <th>0</th>\n",
       "      <td>000493dd9fc463df1acc2081450c9e75ef8e87d5dd17ed...</td>\n",
       "      <td>399136061</td>\n",
       "      <td>1</td>\n",
       "      <td>0</td>\n",
       "    </tr>\n",
       "    <tr>\n",
       "      <th>1</th>\n",
       "      <td>000493dd9fc463df1acc2081450c9e75ef8e87d5dd17ed...</td>\n",
       "      <td>732842014</td>\n",
       "      <td>1</td>\n",
       "      <td>0</td>\n",
       "    </tr>\n",
       "    <tr>\n",
       "      <th>2</th>\n",
       "      <td>000493dd9fc463df1acc2081450c9e75ef8e87d5dd17ed...</td>\n",
       "      <td>556255001</td>\n",
       "      <td>1</td>\n",
       "      <td>0</td>\n",
       "    </tr>\n",
       "    <tr>\n",
       "      <th>3</th>\n",
       "      <td>000493dd9fc463df1acc2081450c9e75ef8e87d5dd17ed...</td>\n",
       "      <td>852219003</td>\n",
       "      <td>1</td>\n",
       "      <td>0</td>\n",
       "    </tr>\n",
       "    <tr>\n",
       "      <th>4</th>\n",
       "      <td>000493dd9fc463df1acc2081450c9e75ef8e87d5dd17ed...</td>\n",
       "      <td>732842021</td>\n",
       "      <td>1</td>\n",
       "      <td>0</td>\n",
       "    </tr>\n",
       "    <tr>\n",
       "      <th>...</th>\n",
       "      <td>...</td>\n",
       "      <td>...</td>\n",
       "      <td>...</td>\n",
       "      <td>...</td>\n",
       "    </tr>\n",
       "    <tr>\n",
       "      <th>44715</th>\n",
       "      <td>fffef3b6b73545df065b521e19f64bf6fe93bfd450ab20...</td>\n",
       "      <td>905365002</td>\n",
       "      <td>1</td>\n",
       "      <td>0</td>\n",
       "    </tr>\n",
       "    <tr>\n",
       "      <th>44716</th>\n",
       "      <td>fffef3b6b73545df065b521e19f64bf6fe93bfd450ab20...</td>\n",
       "      <td>863646005</td>\n",
       "      <td>1</td>\n",
       "      <td>0</td>\n",
       "    </tr>\n",
       "    <tr>\n",
       "      <th>44717</th>\n",
       "      <td>fffef3b6b73545df065b521e19f64bf6fe93bfd450ab20...</td>\n",
       "      <td>748269009</td>\n",
       "      <td>1</td>\n",
       "      <td>0</td>\n",
       "    </tr>\n",
       "    <tr>\n",
       "      <th>44718</th>\n",
       "      <td>fffef3b6b73545df065b521e19f64bf6fe93bfd450ab20...</td>\n",
       "      <td>881919001</td>\n",
       "      <td>1</td>\n",
       "      <td>0</td>\n",
       "    </tr>\n",
       "    <tr>\n",
       "      <th>44719</th>\n",
       "      <td>fffef3b6b73545df065b521e19f64bf6fe93bfd450ab20...</td>\n",
       "      <td>803757023</td>\n",
       "      <td>1</td>\n",
       "      <td>0</td>\n",
       "    </tr>\n",
       "  </tbody>\n",
       "</table>\n",
       "<p>44720 rows × 4 columns</p>\n",
       "</div>"
      ],
      "text/plain": [
       "                                             customer_id  article_id  in104  \\\n",
       "0      000493dd9fc463df1acc2081450c9e75ef8e87d5dd17ed...   399136061      1   \n",
       "1      000493dd9fc463df1acc2081450c9e75ef8e87d5dd17ed...   732842014      1   \n",
       "2      000493dd9fc463df1acc2081450c9e75ef8e87d5dd17ed...   556255001      1   \n",
       "3      000493dd9fc463df1acc2081450c9e75ef8e87d5dd17ed...   852219003      1   \n",
       "4      000493dd9fc463df1acc2081450c9e75ef8e87d5dd17ed...   732842021      1   \n",
       "...                                                  ...         ...    ...   \n",
       "44715  fffef3b6b73545df065b521e19f64bf6fe93bfd450ab20...   905365002      1   \n",
       "44716  fffef3b6b73545df065b521e19f64bf6fe93bfd450ab20...   863646005      1   \n",
       "44717  fffef3b6b73545df065b521e19f64bf6fe93bfd450ab20...   748269009      1   \n",
       "44718  fffef3b6b73545df065b521e19f64bf6fe93bfd450ab20...   881919001      1   \n",
       "44719  fffef3b6b73545df065b521e19f64bf6fe93bfd450ab20...   803757023      1   \n",
       "\n",
       "       inBaseline0  \n",
       "0                0  \n",
       "1                0  \n",
       "2                0  \n",
       "3                0  \n",
       "4                0  \n",
       "...            ...  \n",
       "44715            0  \n",
       "44716            0  \n",
       "44717            0  \n",
       "44718            0  \n",
       "44719            0  \n",
       "\n",
       "[44720 rows x 4 columns]"
      ]
     },
     "execution_count": 46,
     "metadata": {},
     "output_type": "execute_result"
    }
   ],
   "source": [
    "Baseline_0(S7,article_history,'104')"
   ]
  },
  {
   "cell_type": "code",
   "execution_count": 47,
   "id": "afd5b76b",
   "metadata": {
    "ExecuteTime": {
     "end_time": "2022-04-07T10:37:32.761127Z",
     "start_time": "2022-04-07T10:37:27.837276Z"
    }
   },
   "outputs": [
    {
     "name": "stdout",
     "output_type": "stream",
     "text": [
      "Statistiques concernant le segment:\n",
      "Taille du segment : 150520\n",
      "Nbre d'acheteurs : Precision    16028\n",
      "dtype: int64\n",
      "Nbre de ref_achetées : in104    13159\n",
      "dtype: int64\n",
      "Précision moyenne:Precision    4.658223\n",
      "dtype: float64\n"
     ]
    },
    {
     "data": {
      "text/html": [
       "<div>\n",
       "<style scoped>\n",
       "    .dataframe tbody tr th:only-of-type {\n",
       "        vertical-align: middle;\n",
       "    }\n",
       "\n",
       "    .dataframe tbody tr th {\n",
       "        vertical-align: top;\n",
       "    }\n",
       "\n",
       "    .dataframe thead th {\n",
       "        text-align: right;\n",
       "    }\n",
       "</style>\n",
       "<table border=\"1\" class=\"dataframe\">\n",
       "  <thead>\n",
       "    <tr style=\"text-align: right;\">\n",
       "      <th></th>\n",
       "      <th>customer_id</th>\n",
       "      <th>article_id</th>\n",
       "      <th>in104</th>\n",
       "      <th>inBaseline0</th>\n",
       "    </tr>\n",
       "  </thead>\n",
       "  <tbody>\n",
       "    <tr>\n",
       "      <th>0</th>\n",
       "      <td>0003e867a930d0d6842f923d6ba7c9b77aba33fe2a0fbf...</td>\n",
       "      <td>913367001</td>\n",
       "      <td>1</td>\n",
       "      <td>0</td>\n",
       "    </tr>\n",
       "    <tr>\n",
       "      <th>1</th>\n",
       "      <td>0003e867a930d0d6842f923d6ba7c9b77aba33fe2a0fbf...</td>\n",
       "      <td>904026001</td>\n",
       "      <td>1</td>\n",
       "      <td>0</td>\n",
       "    </tr>\n",
       "    <tr>\n",
       "      <th>2</th>\n",
       "      <td>0003e867a930d0d6842f923d6ba7c9b77aba33fe2a0fbf...</td>\n",
       "      <td>905914002</td>\n",
       "      <td>1</td>\n",
       "      <td>0</td>\n",
       "    </tr>\n",
       "    <tr>\n",
       "      <th>3</th>\n",
       "      <td>0003e867a930d0d6842f923d6ba7c9b77aba33fe2a0fbf...</td>\n",
       "      <td>889036004</td>\n",
       "      <td>1</td>\n",
       "      <td>0</td>\n",
       "    </tr>\n",
       "    <tr>\n",
       "      <th>4</th>\n",
       "      <td>000abc5e9575b453ff1cde1e5d644f1c671daef57e0f85...</td>\n",
       "      <td>752657001</td>\n",
       "      <td>1</td>\n",
       "      <td>0</td>\n",
       "    </tr>\n",
       "    <tr>\n",
       "      <th>...</th>\n",
       "      <td>...</td>\n",
       "      <td>...</td>\n",
       "      <td>...</td>\n",
       "      <td>...</td>\n",
       "    </tr>\n",
       "    <tr>\n",
       "      <th>74657</th>\n",
       "      <td>fffaa422f09d92decce1eb732ea9a37c87ab8f951887b4...</td>\n",
       "      <td>904260001</td>\n",
       "      <td>1</td>\n",
       "      <td>0</td>\n",
       "    </tr>\n",
       "    <tr>\n",
       "      <th>74658</th>\n",
       "      <td>fffaa422f09d92decce1eb732ea9a37c87ab8f951887b4...</td>\n",
       "      <td>839332002</td>\n",
       "      <td>1</td>\n",
       "      <td>0</td>\n",
       "    </tr>\n",
       "    <tr>\n",
       "      <th>74659</th>\n",
       "      <td>fffaa422f09d92decce1eb732ea9a37c87ab8f951887b4...</td>\n",
       "      <td>921226002</td>\n",
       "      <td>1</td>\n",
       "      <td>0</td>\n",
       "    </tr>\n",
       "    <tr>\n",
       "      <th>74660</th>\n",
       "      <td>fffaa422f09d92decce1eb732ea9a37c87ab8f951887b4...</td>\n",
       "      <td>751471039</td>\n",
       "      <td>1</td>\n",
       "      <td>0</td>\n",
       "    </tr>\n",
       "    <tr>\n",
       "      <th>74661</th>\n",
       "      <td>fffaa422f09d92decce1eb732ea9a37c87ab8f951887b4...</td>\n",
       "      <td>921226004</td>\n",
       "      <td>1</td>\n",
       "      <td>0</td>\n",
       "    </tr>\n",
       "  </tbody>\n",
       "</table>\n",
       "<p>74662 rows × 4 columns</p>\n",
       "</div>"
      ],
      "text/plain": [
       "                                             customer_id  article_id  in104  \\\n",
       "0      0003e867a930d0d6842f923d6ba7c9b77aba33fe2a0fbf...   913367001      1   \n",
       "1      0003e867a930d0d6842f923d6ba7c9b77aba33fe2a0fbf...   904026001      1   \n",
       "2      0003e867a930d0d6842f923d6ba7c9b77aba33fe2a0fbf...   905914002      1   \n",
       "3      0003e867a930d0d6842f923d6ba7c9b77aba33fe2a0fbf...   889036004      1   \n",
       "4      000abc5e9575b453ff1cde1e5d644f1c671daef57e0f85...   752657001      1   \n",
       "...                                                  ...         ...    ...   \n",
       "74657  fffaa422f09d92decce1eb732ea9a37c87ab8f951887b4...   904260001      1   \n",
       "74658  fffaa422f09d92decce1eb732ea9a37c87ab8f951887b4...   839332002      1   \n",
       "74659  fffaa422f09d92decce1eb732ea9a37c87ab8f951887b4...   921226002      1   \n",
       "74660  fffaa422f09d92decce1eb732ea9a37c87ab8f951887b4...   751471039      1   \n",
       "74661  fffaa422f09d92decce1eb732ea9a37c87ab8f951887b4...   921226004      1   \n",
       "\n",
       "       inBaseline0  \n",
       "0                0  \n",
       "1                0  \n",
       "2                0  \n",
       "3                0  \n",
       "4                0  \n",
       "...            ...  \n",
       "74657            0  \n",
       "74658            0  \n",
       "74659            0  \n",
       "74660            0  \n",
       "74661            0  \n",
       "\n",
       "[74662 rows x 4 columns]"
      ]
     },
     "execution_count": 47,
     "metadata": {},
     "output_type": "execute_result"
    }
   ],
   "source": [
    "Baseline_0(S8,article_history,'104')"
   ]
  },
  {
   "cell_type": "code",
   "execution_count": 48,
   "id": "26d4089a",
   "metadata": {
    "ExecuteTime": {
     "end_time": "2022-04-07T10:37:40.481686Z",
     "start_time": "2022-04-07T10:37:37.854515Z"
    }
   },
   "outputs": [
    {
     "name": "stdout",
     "output_type": "stream",
     "text": [
      "Statistiques concernant le segment:\n",
      "Taille du segment : 83548\n",
      "Nbre d'acheteurs : Precision    7571\n",
      "dtype: int64\n",
      "Nbre de ref_achetées : in104    10027\n",
      "dtype: int64\n",
      "Précision moyenne:Precision    4.549861\n",
      "dtype: float64\n"
     ]
    },
    {
     "data": {
      "text/html": [
       "<div>\n",
       "<style scoped>\n",
       "    .dataframe tbody tr th:only-of-type {\n",
       "        vertical-align: middle;\n",
       "    }\n",
       "\n",
       "    .dataframe tbody tr th {\n",
       "        vertical-align: top;\n",
       "    }\n",
       "\n",
       "    .dataframe thead th {\n",
       "        text-align: right;\n",
       "    }\n",
       "</style>\n",
       "<table border=\"1\" class=\"dataframe\">\n",
       "  <thead>\n",
       "    <tr style=\"text-align: right;\">\n",
       "      <th></th>\n",
       "      <th>customer_id</th>\n",
       "      <th>article_id</th>\n",
       "      <th>in104</th>\n",
       "      <th>inBaseline0</th>\n",
       "    </tr>\n",
       "  </thead>\n",
       "  <tbody>\n",
       "    <tr>\n",
       "      <th>0</th>\n",
       "      <td>0006d3ff0caf0cb4d4e0615ee5cb7d268622364d483335...</td>\n",
       "      <td>915529001</td>\n",
       "      <td>1</td>\n",
       "      <td>0</td>\n",
       "    </tr>\n",
       "    <tr>\n",
       "      <th>1</th>\n",
       "      <td>0006d3ff0caf0cb4d4e0615ee5cb7d268622364d483335...</td>\n",
       "      <td>930829001</td>\n",
       "      <td>1</td>\n",
       "      <td>0</td>\n",
       "    </tr>\n",
       "    <tr>\n",
       "      <th>2</th>\n",
       "      <td>0008804a45e7fbc8653ba8f5ce15880cb966ca220c52d2...</td>\n",
       "      <td>857271001</td>\n",
       "      <td>1</td>\n",
       "      <td>0</td>\n",
       "    </tr>\n",
       "    <tr>\n",
       "      <th>3</th>\n",
       "      <td>0008804a45e7fbc8653ba8f5ce15880cb966ca220c52d2...</td>\n",
       "      <td>857271001</td>\n",
       "      <td>1</td>\n",
       "      <td>0</td>\n",
       "    </tr>\n",
       "    <tr>\n",
       "      <th>4</th>\n",
       "      <td>000fab9caf56e8060680e5fd82d709ade7496318832201...</td>\n",
       "      <td>874937001</td>\n",
       "      <td>1</td>\n",
       "      <td>0</td>\n",
       "    </tr>\n",
       "    <tr>\n",
       "      <th>...</th>\n",
       "      <td>...</td>\n",
       "      <td>...</td>\n",
       "      <td>...</td>\n",
       "      <td>...</td>\n",
       "    </tr>\n",
       "    <tr>\n",
       "      <th>34442</th>\n",
       "      <td>ffef8aec5cf011fa1393b40337a5993ce0b7b81af6b322...</td>\n",
       "      <td>868320001</td>\n",
       "      <td>1</td>\n",
       "      <td>0</td>\n",
       "    </tr>\n",
       "    <tr>\n",
       "      <th>34443</th>\n",
       "      <td>ffef8aec5cf011fa1393b40337a5993ce0b7b81af6b322...</td>\n",
       "      <td>840909001</td>\n",
       "      <td>1</td>\n",
       "      <td>0</td>\n",
       "    </tr>\n",
       "    <tr>\n",
       "      <th>34444</th>\n",
       "      <td>fff69a9ce866cbde1b749376d30136edf14454a8a58cd0...</td>\n",
       "      <td>746300013</td>\n",
       "      <td>1</td>\n",
       "      <td>0</td>\n",
       "    </tr>\n",
       "    <tr>\n",
       "      <th>34445</th>\n",
       "      <td>fff69a9ce866cbde1b749376d30136edf14454a8a58cd0...</td>\n",
       "      <td>746300013</td>\n",
       "      <td>1</td>\n",
       "      <td>0</td>\n",
       "    </tr>\n",
       "    <tr>\n",
       "      <th>34446</th>\n",
       "      <td>fff69a9ce866cbde1b749376d30136edf14454a8a58cd0...</td>\n",
       "      <td>485689031</td>\n",
       "      <td>1</td>\n",
       "      <td>0</td>\n",
       "    </tr>\n",
       "  </tbody>\n",
       "</table>\n",
       "<p>34447 rows × 4 columns</p>\n",
       "</div>"
      ],
      "text/plain": [
       "                                             customer_id  article_id  in104  \\\n",
       "0      0006d3ff0caf0cb4d4e0615ee5cb7d268622364d483335...   915529001      1   \n",
       "1      0006d3ff0caf0cb4d4e0615ee5cb7d268622364d483335...   930829001      1   \n",
       "2      0008804a45e7fbc8653ba8f5ce15880cb966ca220c52d2...   857271001      1   \n",
       "3      0008804a45e7fbc8653ba8f5ce15880cb966ca220c52d2...   857271001      1   \n",
       "4      000fab9caf56e8060680e5fd82d709ade7496318832201...   874937001      1   \n",
       "...                                                  ...         ...    ...   \n",
       "34442  ffef8aec5cf011fa1393b40337a5993ce0b7b81af6b322...   868320001      1   \n",
       "34443  ffef8aec5cf011fa1393b40337a5993ce0b7b81af6b322...   840909001      1   \n",
       "34444  fff69a9ce866cbde1b749376d30136edf14454a8a58cd0...   746300013      1   \n",
       "34445  fff69a9ce866cbde1b749376d30136edf14454a8a58cd0...   746300013      1   \n",
       "34446  fff69a9ce866cbde1b749376d30136edf14454a8a58cd0...   485689031      1   \n",
       "\n",
       "       inBaseline0  \n",
       "0                0  \n",
       "1                0  \n",
       "2                0  \n",
       "3                0  \n",
       "4                0  \n",
       "...            ...  \n",
       "34442            0  \n",
       "34443            0  \n",
       "34444            0  \n",
       "34445            0  \n",
       "34446            0  \n",
       "\n",
       "[34447 rows x 4 columns]"
      ]
     },
     "execution_count": 48,
     "metadata": {},
     "output_type": "execute_result"
    }
   ],
   "source": [
    "Baseline_0(S9,article_history,'104')"
   ]
  },
  {
   "cell_type": "code",
   "execution_count": 49,
   "id": "0cf0f762",
   "metadata": {
    "ExecuteTime": {
     "end_time": "2022-04-07T10:37:45.666135Z",
     "start_time": "2022-04-07T10:37:43.447321Z"
    }
   },
   "outputs": [
    {
     "name": "stdout",
     "output_type": "stream",
     "text": [
      "Statistiques concernant le segment:\n",
      "Taille du segment : 85493\n",
      "Nbre d'acheteurs : Precision    7999\n",
      "dtype: int64\n",
      "Nbre de ref_achetées : in104    9307\n",
      "dtype: int64\n",
      "Précision moyenne:Precision    4.196525\n",
      "dtype: float64\n"
     ]
    },
    {
     "data": {
      "text/html": [
       "<div>\n",
       "<style scoped>\n",
       "    .dataframe tbody tr th:only-of-type {\n",
       "        vertical-align: middle;\n",
       "    }\n",
       "\n",
       "    .dataframe tbody tr th {\n",
       "        vertical-align: top;\n",
       "    }\n",
       "\n",
       "    .dataframe thead th {\n",
       "        text-align: right;\n",
       "    }\n",
       "</style>\n",
       "<table border=\"1\" class=\"dataframe\">\n",
       "  <thead>\n",
       "    <tr style=\"text-align: right;\">\n",
       "      <th></th>\n",
       "      <th>customer_id</th>\n",
       "      <th>article_id</th>\n",
       "      <th>in104</th>\n",
       "      <th>inBaseline0</th>\n",
       "    </tr>\n",
       "  </thead>\n",
       "  <tbody>\n",
       "    <tr>\n",
       "      <th>0</th>\n",
       "      <td>0001d44dbe7f6c4b35200abdb052c77a87596fe1bdcc37...</td>\n",
       "      <td>777148006</td>\n",
       "      <td>1</td>\n",
       "      <td>0</td>\n",
       "    </tr>\n",
       "    <tr>\n",
       "      <th>1</th>\n",
       "      <td>0001d44dbe7f6c4b35200abdb052c77a87596fe1bdcc37...</td>\n",
       "      <td>835801001</td>\n",
       "      <td>1</td>\n",
       "      <td>0</td>\n",
       "    </tr>\n",
       "    <tr>\n",
       "      <th>2</th>\n",
       "      <td>0001d44dbe7f6c4b35200abdb052c77a87596fe1bdcc37...</td>\n",
       "      <td>923134005</td>\n",
       "      <td>1</td>\n",
       "      <td>0</td>\n",
       "    </tr>\n",
       "    <tr>\n",
       "      <th>3</th>\n",
       "      <td>0001d44dbe7f6c4b35200abdb052c77a87596fe1bdcc37...</td>\n",
       "      <td>865929003</td>\n",
       "      <td>1</td>\n",
       "      <td>1</td>\n",
       "    </tr>\n",
       "    <tr>\n",
       "      <th>4</th>\n",
       "      <td>0001d44dbe7f6c4b35200abdb052c77a87596fe1bdcc37...</td>\n",
       "      <td>572998013</td>\n",
       "      <td>1</td>\n",
       "      <td>0</td>\n",
       "    </tr>\n",
       "    <tr>\n",
       "      <th>...</th>\n",
       "      <td>...</td>\n",
       "      <td>...</td>\n",
       "      <td>...</td>\n",
       "      <td>...</td>\n",
       "    </tr>\n",
       "    <tr>\n",
       "      <th>33563</th>\n",
       "      <td>ffda862bfb72ef3b39c874a6d647cbdbb830e2e6a0bcc5...</td>\n",
       "      <td>842054002</td>\n",
       "      <td>1</td>\n",
       "      <td>0</td>\n",
       "    </tr>\n",
       "    <tr>\n",
       "      <th>33564</th>\n",
       "      <td>fffcc686584b3388a3afe410e3555e3557f556382b2f60...</td>\n",
       "      <td>817067002</td>\n",
       "      <td>1</td>\n",
       "      <td>0</td>\n",
       "    </tr>\n",
       "    <tr>\n",
       "      <th>33565</th>\n",
       "      <td>fffcc686584b3388a3afe410e3555e3557f556382b2f60...</td>\n",
       "      <td>840604001</td>\n",
       "      <td>1</td>\n",
       "      <td>0</td>\n",
       "    </tr>\n",
       "    <tr>\n",
       "      <th>33566</th>\n",
       "      <td>fffcc686584b3388a3afe410e3555e3557f556382b2f60...</td>\n",
       "      <td>723469001</td>\n",
       "      <td>1</td>\n",
       "      <td>0</td>\n",
       "    </tr>\n",
       "    <tr>\n",
       "      <th>33567</th>\n",
       "      <td>fffcc686584b3388a3afe410e3555e3557f556382b2f60...</td>\n",
       "      <td>416961006</td>\n",
       "      <td>1</td>\n",
       "      <td>0</td>\n",
       "    </tr>\n",
       "  </tbody>\n",
       "</table>\n",
       "<p>33568 rows × 4 columns</p>\n",
       "</div>"
      ],
      "text/plain": [
       "                                             customer_id  article_id  in104  \\\n",
       "0      0001d44dbe7f6c4b35200abdb052c77a87596fe1bdcc37...   777148006      1   \n",
       "1      0001d44dbe7f6c4b35200abdb052c77a87596fe1bdcc37...   835801001      1   \n",
       "2      0001d44dbe7f6c4b35200abdb052c77a87596fe1bdcc37...   923134005      1   \n",
       "3      0001d44dbe7f6c4b35200abdb052c77a87596fe1bdcc37...   865929003      1   \n",
       "4      0001d44dbe7f6c4b35200abdb052c77a87596fe1bdcc37...   572998013      1   \n",
       "...                                                  ...         ...    ...   \n",
       "33563  ffda862bfb72ef3b39c874a6d647cbdbb830e2e6a0bcc5...   842054002      1   \n",
       "33564  fffcc686584b3388a3afe410e3555e3557f556382b2f60...   817067002      1   \n",
       "33565  fffcc686584b3388a3afe410e3555e3557f556382b2f60...   840604001      1   \n",
       "33566  fffcc686584b3388a3afe410e3555e3557f556382b2f60...   723469001      1   \n",
       "33567  fffcc686584b3388a3afe410e3555e3557f556382b2f60...   416961006      1   \n",
       "\n",
       "       inBaseline0  \n",
       "0                0  \n",
       "1                0  \n",
       "2                0  \n",
       "3                1  \n",
       "4                0  \n",
       "...            ...  \n",
       "33563            0  \n",
       "33564            0  \n",
       "33565            0  \n",
       "33566            0  \n",
       "33567            0  \n",
       "\n",
       "[33568 rows x 4 columns]"
      ]
     },
     "execution_count": 49,
     "metadata": {},
     "output_type": "execute_result"
    }
   ],
   "source": [
    "Baseline_0(S10,article_history,'104')"
   ]
  },
  {
   "cell_type": "code",
   "execution_count": 50,
   "id": "f8e76bfa",
   "metadata": {
    "ExecuteTime": {
     "end_time": "2022-04-07T10:37:48.660782Z",
     "start_time": "2022-04-07T10:37:48.284791Z"
    }
   },
   "outputs": [
    {
     "name": "stdout",
     "output_type": "stream",
     "text": [
      "Statistiques concernant le segment:\n",
      "Taille du segment : 118625\n",
      "Nbre d'acheteurs : Precision    12492\n",
      "dtype: int64\n",
      "Nbre de ref_achetées : in104    10481\n",
      "dtype: int64\n",
      "Précision moyenne:Precision    4.019613\n",
      "dtype: float64\n"
     ]
    },
    {
     "data": {
      "text/html": [
       "<div>\n",
       "<style scoped>\n",
       "    .dataframe tbody tr th:only-of-type {\n",
       "        vertical-align: middle;\n",
       "    }\n",
       "\n",
       "    .dataframe tbody tr th {\n",
       "        vertical-align: top;\n",
       "    }\n",
       "\n",
       "    .dataframe thead th {\n",
       "        text-align: right;\n",
       "    }\n",
       "</style>\n",
       "<table border=\"1\" class=\"dataframe\">\n",
       "  <thead>\n",
       "    <tr style=\"text-align: right;\">\n",
       "      <th></th>\n",
       "      <th>customer_id</th>\n",
       "      <th>article_id</th>\n",
       "      <th>in104</th>\n",
       "      <th>inBaseline0</th>\n",
       "    </tr>\n",
       "  </thead>\n",
       "  <tbody>\n",
       "    <tr>\n",
       "      <th>0</th>\n",
       "      <td>00000dbacae5abe5e23885899a1fa44253a17956c6d1c3...</td>\n",
       "      <td>568601043</td>\n",
       "      <td>1</td>\n",
       "      <td>0</td>\n",
       "    </tr>\n",
       "    <tr>\n",
       "      <th>1</th>\n",
       "      <td>000172a9c322560c849754ffbdfdb2180d408aa7176b94...</td>\n",
       "      <td>685814001</td>\n",
       "      <td>1</td>\n",
       "      <td>0</td>\n",
       "    </tr>\n",
       "    <tr>\n",
       "      <th>2</th>\n",
       "      <td>000172a9c322560c849754ffbdfdb2180d408aa7176b94...</td>\n",
       "      <td>685814001</td>\n",
       "      <td>1</td>\n",
       "      <td>0</td>\n",
       "    </tr>\n",
       "    <tr>\n",
       "      <th>3</th>\n",
       "      <td>000172a9c322560c849754ffbdfdb2180d408aa7176b94...</td>\n",
       "      <td>685814001</td>\n",
       "      <td>1</td>\n",
       "      <td>0</td>\n",
       "    </tr>\n",
       "    <tr>\n",
       "      <th>4</th>\n",
       "      <td>0006bb0fad5c49341bd9cece264271e68e01a4e55f22ec...</td>\n",
       "      <td>708138021</td>\n",
       "      <td>1</td>\n",
       "      <td>0</td>\n",
       "    </tr>\n",
       "    <tr>\n",
       "      <th>...</th>\n",
       "      <td>...</td>\n",
       "      <td>...</td>\n",
       "      <td>...</td>\n",
       "      <td>...</td>\n",
       "    </tr>\n",
       "    <tr>\n",
       "      <th>50208</th>\n",
       "      <td>fff887d056fff68679d6e2491588ee4e83e57bf077ca7a...</td>\n",
       "      <td>903049004</td>\n",
       "      <td>1</td>\n",
       "      <td>0</td>\n",
       "    </tr>\n",
       "    <tr>\n",
       "      <th>50209</th>\n",
       "      <td>fff887d056fff68679d6e2491588ee4e83e57bf077ca7a...</td>\n",
       "      <td>896064004</td>\n",
       "      <td>1</td>\n",
       "      <td>0</td>\n",
       "    </tr>\n",
       "    <tr>\n",
       "      <th>50210</th>\n",
       "      <td>fffb287f12aea1204e9eabd5e02eaf7f3ed5f9abecd9a4...</td>\n",
       "      <td>821395005</td>\n",
       "      <td>1</td>\n",
       "      <td>0</td>\n",
       "    </tr>\n",
       "    <tr>\n",
       "      <th>50211</th>\n",
       "      <td>fffd870c6324ad3bda24e4d6aeae221c199479086bfdfd...</td>\n",
       "      <td>750423010</td>\n",
       "      <td>1</td>\n",
       "      <td>0</td>\n",
       "    </tr>\n",
       "    <tr>\n",
       "      <th>50212</th>\n",
       "      <td>fffd870c6324ad3bda24e4d6aeae221c199479086bfdfd...</td>\n",
       "      <td>761269001</td>\n",
       "      <td>1</td>\n",
       "      <td>0</td>\n",
       "    </tr>\n",
       "  </tbody>\n",
       "</table>\n",
       "<p>50213 rows × 4 columns</p>\n",
       "</div>"
      ],
      "text/plain": [
       "                                             customer_id  article_id  in104  \\\n",
       "0      00000dbacae5abe5e23885899a1fa44253a17956c6d1c3...   568601043      1   \n",
       "1      000172a9c322560c849754ffbdfdb2180d408aa7176b94...   685814001      1   \n",
       "2      000172a9c322560c849754ffbdfdb2180d408aa7176b94...   685814001      1   \n",
       "3      000172a9c322560c849754ffbdfdb2180d408aa7176b94...   685814001      1   \n",
       "4      0006bb0fad5c49341bd9cece264271e68e01a4e55f22ec...   708138021      1   \n",
       "...                                                  ...         ...    ...   \n",
       "50208  fff887d056fff68679d6e2491588ee4e83e57bf077ca7a...   903049004      1   \n",
       "50209  fff887d056fff68679d6e2491588ee4e83e57bf077ca7a...   896064004      1   \n",
       "50210  fffb287f12aea1204e9eabd5e02eaf7f3ed5f9abecd9a4...   821395005      1   \n",
       "50211  fffd870c6324ad3bda24e4d6aeae221c199479086bfdfd...   750423010      1   \n",
       "50212  fffd870c6324ad3bda24e4d6aeae221c199479086bfdfd...   761269001      1   \n",
       "\n",
       "       inBaseline0  \n",
       "0                0  \n",
       "1                0  \n",
       "2                0  \n",
       "3                0  \n",
       "4                0  \n",
       "...            ...  \n",
       "50208            0  \n",
       "50209            0  \n",
       "50210            0  \n",
       "50211            0  \n",
       "50212            0  \n",
       "\n",
       "[50213 rows x 4 columns]"
      ]
     },
     "execution_count": 50,
     "metadata": {},
     "output_type": "execute_result"
    }
   ],
   "source": [
    "Baseline_0(S11,article_history,'104')"
   ]
  },
  {
   "cell_type": "code",
   "execution_count": 51,
   "id": "44be10e6",
   "metadata": {
    "ExecuteTime": {
     "end_time": "2022-04-07T10:37:52.826155Z",
     "start_time": "2022-04-07T10:37:52.439151Z"
    }
   },
   "outputs": [
    {
     "name": "stdout",
     "output_type": "stream",
     "text": [
      "Statistiques concernant le segment:\n",
      "Taille du segment : 135326\n",
      "Nbre d'acheteurs : Precision    14442\n",
      "dtype: int64\n",
      "Nbre de ref_achetées : in104    10310\n",
      "dtype: int64\n",
      "Précision moyenne:Precision    3.764853\n",
      "dtype: float64\n"
     ]
    },
    {
     "data": {
      "text/html": [
       "<div>\n",
       "<style scoped>\n",
       "    .dataframe tbody tr th:only-of-type {\n",
       "        vertical-align: middle;\n",
       "    }\n",
       "\n",
       "    .dataframe tbody tr th {\n",
       "        vertical-align: top;\n",
       "    }\n",
       "\n",
       "    .dataframe thead th {\n",
       "        text-align: right;\n",
       "    }\n",
       "</style>\n",
       "<table border=\"1\" class=\"dataframe\">\n",
       "  <thead>\n",
       "    <tr style=\"text-align: right;\">\n",
       "      <th></th>\n",
       "      <th>customer_id</th>\n",
       "      <th>article_id</th>\n",
       "      <th>in104</th>\n",
       "      <th>inBaseline0</th>\n",
       "    </tr>\n",
       "  </thead>\n",
       "  <tbody>\n",
       "    <tr>\n",
       "      <th>0</th>\n",
       "      <td>00040239317e877c77ac6e79df42eb2633ad38fcac09fc...</td>\n",
       "      <td>875272011</td>\n",
       "      <td>1</td>\n",
       "      <td>0</td>\n",
       "    </tr>\n",
       "    <tr>\n",
       "      <th>1</th>\n",
       "      <td>00040239317e877c77ac6e79df42eb2633ad38fcac09fc...</td>\n",
       "      <td>875272012</td>\n",
       "      <td>1</td>\n",
       "      <td>0</td>\n",
       "    </tr>\n",
       "    <tr>\n",
       "      <th>2</th>\n",
       "      <td>0008968c0d451dbc5a9968da03196fe20051965edde741...</td>\n",
       "      <td>893059004</td>\n",
       "      <td>1</td>\n",
       "      <td>0</td>\n",
       "    </tr>\n",
       "    <tr>\n",
       "      <th>3</th>\n",
       "      <td>0008f66f5804877333ab9942c880b4a222f5b1a9f6ce27...</td>\n",
       "      <td>574109042</td>\n",
       "      <td>1</td>\n",
       "      <td>0</td>\n",
       "    </tr>\n",
       "    <tr>\n",
       "      <th>4</th>\n",
       "      <td>0008f66f5804877333ab9942c880b4a222f5b1a9f6ce27...</td>\n",
       "      <td>797079002</td>\n",
       "      <td>1</td>\n",
       "      <td>0</td>\n",
       "    </tr>\n",
       "    <tr>\n",
       "      <th>...</th>\n",
       "      <td>...</td>\n",
       "      <td>...</td>\n",
       "      <td>...</td>\n",
       "      <td>...</td>\n",
       "    </tr>\n",
       "    <tr>\n",
       "      <th>54367</th>\n",
       "      <td>fffa7d7799eb390a76308454cbdd76e473d65b1497fbe4...</td>\n",
       "      <td>861803014</td>\n",
       "      <td>1</td>\n",
       "      <td>0</td>\n",
       "    </tr>\n",
       "    <tr>\n",
       "      <th>54368</th>\n",
       "      <td>fffa7d7799eb390a76308454cbdd76e473d65b1497fbe4...</td>\n",
       "      <td>849886010</td>\n",
       "      <td>1</td>\n",
       "      <td>0</td>\n",
       "    </tr>\n",
       "    <tr>\n",
       "      <th>54369</th>\n",
       "      <td>fffb6dda3fec0b5c58aae22a19c039e0087da6625b54aa...</td>\n",
       "      <td>513512004</td>\n",
       "      <td>1</td>\n",
       "      <td>0</td>\n",
       "    </tr>\n",
       "    <tr>\n",
       "      <th>54370</th>\n",
       "      <td>fffbe76d05cba1b9bdf14bf67e58e7b73d4c2e3418f13c...</td>\n",
       "      <td>800691007</td>\n",
       "      <td>1</td>\n",
       "      <td>0</td>\n",
       "    </tr>\n",
       "    <tr>\n",
       "      <th>54371</th>\n",
       "      <td>fffbe76d05cba1b9bdf14bf67e58e7b73d4c2e3418f13c...</td>\n",
       "      <td>715624052</td>\n",
       "      <td>1</td>\n",
       "      <td>0</td>\n",
       "    </tr>\n",
       "  </tbody>\n",
       "</table>\n",
       "<p>54372 rows × 4 columns</p>\n",
       "</div>"
      ],
      "text/plain": [
       "                                             customer_id  article_id  in104  \\\n",
       "0      00040239317e877c77ac6e79df42eb2633ad38fcac09fc...   875272011      1   \n",
       "1      00040239317e877c77ac6e79df42eb2633ad38fcac09fc...   875272012      1   \n",
       "2      0008968c0d451dbc5a9968da03196fe20051965edde741...   893059004      1   \n",
       "3      0008f66f5804877333ab9942c880b4a222f5b1a9f6ce27...   574109042      1   \n",
       "4      0008f66f5804877333ab9942c880b4a222f5b1a9f6ce27...   797079002      1   \n",
       "...                                                  ...         ...    ...   \n",
       "54367  fffa7d7799eb390a76308454cbdd76e473d65b1497fbe4...   861803014      1   \n",
       "54368  fffa7d7799eb390a76308454cbdd76e473d65b1497fbe4...   849886010      1   \n",
       "54369  fffb6dda3fec0b5c58aae22a19c039e0087da6625b54aa...   513512004      1   \n",
       "54370  fffbe76d05cba1b9bdf14bf67e58e7b73d4c2e3418f13c...   800691007      1   \n",
       "54371  fffbe76d05cba1b9bdf14bf67e58e7b73d4c2e3418f13c...   715624052      1   \n",
       "\n",
       "       inBaseline0  \n",
       "0                0  \n",
       "1                0  \n",
       "2                0  \n",
       "3                0  \n",
       "4                0  \n",
       "...            ...  \n",
       "54367            0  \n",
       "54368            0  \n",
       "54369            0  \n",
       "54370            0  \n",
       "54371            0  \n",
       "\n",
       "[54372 rows x 4 columns]"
      ]
     },
     "execution_count": 51,
     "metadata": {},
     "output_type": "execute_result"
    }
   ],
   "source": [
    "Baseline_0(S12,article_history,'104')"
   ]
  },
  {
   "cell_type": "code",
   "execution_count": 52,
   "id": "da9f64cd",
   "metadata": {
    "ExecuteTime": {
     "end_time": "2022-04-07T10:37:55.200099Z",
     "start_time": "2022-04-07T10:37:54.895125Z"
    }
   },
   "outputs": [
    {
     "name": "stdout",
     "output_type": "stream",
     "text": [
      "Statistiques concernant le segment:\n",
      "Taille du segment : 90916\n",
      "Nbre d'acheteurs : Precision    9349\n",
      "dtype: int64\n",
      "Nbre de ref_achetées : in104    8395\n",
      "dtype: int64\n",
      "Précision moyenne:Precision    3.614397\n",
      "dtype: float64\n"
     ]
    },
    {
     "data": {
      "text/html": [
       "<div>\n",
       "<style scoped>\n",
       "    .dataframe tbody tr th:only-of-type {\n",
       "        vertical-align: middle;\n",
       "    }\n",
       "\n",
       "    .dataframe tbody tr th {\n",
       "        vertical-align: top;\n",
       "    }\n",
       "\n",
       "    .dataframe thead th {\n",
       "        text-align: right;\n",
       "    }\n",
       "</style>\n",
       "<table border=\"1\" class=\"dataframe\">\n",
       "  <thead>\n",
       "    <tr style=\"text-align: right;\">\n",
       "      <th></th>\n",
       "      <th>customer_id</th>\n",
       "      <th>article_id</th>\n",
       "      <th>in104</th>\n",
       "      <th>inBaseline0</th>\n",
       "    </tr>\n",
       "  </thead>\n",
       "  <tbody>\n",
       "    <tr>\n",
       "      <th>0</th>\n",
       "      <td>0002cca4cc68601e894ab62839428e5f0696417fe0f9e8...</td>\n",
       "      <td>910601002</td>\n",
       "      <td>1</td>\n",
       "      <td>1</td>\n",
       "    </tr>\n",
       "    <tr>\n",
       "      <th>1</th>\n",
       "      <td>000b31552d3785c79833262bbeefa484cbc43d7b612b3c...</td>\n",
       "      <td>820613001</td>\n",
       "      <td>1</td>\n",
       "      <td>0</td>\n",
       "    </tr>\n",
       "    <tr>\n",
       "      <th>2</th>\n",
       "      <td>000b31552d3785c79833262bbeefa484cbc43d7b612b3c...</td>\n",
       "      <td>902224002</td>\n",
       "      <td>1</td>\n",
       "      <td>0</td>\n",
       "    </tr>\n",
       "    <tr>\n",
       "      <th>3</th>\n",
       "      <td>000b31552d3785c79833262bbeefa484cbc43d7b612b3c...</td>\n",
       "      <td>862693002</td>\n",
       "      <td>1</td>\n",
       "      <td>0</td>\n",
       "    </tr>\n",
       "    <tr>\n",
       "      <th>4</th>\n",
       "      <td>0015f16aa2702e2ec13d2e38052f496b9b915d3c64e82c...</td>\n",
       "      <td>865929007</td>\n",
       "      <td>1</td>\n",
       "      <td>0</td>\n",
       "    </tr>\n",
       "    <tr>\n",
       "      <th>...</th>\n",
       "      <td>...</td>\n",
       "      <td>...</td>\n",
       "      <td>...</td>\n",
       "      <td>...</td>\n",
       "    </tr>\n",
       "    <tr>\n",
       "      <th>33786</th>\n",
       "      <td>fff40baeae2bc423a2a90774386468a8afa147b6edce65...</td>\n",
       "      <td>767577058</td>\n",
       "      <td>1</td>\n",
       "      <td>0</td>\n",
       "    </tr>\n",
       "    <tr>\n",
       "      <th>33787</th>\n",
       "      <td>fff40baeae2bc423a2a90774386468a8afa147b6edce65...</td>\n",
       "      <td>891899004</td>\n",
       "      <td>1</td>\n",
       "      <td>0</td>\n",
       "    </tr>\n",
       "    <tr>\n",
       "      <th>33788</th>\n",
       "      <td>fff71b3986a9bc72e5f388d0e0c2390c96bb78023856d5...</td>\n",
       "      <td>896152002</td>\n",
       "      <td>1</td>\n",
       "      <td>1</td>\n",
       "    </tr>\n",
       "    <tr>\n",
       "      <th>33789</th>\n",
       "      <td>fff71b3986a9bc72e5f388d0e0c2390c96bb78023856d5...</td>\n",
       "      <td>574109039</td>\n",
       "      <td>1</td>\n",
       "      <td>0</td>\n",
       "    </tr>\n",
       "    <tr>\n",
       "      <th>33790</th>\n",
       "      <td>fff71b3986a9bc72e5f388d0e0c2390c96bb78023856d5...</td>\n",
       "      <td>874819001</td>\n",
       "      <td>1</td>\n",
       "      <td>0</td>\n",
       "    </tr>\n",
       "  </tbody>\n",
       "</table>\n",
       "<p>33791 rows × 4 columns</p>\n",
       "</div>"
      ],
      "text/plain": [
       "                                             customer_id  article_id  in104  \\\n",
       "0      0002cca4cc68601e894ab62839428e5f0696417fe0f9e8...   910601002      1   \n",
       "1      000b31552d3785c79833262bbeefa484cbc43d7b612b3c...   820613001      1   \n",
       "2      000b31552d3785c79833262bbeefa484cbc43d7b612b3c...   902224002      1   \n",
       "3      000b31552d3785c79833262bbeefa484cbc43d7b612b3c...   862693002      1   \n",
       "4      0015f16aa2702e2ec13d2e38052f496b9b915d3c64e82c...   865929007      1   \n",
       "...                                                  ...         ...    ...   \n",
       "33786  fff40baeae2bc423a2a90774386468a8afa147b6edce65...   767577058      1   \n",
       "33787  fff40baeae2bc423a2a90774386468a8afa147b6edce65...   891899004      1   \n",
       "33788  fff71b3986a9bc72e5f388d0e0c2390c96bb78023856d5...   896152002      1   \n",
       "33789  fff71b3986a9bc72e5f388d0e0c2390c96bb78023856d5...   574109039      1   \n",
       "33790  fff71b3986a9bc72e5f388d0e0c2390c96bb78023856d5...   874819001      1   \n",
       "\n",
       "       inBaseline0  \n",
       "0                1  \n",
       "1                0  \n",
       "2                0  \n",
       "3                0  \n",
       "4                0  \n",
       "...            ...  \n",
       "33786            0  \n",
       "33787            0  \n",
       "33788            1  \n",
       "33789            0  \n",
       "33790            0  \n",
       "\n",
       "[33791 rows x 4 columns]"
      ]
     },
     "execution_count": 52,
     "metadata": {},
     "output_type": "execute_result"
    }
   ],
   "source": [
    "Baseline_0(S13,article_history,'104')"
   ]
  },
  {
   "cell_type": "code",
   "execution_count": 53,
   "id": "c507cde9",
   "metadata": {
    "ExecuteTime": {
     "end_time": "2022-04-07T10:38:00.036520Z",
     "start_time": "2022-04-07T10:37:59.691559Z"
    }
   },
   "outputs": [
    {
     "name": "stdout",
     "output_type": "stream",
     "text": [
      "Statistiques concernant le segment:\n",
      "Taille du segment : 91750\n",
      "Nbre d'acheteurs : Precision    8667\n",
      "dtype: int64\n",
      "Nbre de ref_achetées : in104    7294\n",
      "dtype: int64\n",
      "Précision moyenne:Precision    3.158879\n",
      "dtype: float64\n"
     ]
    },
    {
     "data": {
      "text/html": [
       "<div>\n",
       "<style scoped>\n",
       "    .dataframe tbody tr th:only-of-type {\n",
       "        vertical-align: middle;\n",
       "    }\n",
       "\n",
       "    .dataframe tbody tr th {\n",
       "        vertical-align: top;\n",
       "    }\n",
       "\n",
       "    .dataframe thead th {\n",
       "        text-align: right;\n",
       "    }\n",
       "</style>\n",
       "<table border=\"1\" class=\"dataframe\">\n",
       "  <thead>\n",
       "    <tr style=\"text-align: right;\">\n",
       "      <th></th>\n",
       "      <th>customer_id</th>\n",
       "      <th>article_id</th>\n",
       "      <th>in104</th>\n",
       "      <th>inBaseline0</th>\n",
       "    </tr>\n",
       "  </thead>\n",
       "  <tbody>\n",
       "    <tr>\n",
       "      <th>0</th>\n",
       "      <td>0005ed68483efa39644c45185550a82dd09acb07622acb...</td>\n",
       "      <td>863646004</td>\n",
       "      <td>1</td>\n",
       "      <td>0</td>\n",
       "    </tr>\n",
       "    <tr>\n",
       "      <th>1</th>\n",
       "      <td>0028cc9bb420077c0ad6739d17f80ca2ade0c3eebad796...</td>\n",
       "      <td>926500001</td>\n",
       "      <td>1</td>\n",
       "      <td>0</td>\n",
       "    </tr>\n",
       "    <tr>\n",
       "      <th>2</th>\n",
       "      <td>0028cc9bb420077c0ad6739d17f80ca2ade0c3eebad796...</td>\n",
       "      <td>893059005</td>\n",
       "      <td>1</td>\n",
       "      <td>0</td>\n",
       "    </tr>\n",
       "    <tr>\n",
       "      <th>3</th>\n",
       "      <td>002e0b61a6fbc3425d76f3f222750f60165d44e2572267...</td>\n",
       "      <td>801673002</td>\n",
       "      <td>1</td>\n",
       "      <td>0</td>\n",
       "    </tr>\n",
       "    <tr>\n",
       "      <th>4</th>\n",
       "      <td>002e0b61a6fbc3425d76f3f222750f60165d44e2572267...</td>\n",
       "      <td>801673002</td>\n",
       "      <td>1</td>\n",
       "      <td>0</td>\n",
       "    </tr>\n",
       "    <tr>\n",
       "      <th>...</th>\n",
       "      <td>...</td>\n",
       "      <td>...</td>\n",
       "      <td>...</td>\n",
       "      <td>...</td>\n",
       "    </tr>\n",
       "    <tr>\n",
       "      <th>27373</th>\n",
       "      <td>fff98edc27fc5d64c3027bf0e3702510143d1a79c3dc9a...</td>\n",
       "      <td>913688001</td>\n",
       "      <td>1</td>\n",
       "      <td>0</td>\n",
       "    </tr>\n",
       "    <tr>\n",
       "      <th>27374</th>\n",
       "      <td>fff98edc27fc5d64c3027bf0e3702510143d1a79c3dc9a...</td>\n",
       "      <td>874465001</td>\n",
       "      <td>1</td>\n",
       "      <td>0</td>\n",
       "    </tr>\n",
       "    <tr>\n",
       "      <th>27375</th>\n",
       "      <td>fff98edc27fc5d64c3027bf0e3702510143d1a79c3dc9a...</td>\n",
       "      <td>898918007</td>\n",
       "      <td>1</td>\n",
       "      <td>0</td>\n",
       "    </tr>\n",
       "    <tr>\n",
       "      <th>27376</th>\n",
       "      <td>fff98edc27fc5d64c3027bf0e3702510143d1a79c3dc9a...</td>\n",
       "      <td>929980001</td>\n",
       "      <td>1</td>\n",
       "      <td>0</td>\n",
       "    </tr>\n",
       "    <tr>\n",
       "      <th>27377</th>\n",
       "      <td>fff98edc27fc5d64c3027bf0e3702510143d1a79c3dc9a...</td>\n",
       "      <td>898918001</td>\n",
       "      <td>1</td>\n",
       "      <td>0</td>\n",
       "    </tr>\n",
       "  </tbody>\n",
       "</table>\n",
       "<p>27378 rows × 4 columns</p>\n",
       "</div>"
      ],
      "text/plain": [
       "                                             customer_id  article_id  in104  \\\n",
       "0      0005ed68483efa39644c45185550a82dd09acb07622acb...   863646004      1   \n",
       "1      0028cc9bb420077c0ad6739d17f80ca2ade0c3eebad796...   926500001      1   \n",
       "2      0028cc9bb420077c0ad6739d17f80ca2ade0c3eebad796...   893059005      1   \n",
       "3      002e0b61a6fbc3425d76f3f222750f60165d44e2572267...   801673002      1   \n",
       "4      002e0b61a6fbc3425d76f3f222750f60165d44e2572267...   801673002      1   \n",
       "...                                                  ...         ...    ...   \n",
       "27373  fff98edc27fc5d64c3027bf0e3702510143d1a79c3dc9a...   913688001      1   \n",
       "27374  fff98edc27fc5d64c3027bf0e3702510143d1a79c3dc9a...   874465001      1   \n",
       "27375  fff98edc27fc5d64c3027bf0e3702510143d1a79c3dc9a...   898918007      1   \n",
       "27376  fff98edc27fc5d64c3027bf0e3702510143d1a79c3dc9a...   929980001      1   \n",
       "27377  fff98edc27fc5d64c3027bf0e3702510143d1a79c3dc9a...   898918001      1   \n",
       "\n",
       "       inBaseline0  \n",
       "0                0  \n",
       "1                0  \n",
       "2                0  \n",
       "3                0  \n",
       "4                0  \n",
       "...            ...  \n",
       "27373            0  \n",
       "27374            0  \n",
       "27375            0  \n",
       "27376            0  \n",
       "27377            0  \n",
       "\n",
       "[27378 rows x 4 columns]"
      ]
     },
     "execution_count": 53,
     "metadata": {},
     "output_type": "execute_result"
    }
   ],
   "source": [
    "Baseline_0(S14,article_history,'104')"
   ]
  },
  {
   "cell_type": "code",
   "execution_count": 64,
   "id": "2837377f",
   "metadata": {
    "ExecuteTime": {
     "end_time": "2022-04-07T14:56:44.332009Z",
     "start_time": "2022-04-07T14:56:44.322560Z"
    }
   },
   "outputs": [],
   "source": [
    "### Modifications de la baseline0 avec les bonnes semaines en params\n",
    "\n",
    "def Baseline_0 (segment,transact_history,X_week,y_week): # exemple: week104name ='in104' dans l'historique des transactions\n",
    "    \n",
    "    X_week_dummy=\"in\" + f'{X_week}'\n",
    "    y_week_dummy=\"in\" + f'{y_week}'\n",
    "    \n",
    "    filtre_Xweek=transact_history[X_week_dummy]==1\n",
    "    filtre_yweek=transact_history[y_week_dummy]==1\n",
    "        \n",
    "    X_achats=segment[['customer_id']].merge(transact_history[filtre_Xweek][['customer_id','article_id',X_week_dummy]])\n",
    "    y_achats=segment[['customer_id']].merge(transact_history[filtre_yweek][['customer_id','article_id',y_week_dummy]]) \n",
    "    \n",
    "    # calcul des plus populaires sur la dernière semaine des X\n",
    "    articles= X_achats.groupby(['article_id']).sum()\n",
    "    Top12_arr=articles.sort_values(by=X_week_dummy, ascending=False).head(12)\n",
    "    Top12=\"\"\n",
    "    for i in range (0, 12):\n",
    "        if i==0 :\n",
    "            Top12=str(Top12_arr.index[i])\n",
    "        else: \n",
    "            Top12=Top12 + \" \"+ str(Top12_arr.index[i])\n",
    "            \n",
    "    #je donne à tous mes customers de mon segment le baseline top12 calculée ci-dessus\n",
    "    segment['Baseline0']=Top12\n",
    "    \n",
    "    #je retourne sur leurs achats et je vérifie si l'articleID acheté en semaine Y est dans la TOP12 de la semaine X (1 si oui, O sinon)\n",
    "    y_achats['inBaseline0']=y_achats['article_id'].apply(lambda x: 1 if str(x) in Top12 else 0)\n",
    "    Baseline0_precision=y_achats.groupby(['customer_id']).count().drop(columns= ['article_id', y_week_dummy]).rename(columns={'inBaseline0':'Precision'})\n",
    "   \n",
    "    print(\"Statistiques concernant le segment:\")\n",
    "    print(\"Taille du segment : \" + f'{len(segment)}')\n",
    "    print(\"Nbre d'acheteurs : \" + f'{Baseline0_precision.count()}')\n",
    "    print(\"Nbre de ref_achetées : \" + f'{articles.count()}')\n",
    "    print(\"Précision moyenne:\" + f'{Baseline0_precision.mean()}')\n",
    "    \n",
    "    segment_BS=segment.merge(Baseline0_precision, how = 'left', on='customer_id') \n",
    "    #return segment_BS\n",
    "    return \"fin de traitement\""
   ]
  },
  {
   "cell_type": "code",
   "execution_count": 65,
   "id": "6b1754e3",
   "metadata": {
    "ExecuteTime": {
     "end_time": "2022-04-07T14:56:46.222072Z",
     "start_time": "2022-04-07T14:56:45.921447Z"
    }
   },
   "outputs": [
    {
     "name": "stdout",
     "output_type": "stream",
     "text": [
      "Statistiques concernant le segment:\n",
      "Taille du segment : 9553\n",
      "Nbre d'acheteurs : Precision    1213\n",
      "dtype: int64\n",
      "Nbre de ref_achetées : in103    597\n",
      "dtype: int64\n",
      "Précision moyenne:Precision    2.656224\n",
      "dtype: float64\n"
     ]
    },
    {
     "data": {
      "text/plain": [
       "'fin de traitement'"
      ]
     },
     "execution_count": 65,
     "metadata": {},
     "output_type": "execute_result"
    }
   ],
   "source": [
    "Baseline_0(S1,article_history,103,104)"
   ]
  },
  {
   "cell_type": "code",
   "execution_count": 66,
   "id": "f3f1b840",
   "metadata": {
    "ExecuteTime": {
     "end_time": "2022-04-07T14:57:45.263228Z",
     "start_time": "2022-04-07T14:57:43.106204Z"
    }
   },
   "outputs": [
    {
     "name": "stdout",
     "output_type": "stream",
     "text": [
      "Statistiques concernant le segment:\n",
      "Taille du segment : 62030\n",
      "Nbre d'acheteurs : Precision    6069\n",
      "dtype: int64\n",
      "Nbre de ref_achetées : in103    2309\n",
      "dtype: int64\n",
      "Précision moyenne:Precision    2.788103\n",
      "dtype: float64\n"
     ]
    },
    {
     "data": {
      "text/plain": [
       "'fin de traitement'"
      ]
     },
     "execution_count": 66,
     "metadata": {},
     "output_type": "execute_result"
    }
   ],
   "source": [
    "Baseline_0(S2,article_history,103,104)"
   ]
  },
  {
   "cell_type": "code",
   "execution_count": 67,
   "id": "ed3bf5d7",
   "metadata": {
    "ExecuteTime": {
     "end_time": "2022-04-07T14:57:56.348975Z",
     "start_time": "2022-04-07T14:57:55.589213Z"
    }
   },
   "outputs": [
    {
     "name": "stdout",
     "output_type": "stream",
     "text": [
      "Statistiques concernant le segment:\n",
      "Taille du segment : 122726\n",
      "Nbre d'acheteurs : Precision    13203\n",
      "dtype: int64\n",
      "Nbre de ref_achetées : in103    4052\n",
      "dtype: int64\n",
      "Précision moyenne:Precision    3.102401\n",
      "dtype: float64\n"
     ]
    },
    {
     "data": {
      "text/plain": [
       "'fin de traitement'"
      ]
     },
     "execution_count": 67,
     "metadata": {},
     "output_type": "execute_result"
    }
   ],
   "source": [
    "Baseline_0(S3,article_history,103,104)"
   ]
  },
  {
   "cell_type": "code",
   "execution_count": 68,
   "id": "2e1f461c",
   "metadata": {
    "ExecuteTime": {
     "end_time": "2022-04-07T14:58:12.436470Z",
     "start_time": "2022-04-07T14:58:06.680272Z"
    }
   },
   "outputs": [
    {
     "name": "stdout",
     "output_type": "stream",
     "text": [
      "Statistiques concernant le segment:\n",
      "Taille du segment : 106736\n",
      "Nbre d'acheteurs : Precision    13091\n",
      "dtype: int64\n",
      "Nbre de ref_achetées : in103    4660\n",
      "dtype: int64\n",
      "Précision moyenne:Precision    3.688794\n",
      "dtype: float64\n"
     ]
    },
    {
     "data": {
      "text/plain": [
       "'fin de traitement'"
      ]
     },
     "execution_count": 68,
     "metadata": {},
     "output_type": "execute_result"
    }
   ],
   "source": [
    "Baseline_0(S4,article_history,103,104)"
   ]
  },
  {
   "cell_type": "code",
   "execution_count": 69,
   "id": "9f4bcfd7",
   "metadata": {
    "ExecuteTime": {
     "end_time": "2022-04-07T14:58:34.565149Z",
     "start_time": "2022-04-07T14:58:28.622349Z"
    }
   },
   "outputs": [
    {
     "name": "stdout",
     "output_type": "stream",
     "text": [
      "Statistiques concernant le segment:\n",
      "Taille du segment : 111113\n",
      "Nbre d'acheteurs : Precision    14092\n",
      "dtype: int64\n",
      "Nbre de ref_achetées : in103    5216\n",
      "dtype: int64\n",
      "Précision moyenne:Precision    4.037184\n",
      "dtype: float64\n"
     ]
    },
    {
     "data": {
      "text/plain": [
       "'fin de traitement'"
      ]
     },
     "execution_count": 69,
     "metadata": {},
     "output_type": "execute_result"
    }
   ],
   "source": [
    "Baseline_0(S5,article_history,103,104)"
   ]
  },
  {
   "cell_type": "code",
   "execution_count": 70,
   "id": "d9bf2864",
   "metadata": {
    "ExecuteTime": {
     "end_time": "2022-04-07T14:58:48.832520Z",
     "start_time": "2022-04-07T14:58:46.464799Z"
    }
   },
   "outputs": [
    {
     "name": "stdout",
     "output_type": "stream",
     "text": [
      "Statistiques concernant le segment:\n",
      "Taille du segment : 102792\n",
      "Nbre d'acheteurs : Precision    12440\n",
      "dtype: int64\n",
      "Nbre de ref_achetées : in103    5198\n",
      "dtype: int64\n",
      "Précision moyenne:Precision    4.350402\n",
      "dtype: float64\n"
     ]
    },
    {
     "data": {
      "text/plain": [
       "'fin de traitement'"
      ]
     },
     "execution_count": 70,
     "metadata": {},
     "output_type": "execute_result"
    }
   ],
   "source": [
    "Baseline_0(S6,article_history,103,104)"
   ]
  },
  {
   "cell_type": "code",
   "execution_count": 71,
   "id": "3c2d4317",
   "metadata": {
    "ExecuteTime": {
     "end_time": "2022-04-07T14:59:01.549379Z",
     "start_time": "2022-04-07T14:59:00.754554Z"
    }
   },
   "outputs": [
    {
     "name": "stdout",
     "output_type": "stream",
     "text": [
      "Statistiques concernant le segment:\n",
      "Taille du segment : 84991\n",
      "Nbre d'acheteurs : Precision    9781\n",
      "dtype: int64\n",
      "Nbre de ref_achetées : in103    4874\n",
      "dtype: int64\n",
      "Précision moyenne:Precision    4.57213\n",
      "dtype: float64\n"
     ]
    },
    {
     "data": {
      "text/plain": [
       "'fin de traitement'"
      ]
     },
     "execution_count": 71,
     "metadata": {},
     "output_type": "execute_result"
    }
   ],
   "source": [
    "Baseline_0(S7,article_history,103,104)"
   ]
  },
  {
   "cell_type": "code",
   "execution_count": 72,
   "id": "d62a5418",
   "metadata": {
    "ExecuteTime": {
     "end_time": "2022-04-07T14:59:21.768554Z",
     "start_time": "2022-04-07T14:59:09.431788Z"
    }
   },
   "outputs": [
    {
     "name": "stdout",
     "output_type": "stream",
     "text": [
      "Statistiques concernant le segment:\n",
      "Taille du segment : 150520\n",
      "Nbre d'acheteurs : Precision    16028\n",
      "dtype: int64\n",
      "Nbre de ref_achetées : in103    6794\n",
      "dtype: int64\n",
      "Précision moyenne:Precision    4.658223\n",
      "dtype: float64\n"
     ]
    },
    {
     "data": {
      "text/plain": [
       "'fin de traitement'"
      ]
     },
     "execution_count": 72,
     "metadata": {},
     "output_type": "execute_result"
    }
   ],
   "source": [
    "Baseline_0(S8,article_history,103,104)"
   ]
  },
  {
   "cell_type": "code",
   "execution_count": 73,
   "id": "0c6f2226",
   "metadata": {
    "ExecuteTime": {
     "end_time": "2022-04-07T14:59:37.495140Z",
     "start_time": "2022-04-07T14:59:33.221258Z"
    }
   },
   "outputs": [
    {
     "name": "stdout",
     "output_type": "stream",
     "text": [
      "Statistiques concernant le segment:\n",
      "Taille du segment : 83548\n",
      "Nbre d'acheteurs : Precision    7571\n",
      "dtype: int64\n",
      "Nbre de ref_achetées : in103    4381\n",
      "dtype: int64\n",
      "Précision moyenne:Precision    4.549861\n",
      "dtype: float64\n"
     ]
    },
    {
     "data": {
      "text/plain": [
       "'fin de traitement'"
      ]
     },
     "execution_count": 73,
     "metadata": {},
     "output_type": "execute_result"
    }
   ],
   "source": [
    "Baseline_0(S9,article_history,103,104)"
   ]
  },
  {
   "cell_type": "code",
   "execution_count": 74,
   "id": "ba69ca3a",
   "metadata": {
    "ExecuteTime": {
     "end_time": "2022-04-07T15:00:03.464974Z",
     "start_time": "2022-04-07T14:59:52.038798Z"
    }
   },
   "outputs": [
    {
     "name": "stdout",
     "output_type": "stream",
     "text": [
      "Statistiques concernant le segment:\n",
      "Taille du segment : 85493\n",
      "Nbre d'acheteurs : Precision    7999\n",
      "dtype: int64\n",
      "Nbre de ref_achetées : in103    4190\n",
      "dtype: int64\n",
      "Précision moyenne:Precision    4.196525\n",
      "dtype: float64\n"
     ]
    },
    {
     "data": {
      "text/plain": [
       "'fin de traitement'"
      ]
     },
     "execution_count": 74,
     "metadata": {},
     "output_type": "execute_result"
    }
   ],
   "source": [
    "Baseline_0(S10,article_history,103,104)"
   ]
  },
  {
   "cell_type": "code",
   "execution_count": 75,
   "id": "ca7b40da",
   "metadata": {
    "ExecuteTime": {
     "end_time": "2022-04-07T15:00:31.227540Z",
     "start_time": "2022-04-07T15:00:19.350143Z"
    }
   },
   "outputs": [
    {
     "name": "stdout",
     "output_type": "stream",
     "text": [
      "Statistiques concernant le segment:\n",
      "Taille du segment : 118625\n",
      "Nbre d'acheteurs : Precision    12492\n",
      "dtype: int64\n",
      "Nbre de ref_achetées : in103    5014\n",
      "dtype: int64\n",
      "Précision moyenne:Precision    4.019613\n",
      "dtype: float64\n"
     ]
    },
    {
     "data": {
      "text/plain": [
       "'fin de traitement'"
      ]
     },
     "execution_count": 75,
     "metadata": {},
     "output_type": "execute_result"
    }
   ],
   "source": [
    "Baseline_0(S11,article_history,103,104)"
   ]
  },
  {
   "cell_type": "code",
   "execution_count": 76,
   "id": "77caa55c",
   "metadata": {
    "ExecuteTime": {
     "end_time": "2022-04-07T15:00:45.698184Z",
     "start_time": "2022-04-07T15:00:42.570591Z"
    }
   },
   "outputs": [
    {
     "name": "stdout",
     "output_type": "stream",
     "text": [
      "Statistiques concernant le segment:\n",
      "Taille du segment : 135326\n",
      "Nbre d'acheteurs : Precision    14442\n",
      "dtype: int64\n",
      "Nbre de ref_achetées : in103    5178\n",
      "dtype: int64\n",
      "Précision moyenne:Precision    3.764853\n",
      "dtype: float64\n"
     ]
    },
    {
     "data": {
      "text/plain": [
       "'fin de traitement'"
      ]
     },
     "execution_count": 76,
     "metadata": {},
     "output_type": "execute_result"
    }
   ],
   "source": [
    "Baseline_0(S12,article_history,103,104)"
   ]
  },
  {
   "cell_type": "code",
   "execution_count": 77,
   "id": "c4713a5c",
   "metadata": {
    "ExecuteTime": {
     "end_time": "2022-04-07T15:01:01.272702Z",
     "start_time": "2022-04-07T15:00:56.811088Z"
    }
   },
   "outputs": [
    {
     "name": "stdout",
     "output_type": "stream",
     "text": [
      "Statistiques concernant le segment:\n",
      "Taille du segment : 90916\n",
      "Nbre d'acheteurs : Precision    9349\n",
      "dtype: int64\n",
      "Nbre de ref_achetées : in103    3786\n",
      "dtype: int64\n",
      "Précision moyenne:Precision    3.614397\n",
      "dtype: float64\n"
     ]
    },
    {
     "data": {
      "text/plain": [
       "'fin de traitement'"
      ]
     },
     "execution_count": 77,
     "metadata": {},
     "output_type": "execute_result"
    }
   ],
   "source": [
    "Baseline_0(S13,article_history,103,104)"
   ]
  },
  {
   "cell_type": "code",
   "execution_count": 78,
   "id": "3a0afeb9",
   "metadata": {
    "ExecuteTime": {
     "end_time": "2022-04-07T15:01:18.209740Z",
     "start_time": "2022-04-07T15:01:15.260752Z"
    }
   },
   "outputs": [
    {
     "name": "stdout",
     "output_type": "stream",
     "text": [
      "Statistiques concernant le segment:\n",
      "Taille du segment : 91750\n",
      "Nbre d'acheteurs : Precision    8667\n",
      "dtype: int64\n",
      "Nbre de ref_achetées : in103    3256\n",
      "dtype: int64\n",
      "Précision moyenne:Precision    3.158879\n",
      "dtype: float64\n"
     ]
    },
    {
     "data": {
      "text/plain": [
       "'fin de traitement'"
      ]
     },
     "execution_count": 78,
     "metadata": {},
     "output_type": "execute_result"
    }
   ],
   "source": [
    "Baseline_0(S14,article_history,103,104)"
   ]
  }
 ],
 "metadata": {
  "kernelspec": {
   "display_name": "Python 3 (ipykernel)",
   "language": "python",
   "name": "python3"
  },
  "language_info": {
   "codemirror_mode": {
    "name": "ipython",
    "version": 3
   },
   "file_extension": ".py",
   "mimetype": "text/x-python",
   "name": "python",
   "nbconvert_exporter": "python",
   "pygments_lexer": "ipython3",
   "version": "3.8.12"
  },
  "toc": {
   "base_numbering": 1,
   "nav_menu": {},
   "number_sections": true,
   "sideBar": true,
   "skip_h1_title": false,
   "title_cell": "Table of Contents",
   "title_sidebar": "Contents",
   "toc_cell": false,
   "toc_position": {},
   "toc_section_display": true,
   "toc_window_display": false
  }
 },
 "nbformat": 4,
 "nbformat_minor": 5
}
