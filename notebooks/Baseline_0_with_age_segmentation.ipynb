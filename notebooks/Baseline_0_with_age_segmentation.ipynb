{
 "cells": [
  {
   "cell_type": "code",
   "execution_count": 5,
   "id": "705be0a3",
   "metadata": {
    "ExecuteTime": {
     "end_time": "2022-04-07T09:07:26.730299Z",
     "start_time": "2022-04-07T09:07:24.820599Z"
    }
   },
   "outputs": [],
   "source": [
    "import pandas as pd\n",
    "import matplotlib.pyplot as plt\n",
    "import seaborn as sns"
   ]
  },
  {
   "cell_type": "markdown",
   "id": "ef392e7c",
   "metadata": {},
   "source": [
    "# Lecture des données"
   ]
  },
  {
   "cell_type": "code",
   "execution_count": 6,
   "id": "d9b0b6ac",
   "metadata": {
    "ExecuteTime": {
     "end_time": "2022-04-07T09:07:32.740692Z",
     "start_time": "2022-04-07T09:07:26.733673Z"
    }
   },
   "outputs": [],
   "source": [
    "transactions_101_104 = pd.read_csv('../raw_data/transaction_train_week_101_104.csv')\n",
    "#101= dernière semaine d'aout\n",
    "#102= première semaine septembre\n",
    "#103= deuxième semaine septembre\n",
    "#104= troisème semaine de septembre (qui nous servira de target dans le cadre du projet)"
   ]
  },
  {
   "cell_type": "code",
   "execution_count": 58,
   "id": "2f508b55",
   "metadata": {
    "ExecuteTime": {
     "end_time": "2022-04-06T13:29:59.170183Z",
     "start_time": "2022-04-06T13:29:59.151250Z"
    }
   },
   "outputs": [
    {
     "data": {
      "text/html": [
       "<div>\n",
       "<style scoped>\n",
       "    .dataframe tbody tr th:only-of-type {\n",
       "        vertical-align: middle;\n",
       "    }\n",
       "\n",
       "    .dataframe tbody tr th {\n",
       "        vertical-align: top;\n",
       "    }\n",
       "\n",
       "    .dataframe thead th {\n",
       "        text-align: right;\n",
       "    }\n",
       "</style>\n",
       "<table border=\"1\" class=\"dataframe\">\n",
       "  <thead>\n",
       "    <tr style=\"text-align: right;\">\n",
       "      <th></th>\n",
       "      <th>Unnamed: 0</th>\n",
       "      <th>Unnamed: 0.1</th>\n",
       "      <th>t_dat</th>\n",
       "      <th>customer_id</th>\n",
       "      <th>article_id</th>\n",
       "      <th>price</th>\n",
       "      <th>sales_channel_id</th>\n",
       "    </tr>\n",
       "  </thead>\n",
       "  <tbody>\n",
       "    <tr>\n",
       "      <th>0</th>\n",
       "      <td>0</td>\n",
       "      <td>30665422</td>\n",
       "      <td>101</td>\n",
       "      <td>0000e9a4db2da4e9c68558ad1e7df570d02767b213ec6b...</td>\n",
       "      <td>880553001</td>\n",
       "      <td>0.025407</td>\n",
       "      <td>2</td>\n",
       "    </tr>\n",
       "    <tr>\n",
       "      <th>1</th>\n",
       "      <td>1</td>\n",
       "      <td>30665423</td>\n",
       "      <td>101</td>\n",
       "      <td>0000e9a4db2da4e9c68558ad1e7df570d02767b213ec6b...</td>\n",
       "      <td>880553001</td>\n",
       "      <td>0.025407</td>\n",
       "      <td>2</td>\n",
       "    </tr>\n",
       "    <tr>\n",
       "      <th>2</th>\n",
       "      <td>2</td>\n",
       "      <td>30665424</td>\n",
       "      <td>101</td>\n",
       "      <td>00047d50bde8751b26aaec7536ccc5fd92828ffa0a396d...</td>\n",
       "      <td>909081004</td>\n",
       "      <td>0.033881</td>\n",
       "      <td>2</td>\n",
       "    </tr>\n",
       "    <tr>\n",
       "      <th>3</th>\n",
       "      <td>3</td>\n",
       "      <td>30665425</td>\n",
       "      <td>101</td>\n",
       "      <td>00047d50bde8751b26aaec7536ccc5fd92828ffa0a396d...</td>\n",
       "      <td>516903024</td>\n",
       "      <td>0.025407</td>\n",
       "      <td>2</td>\n",
       "    </tr>\n",
       "    <tr>\n",
       "      <th>4</th>\n",
       "      <td>4</td>\n",
       "      <td>30665426</td>\n",
       "      <td>101</td>\n",
       "      <td>00047d50bde8751b26aaec7536ccc5fd92828ffa0a396d...</td>\n",
       "      <td>897679003</td>\n",
       "      <td>0.042356</td>\n",
       "      <td>2</td>\n",
       "    </tr>\n",
       "  </tbody>\n",
       "</table>\n",
       "</div>"
      ],
      "text/plain": [
       "   Unnamed: 0  Unnamed: 0.1  t_dat  \\\n",
       "0           0      30665422    101   \n",
       "1           1      30665423    101   \n",
       "2           2      30665424    101   \n",
       "3           3      30665425    101   \n",
       "4           4      30665426    101   \n",
       "\n",
       "                                         customer_id  article_id     price  \\\n",
       "0  0000e9a4db2da4e9c68558ad1e7df570d02767b213ec6b...   880553001  0.025407   \n",
       "1  0000e9a4db2da4e9c68558ad1e7df570d02767b213ec6b...   880553001  0.025407   \n",
       "2  00047d50bde8751b26aaec7536ccc5fd92828ffa0a396d...   909081004  0.033881   \n",
       "3  00047d50bde8751b26aaec7536ccc5fd92828ffa0a396d...   516903024  0.025407   \n",
       "4  00047d50bde8751b26aaec7536ccc5fd92828ffa0a396d...   897679003  0.042356   \n",
       "\n",
       "   sales_channel_id  \n",
       "0                 2  \n",
       "1                 2  \n",
       "2                 2  \n",
       "3                 2  \n",
       "4                 2  "
      ]
     },
     "execution_count": 58,
     "metadata": {},
     "output_type": "execute_result"
    }
   ],
   "source": [
    "transactions_101_104.head()"
   ]
  },
  {
   "cell_type": "code",
   "execution_count": 7,
   "id": "ed79e0a5",
   "metadata": {
    "ExecuteTime": {
     "end_time": "2022-04-07T09:08:06.583700Z",
     "start_time": "2022-04-07T09:07:32.743297Z"
    }
   },
   "outputs": [],
   "source": [
    "# note du 06042022: à ce stade de l'analyse les customers sans information sur l'âge ne sont pas inclus\n",
    "S1= pd.read_csv('../raw_data/customers_age_16_17.csv')\n",
    "S2= pd.read_csv('../raw_data/customers_age_18_19.csv')\n",
    "S3= pd.read_csv('../raw_data/customers_age_20_21.csv')\n",
    "S4= pd.read_csv('../raw_data/customers_age_22_23.csv')\n",
    "S5= pd.read_csv('../raw_data/customers_age_24_25.csv')\n",
    "S6= pd.read_csv('../raw_data/customers_age_26_27.csv')\n",
    "S7= pd.read_csv('../raw_data/customers_age_28_29.csv')\n",
    "S8= pd.read_csv('../raw_data/customers_age_30_34.csv')\n",
    "S9= pd.read_csv('../raw_data/customers_age_35_39.csv')\n",
    "S10= pd.read_csv('../raw_data/customers_age_40_44.csv')\n",
    "S11= pd.read_csv('../raw_data/customers_age_45_49.csv')\n",
    "S12= pd.read_csv('../raw_data/customers_age_50_54.csv')\n",
    "S13= pd.read_csv('../raw_data/customers_age_55_59.csv')\n",
    "S14= pd.read_csv('../raw_data/customers_age_60.csv')"
   ]
  },
  {
   "cell_type": "code",
   "execution_count": 8,
   "id": "dbbca5be",
   "metadata": {
    "ExecuteTime": {
     "end_time": "2022-04-07T09:08:11.365160Z",
     "start_time": "2022-04-07T09:08:11.354410Z"
    }
   },
   "outputs": [
    {
     "data": {
      "text/plain": [
       "((9553, 8),\n",
       " (62030, 8),\n",
       " (122726, 8),\n",
       " (106736, 8),\n",
       " (111113, 8),\n",
       " (102792, 8),\n",
       " (84991, 8),\n",
       " (150520, 8),\n",
       " (83548, 8),\n",
       " (85493, 8),\n",
       " (118625, 8),\n",
       " (135326, 8),\n",
       " (90916, 8),\n",
       " (91750, 8))"
      ]
     },
     "execution_count": 8,
     "metadata": {},
     "output_type": "execute_result"
    }
   ],
   "source": [
    "S1.shape, S2.shape, S3.shape, S4.shape, S5.shape, S6.shape, S7.shape, S8.shape, S9.shape, S10.shape, S11.shape, S12.shape, S13.shape, S14.shape"
   ]
  },
  {
   "cell_type": "code",
   "execution_count": 83,
   "id": "14419b0a",
   "metadata": {
    "ExecuteTime": {
     "end_time": "2022-04-06T13:53:54.192617Z",
     "start_time": "2022-04-06T13:53:54.174552Z"
    }
   },
   "outputs": [
    {
     "name": "stdout",
     "output_type": "stream",
     "text": [
      "<class 'pandas.core.frame.DataFrame'>\n",
      "RangeIndex: 9553 entries, 0 to 9552\n",
      "Data columns (total 2 columns):\n",
      " #   Column       Non-Null Count  Dtype \n",
      "---  ------       --------------  ----- \n",
      " 0   customer_id  9553 non-null   object\n",
      " 1   age_id       9553 non-null   int64 \n",
      "dtypes: int64(1), object(1)\n",
      "memory usage: 149.4+ KB\n"
     ]
    }
   ],
   "source": [
    "S1.info()"
   ]
  },
  {
   "cell_type": "markdown",
   "id": "8d581402",
   "metadata": {},
   "source": [
    "# Préparation du dataset Transactions"
   ]
  },
  {
   "cell_type": "code",
   "execution_count": 9,
   "id": "d853cecc",
   "metadata": {
    "ExecuteTime": {
     "end_time": "2022-04-07T09:08:26.610396Z",
     "start_time": "2022-04-07T09:08:24.100004Z"
    }
   },
   "outputs": [],
   "source": [
    "# je garde uniquement la week, le customer id pour le merge, et l'article ID pour récupérer les plus populaires:\n",
    "transactions_101_104=transactions_101_104.drop(columns=['Unnamed: 0', 'Unnamed: 0.1', 'price', 'sales_channel_id'])"
   ]
  },
  {
   "cell_type": "code",
   "execution_count": 10,
   "id": "1909b49f",
   "metadata": {
    "ExecuteTime": {
     "end_time": "2022-04-07T09:08:27.473992Z",
     "start_time": "2022-04-07T09:08:27.386099Z"
    }
   },
   "outputs": [
    {
     "name": "stdout",
     "output_type": "stream",
     "text": [
      "<class 'pandas.core.frame.DataFrame'>\n",
      "RangeIndex: 1057905 entries, 0 to 1057904\n",
      "Data columns (total 3 columns):\n",
      " #   Column       Non-Null Count    Dtype \n",
      "---  ------       --------------    ----- \n",
      " 0   t_dat        1057905 non-null  int64 \n",
      " 1   customer_id  1057905 non-null  object\n",
      " 2   article_id   1057905 non-null  int64 \n",
      "dtypes: int64(2), object(1)\n",
      "memory usage: 24.2+ MB\n"
     ]
    }
   ],
   "source": [
    "transactions_101_104.info()"
   ]
  },
  {
   "cell_type": "code",
   "execution_count": 11,
   "id": "a5542b14",
   "metadata": {
    "ExecuteTime": {
     "end_time": "2022-04-07T09:08:32.483099Z",
     "start_time": "2022-04-07T09:08:31.210451Z"
    }
   },
   "outputs": [
    {
     "data": {
      "text/html": [
       "<div>\n",
       "<style scoped>\n",
       "    .dataframe tbody tr th:only-of-type {\n",
       "        vertical-align: middle;\n",
       "    }\n",
       "\n",
       "    .dataframe tbody tr th {\n",
       "        vertical-align: top;\n",
       "    }\n",
       "\n",
       "    .dataframe thead th {\n",
       "        text-align: right;\n",
       "    }\n",
       "</style>\n",
       "<table border=\"1\" class=\"dataframe\">\n",
       "  <thead>\n",
       "    <tr style=\"text-align: right;\">\n",
       "      <th></th>\n",
       "      <th>t_dat</th>\n",
       "      <th>customer_id</th>\n",
       "      <th>article_id</th>\n",
       "      <th>in101</th>\n",
       "      <th>in102</th>\n",
       "      <th>in103</th>\n",
       "      <th>in104</th>\n",
       "    </tr>\n",
       "  </thead>\n",
       "  <tbody>\n",
       "    <tr>\n",
       "      <th>0</th>\n",
       "      <td>101</td>\n",
       "      <td>0000e9a4db2da4e9c68558ad1e7df570d02767b213ec6b...</td>\n",
       "      <td>880553001</td>\n",
       "      <td>1</td>\n",
       "      <td>0</td>\n",
       "      <td>0</td>\n",
       "      <td>0</td>\n",
       "    </tr>\n",
       "    <tr>\n",
       "      <th>1</th>\n",
       "      <td>101</td>\n",
       "      <td>0000e9a4db2da4e9c68558ad1e7df570d02767b213ec6b...</td>\n",
       "      <td>880553001</td>\n",
       "      <td>1</td>\n",
       "      <td>0</td>\n",
       "      <td>0</td>\n",
       "      <td>0</td>\n",
       "    </tr>\n",
       "    <tr>\n",
       "      <th>2</th>\n",
       "      <td>101</td>\n",
       "      <td>00047d50bde8751b26aaec7536ccc5fd92828ffa0a396d...</td>\n",
       "      <td>909081004</td>\n",
       "      <td>1</td>\n",
       "      <td>0</td>\n",
       "      <td>0</td>\n",
       "      <td>0</td>\n",
       "    </tr>\n",
       "    <tr>\n",
       "      <th>3</th>\n",
       "      <td>101</td>\n",
       "      <td>00047d50bde8751b26aaec7536ccc5fd92828ffa0a396d...</td>\n",
       "      <td>516903024</td>\n",
       "      <td>1</td>\n",
       "      <td>0</td>\n",
       "      <td>0</td>\n",
       "      <td>0</td>\n",
       "    </tr>\n",
       "    <tr>\n",
       "      <th>4</th>\n",
       "      <td>101</td>\n",
       "      <td>00047d50bde8751b26aaec7536ccc5fd92828ffa0a396d...</td>\n",
       "      <td>897679003</td>\n",
       "      <td>1</td>\n",
       "      <td>0</td>\n",
       "      <td>0</td>\n",
       "      <td>0</td>\n",
       "    </tr>\n",
       "    <tr>\n",
       "      <th>...</th>\n",
       "      <td>...</td>\n",
       "      <td>...</td>\n",
       "      <td>...</td>\n",
       "      <td>...</td>\n",
       "      <td>...</td>\n",
       "      <td>...</td>\n",
       "      <td>...</td>\n",
       "    </tr>\n",
       "    <tr>\n",
       "      <th>1057900</th>\n",
       "      <td>104</td>\n",
       "      <td>fff4381593e170ca0aea188998487c830d9a4070c9ec4b...</td>\n",
       "      <td>799365001</td>\n",
       "      <td>0</td>\n",
       "      <td>0</td>\n",
       "      <td>0</td>\n",
       "      <td>1</td>\n",
       "    </tr>\n",
       "    <tr>\n",
       "      <th>1057901</th>\n",
       "      <td>104</td>\n",
       "      <td>fff7e7674509592818bf453391af43a85eaaac9a52d858...</td>\n",
       "      <td>624486049</td>\n",
       "      <td>0</td>\n",
       "      <td>0</td>\n",
       "      <td>0</td>\n",
       "      <td>1</td>\n",
       "    </tr>\n",
       "    <tr>\n",
       "      <th>1057902</th>\n",
       "      <td>104</td>\n",
       "      <td>fff871bf24b40fd1290215414d760afaa69bb164d2b970...</td>\n",
       "      <td>717490010</td>\n",
       "      <td>0</td>\n",
       "      <td>0</td>\n",
       "      <td>0</td>\n",
       "      <td>1</td>\n",
       "    </tr>\n",
       "    <tr>\n",
       "      <th>1057903</th>\n",
       "      <td>104</td>\n",
       "      <td>fff871bf24b40fd1290215414d760afaa69bb164d2b970...</td>\n",
       "      <td>717490058</td>\n",
       "      <td>0</td>\n",
       "      <td>0</td>\n",
       "      <td>0</td>\n",
       "      <td>1</td>\n",
       "    </tr>\n",
       "    <tr>\n",
       "      <th>1057904</th>\n",
       "      <td>104</td>\n",
       "      <td>fff871bf24b40fd1290215414d760afaa69bb164d2b970...</td>\n",
       "      <td>717490057</td>\n",
       "      <td>0</td>\n",
       "      <td>0</td>\n",
       "      <td>0</td>\n",
       "      <td>1</td>\n",
       "    </tr>\n",
       "  </tbody>\n",
       "</table>\n",
       "<p>1057905 rows × 7 columns</p>\n",
       "</div>"
      ],
      "text/plain": [
       "         t_dat                                        customer_id  article_id  \\\n",
       "0          101  0000e9a4db2da4e9c68558ad1e7df570d02767b213ec6b...   880553001   \n",
       "1          101  0000e9a4db2da4e9c68558ad1e7df570d02767b213ec6b...   880553001   \n",
       "2          101  00047d50bde8751b26aaec7536ccc5fd92828ffa0a396d...   909081004   \n",
       "3          101  00047d50bde8751b26aaec7536ccc5fd92828ffa0a396d...   516903024   \n",
       "4          101  00047d50bde8751b26aaec7536ccc5fd92828ffa0a396d...   897679003   \n",
       "...        ...                                                ...         ...   \n",
       "1057900    104  fff4381593e170ca0aea188998487c830d9a4070c9ec4b...   799365001   \n",
       "1057901    104  fff7e7674509592818bf453391af43a85eaaac9a52d858...   624486049   \n",
       "1057902    104  fff871bf24b40fd1290215414d760afaa69bb164d2b970...   717490010   \n",
       "1057903    104  fff871bf24b40fd1290215414d760afaa69bb164d2b970...   717490058   \n",
       "1057904    104  fff871bf24b40fd1290215414d760afaa69bb164d2b970...   717490057   \n",
       "\n",
       "         in101  in102  in103  in104  \n",
       "0            1      0      0      0  \n",
       "1            1      0      0      0  \n",
       "2            1      0      0      0  \n",
       "3            1      0      0      0  \n",
       "4            1      0      0      0  \n",
       "...        ...    ...    ...    ...  \n",
       "1057900      0      0      0      1  \n",
       "1057901      0      0      0      1  \n",
       "1057902      0      0      0      1  \n",
       "1057903      0      0      0      1  \n",
       "1057904      0      0      0      1  \n",
       "\n",
       "[1057905 rows x 7 columns]"
      ]
     },
     "execution_count": 11,
     "metadata": {},
     "output_type": "execute_result"
    }
   ],
   "source": [
    "# je crée des dummies par week si jamais plus tard on a besoin de baselines pour d'autres semaines que la 104\n",
    "article_history=transactions_101_104\n",
    "article_history['in101']=article_history['t_dat'].apply(lambda x: 1 if x==101 else 0)\n",
    "article_history['in102']=article_history['t_dat'].apply(lambda x: 1 if x==102 else 0)\n",
    "article_history['in103']=article_history['t_dat'].apply(lambda x: 1 if x==103 else 0)\n",
    "article_history['in104']=article_history['t_dat'].apply(lambda x: 1 if x==104 else 0)\n",
    "article_history"
   ]
  },
  {
   "cell_type": "markdown",
   "id": "82b1fe73",
   "metadata": {
    "ExecuteTime": {
     "end_time": "2022-04-06T13:36:10.092694Z",
     "start_time": "2022-04-06T13:36:10.088334Z"
    }
   },
   "source": [
    "# merge des données segments aux données transactions"
   ]
  },
  {
   "cell_type": "code",
   "execution_count": 92,
   "id": "e6e088d5",
   "metadata": {
    "ExecuteTime": {
     "end_time": "2022-04-06T13:59:53.575267Z",
     "start_time": "2022-04-06T13:59:53.382115Z"
    }
   },
   "outputs": [],
   "source": [
    "S1_achats=S1[['customer_id','age_id']].merge(article_history)"
   ]
  },
  {
   "cell_type": "code",
   "execution_count": 93,
   "id": "a9f92087",
   "metadata": {
    "ExecuteTime": {
     "end_time": "2022-04-06T14:00:04.688124Z",
     "start_time": "2022-04-06T14:00:04.681864Z"
    }
   },
   "outputs": [
    {
     "data": {
      "text/plain": [
       "(5955, 8)"
      ]
     },
     "execution_count": 93,
     "metadata": {},
     "output_type": "execute_result"
    }
   ],
   "source": [
    "S1_achats.shape #(5955, 8)"
   ]
  },
  {
   "cell_type": "code",
   "execution_count": 95,
   "id": "35d8184d",
   "metadata": {
    "ExecuteTime": {
     "end_time": "2022-04-06T14:00:33.288834Z",
     "start_time": "2022-04-06T14:00:33.275576Z"
    }
   },
   "outputs": [
    {
     "data": {
      "text/html": [
       "<div>\n",
       "<style scoped>\n",
       "    .dataframe tbody tr th:only-of-type {\n",
       "        vertical-align: middle;\n",
       "    }\n",
       "\n",
       "    .dataframe tbody tr th {\n",
       "        vertical-align: top;\n",
       "    }\n",
       "\n",
       "    .dataframe thead th {\n",
       "        text-align: right;\n",
       "    }\n",
       "</style>\n",
       "<table border=\"1\" class=\"dataframe\">\n",
       "  <thead>\n",
       "    <tr style=\"text-align: right;\">\n",
       "      <th></th>\n",
       "      <th>customer_id</th>\n",
       "      <th>age_id</th>\n",
       "      <th>t_dat</th>\n",
       "      <th>article_id</th>\n",
       "      <th>in101</th>\n",
       "      <th>in102</th>\n",
       "      <th>in103</th>\n",
       "      <th>in104</th>\n",
       "    </tr>\n",
       "  </thead>\n",
       "  <tbody>\n",
       "    <tr>\n",
       "      <th>0</th>\n",
       "      <td>0006ca2c5ecdbdcc1de5e72adffc6c33448fc2aaa62afe...</td>\n",
       "      <td>0</td>\n",
       "      <td>101</td>\n",
       "      <td>572998001</td>\n",
       "      <td>1</td>\n",
       "      <td>0</td>\n",
       "      <td>0</td>\n",
       "      <td>0</td>\n",
       "    </tr>\n",
       "    <tr>\n",
       "      <th>1</th>\n",
       "      <td>0006ca2c5ecdbdcc1de5e72adffc6c33448fc2aaa62afe...</td>\n",
       "      <td>0</td>\n",
       "      <td>101</td>\n",
       "      <td>572998009</td>\n",
       "      <td>1</td>\n",
       "      <td>0</td>\n",
       "      <td>0</td>\n",
       "      <td>0</td>\n",
       "    </tr>\n",
       "    <tr>\n",
       "      <th>2</th>\n",
       "      <td>00089f13f465ec902e5c49a3bb408c5e31205096d6f267...</td>\n",
       "      <td>0</td>\n",
       "      <td>101</td>\n",
       "      <td>926502001</td>\n",
       "      <td>1</td>\n",
       "      <td>0</td>\n",
       "      <td>0</td>\n",
       "      <td>0</td>\n",
       "    </tr>\n",
       "    <tr>\n",
       "      <th>3</th>\n",
       "      <td>000e3f587242eb077685a487ad27dad632a4801576dfd1...</td>\n",
       "      <td>0</td>\n",
       "      <td>101</td>\n",
       "      <td>501620049</td>\n",
       "      <td>1</td>\n",
       "      <td>0</td>\n",
       "      <td>0</td>\n",
       "      <td>0</td>\n",
       "    </tr>\n",
       "    <tr>\n",
       "      <th>4</th>\n",
       "      <td>001c42459c8978d55a69fa1528975893b011a6539631f3...</td>\n",
       "      <td>0</td>\n",
       "      <td>101</td>\n",
       "      <td>885077003</td>\n",
       "      <td>1</td>\n",
       "      <td>0</td>\n",
       "      <td>0</td>\n",
       "      <td>0</td>\n",
       "    </tr>\n",
       "  </tbody>\n",
       "</table>\n",
       "</div>"
      ],
      "text/plain": [
       "                                         customer_id  age_id  t_dat  \\\n",
       "0  0006ca2c5ecdbdcc1de5e72adffc6c33448fc2aaa62afe...       0    101   \n",
       "1  0006ca2c5ecdbdcc1de5e72adffc6c33448fc2aaa62afe...       0    101   \n",
       "2  00089f13f465ec902e5c49a3bb408c5e31205096d6f267...       0    101   \n",
       "3  000e3f587242eb077685a487ad27dad632a4801576dfd1...       0    101   \n",
       "4  001c42459c8978d55a69fa1528975893b011a6539631f3...       0    101   \n",
       "\n",
       "   article_id  in101  in102  in103  in104  \n",
       "0   572998001      1      0      0      0  \n",
       "1   572998009      1      0      0      0  \n",
       "2   926502001      1      0      0      0  \n",
       "3   501620049      1      0      0      0  \n",
       "4   885077003      1      0      0      0  "
      ]
     },
     "execution_count": 95,
     "metadata": {},
     "output_type": "execute_result"
    }
   ],
   "source": [
    "S1_achats.head()"
   ]
  },
  {
   "cell_type": "code",
   "execution_count": 96,
   "id": "19a7ebec",
   "metadata": {
    "ExecuteTime": {
     "end_time": "2022-04-06T14:01:54.315900Z",
     "start_time": "2022-04-06T14:01:54.300326Z"
    }
   },
   "outputs": [
    {
     "data": {
      "text/plain": [
       "(2501, 6)"
      ]
     },
     "execution_count": 96,
     "metadata": {},
     "output_type": "execute_result"
    }
   ],
   "source": [
    "S1_articles=S1_achats.groupby(['article_id']).sum()\n",
    "S1_articles.shape"
   ]
  },
  {
   "cell_type": "code",
   "execution_count": 103,
   "id": "8b739235",
   "metadata": {
    "ExecuteTime": {
     "end_time": "2022-04-06T14:04:49.997615Z",
     "start_time": "2022-04-06T14:04:49.985637Z"
    }
   },
   "outputs": [
    {
     "data": {
      "text/html": [
       "<div>\n",
       "<style scoped>\n",
       "    .dataframe tbody tr th:only-of-type {\n",
       "        vertical-align: middle;\n",
       "    }\n",
       "\n",
       "    .dataframe tbody tr th {\n",
       "        vertical-align: top;\n",
       "    }\n",
       "\n",
       "    .dataframe thead th {\n",
       "        text-align: right;\n",
       "    }\n",
       "</style>\n",
       "<table border=\"1\" class=\"dataframe\">\n",
       "  <thead>\n",
       "    <tr style=\"text-align: right;\">\n",
       "      <th></th>\n",
       "      <th>age_id</th>\n",
       "      <th>t_dat</th>\n",
       "      <th>in101</th>\n",
       "      <th>in102</th>\n",
       "      <th>in103</th>\n",
       "      <th>in104</th>\n",
       "    </tr>\n",
       "    <tr>\n",
       "      <th>article_id</th>\n",
       "      <th></th>\n",
       "      <th></th>\n",
       "      <th></th>\n",
       "      <th></th>\n",
       "      <th></th>\n",
       "      <th></th>\n",
       "    </tr>\n",
       "  </thead>\n",
       "  <tbody>\n",
       "    <tr>\n",
       "      <th>448509014</th>\n",
       "      <td>0</td>\n",
       "      <td>3723</td>\n",
       "      <td>4</td>\n",
       "      <td>2</td>\n",
       "      <td>5</td>\n",
       "      <td>25</td>\n",
       "    </tr>\n",
       "    <tr>\n",
       "      <th>797988002</th>\n",
       "      <td>0</td>\n",
       "      <td>3303</td>\n",
       "      <td>7</td>\n",
       "      <td>2</td>\n",
       "      <td>0</td>\n",
       "      <td>23</td>\n",
       "    </tr>\n",
       "    <tr>\n",
       "      <th>685814003</th>\n",
       "      <td>0</td>\n",
       "      <td>3725</td>\n",
       "      <td>1</td>\n",
       "      <td>0</td>\n",
       "      <td>16</td>\n",
       "      <td>19</td>\n",
       "    </tr>\n",
       "    <tr>\n",
       "      <th>715624052</th>\n",
       "      <td>0</td>\n",
       "      <td>2173</td>\n",
       "      <td>3</td>\n",
       "      <td>0</td>\n",
       "      <td>2</td>\n",
       "      <td>16</td>\n",
       "    </tr>\n",
       "    <tr>\n",
       "      <th>682550002</th>\n",
       "      <td>0</td>\n",
       "      <td>2282</td>\n",
       "      <td>0</td>\n",
       "      <td>0</td>\n",
       "      <td>6</td>\n",
       "      <td>16</td>\n",
       "    </tr>\n",
       "    <tr>\n",
       "      <th>456163086</th>\n",
       "      <td>0</td>\n",
       "      <td>2380</td>\n",
       "      <td>2</td>\n",
       "      <td>1</td>\n",
       "      <td>4</td>\n",
       "      <td>16</td>\n",
       "    </tr>\n",
       "    <tr>\n",
       "      <th>730683050</th>\n",
       "      <td>0</td>\n",
       "      <td>2269</td>\n",
       "      <td>5</td>\n",
       "      <td>2</td>\n",
       "      <td>0</td>\n",
       "      <td>15</td>\n",
       "    </tr>\n",
       "    <tr>\n",
       "      <th>715624001</th>\n",
       "      <td>0</td>\n",
       "      <td>3494</td>\n",
       "      <td>10</td>\n",
       "      <td>2</td>\n",
       "      <td>8</td>\n",
       "      <td>14</td>\n",
       "    </tr>\n",
       "    <tr>\n",
       "      <th>871517008</th>\n",
       "      <td>0</td>\n",
       "      <td>2171</td>\n",
       "      <td>3</td>\n",
       "      <td>0</td>\n",
       "      <td>4</td>\n",
       "      <td>14</td>\n",
       "    </tr>\n",
       "    <tr>\n",
       "      <th>706016001</th>\n",
       "      <td>0</td>\n",
       "      <td>2982</td>\n",
       "      <td>9</td>\n",
       "      <td>1</td>\n",
       "      <td>5</td>\n",
       "      <td>14</td>\n",
       "    </tr>\n",
       "    <tr>\n",
       "      <th>715624053</th>\n",
       "      <td>0</td>\n",
       "      <td>2372</td>\n",
       "      <td>2</td>\n",
       "      <td>7</td>\n",
       "      <td>0</td>\n",
       "      <td>14</td>\n",
       "    </tr>\n",
       "    <tr>\n",
       "      <th>715624013</th>\n",
       "      <td>0</td>\n",
       "      <td>2468</td>\n",
       "      <td>7</td>\n",
       "      <td>3</td>\n",
       "      <td>1</td>\n",
       "      <td>13</td>\n",
       "    </tr>\n",
       "  </tbody>\n",
       "</table>\n",
       "</div>"
      ],
      "text/plain": [
       "            age_id  t_dat  in101  in102  in103  in104\n",
       "article_id                                           \n",
       "448509014        0   3723      4      2      5     25\n",
       "797988002        0   3303      7      2      0     23\n",
       "685814003        0   3725      1      0     16     19\n",
       "715624052        0   2173      3      0      2     16\n",
       "682550002        0   2282      0      0      6     16\n",
       "456163086        0   2380      2      1      4     16\n",
       "730683050        0   2269      5      2      0     15\n",
       "715624001        0   3494     10      2      8     14\n",
       "871517008        0   2171      3      0      4     14\n",
       "706016001        0   2982      9      1      5     14\n",
       "715624053        0   2372      2      7      0     14\n",
       "715624013        0   2468      7      3      1     13"
      ]
     },
     "execution_count": 103,
     "metadata": {},
     "output_type": "execute_result"
    }
   ],
   "source": [
    "S1_Top12_104=S1_articles.sort_values(by='in104', ascending=False).head(12)\n",
    "S1_Top12_104"
   ]
  },
  {
   "cell_type": "code",
   "execution_count": 20,
   "id": "3bfe9bac",
   "metadata": {
    "ExecuteTime": {
     "end_time": "2022-04-07T09:32:06.855542Z",
     "start_time": "2022-04-07T09:32:06.845575Z"
    }
   },
   "outputs": [],
   "source": [
    "def Baseline_0 (segment,transact_history,week): # exemple: week104name ='in104' dans l'historique des transactions\n",
    "    \n",
    "    week_dummy=\"in\" + f'{week}'\n",
    "    achats=segment[['customer_id']].merge(transact_history[['customer_id','article_id',week_dummy]])\n",
    "    articles= achats.groupby(['article_id']).sum()\n",
    "    Top12_arr=articles.sort_values(by=week_dummy, ascending=False).head(12)\n",
    "    Top12=\"\"\n",
    "    for i in range (0, 12):\n",
    "        if i==0 :\n",
    "            Top12=str(Top12_arr.index[i])\n",
    "        else: \n",
    "            Top12=Top12 + \" \"+ str(Top12_arr.index[i])\n",
    "            \n",
    "    #je donne à tous mes customers de mon segment le baseline top12 calculée ci-dessus\n",
    "    segment['Baseline0']=Top12\n",
    "    \n",
    "    #Ancien code ici *******************************************************************\n",
    "    #je retourne sur leurs achats et je vérifie si l'articleID acheté est dans la TOP12 (1 si oui, O sinon)\n",
    "    #achats['inBaseline0']=achats['article_id'].apply(lambda x: 1 if str(x) in Top12 else 0)\n",
    "    #Baseline0_precision=achats.groupby(['customer_id']).count().drop(columns= ['article_id',week_dummy] ) \n",
    "    \n",
    "    #penser à faire un changement de nom de col pour la précision\n",
    "    #segment_BS=segment.merge(Baseline0_precision, how = 'left', on='customer_id') \n",
    "    #  *******************************************************************\n",
    "    \n",
    "    #je retourne sur leurs achats et je vérifie si l'articleID acheté est dans la TOP12 (1 si oui, O sinon)\n",
    "    achats['inBaseline0']=achats['article_id'].apply(lambda x: 1 if str(x) in Top12 else 0)\n",
    "    Baseline0_precision=achats.groupby(['customer_id']).count().drop(columns= ['article_id',week_dummy]).rename(columns={'inBaseline0':'Precision'})\n",
    "    print(\"Statistiques concernant le segment:\")\n",
    "    print(\"Taille du segment : \" + f'{len(segment)}')\n",
    "    print(\"Nbre d'acheteurs : \" + f'{Baseline0_precision.count()}')\n",
    "    print(\"Nbre de ref_achetées : \" + f'{articles.count()}')\n",
    "    print(\"Précision moyenne:\" + f'{Baseline0_precision.mean()}')\n",
    "    \n",
    "    segment_BS=segment.merge(Baseline0_precision, how = 'left', on='customer_id') \n",
    "    #return segment_BS\n",
    "    return \"fin de traitement\"\n",
    "  "
   ]
  },
  {
   "cell_type": "code",
   "execution_count": 21,
   "id": "25f4b5ce",
   "metadata": {
    "ExecuteTime": {
     "end_time": "2022-04-07T09:32:09.143530Z",
     "start_time": "2022-04-07T09:32:08.917724Z"
    }
   },
   "outputs": [
    {
     "name": "stdout",
     "output_type": "stream",
     "text": [
      "Statistiques concernant le segment:\n",
      "Taille du segment : 9553\n",
      "Nbre d'acheteurs : Precision    2073\n",
      "dtype: int64\n",
      "Nbre de ref_achetées : in104    2501\n",
      "dtype: int64\n",
      "Précision moyenne:Precision    2.872648\n",
      "dtype: float64\n"
     ]
    },
    {
     "data": {
      "text/plain": [
       "'fin de traitement'"
      ]
     },
     "execution_count": 21,
     "metadata": {},
     "output_type": "execute_result"
    }
   ],
   "source": [
    "Baseline_0(S1,article_history,'104')"
   ]
  },
  {
   "cell_type": "code",
   "execution_count": 22,
   "id": "040b6fd4",
   "metadata": {
    "ExecuteTime": {
     "end_time": "2022-04-07T09:32:25.711438Z",
     "start_time": "2022-04-07T09:32:20.740128Z"
    }
   },
   "outputs": [
    {
     "name": "stdout",
     "output_type": "stream",
     "text": [
      "Statistiques concernant le segment:\n",
      "Taille du segment : 62030\n",
      "Nbre d'acheteurs : Precision    10420\n",
      "dtype: int64\n",
      "Nbre de ref_achetées : in104    7107\n",
      "dtype: int64\n",
      "Précision moyenne:Precision    3.071689\n",
      "dtype: float64\n"
     ]
    },
    {
     "data": {
      "text/plain": [
       "'fin de traitement'"
      ]
     },
     "execution_count": 22,
     "metadata": {},
     "output_type": "execute_result"
    }
   ],
   "source": [
    "Baseline_0(S2,article_history,'104')"
   ]
  },
  {
   "cell_type": "code",
   "execution_count": 23,
   "id": "8466b5ad",
   "metadata": {
    "ExecuteTime": {
     "end_time": "2022-04-07T09:32:40.366278Z",
     "start_time": "2022-04-07T09:32:39.773618Z"
    }
   },
   "outputs": [
    {
     "name": "stdout",
     "output_type": "stream",
     "text": [
      "Statistiques concernant le segment:\n",
      "Taille du segment : 122726\n",
      "Nbre d'acheteurs : Precision    22157\n",
      "dtype: int64\n",
      "Nbre de ref_achetées : in104    10879\n",
      "dtype: int64\n",
      "Précision moyenne:Precision    3.512479\n",
      "dtype: float64\n"
     ]
    },
    {
     "data": {
      "text/plain": [
       "'fin de traitement'"
      ]
     },
     "execution_count": 23,
     "metadata": {},
     "output_type": "execute_result"
    }
   ],
   "source": [
    "Baseline_0(S3,article_history,'104')"
   ]
  },
  {
   "cell_type": "code",
   "execution_count": 24,
   "id": "f3a72089",
   "metadata": {
    "ExecuteTime": {
     "end_time": "2022-04-07T09:32:55.956668Z",
     "start_time": "2022-04-07T09:32:55.025217Z"
    }
   },
   "outputs": [
    {
     "name": "stdout",
     "output_type": "stream",
     "text": [
      "Statistiques concernant le segment:\n",
      "Taille du segment : 106736\n",
      "Nbre d'acheteurs : Precision    21268\n",
      "dtype: int64\n",
      "Nbre de ref_achetées : in104    12163\n",
      "dtype: int64\n",
      "Précision moyenne:Precision    4.252398\n",
      "dtype: float64\n"
     ]
    },
    {
     "data": {
      "text/plain": [
       "'fin de traitement'"
      ]
     },
     "execution_count": 24,
     "metadata": {},
     "output_type": "execute_result"
    }
   ],
   "source": [
    "Baseline_0(S4,article_history,'104')"
   ]
  },
  {
   "cell_type": "code",
   "execution_count": 25,
   "id": "32dc9b18",
   "metadata": {
    "ExecuteTime": {
     "end_time": "2022-04-07T09:33:05.683163Z",
     "start_time": "2022-04-07T09:33:05.267525Z"
    }
   },
   "outputs": [
    {
     "name": "stdout",
     "output_type": "stream",
     "text": [
      "Statistiques concernant le segment:\n",
      "Taille du segment : 111113\n",
      "Nbre d'acheteurs : Precision    22596\n",
      "dtype: int64\n",
      "Nbre de ref_achetées : in104    13439\n",
      "dtype: int64\n",
      "Précision moyenne:Precision    4.686582\n",
      "dtype: float64\n"
     ]
    },
    {
     "data": {
      "text/plain": [
       "'fin de traitement'"
      ]
     },
     "execution_count": 25,
     "metadata": {},
     "output_type": "execute_result"
    }
   ],
   "source": [
    "Baseline_0(S5,article_history,'104')"
   ]
  },
  {
   "cell_type": "code",
   "execution_count": 26,
   "id": "214b054e",
   "metadata": {
    "ExecuteTime": {
     "end_time": "2022-04-07T09:33:15.796533Z",
     "start_time": "2022-04-07T09:33:15.386420Z"
    }
   },
   "outputs": [
    {
     "name": "stdout",
     "output_type": "stream",
     "text": [
      "Statistiques concernant le segment:\n",
      "Taille du segment : 102792\n",
      "Nbre d'acheteurs : Precision    20006\n",
      "dtype: int64\n",
      "Nbre de ref_achetées : in104    13627\n",
      "dtype: int64\n",
      "Précision moyenne:Precision    4.963361\n",
      "dtype: float64\n"
     ]
    },
    {
     "data": {
      "text/plain": [
       "'fin de traitement'"
      ]
     },
     "execution_count": 26,
     "metadata": {},
     "output_type": "execute_result"
    }
   ],
   "source": [
    "Baseline_0(S6,article_history,'104')"
   ]
  },
  {
   "cell_type": "code",
   "execution_count": 27,
   "id": "4143e2c8",
   "metadata": {
    "ExecuteTime": {
     "end_time": "2022-04-07T09:33:25.205110Z",
     "start_time": "2022-04-07T09:33:24.737226Z"
    }
   },
   "outputs": [
    {
     "name": "stdout",
     "output_type": "stream",
     "text": [
      "Statistiques concernant le segment:\n",
      "Taille du segment : 84991\n",
      "Nbre d'acheteurs : Precision    15646\n",
      "dtype: int64\n",
      "Nbre de ref_achetées : in104    13178\n",
      "dtype: int64\n",
      "Précision moyenne:Precision    5.257638\n",
      "dtype: float64\n"
     ]
    },
    {
     "data": {
      "text/plain": [
       "'fin de traitement'"
      ]
     },
     "execution_count": 27,
     "metadata": {},
     "output_type": "execute_result"
    }
   ],
   "source": [
    "Baseline_0(S7,article_history,'104')"
   ]
  },
  {
   "cell_type": "code",
   "execution_count": 28,
   "id": "6cfa5bc9",
   "metadata": {
    "ExecuteTime": {
     "end_time": "2022-04-07T09:33:33.231199Z",
     "start_time": "2022-04-07T09:33:32.431200Z"
    }
   },
   "outputs": [
    {
     "name": "stdout",
     "output_type": "stream",
     "text": [
      "Statistiques concernant le segment:\n",
      "Taille du segment : 150520\n",
      "Nbre d'acheteurs : Precision    25500\n",
      "dtype: int64\n",
      "Nbre de ref_achetées : in104    16744\n",
      "dtype: int64\n",
      "Précision moyenne:Precision    5.34349\n",
      "dtype: float64\n"
     ]
    },
    {
     "data": {
      "text/plain": [
       "'fin de traitement'"
      ]
     },
     "execution_count": 28,
     "metadata": {},
     "output_type": "execute_result"
    }
   ],
   "source": [
    "Baseline_0(S8,article_history,'104')"
   ]
  },
  {
   "cell_type": "code",
   "execution_count": 29,
   "id": "0934905b",
   "metadata": {
    "ExecuteTime": {
     "end_time": "2022-04-07T09:33:42.911661Z",
     "start_time": "2022-04-07T09:33:42.537840Z"
    }
   },
   "outputs": [
    {
     "name": "stdout",
     "output_type": "stream",
     "text": [
      "Statistiques concernant le segment:\n",
      "Taille du segment : 83548\n",
      "Nbre d'acheteurs : Precision    11969\n",
      "dtype: int64\n",
      "Nbre de ref_achetées : in104    13453\n",
      "dtype: int64\n",
      "Précision moyenne:Precision    5.272872\n",
      "dtype: float64\n"
     ]
    },
    {
     "data": {
      "text/plain": [
       "'fin de traitement'"
      ]
     },
     "execution_count": 29,
     "metadata": {},
     "output_type": "execute_result"
    }
   ],
   "source": [
    "Baseline_0(S9,article_history,'104')"
   ]
  },
  {
   "cell_type": "code",
   "execution_count": 30,
   "id": "1251e0ef",
   "metadata": {
    "ExecuteTime": {
     "end_time": "2022-04-07T09:33:51.855313Z",
     "start_time": "2022-04-07T09:33:51.457873Z"
    }
   },
   "outputs": [
    {
     "name": "stdout",
     "output_type": "stream",
     "text": [
      "Statistiques concernant le segment:\n",
      "Taille du segment : 85493\n",
      "Nbre d'acheteurs : Precision    12787\n",
      "dtype: int64\n",
      "Nbre de ref_achetées : in104    12635\n",
      "dtype: int64\n",
      "Précision moyenne:Precision    4.853914\n",
      "dtype: float64\n"
     ]
    },
    {
     "data": {
      "text/plain": [
       "'fin de traitement'"
      ]
     },
     "execution_count": 30,
     "metadata": {},
     "output_type": "execute_result"
    }
   ],
   "source": [
    "Baseline_0(S10,article_history,'104')"
   ]
  },
  {
   "cell_type": "code",
   "execution_count": 31,
   "id": "d0e20865",
   "metadata": {
    "ExecuteTime": {
     "end_time": "2022-04-07T09:34:00.748335Z",
     "start_time": "2022-04-07T09:34:00.306709Z"
    }
   },
   "outputs": [
    {
     "name": "stdout",
     "output_type": "stream",
     "text": [
      "Statistiques concernant le segment:\n",
      "Taille du segment : 118625\n",
      "Nbre d'acheteurs : Precision    19717\n",
      "dtype: int64\n",
      "Nbre de ref_achetées : in104    13538\n",
      "dtype: int64\n",
      "Précision moyenne:Precision    4.638028\n",
      "dtype: float64\n"
     ]
    },
    {
     "data": {
      "text/plain": [
       "'fin de traitement'"
      ]
     },
     "execution_count": 31,
     "metadata": {},
     "output_type": "execute_result"
    }
   ],
   "source": [
    "Baseline_0(S11,article_history,'104')"
   ]
  },
  {
   "cell_type": "code",
   "execution_count": 32,
   "id": "cba57442",
   "metadata": {
    "ExecuteTime": {
     "end_time": "2022-04-07T09:34:15.869931Z",
     "start_time": "2022-04-07T09:34:15.413197Z"
    }
   },
   "outputs": [
    {
     "name": "stdout",
     "output_type": "stream",
     "text": [
      "Statistiques concernant le segment:\n",
      "Taille du segment : 135326\n",
      "Nbre d'acheteurs : Precision    22731\n",
      "dtype: int64\n",
      "Nbre de ref_achetées : in104    13362\n",
      "dtype: int64\n",
      "Précision moyenne:Precision    4.377238\n",
      "dtype: float64\n"
     ]
    },
    {
     "data": {
      "text/plain": [
       "'fin de traitement'"
      ]
     },
     "execution_count": 32,
     "metadata": {},
     "output_type": "execute_result"
    }
   ],
   "source": [
    "Baseline_0(S12,article_history,'104')"
   ]
  },
  {
   "cell_type": "code",
   "execution_count": 33,
   "id": "78be8f05",
   "metadata": {
    "ExecuteTime": {
     "end_time": "2022-04-07T09:34:28.712658Z",
     "start_time": "2022-04-07T09:34:27.135891Z"
    }
   },
   "outputs": [
    {
     "name": "stdout",
     "output_type": "stream",
     "text": [
      "Statistiques concernant le segment:\n",
      "Taille du segment : 90916\n",
      "Nbre d'acheteurs : Precision    14446\n",
      "dtype: int64\n",
      "Nbre de ref_achetées : in104    11122\n",
      "dtype: int64\n",
      "Précision moyenne:Precision    4.15333\n",
      "dtype: float64\n"
     ]
    },
    {
     "data": {
      "text/plain": [
       "'fin de traitement'"
      ]
     },
     "execution_count": 33,
     "metadata": {},
     "output_type": "execute_result"
    }
   ],
   "source": [
    "Baseline_0(S13,article_history,'104')"
   ]
  },
  {
   "cell_type": "code",
   "execution_count": 34,
   "id": "7fd64c5f",
   "metadata": {
    "ExecuteTime": {
     "end_time": "2022-04-07T09:34:37.274623Z",
     "start_time": "2022-04-07T09:34:36.823373Z"
    }
   },
   "outputs": [
    {
     "name": "stdout",
     "output_type": "stream",
     "text": [
      "Statistiques concernant le segment:\n",
      "Taille du segment : 91750\n",
      "Nbre d'acheteurs : Precision    13022\n",
      "dtype: int64\n",
      "Nbre de ref_achetées : in104    9732\n",
      "dtype: int64\n",
      "Précision moyenne:Precision    3.675779\n",
      "dtype: float64\n"
     ]
    },
    {
     "data": {
      "text/plain": [
       "'fin de traitement'"
      ]
     },
     "execution_count": 34,
     "metadata": {},
     "output_type": "execute_result"
    }
   ],
   "source": [
    "Baseline_0(S14,article_history,'104')"
   ]
  }
 ],
 "metadata": {
  "kernelspec": {
   "display_name": "Python 3 (ipykernel)",
   "language": "python",
   "name": "python3"
  },
  "language_info": {
   "codemirror_mode": {
    "name": "ipython",
    "version": 3
   },
   "file_extension": ".py",
   "mimetype": "text/x-python",
   "name": "python",
   "nbconvert_exporter": "python",
   "pygments_lexer": "ipython3",
   "version": "3.8.12"
  },
  "toc": {
   "base_numbering": 1,
   "nav_menu": {},
   "number_sections": true,
   "sideBar": true,
   "skip_h1_title": false,
   "title_cell": "Table of Contents",
   "title_sidebar": "Contents",
   "toc_cell": false,
   "toc_position": {},
   "toc_section_display": true,
   "toc_window_display": false
  }
 },
 "nbformat": 4,
 "nbformat_minor": 5
}
